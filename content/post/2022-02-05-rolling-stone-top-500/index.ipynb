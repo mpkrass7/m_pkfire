{
 "cells": [
  {
   "cell_type": "markdown",
   "id": "c6fa2a10-6ca8-4a54-8708-1241a4cc8d36",
   "metadata": {},
   "source": [
    "# Gathering data on the top 500 songs of all time from Rolling Stone Magazine"
   ]
  },
  {
   "cell_type": "markdown",
   "id": "0343a906-97a1-4a25-9ab5-86ac3920ffc6",
   "metadata": {
    "tags": []
   },
   "source": [
    "## A note on ranking things\n",
    "\n",
    "Everyone likes ranking things, even when they don't make sense to rank. Here are some examples of things that make sense to rank:\n",
    "\n",
    "1. **Numbers**: Literally counting 1,2,3,4,5 is a ranking system. We know that 1 is less than 2 and there is no way to suggest otherwise. Counting is the most objective ranking system I know.\n",
    "2. **Largest Companies by Market Capitalization**: It is also possible to rank companies against each other so long as you have an objective metric to use. A companies Market Cap, or the price of a share multiplied by the number of shares outstanding, is a single number that can be compared to other numbers. While it is a way of determining which company is the 'biggest', it is explicit in it's criteria of evaluation. It could use a different metric to determine the company size such as Revenue, Profit, Employees, etc.. which would also be acceptable so long as they indicate that one of those is the ranking criteria. It could also use some kind of formula using multiple metrics to rank the size of companies so long as that formula was in some way sensibly derived.\n",
    "3. **Highest grossing films**: Easy enough, you can order which films make the most money in an objective way\n",
    "\n",
    "Here is something that does not make sense to rank:\n",
    "\n",
    "- **Top Banks**: Banks could be ranked if a metric was specified. A metric was not specified here. Having worked at a bank, hearing someone talk about top X bank where 'top' is determined by.. nothing.. would be incredibly irritating. At my company last week, here was a real conversation I had on Slack:\n",
    "\n",
    "        Marketing Person derp 1: \"Hey Team! Can anyone confirm… we’ve got now 9/10 top banks?\"\n",
    "\n",
    "        Sales Person derp 2: \"I heard we signed the 9th one just before the Bootcamp in December !\"\n",
    "\n",
    "        Marketing Person Derp 1: \"That’s what I heard, too!!\"\n",
    "\n",
    "        Me: \"Top banks by what? AUM\"\n",
    "\n",
    "        Marketing Person derp 1: \"Great question. I think it's top 10 US banks\"\n",
    "\n",
    "        Me: \"Sorry I mean by what metric? AUM = Assets Under Management\"\n",
    "\n",
    "        Marketing Person Derp 1: \"Ohhh\"\n",
    "\n",
    "        Marketing Person Derp 1: \"Another great question. Not sure. Likely by whatever metric gives us 9/10\" \n",
    "\n",
    "Jesus christ.. \n",
    "\n",
    "So here's a question: What do top banks, top universities and top songs of all time have in common? They are all egregious examples of nonsense ranking systems!"
   ]
  },
  {
   "cell_type": "markdown",
   "id": "abb2e215-1b0c-4f80-8e5e-646e1900bfa8",
   "metadata": {},
   "source": [
    "## Motivation\n",
    "\n",
    "Despite my rant about bad ranking systems, I am as guilty as anyone else about leveraging them. I used US News College Rankings as part of my decision to do my undergrad at Northwestern University, and more related to this post, I have listend extensively over the last few months to a Youtube Music playlist I made from the Rolling Stone Magazine's 2021 Top 500 songs of all time list. \n",
    "\n",
    "Now to be clear, I in no way endorse these rankings. I find the attempt at ranking music to be about as sensible as an attempt at ranking art or personalities, and I find this particular attempt to be pretty weak methodology-wise. And yet, the list still makes for a great playlist. I've been so into my playlist that I wanted to be more exact when I told people where certain songs ranked in the Rolling Stone top 500 list! \n",
    "\n",
    "Rolling Stone Magazine, however, does not make their list easily exportable, or even easily viewable on their site. Try going to it on their website: https://www.rollingstone.com/music/music-lists/best-songs-of-all-time-1224767/. You'll see that the UI is awful, it's full of ads, and it loads slowly, especially on mobile. There needed to be a better way to see my song rankings.\n"
   ]
  },
  {
   "cell_type": "markdown",
   "id": "84145c21-7025-4241-b8e1-a1c644f2ebd1",
   "metadata": {},
   "source": [
    "### TL/DR\n",
    "\n",
    "In this post I leverage the Beautiful Soup package in Python and the itunes API to webscrape and refine a list made by Rolling Stone Magazine in 2021 of the top 500 songs of all time."
   ]
  },
  {
   "cell_type": "markdown",
   "id": "256523e3-d0c3-4d09-94d8-ef6e7ca39bd9",
   "metadata": {},
   "source": [
    "#### Load packages"
   ]
  },
  {
   "cell_type": "code",
   "execution_count": 5,
   "id": "63934ed2-6c73-4e9c-bf58-674c5ffc8eb2",
   "metadata": {},
   "outputs": [],
   "source": [
    "import pandas as pd\n",
    "import numpy as np\n",
    "import time\n",
    "\n",
    "from logzero import logger\n",
    "\n",
    "import json\n",
    "import requests\n",
    "from bs4 import BeautifulSoup\n",
    "from selenium import webdriver\n",
    "\n",
    "from IPython.core.interactiveshell import InteractiveShell\n",
    "InteractiveShell.ast_node_interactivity = \"all\""
   ]
  },
  {
   "cell_type": "markdown",
   "id": "bf2b9a2a-1061-461a-abcd-0bd52bac6ece",
   "metadata": {},
   "source": [
    "#### Set URLs to visit (one for each group of 50 songs)"
   ]
  },
  {
   "cell_type": "code",
   "execution_count": 6,
   "id": "5e15a9ce-7bfc-4c53-9cd4-8206e666ff66",
   "metadata": {},
   "outputs": [],
   "source": [
    "rolling_stone_headers = [\n",
    "    \"kanye-west-stronger-1224837\",\n",
    "    \"neil-young-powderfinger-1224887\",\n",
    "    \"david-bowie-station-to-station-3-1224938\",\n",
    "    \"john-prine-angel-from-montgomery-1224988\",\n",
    "    \"the-b-52s-rock-lobster-2-1225038\",\n",
    "    \"jimi-hendrix-purple-haze-2-1225088\",\n",
    "    \"david-bowie-changes-2-1225138\",\n",
    "    \"green-day-basket-case-1225188\",\n",
    "    \"bob-dylan-blowin-in-the-wind-3-1225238\",\n",
    "    \"daddy-yankee-feat-glory-gasolina-1225288\"\n",
    "]\n",
    "    \n",
    "rolling_stone_links = ['https://www.rollingstone.com/music/music-lists/best-songs-of-all-time-1224767/' + i for i in rolling_stone_headers]"
   ]
  },
  {
   "cell_type": "markdown",
   "id": "a5d7175e-0a7e-4771-974d-b1c6ce173862",
   "metadata": {},
   "source": [
    "#### Define functions and pulling data\n"
   ]
  },
  {
   "cell_type": "code",
   "execution_count": 7,
   "id": "01b48e07-b17d-4c9c-be33-d3e9ecedbe7a",
   "metadata": {},
   "outputs": [
    {
     "name": "stderr",
     "output_type": "stream",
     "text": [
      "[I 220205 13:59:41 <ipython-input-7-818cd49211ba>:18] Requesting https://www.rollingstone.com/music/music-lists/best-songs-of-all-time-1224767/kanye-west-stronger-1224837\n",
      "[I 220205 13:59:44 <ipython-input-7-818cd49211ba>:18] Requesting https://www.rollingstone.com/music/music-lists/best-songs-of-all-time-1224767/neil-young-powderfinger-1224887\n",
      "[I 220205 13:59:47 <ipython-input-7-818cd49211ba>:18] Requesting https://www.rollingstone.com/music/music-lists/best-songs-of-all-time-1224767/david-bowie-station-to-station-3-1224938\n",
      "[I 220205 13:59:49 <ipython-input-7-818cd49211ba>:18] Requesting https://www.rollingstone.com/music/music-lists/best-songs-of-all-time-1224767/john-prine-angel-from-montgomery-1224988\n",
      "[I 220205 13:59:52 <ipython-input-7-818cd49211ba>:18] Requesting https://www.rollingstone.com/music/music-lists/best-songs-of-all-time-1224767/the-b-52s-rock-lobster-2-1225038\n",
      "[I 220205 13:59:54 <ipython-input-7-818cd49211ba>:18] Requesting https://www.rollingstone.com/music/music-lists/best-songs-of-all-time-1224767/jimi-hendrix-purple-haze-2-1225088\n",
      "[I 220205 13:59:57 <ipython-input-7-818cd49211ba>:18] Requesting https://www.rollingstone.com/music/music-lists/best-songs-of-all-time-1224767/david-bowie-changes-2-1225138\n",
      "[I 220205 14:00:00 <ipython-input-7-818cd49211ba>:18] Requesting https://www.rollingstone.com/music/music-lists/best-songs-of-all-time-1224767/green-day-basket-case-1225188\n",
      "[I 220205 14:00:02 <ipython-input-7-818cd49211ba>:18] Requesting https://www.rollingstone.com/music/music-lists/best-songs-of-all-time-1224767/bob-dylan-blowin-in-the-wind-3-1225238\n",
      "[I 220205 14:00:05 <ipython-input-7-818cd49211ba>:18] Requesting https://www.rollingstone.com/music/music-lists/best-songs-of-all-time-1224767/daddy-yankee-feat-glory-gasolina-1225288\n"
     ]
    }
   ],
   "source": [
    "\n",
    "def soupify_value(html_string):\n",
    "    \"\"\" Convert String into Beautiful Soup object \"\"\" \n",
    "    return BeautifulSoup(html_string, 'html.parser')\n",
    "\n",
    "def parse_rolling_stone(rolling_stone_links, verbose=False):\n",
    "    \"\"\" Request page content for each rolling stone list \"\"\" \n",
    "    headers = {\n",
    "    'Access-Control-Allow-Origin': '*',\n",
    "    'Access-Control-Allow-Methods': 'GET',\n",
    "    'Access-Control-Allow-Headers': 'Content-Type',\n",
    "    'Access-Control-Max-Age': '3600',\n",
    "    'User-Agent': 'Mozilla/5.0 (X11; Ubuntu; Linux x86_64; rv:52.0) Gecko/20100101 Firefox/52.0'\n",
    "    }\n",
    "    \n",
    "    soup_download = []\n",
    "#     return cves\n",
    "    for url in rolling_stone_links:\n",
    "        logger.info(f\"Requesting {url}\")\n",
    "        req = requests.get(url, headers)\n",
    "        soup = soupify_value(req.content)\n",
    "        soup_download.append(soup)\n",
    "        time.sleep(1)\n",
    "    return soup_download\n",
    "\n",
    "stones_data = parse_rolling_stone(rolling_stone_links)"
   ]
  },
  {
   "cell_type": "markdown",
   "id": "9b75b3be-e67d-4336-bfe0-45446b0da9ff",
   "metadata": {},
   "source": [
    "#### Clean data and turn it into a DataFrame"
   ]
  },
  {
   "cell_type": "code",
   "execution_count": 10,
   "id": "f57ef565-ef99-46e2-af3f-2452183c949e",
   "metadata": {},
   "outputs": [],
   "source": [
    "json_artists = []\n",
    "for artist_list in stones_data:\n",
    "    json_artists.extend(json.loads(\n",
    "        str(artist_list\n",
    "         .find_all('script', attrs={'id': 'pmc-lists-front-js-extra'})[0])\n",
    "         .split('pmcGalleryExports = ')[1][:-11].split(';\\nvar pmcgalleryamapi')[0]\n",
    "    )['gallery'])\n",
    "out_dictionary = {'content': json_artists}"
   ]
  },
  {
   "cell_type": "code",
   "execution_count": 11,
   "id": "86140225-294e-4fd0-8b7e-94f4539be145",
   "metadata": {},
   "outputs": [],
   "source": [
    "columns = ['Song Ranking', 'Song Name', 'Artist Name', 'Song Description', 'Song Image URL', 'Release Year','appleSongId']\n",
    "\n",
    "def flag_apostrophe_bands(song):\n",
    "    return \"Guns N' Roses\" in song['title'] or \"B-52's\" in song['title']\n",
    "\n",
    "top_500_list = pd.DataFrame()\n",
    "for song in out_dictionary['content']:\n",
    "    song_ranking = song['positionDisplay']\n",
    "    song_name = song['title'].split(\"'\")[1] if not flag_apostrophe_bands(song) else song['title'].split(\",\")[1].replace(\"'\",\"\").strip()\n",
    "    artist_name = song['title'].split(\"'\")[0][:-2] if not flag_apostrophe_bands(song) else song['title'].split(\",\")[0].strip()\n",
    "    description = soupify_value(song['description']).text.replace('\\n', '')\n",
    "    image = song['image']\n",
    "    appleSongId = song['appleSongID']\n",
    "    release_year = soupify_value(song['subtitle']).find('div', attrs={'class':'rs-list-item--year'}).text\n",
    "    song_data = [song_ranking, song_name, artist_name, description, image, release_year, appleSongId]\n",
    "    song_dict = dict(zip(columns, [[i] for i in song_data])) \n",
    "    \n",
    "    top_500_list = top_500_list.append(pd.DataFrame(song_dict))\n",
    "top_500_list.reset_index(drop=True, inplace=True)\n",
    "    "
   ]
  },
  {
   "cell_type": "markdown",
   "id": "f1962095-fb66-4b94-9fe3-65af30d736c4",
   "metadata": {},
   "source": [
    "The initial output looks pretty good!"
   ]
  },
  {
   "cell_type": "code",
   "execution_count": 12,
   "id": "3cb82686-f839-4211-ad88-92999745e362",
   "metadata": {},
   "outputs": [],
   "source": [
    "top_500_list.to_csv('data/music_output.csv', index=False)"
   ]
  },
  {
   "cell_type": "code",
   "execution_count": 14,
   "id": "26870539-ad24-4e39-a7df-b58a157bf761",
   "metadata": {},
   "outputs": [
    {
     "data": {
      "text/html": [
       "<div>\n",
       "<style scoped>\n",
       "    .dataframe tbody tr th:only-of-type {\n",
       "        vertical-align: middle;\n",
       "    }\n",
       "\n",
       "    .dataframe tbody tr th {\n",
       "        vertical-align: top;\n",
       "    }\n",
       "\n",
       "    .dataframe thead th {\n",
       "        text-align: right;\n",
       "    }\n",
       "</style>\n",
       "<table border=\"1\" class=\"dataframe\">\n",
       "  <thead>\n",
       "    <tr style=\"text-align: right;\">\n",
       "      <th></th>\n",
       "      <th>Song Ranking</th>\n",
       "      <th>Song Name</th>\n",
       "      <th>Artist Name</th>\n",
       "      <th>Song Description</th>\n",
       "      <th>Song Image URL</th>\n",
       "      <th>Release Year</th>\n",
       "      <th>appleSongId</th>\n",
       "    </tr>\n",
       "  </thead>\n",
       "  <tbody>\n",
       "    <tr>\n",
       "      <th>0</th>\n",
       "      <td>500</td>\n",
       "      <td>Stronger</td>\n",
       "      <td>Kanye West</td>\n",
       "      <td>Explaining the tighter, broader-reaching songs...</td>\n",
       "      <td>https://www.rollingstone.com/wp-content/upload...</td>\n",
       "      <td>2007</td>\n",
       "      <td>1451142309</td>\n",
       "    </tr>\n",
       "    <tr>\n",
       "      <th>1</th>\n",
       "      <td>499</td>\n",
       "      <td>Baby Love</td>\n",
       "      <td>The Supremes</td>\n",
       "      <td>Diana Ross wasn’t the strongest vocalist in th...</td>\n",
       "      <td>https://www.rollingstone.com/wp-content/upload...</td>\n",
       "      <td>1964</td>\n",
       "      <td>1443150938</td>\n",
       "    </tr>\n",
       "    <tr>\n",
       "      <th>2</th>\n",
       "      <td>498</td>\n",
       "      <td>Pancho and Lefty</td>\n",
       "      <td>Townes Van Zandt</td>\n",
       "      <td>An epic story-song about a bandit and the frie...</td>\n",
       "      <td>https://www.rollingstone.com/wp-content/upload...</td>\n",
       "      <td>1972</td>\n",
       "      <td>1182567495</td>\n",
       "    </tr>\n",
       "    <tr>\n",
       "      <th>3</th>\n",
       "      <td>497</td>\n",
       "      <td>Truth Hurts</td>\n",
       "      <td>Lizzo</td>\n",
       "      <td>“That song is my life and its words are my tru...</td>\n",
       "      <td>https://www.rollingstone.com/wp-content/upload...</td>\n",
       "      <td>2017</td>\n",
       "      <td>1494981961</td>\n",
       "    </tr>\n",
       "    <tr>\n",
       "      <th>4</th>\n",
       "      <td>496</td>\n",
       "      <td>Without You</td>\n",
       "      <td>Harry Nilsson</td>\n",
       "      <td>“We did it because my career was on the wane a...</td>\n",
       "      <td>https://www.rollingstone.com/wp-content/upload...</td>\n",
       "      <td>1971</td>\n",
       "      <td>304815013</td>\n",
       "    </tr>\n",
       "  </tbody>\n",
       "</table>\n",
       "</div>"
      ],
      "text/plain": [
       "   Song Ranking         Song Name       Artist Name  \\\n",
       "0           500          Stronger        Kanye West   \n",
       "1           499         Baby Love      The Supremes   \n",
       "2           498  Pancho and Lefty  Townes Van Zandt   \n",
       "3           497       Truth Hurts             Lizzo   \n",
       "4           496       Without You     Harry Nilsson   \n",
       "\n",
       "                                    Song Description  \\\n",
       "0  Explaining the tighter, broader-reaching songs...   \n",
       "1  Diana Ross wasn’t the strongest vocalist in th...   \n",
       "2  An epic story-song about a bandit and the frie...   \n",
       "3  “That song is my life and its words are my tru...   \n",
       "4  “We did it because my career was on the wane a...   \n",
       "\n",
       "                                      Song Image URL Release Year appleSongId  \n",
       "0  https://www.rollingstone.com/wp-content/upload...         2007  1451142309  \n",
       "1  https://www.rollingstone.com/wp-content/upload...         1964  1443150938  \n",
       "2  https://www.rollingstone.com/wp-content/upload...         1972  1182567495  \n",
       "3  https://www.rollingstone.com/wp-content/upload...         2017  1494981961  \n",
       "4  https://www.rollingstone.com/wp-content/upload...         1971   304815013  "
      ]
     },
     "execution_count": 14,
     "metadata": {},
     "output_type": "execute_result"
    }
   ],
   "source": [
    "top_500_list.head()"
   ]
  },
  {
   "cell_type": "markdown",
   "id": "03fe2982-2bef-4ff0-8721-1abc3c2767ac",
   "metadata": {},
   "source": [
    "## Add additional content\n",
    "\n",
    "Interestingly the content we scraped right off the Rolling Stone website contains an apple song ID for each entry. My initial and mostly correct thought was that I could plug these values into the Apple Music API in order to find new content about the songs such as their genre, album, song duration and other interesting tidbits of data. \n",
    "\n",
    "Unfortunately, Apple requires you to have a special Developer License in order to use their API. It turns out they charge \\\\$99 per year which is \\\\$99 more than the \\\\$0 I was hoping to pay to get my song list. After scouring the web, I confirmed that I could not get around this charge if I wanted to leverage the Apple Music API. As a last ditch effort I tried to pipe the song id into the now deprecated itunes API. Amazingly, it worked with my test song, 'Stronger' by Kanye West."
   ]
  },
  {
   "cell_type": "code",
   "execution_count": 13,
   "id": "1fbbf09d-d9bb-4ddc-a98b-415a20684622",
   "metadata": {},
   "outputs": [
    {
     "data": {
      "text/plain": [
       "{'wrapperType': 'track',\n",
       " 'kind': 'song',\n",
       " 'artistId': 2715720,\n",
       " 'collectionId': 1451142304,\n",
       " 'trackId': 1451142309,\n",
       " 'artistName': 'Kanye West',\n",
       " 'collectionName': 'Graduation',\n",
       " 'trackName': 'Stronger',\n",
       " 'collectionCensoredName': 'Graduation',\n",
       " 'trackCensoredName': 'Stronger',\n",
       " 'artistViewUrl': 'https://music.apple.com/us/artist/kanye-west/2715720?uo=4',\n",
       " 'collectionViewUrl': 'https://music.apple.com/us/album/stronger/1451142304?i=1451142309&uo=4',\n",
       " 'trackViewUrl': 'https://music.apple.com/us/album/stronger/1451142304?i=1451142309&uo=4',\n",
       " 'previewUrl': 'https://audio-ssl.itunes.apple.com/itunes-assets/AudioPreview125/v4/03/2a/af/032aafea-3099-991a-2d51-1f056f10020c/mzaf_6167527388584763366.plus.aac.p.m4a',\n",
       " 'artworkUrl30': 'https://is2-ssl.mzstatic.com/image/thumb/Music115/v4/68/22/75/682275a2-fd3d-2b7c-ab5b-1087d2518ea9/source/30x30bb.jpg',\n",
       " 'artworkUrl60': 'https://is2-ssl.mzstatic.com/image/thumb/Music115/v4/68/22/75/682275a2-fd3d-2b7c-ab5b-1087d2518ea9/source/60x60bb.jpg',\n",
       " 'artworkUrl100': 'https://is2-ssl.mzstatic.com/image/thumb/Music115/v4/68/22/75/682275a2-fd3d-2b7c-ab5b-1087d2518ea9/source/100x100bb.jpg',\n",
       " 'collectionPrice': 9.99,\n",
       " 'trackPrice': 1.29,\n",
       " 'releaseDate': '2007-07-31T07:00:00Z',\n",
       " 'collectionExplicitness': 'explicit',\n",
       " 'trackExplicitness': 'explicit',\n",
       " 'discCount': 1,\n",
       " 'discNumber': 1,\n",
       " 'trackCount': 13,\n",
       " 'trackNumber': 3,\n",
       " 'trackTimeMillis': 311867,\n",
       " 'country': 'USA',\n",
       " 'currency': 'USD',\n",
       " 'primaryGenreName': 'Hip-Hop/Rap',\n",
       " 'contentAdvisoryRating': 'Explicit',\n",
       " 'isStreamable': True}"
      ]
     },
     "execution_count": 13,
     "metadata": {},
     "output_type": "execute_result"
    }
   ],
   "source": [
    "apple_lookup_url = \"https://itunes.apple.com/lookup?id={}\"\n",
    "\n",
    "more_song_data = requests.get(apple_lookup_url.format(top_500_list.appleSongId.to_list()[0])).json()\n",
    "\n",
    "stronger_data = more_song_data['results'][0]\n",
    "stronger_data"
   ]
  },
  {
   "cell_type": "markdown",
   "id": "9cc6d91a-130b-46fc-94bf-ccc7b131b08f",
   "metadata": {},
   "source": [
    "I plugged in the song IDs for the full list and managed to extract a bunch of new data for all but 12 of them! Certainly glad Apple maintained some kind of backward compatability when they shifted over to a new music service."
   ]
  },
  {
   "cell_type": "code",
   "execution_count": 15,
   "id": "7e5e0e71-a01e-4bb4-a08b-7402f6615edd",
   "metadata": {},
   "outputs": [
    {
     "name": "stderr",
     "output_type": "stream",
     "text": [
      "[I 220205 14:14:09 <ipython-input-15-1f169afd68db>:12] Arrived at 1, song Stronger sleeping\n",
      "[I 220205 14:14:15 <ipython-input-15-1f169afd68db>:12] Arrived at 26, song Rhythm Nation sleeping\n",
      "[I 220205 14:14:22 <ipython-input-15-1f169afd68db>:12] Arrived at 51, song Powderfinger sleeping\n",
      "[I 220205 14:14:28 <ipython-input-15-1f169afd68db>:12] Arrived at 76, song Mannish Boy sleeping\n",
      "[I 220205 14:14:35 <ipython-input-15-1f169afd68db>:12] Arrived at 101, song Station to Station sleeping\n",
      "[W 220205 14:14:38 <ipython-input-15-1f169afd68db>:27] https://itunes.apple.com/lookup?id=1288169541 Planet Rock by Afrika Bambaataa and the Soulsonic Force has no data :( Skipping\n",
      "[I 220205 14:14:42 <ipython-input-15-1f169afd68db>:12] Arrived at 126, song Up on the Roof sleeping\n",
      "[I 220205 14:14:48 <ipython-input-15-1f169afd68db>:12] Arrived at 151, song Angel From Montgomery sleeping\n",
      "[W 220205 14:14:51 <ipython-input-15-1f169afd68db>:27] https://itunes.apple.com/lookup?id=1529518695 Dynamite by BTS has no data :( Skipping\n",
      "[W 220205 14:14:53 <ipython-input-15-1f169afd68db>:27] https://itunes.apple.com/lookup?id=482326174 Move Your Body (The House Music Anthem) by Marshall Jefferson has no data :( Skipping\n",
      "[I 220205 14:14:55 <ipython-input-15-1f169afd68db>:12] Arrived at 176, song Lust for Life sleeping\n",
      "[W 220205 14:14:58 <ipython-input-15-1f169afd68db>:27] https://itunes.apple.com/lookup?id=7033290 California Love by 2Pac has no data :( Skipping\n",
      "[W 220205 14:15:00 <ipython-input-15-1f169afd68db>:27] https://itunes.apple.com/lookup?id=1357407432 Divorce Song by Liz Phair has no data :( Skipping\n",
      "[I 220205 14:15:02 <ipython-input-15-1f169afd68db>:12] Arrived at 201, song Rock Lobster sleeping\n",
      "[I 220205 14:15:08 <ipython-input-15-1f169afd68db>:12] Arrived at 226, song Sail Away sleeping\n",
      "[I 220205 14:15:15 <ipython-input-15-1f169afd68db>:12] Arrived at 251, song Purple Haze sleeping\n",
      "[W 220205 14:15:18 <ipython-input-15-1f169afd68db>:27] https://itunes.apple.com/lookup?id=1544358293 Sabotage by Beastie Boys has no data :( Skipping\n",
      "[W 220205 14:15:18 <ipython-input-15-1f169afd68db>:27] https://itunes.apple.com/lookup?id=1544360868 Summer Babe (Winter Version) by Pavement has no data :( Skipping\n",
      "[W 220205 14:15:19 <ipython-input-15-1f169afd68db>:27] https://itunes.apple.com/lookup?id=1288203574 The Humpty Dance by Digital Underground has no data :( Skipping\n",
      "[I 220205 14:15:22 <ipython-input-15-1f169afd68db>:12] Arrived at 276, song Both Sides Now sleeping\n",
      "[I 220205 14:15:29 <ipython-input-15-1f169afd68db>:12] Arrived at 301, song Changes sleeping\n",
      "[I 220205 14:15:35 <ipython-input-15-1f169afd68db>:12] Arrived at 326, song I Only Have Eyes for You sleeping\n",
      "[W 220205 14:15:37 <ipython-input-15-1f169afd68db>:27] https://itunes.apple.com/lookup?id=388986917 I Only Have Eyes for You by The Flamingos has no data :( Skipping\n",
      "[W 220205 14:15:40 <ipython-input-15-1f169afd68db>:27] https://itunes.apple.com/lookup?id=440950061 Nightswimming by R.E.M. has no data :( Skipping\n",
      "[I 220205 14:15:41 <ipython-input-15-1f169afd68db>:12] Arrived at 351, song Basket Case sleeping\n",
      "[I 220205 14:15:48 <ipython-input-15-1f169afd68db>:12] Arrived at 376, song Anarchy in the U.K. sleeping\n",
      "[W 220205 14:15:51 <ipython-input-15-1f169afd68db>:27] https://itunes.apple.com/lookup?id=1147125688 Oh Bondage! Up Yours! by X-Ray Spex has no data :( Skipping\n",
      "[W 220205 14:15:52 <ipython-input-15-1f169afd68db>:27] https://itunes.apple.com/lookup?id=440839443 At Last by Etta James has no data :( Skipping\n",
      "[I 220205 14:15:55 <ipython-input-15-1f169afd68db>:12] Arrived at 401, song Blowin sleeping\n",
      "[W 220205 14:16:01 <ipython-input-15-1f169afd68db>:27] https://itunes.apple.com/lookup?id=71068886 I Walk the Line by Johnny Cash has no data :( Skipping\n",
      "[I 220205 14:16:01 <ipython-input-15-1f169afd68db>:12] Arrived at 426, song Common People sleeping\n",
      "[I 220205 14:16:08 <ipython-input-15-1f169afd68db>:12] Arrived at 451, song Gasolina sleeping\n",
      "[W 220205 14:16:10 <ipython-input-15-1f169afd68db>:27] https://itunes.apple.com/lookup?id=1261126620 Gasolina by Daddy Yankee has no data :( Skipping\n",
      "[I 220205 14:16:15 <ipython-input-15-1f169afd68db>:12] Arrived at 476, song Runaway sleeping\n"
     ]
    }
   ],
   "source": [
    "def extract_additional_data(df):\n",
    "    \n",
    "    apple_lookup_url = \"https://itunes.apple.com/lookup?id={}\"\n",
    "    columns = ['Apple Song ID', 'Album', 'Release Date', 'Explicit Flag', 'Run Time ms', 'Genre']\n",
    "    additional_data_df = pd.DataFrame()\n",
    "    \n",
    "    for count, row in df.iterrows():\n",
    "#         print(count)\n",
    "        appleSongId = row['appleSongId']\n",
    "        more_song_data = requests.get(apple_lookup_url.format(appleSongId)).json()\n",
    "        if count / 25 == count // 25: \n",
    "            logger.info(f\"Arrived at {count + 1}, song {row['Song Name']} sleeping\")\n",
    "            time.sleep(2)\n",
    "        if len(more_song_data['results']) > 1:\n",
    "            logger.warning(f\"{row['Song Name']} has more than 1 result\")\n",
    "        try:\n",
    "            stronger_data = more_song_data['results'][0]\n",
    "        \n",
    "            album = stronger_data['collectionName']\n",
    "            releaseDate = stronger_data['releaseDate']\n",
    "            song_is_explicit = stronger_data.get('contentAdvisoryRating')\n",
    "            run_time_milliseconds = stronger_data['trackTimeMillis']\n",
    "            genre = stronger_data['primaryGenreName']\n",
    "            song_data = [[i] for i in [row['appleSongId'], album, releaseDate, song_is_explicit, run_time_milliseconds, genre]]\n",
    "            additional_data_df = additional_data_df.append(pd.DataFrame(dict(zip(columns, song_data))))\n",
    "        except: \n",
    "            logger.warning(f\"{apple_lookup_url.format(appleSongId)} {row['Song Name']} by {row['Artist Name']} has no data :( Skipping\")\n",
    "    return additional_data_df\n",
    "more_data = extract_additional_data(top_500_list)"
   ]
  },
  {
   "cell_type": "markdown",
   "id": "ef7c57b0-3456-4539-8267-4fed7e5e1bf4",
   "metadata": {},
   "source": [
    "#### Merege in New Data"
   ]
  },
  {
   "cell_type": "code",
   "execution_count": 16,
   "id": "ae479e04-d12a-45a9-a9a2-ac909e18a4a4",
   "metadata": {},
   "outputs": [],
   "source": [
    "final_list = top_500_list.merge(\n",
    "    more_data, \n",
    "    left_on='appleSongId', \n",
    "    right_on = 'Apple Song ID', \n",
    "    how='left'\n",
    ").drop(columns = 'Apple Song ID')\n",
    "final_list['Release Date'] = pd.to_datetime(final_list['Release Date']).dt.date"
   ]
  },
  {
   "cell_type": "code",
   "execution_count": 17,
   "id": "208bb819-c5ab-4887-9c1b-e468b7c47f7b",
   "metadata": {},
   "outputs": [],
   "source": [
    "final_list.to_csv('data/rolling_stone_top_500_output_final.csv', index=False)"
   ]
  },
  {
   "cell_type": "code",
   "execution_count": 18,
   "id": "c30f837f-5ff2-4b53-aa4e-236bf4ea1e21",
   "metadata": {},
   "outputs": [],
   "source": [
    "def triple_quote_string(string):\n",
    "    return f\"\"\"{string}\"\"\"\n",
    "\n",
    "final_list['Song Description'] = final_list['Song Description'].apply(triple_quote_string)"
   ]
  },
  {
   "cell_type": "markdown",
   "id": "08154e48-6407-469a-a7c9-2763cc958453",
   "metadata": {},
   "source": [
    "### Quick Check on Results"
   ]
  },
  {
   "cell_type": "code",
   "execution_count": 22,
   "id": "9897ee11-4319-477d-b250-1a12f24480c2",
   "metadata": {},
   "outputs": [],
   "source": [
    "import plotly.express as px\n",
    "import plotly.graph_objects as go\n",
    "import seaborn as sns"
   ]
  },
  {
   "cell_type": "code",
   "execution_count": 20,
   "id": "c5c806fe-32bb-46b3-9507-1a33185e594f",
   "metadata": {},
   "outputs": [],
   "source": [
    "vis_data = (\n",
    "    top_500_list\n",
    "    .assign(\n",
    "        rev_song = lambda x: 501 - x['Song Ranking'],\n",
    "        release_year = lambda x: x['Release Year'].astype(int)\n",
    "    )\n",
    "    .sort_values(by='Release Year')\n",
    ")"
   ]
  },
  {
   "cell_type": "code",
   "execution_count": 35,
   "id": "0732179b-e96d-4b6b-a409-9246c26436c0",
   "metadata": {},
   "outputs": [
    {
     "data": {
      "application/vnd.plotly.v1+json": {
       "config": {
        "plotlyServerURL": "https://plot.ly"
       },
       "data": [
        {
         "customdata": [
          [
           "Robert Johnson"
          ],
          [
           "Billie Holiday"
          ],
          [
           "Hank Williams"
          ],
          [
           "Woody Guthrie"
          ],
          [
           "Hank Williams"
          ],
          [
           "Big Mama Thornton"
          ],
          [
           "Muddy Waters"
          ],
          [
           "Bo Diddley"
          ],
          [
           "Little Richard"
          ],
          [
           "Chuck Berry"
          ],
          [
           "Fats Domino"
          ],
          [
           "Screamin’ Jay Hawkins"
          ],
          [
           "The Five Satins"
          ],
          [
           "Johnny Cash"
          ],
          [
           "Buddy Holly"
          ],
          [
           "Elvis Presley"
          ],
          [
           "Ray Charles"
          ],
          [
           "Jerry Lee Lewis"
          ],
          [
           "Buddy Holly"
          ],
          [
           "Elvis Presley"
          ],
          [
           "Chuck Berry"
          ],
          [
           "Eddie Cochran"
          ],
          [
           "Everly Brothers"
          ],
          [
           "Little Richard"
          ],
          [
           "The Isley Brothers"
          ],
          [
           "The Flamingos"
          ],
          [
           "Miles Davis"
          ],
          [
           "Ray Charles"
          ],
          [
           "Etta James"
          ],
          [
           "Howlin’ Wolf"
          ],
          [
           "The Shirelles"
          ],
          [
           "Ben E. King"
          ],
          [
           "Patsy Cline"
          ],
          [
           "The Marvelettes"
          ],
          [
           "Roy Orbison"
          ],
          [
           "John Lee Hooker"
          ],
          [
           "Booker T. and the MGs"
          ],
          [
           "Martha Reeves and the Vandellas"
          ],
          [
           "The Crystals"
          ],
          [
           "Bob Dylan"
          ],
          [
           "The Kingsmen"
          ],
          [
           "Johnny Cash"
          ],
          [
           "The Beatles"
          ],
          [
           "The Ronettes"
          ],
          [
           "Chuck Berry"
          ],
          [
           "The Shangri-Las"
          ],
          [
           "The Beatles"
          ],
          [
           "Simon and Garfunkel"
          ],
          [
           "Sam Cooke"
          ],
          [
           "The Drifters"
          ],
          [
           "Martha and the Vandellas"
          ],
          [
           "The Kinks"
          ],
          [
           "The Animals"
          ],
          [
           "Dionne Warwick"
          ],
          [
           "The Supremes"
          ],
          [
           "Nina Simone"
          ],
          [
           "The Beatles"
          ],
          [
           "The Temptations"
          ],
          [
           "The Mamas and the Papas"
          ],
          [
           "The Righteous Brothers"
          ],
          [
           "Bob Dylan"
          ],
          [
           "The Four Tops"
          ],
          [
           "Bob Dylan"
          ],
          [
           "Bob Dylan"
          ],
          [
           "The Impressions"
          ],
          [
           "The Beatles"
          ],
          [
           "The Beatles"
          ],
          [
           "Them"
          ],
          [
           "Bob Dylan"
          ],
          [
           "Smokey Robinson and the Miracles"
          ],
          [
           "The Rolling Stones"
          ],
          [
           "Wilson Pickett"
          ],
          [
           "The Byrds"
          ],
          [
           "The Supremes"
          ],
          [
           "The Who"
          ],
          [
           "John Coltrane"
          ],
          [
           "Otis Redding"
          ],
          [
           "Beach Boys"
          ],
          [
           "The Beach Boys"
          ],
          [
           "The Beach Boys"
          ],
          [
           "Bob Dylan"
          ],
          [
           "The Monkees"
          ],
          [
           "James Brown"
          ],
          [
           "Ike and Tina Turner"
          ],
          [
           "The Beatles"
          ],
          [
           "The Byrds"
          ],
          [
           "The Rolling Stones"
          ],
          [
           "The Supremes"
          ],
          [
           "Leonard Cohen"
          ],
          [
           "Procol Harum"
          ],
          [
           "Louis Armstrong"
          ],
          [
           "The Beatles"
          ],
          [
           "Aretha Franklin"
          ],
          [
           "The Doors"
          ],
          [
           "Smokey Robinson and the Miracles"
          ],
          [
           "The Jimi Hendrix Experience"
          ],
          [
           "Bobbie Gentry"
          ],
          [
           "Aretha Franklin"
          ],
          [
           "The Kinks"
          ],
          [
           "The Jimi Hendrix Experience"
          ],
          [
           "Jefferson Airplane"
          ],
          [
           "Otis Redding"
          ],
          [
           "The Four Tops"
          ],
          [
           "The Velvet Underground"
          ],
          [
           "Aretha Franklin"
          ],
          [
           "The Beatles"
          ],
          [
           "The Beatles"
          ],
          [
           "Dusty Springfield"
          ],
          [
           "Merle Haggard"
          ],
          [
           "Glen Campbell"
          ],
          [
           "The Rolling Stones"
          ],
          [
           "The Jimi Hendrix Experience"
          ],
          [
           "The Zombies"
          ],
          [
           "The Beatles"
          ],
          [
           "Tammy Wynette"
          ],
          [
           "The Band"
          ],
          [
           "Aretha Franklin"
          ],
          [
           "Marvin Gaye"
          ],
          [
           "The Rolling Stones"
          ],
          [
           "Sly and the Family Stone"
          ],
          [
           "James Brown"
          ],
          [
           "The Jackson 5"
          ],
          [
           "Joni Mitchell"
          ],
          [
           "Elvis Presley"
          ],
          [
           "The Meters"
          ],
          [
           "Isaac Hayes"
          ],
          [
           "The Stooges"
          ],
          [
           "Creedence Clearwater Revival"
          ],
          [
           "The Beatles"
          ],
          [
           "Creedence Clearwater Revival"
          ],
          [
           "Crosby, Stills, and Nash"
          ],
          [
           "Led Zeppelin"
          ],
          [
           "David Bowie"
          ],
          [
           "The Rolling Stones"
          ],
          [
           "Allman Brothers Band"
          ],
          [
           "Elton John"
          ],
          [
           "The Velvet Underground"
          ],
          [
           "Neil Young"
          ],
          [
           "Curtis Mayfield"
          ],
          [
           "Van Morrison"
          ],
          [
           "Black Sabbath"
          ],
          [
           "The Grateful Dead"
          ],
          [
           "Kris Kristofferson"
          ],
          [
           "Santana"
          ],
          [
           "Stevie Wonder"
          ],
          [
           "James Brown"
          ],
          [
           "Derek and the Dominos"
          ],
          [
           "Loretta Lynn"
          ],
          [
           "James Taylor"
          ],
          [
           "Simon and Garfunkel"
          ],
          [
           "Cat Stevens/Yusuf"
          ],
          [
           "The Grateful Dead"
          ],
          [
           "The Beatles"
          ],
          [
           "The Kinks"
          ],
          [
           "T. Rex"
          ],
          [
           "Rod Stewart"
          ],
          [
           "David Bowie"
          ],
          [
           "The Rolling Stones"
          ],
          [
           "John Lennon"
          ],
          [
           "Marvin Gaye"
          ],
          [
           "Bill Withers"
          ],
          [
           "Dolly Parton"
          ],
          [
           "Harry Nilsson"
          ],
          [
           "The Who"
          ],
          [
           "David Bowie"
          ],
          [
           "Led Zeppelin"
          ],
          [
           "Al Green"
          ],
          [
           "Sly and the Family Stone"
          ],
          [
           "John Prine"
          ],
          [
           "Gil-Scott Heron"
          ],
          [
           "Carole King"
          ],
          [
           "Joni Mitchell"
          ],
          [
           "Black Sabbath"
          ],
          [
           "Joni Mitchell"
          ],
          [
           "The Who"
          ],
          [
           "Stevie Wonder"
          ],
          [
           "Townes Van Zandt"
          ],
          [
           "Mott the Hoople"
          ],
          [
           "Roxy Music"
          ],
          [
           "Jimmy Cliff"
          ],
          [
           "Carly Simon"
          ],
          [
           "Alice Cooper"
          ],
          [
           "Elton John"
          ],
          [
           "Al Green"
          ],
          [
           "Elton John"
          ],
          [
           "Randy Newman"
          ],
          [
           "Nick Drake"
          ],
          [
           "Neil Young"
          ],
          [
           "Lou Reed"
          ],
          [
           "Bill Withers"
          ],
          [
           "Curtis Mayfield"
          ],
          [
           "The Staple Singers"
          ],
          [
           "Stevie Wonder"
          ],
          [
           "The Rolling Stones"
          ],
          [
           "The Temptations"
          ],
          [
           "Roberta Flack"
          ],
          [
           "Paul Simon"
          ],
          [
           "Faces"
          ],
          [
           "Toots and the Maytals"
          ],
          [
           "Marvin Gaye"
          ],
          [
           "The Wailers"
          ],
          [
           "Elton John"
          ],
          [
           "New York Dolls"
          ],
          [
           "Gladys Knight and the Pips"
          ],
          [
           "Aerosmith"
          ],
          [
           "Ann Peebles"
          ],
          [
           "Stevie Wonder"
          ],
          [
           "Lynyrd Skynyrd"
          ],
          [
           "Bruce Springsteen"
          ],
          [
           "Hall and Oates"
          ],
          [
           "Big Star"
          ],
          [
           "Augustus Pablo"
          ],
          [
           "William DeVaughn"
          ],
          [
           "Dolly Parton"
          ],
          [
           "Joni Mitchell"
          ],
          [
           "Patti Smith"
          ],
          [
           "Willie Nelson"
          ],
          [
           "Bruce Springsteen"
          ],
          [
           "Bruce Springsteen"
          ],
          [
           "Kiss"
          ],
          [
           "Queen"
          ],
          [
           "Bob Marley and the Wailers"
          ],
          [
           "Bob Dylan"
          ],
          [
           "Bruce Springsteen"
          ],
          [
           "Fleetwood Mac"
          ],
          [
           "Pink Floyd"
          ],
          [
           "David Bowie"
          ],
          [
           "Led Zeppelin"
          ],
          [
           "The Modern Lovers"
          ],
          [
           "The Eagles"
          ],
          [
           "Blue Öyster Cult"
          ],
          [
           "Ramones"
          ],
          [
           "Boston"
          ],
          [
           "ABBA"
          ],
          [
           "Jorge Ben"
          ],
          [
           "David Bowie"
          ],
          [
           "Thelma Houston"
          ],
          [
           "Bob Seger"
          ],
          [
           "Tom Petty and the Heartbreakers"
          ],
          [
           "Thin Lizzy"
          ],
          [
           "Television"
          ],
          [
           "Fleetwood Mac"
          ],
          [
           "Sex Pistols"
          ],
          [
           "David Bowie"
          ],
          [
           "Peter Gabriel"
          ],
          [
           "Kraftwerk"
          ],
          [
           "Elvis Costello"
          ],
          [
           "Billy Joel"
          ],
          [
           "Donna Summer"
          ],
          [
           "X-Ray Spex"
          ],
          [
           "Iggy Pop"
          ],
          [
           "Fleetwood Mac"
          ],
          [
           "Bill Withers"
          ],
          [
           "Ramones"
          ],
          [
           "Bee Gees"
          ],
          [
           "Steely Dan"
          ],
          [
           "Parliament"
          ],
          [
           "Sex Pistols"
          ],
          [
           "Funkadelic"
          ],
          [
           "Earth, Wind, and Fire"
          ],
          [
           "Gloria Gaynor"
          ],
          [
           "The Cars"
          ],
          [
           "Cheap Trick"
          ],
          [
           "The Clash"
          ],
          [
           "Sylvester"
          ],
          [
           "The B-52's"
          ],
          [
           "Steel Pulse"
          ],
          [
           "Buzzcocks"
          ],
          [
           "Patti Smith"
          ],
          [
           "Blondie"
          ],
          [
           "The Slits"
          ],
          [
           "Sugar Hill Gang"
          ],
          [
           "Pink Floyd"
          ],
          [
           "Pretenders"
          ],
          [
           "Neil Young"
          ],
          [
           "The Doobie Brothers"
          ],
          [
           "Michael Jackson"
          ],
          [
           "Blondie"
          ],
          [
           "Chic"
          ],
          [
           "The Clash"
          ],
          [
           "AC/DC"
          ],
          [
           "Bob Marley and the Wailers"
          ],
          [
           "Bob Marley and the Wailers"
          ],
          [
           "Motörhead"
          ],
          [
           "The Funky 4 + 1"
          ],
          [
           "Diana Ross"
          ],
          [
           "Joan Jett"
          ],
          [
           "Talking Heads"
          ],
          [
           "George Jones"
          ],
          [
           "Joy Division"
          ],
          [
           "Queen and David Bowie"
          ],
          [
           "Stevie Nicks"
          ],
          [
           "Rick James"
          ],
          [
           "Rush"
          ],
          [
           "Luther Vandross"
          ],
          [
           "The Go-Gos"
          ],
          [
           "Phil Collins"
          ],
          [
           "Journey"
          ],
          [
           "Prince"
          ],
          [
           "Duran Duran"
          ],
          [
           "Grandmaster Flash and the Furious Five"
          ],
          [
           "Michael Jackson"
          ],
          [
           "Marvin Gaye"
          ],
          [
           "Afrika Bambaataa and the Soulsonic Force"
          ],
          [
           "Prince"
          ],
          [
           "Toto"
          ],
          [
           "Sister Nancy"
          ],
          [
           "Michael Jackson"
          ],
          [
           "Bruce Springsteen"
          ],
          [
           "New Order"
          ],
          [
           "Rufus and Chaka Khan"
          ],
          [
           "Van Halen"
          ],
          [
           "The Police"
          ],
          [
           "Talking Heads"
          ],
          [
           "Eurythmics"
          ],
          [
           "Cyndi Lauper"
          ],
          [
           "R.E.M."
          ],
          [
           "Prince and the Revolution"
          ],
          [
           "Run-DMC"
          ],
          [
           "The Smiths"
          ],
          [
           "Tina Turner"
          ],
          [
           "Prince and the Revolution"
          ],
          [
           "Pet Shop Boys"
          ],
          [
           "Leonard Cohen"
          ],
          [
           "Don Henley"
          ],
          [
           "Madonna"
          ],
          [
           "The Replacements"
          ],
          [
           "Tears for Fears"
          ],
          [
           "Kate Bush"
          ],
          [
           "New Order"
          ],
          [
           "The Smiths"
          ],
          [
           "Bon Jovi"
          ],
          [
           "Metallica"
          ],
          [
           "Prince"
          ],
          [
           "Marshall Jefferson"
          ],
          [
           "Eric B. and Rakim"
          ],
          [
           "Public Enemy"
          ],
          [
           "Guns N' Roses"
          ],
          [
           "Prince"
          ],
          [
           "Guns N' Roses"
          ],
          [
           "Whitney Houston"
          ],
          [
           "U2"
          ],
          [
           "The Cure"
          ],
          [
           "U2"
          ],
          [
           "Neneh Cherry"
          ],
          [
           "The Pixies"
          ],
          [
           "N.W.A"
          ],
          [
           "INXS"
          ],
          [
           "Tracy Chapman"
          ],
          [
           "Sonic Youth"
          ],
          [
           "Rob Base and DJ E-Z Rock"
          ],
          [
           "Lucinda Williams"
          ],
          [
           "N.W.A"
          ],
          [
           "Tom Petty"
          ],
          [
           "The Cure"
          ],
          [
           "Janet Jackson"
          ],
          [
           "Biz Markie"
          ],
          [
           "Public Enemy"
          ],
          [
           "Madonna"
          ],
          [
           "George Michael"
          ],
          [
           "Depeche Mode"
          ],
          [
           "Digital Underground"
          ],
          [
           "Deee-Lite"
          ],
          [
           "Sinéad O’Connor"
          ],
          [
           "A Tribe Called Quest"
          ],
          [
           "Madonna"
          ],
          [
           "R.E.M."
          ],
          [
           "Nirvana"
          ],
          [
           "Geto Boys"
          ],
          [
           "Red Hot Chili Peppers"
          ],
          [
           "Metallica"
          ],
          [
           "Bonnie Raitt"
          ],
          [
           "Nirvana"
          ],
          [
           "Pearl Jam"
          ],
          [
           "R.E.M."
          ],
          [
           "Ice Cube"
          ],
          [
           "Radiohead"
          ],
          [
           "Dr. Dre feat. Snoop Doggy Dogg"
          ],
          [
           "Mary J. Blige"
          ],
          [
           "Pete Rock and CL Smooth"
          ],
          [
           "U2"
          ],
          [
           "Whitney Houston"
          ],
          [
           "Rage Against the Machine"
          ],
          [
           "Pavement"
          ],
          [
           "Sade"
          ],
          [
           "PJ Harvey"
          ],
          [
           "Liz Phair"
          ],
          [
           "Bikini Kill"
          ],
          [
           "Mazzy Star"
          ],
          [
           "The Breeders"
          ],
          [
           "Beck"
          ],
          [
           "The Notorious B.I.G."
          ],
          [
           "Nine Inch Nails"
          ],
          [
           "Beastie Boys"
          ],
          [
           "Soundgarden"
          ],
          [
           "Selena"
          ],
          [
           "Craig Mack feat. Notorious B.I.G., LL Cool J, Busta Rhymes, Rampage"
          ],
          [
           "Jeff Buckley"
          ],
          [
           "Weezer"
          ],
          [
           "Green Day"
          ],
          [
           "Notorious B.I.G."
          ],
          [
           "Hole"
          ],
          [
           "Wu-Tang Clan"
          ],
          [
           "2Pac"
          ],
          [
           "Oasis"
          ],
          [
           "Mobb Deep"
          ],
          [
           "Mariah Carey"
          ],
          [
           "TLC"
          ],
          [
           "Alanis Morissette"
          ],
          [
           "Fiona Apple"
          ],
          [
           "Fountains of Wayne"
          ],
          [
           "Blackstreet feat. Dr. Dre and Queen Pen"
          ],
          [
           "Pulp"
          ],
          [
           "Fugees"
          ],
          [
           "Missy Elliot"
          ],
          [
           "Radiohead"
          ],
          [
           "Foo Fighters"
          ],
          [
           "Erykah Badu"
          ],
          [
           "Juvenile feat. Lil Wayne and Mannie Fresh"
          ],
          [
           "Aaliyah"
          ],
          [
           "Celia Cruz"
          ],
          [
           "Cher"
          ],
          [
           "Lauryn Hill"
          ],
          [
           "Britney Spears"
          ],
          [
           "Destiny’s Child"
          ],
          [
           "DMX"
          ],
          [
           "TLC"
          ],
          [
           "Fiona Apple"
          ],
          [
           "Backstreet Boys"
          ],
          [
           "Dixie Chicks"
          ],
          [
           "Radiohead"
          ],
          [
           "Outkast"
          ],
          [
           "Eminem feat. Dido"
          ],
          [
           "Missy Elliott"
          ],
          [
           "Outkast"
          ],
          [
           "D’Angelo"
          ],
          [
           "The Strokes"
          ],
          [
           "Missy Elliott"
          ],
          [
           "Eminem"
          ],
          [
           "Clipse"
          ],
          [
           "Wilco"
          ],
          [
           "The White Stripes"
          ],
          [
           "Alicia Keys"
          ],
          [
           "The Killers"
          ],
          [
           "Yeah Yeah Yeahs"
          ],
          [
           "Britney Spears"
          ],
          [
           "Jay-Z"
          ],
          [
           "Outkast"
          ],
          [
           "Beyoncé feat. Jay-Z"
          ],
          [
           "50 Cent"
          ],
          [
           "Rilo Kiley"
          ],
          [
           "Usher feat. Lil Jon and Ludacris"
          ],
          [
           "Kelly Clarkson"
          ],
          [
           "Fall Out Boy"
          ],
          [
           "Coldplay"
          ],
          [
           "Gnarls Barkley"
          ],
          [
           "Amy Winehouse"
          ],
          [
           "Rihanna feat. Jay-Z"
          ],
          [
           "LCD Soundsystem"
          ],
          [
           "UGK feat. Outkast"
          ],
          [
           "Kanye West"
          ],
          [
           "Beyoncé"
          ],
          [
           "M.I.A."
          ],
          [
           "Lady Gaga"
          ],
          [
           "Lil Wayne"
          ],
          [
           "Kanye West feat. Pusha T"
          ],
          [
           "Daddy Yankee"
          ],
          [
           "Miranda Lambert"
          ],
          [
           "Nicki Minaj"
          ],
          [
           "Robyn"
          ],
          [
           "Eric Church"
          ],
          [
           "The Weeknd"
          ],
          [
           "Lorde"
          ],
          [
           "Azealia Banks"
          ],
          [
           "Adele"
          ],
          [
           "Drake feat. Rihanna"
          ],
          [
           "Frank Ocean"
          ],
          [
           "Lana Del Rey"
          ],
          [
           "Taylor Swift"
          ],
          [
           "Carly Rae Jepsen"
          ],
          [
           "Kacey Musgraves"
          ],
          [
           "Daft Punk feat. Pharrell Williams"
          ],
          [
           "Drake feat. Majid Jordan"
          ],
          [
           "Taylor Swift"
          ],
          [
           "Kendrick Lamar"
          ],
          [
           "Drake"
          ],
          [
           "Mark Ronson feat. Bruno Mars"
          ],
          [
           "Childish Gambino"
          ],
          [
           "Migos feat. Lil Uzi Vert"
          ],
          [
           "Beyoncé"
          ],
          [
           "Solange"
          ],
          [
           "Harry Styles"
          ],
          [
           "Lizzo"
          ],
          [
           "Cardi B, J Balvin, and Bad Bunny"
          ],
          [
           "Lil Nas X"
          ],
          [
           "Billie Eilish"
          ],
          [
           "Ariana Grande"
          ],
          [
           "Bad Bunny"
          ],
          [
           "BTS"
          ],
          [
           "Megan Thee Stallion feat. Beyoncé"
          ]
         ],
         "hovertemplate": "<b>%{hovertext}</b><br><br>Release Year=%{x}<br>Song Ranking=%{y}<br>Artist Name=%{customdata[0]}<extra></extra>",
         "hovertext": [
          "Cross Road Blues",
          "Strange Fruit",
          "I’m So Lonesome I Could Cry",
          "This Land Is Your Land",
          "Your Cheatin",
          "Hound Dog",
          "Mannish Boy",
          "Bo Diddley",
          "Tutti-Frutti",
          "Maybelline",
          "Blueberry Hill",
          "I Put a Spell on You",
          "In the Still of the Night",
          "I Walk the Line",
          "That’ll Be the Day",
          "Jailhouse Rock",
          "What",
          "Great Balls of Fire",
          "Peggy Sue",
          "Heartbreak Hotel",
          "Johnny B. Goode",
          "Summertime Blues",
          "All I Have to Do Is Dream",
          "Good Golly, Miss Molly",
          "Shout (Parts 1 and 2)",
          "I Only Have Eyes for You",
          "So What",
          "Georgia on My Mind",
          "At Last",
          "Spoonful",
          "Will You Love Me Tomorrow",
          "Stand by Me",
          "Crazy",
          "Please Mr. Postman",
          "Crying",
          "Boom Boom",
          "Green Onions",
          "Heat Wave",
          "Da Doo Ron Ron",
          "Blowin",
          "Louie Louie",
          "Ring of Fire",
          "I Want to Hold Your Hand",
          "Be My Baby",
          "Promised Land",
          "Leader of the Pack",
          "She Loves You",
          "The Sounds of Silence",
          "A Change Is Gonna Come",
          "Up on the Roof",
          "Dancing in the Street",
          "You Really Got Me",
          "The House of the Rising Sun",
          "Walk on By",
          "Baby Love",
          "Mississippi Goddam",
          "In My Life",
          "My Girl",
          "California Dreamin",
          "Unchained Melody",
          "Desolation Row",
          "I Can",
          "Like a Rolling Stone",
          "Subterranean Homesick Blues",
          "People Get Ready",
          "Help!",
          "Yesterday",
          "Gloria",
          "Mr. Tambourine Man",
          "The Tracks of My Tears",
          "(I Can",
          "In the Midnight Hour",
          "Mr. Tambourine Man",
          "Stop! In the Name of Love",
          "My Generation",
          "Pt. 1-Acknowledgement",
          "Try a Little Tenderness",
          "Wouldn’t It Be Nice",
          "Good Vibrations",
          "God Only Knows",
          "Visions of Johanna",
          "I",
          "Papa’s Got a Brand New Bag",
          "River Deep, Mountain High",
          "Eleanor Rigby",
          "Eight Miles High",
          "Paint It, Black",
          "You Keep Me Hangin’ On",
          "Suzanne",
          "A Whiter Shade of Pale",
          "What a Wonderful World",
          "Penny Lane",
          "Chain of Fools",
          "Light My Fire",
          "The Tears of a Clown",
          "Little Wing",
          "Ode to Billie Joe",
          "Respect",
          "Waterloo Sunset",
          "Purple Haze",
          "White Rabbit",
          "(Sittin",
          "Reach Out (I",
          "I’m Waiting for the Man",
          "(You Make Me Feel Like) A Natural Woman",
          "Strawberry Fields Forever",
          "A Day in the Life",
          "Son of a Preacher Man",
          "Mama Tried",
          "Wichita Lineman",
          "Jumpin’ Jack Flash",
          "All Along the Watchtower",
          "Time of the Season",
          "Hey Jude",
          "Stand by Your Man",
          "The Weight",
          "I Say a Little Prayer",
          "I Heard It Through the Grapevine",
          "Sympathy for the Devil",
          "Everyday People",
          "Say It Loud (I’m Black and I’m Proud)",
          "I Want You Back",
          "Both Sides Now",
          "Suspicious Minds",
          "Cissy Strut",
          "Walk on By",
          "I Wanna Be Your Dog",
          "Proud Mary",
          "Something",
          "Fortunate Son",
          "Suite: Judy Blue Eyes",
          "Whole Lotta Love",
          "Space Oddity",
          "Gimme Shelter",
          "Whipping Post",
          "Your Song",
          "Sweet Jane",
          "After the Gold Rush",
          "Move On Up",
          "Into the Mystic",
          "Paranoid",
          "Ripple",
          "Sunday Mornin",
          "Oye Como Va",
          "Signed, Sealed, Delivered I",
          "Get Up (I Feel Like Being A) Sex Machine",
          "Layla",
          "Coal Miner’s Daughter",
          "Fire and Rain",
          "Bridge Over Troubled Water",
          "Father and Son",
          "Box of Rain",
          "Let It Be",
          "Lola",
          "Cosmic Dancer",
          "Maggie May",
          "Life on Mars?",
          "Wild Horses",
          "Imagine",
          "What’s Going On",
          "Ain",
          "Coat of Many Colors",
          "Without You",
          "Won",
          "Changes",
          "Stairway to Heaven",
          "Let",
          "Family Affair",
          "Angel From Montgomery",
          "The Revolution Will Not Be Televised",
          "It’s Too Late",
          "River",
          "Iron Man",
          "A Case of You",
          "Baba O",
          "Superstition",
          "Pancho and Lefty",
          "All the Young Dudes",
          "Virginia Plain",
          "The Harder They Come",
          "You",
          "School’s Out",
          "Tiny Dancer",
          "Love and Happiness",
          "Rocket Man",
          "Sail Away",
          "Pink Moon",
          "Heart of Gold",
          "Walk on the Wild Side",
          "Lean on Me",
          "Pusherman",
          "I",
          "You Are the Sunshine of My Life",
          "Tumbling Dice",
          "Papa Was a Rollin",
          "Killing Me Softly With His Song",
          "American Tune",
          "Ooh La La",
          "Pressure Drop",
          "Let",
          "Get Up, Stand Up",
          "Bennie and the Jets",
          "Personality Crisis",
          "Midnight Train to Georgia",
          "Dream On",
          "I Can",
          "Higher Ground",
          "Free Bird",
          "Rosalita (Come Out Tonight)",
          "She’s Gone",
          "September Gurls",
          "King Tubby Meets the Rockers Uptown",
          "Be Thankful for What You Got",
          "Jolene",
          "Help Me",
          "Gloria",
          "Blue Eyes Crying in the Rain",
          "Thunder Road",
          "Born to Run",
          "Rock and Roll All Nite",
          "Bohemian Rhapsody",
          "No Woman No Cry",
          "Tangled Up in Blue",
          "Jungleland",
          "Landslide",
          "Wish You Were Here",
          "Young Americans",
          "Kashmir",
          "Roadrunner",
          "Hotel California",
          "(Don’t Fear) The Reaper",
          "Blitzkrieg Bop",
          "More Than a Feeling",
          "Dancing Queen",
          "Ponta de Lança Africano (Umbabarauma)",
          "Station to Station",
          "Don",
          "Night Moves",
          "American Girl",
          "The Boys Are Back in Town",
          "Marquee Moon",
          "Dreams",
          "Anarchy in the U.K.",
          "Heroes",
          "Solsbury Hill",
          "Trans-Europe Express",
          "Alison",
          "Scenes From an Italian Restaurant",
          "I Feel Love",
          "Oh Bondage! Up Yours!",
          "Lust for Life",
          "Go Your Own Way",
          "Lovely Day",
          "Sheena Is a Punk Rocker",
          "Stayin",
          "Deacon Blues",
          "Flash Light",
          "God Save the Queen",
          "One Nation Under a Groove",
          "September",
          "I Will Survive",
          "Just What I Needed",
          "Surrender",
          "(White Man) in Hammersmith Palais",
          "You Make Me Feel (Mighty Real)",
          "Rock Lobster",
          "Ku Klux Klan",
          "Ever Fallen in Love (With Someone You Shouldn",
          "Because the Night",
          "Heart of Glass",
          "Typical Girls",
          "Rapper",
          "Comfortably Numb",
          "Brass in Pocket",
          "Powderfinger",
          "What a Fool Believes",
          "Rock With You",
          "Dreaming",
          "Good Times",
          "London Calling",
          "You Shook Me All Night Long",
          "Redemption Song",
          "Could You Be Loved",
          "Ace of Spades",
          "That",
          "I",
          "Bad Reputation",
          "Once in a Lifetime",
          "He Stopped Loving Her Today",
          "Love Will Tear Us Apart",
          "Under Pressure",
          "Edge of Seventeen",
          "Super Freak",
          "Limelight",
          "Never Too Much",
          "Our Lips Are Sealed",
          "In the Air Tonight",
          "Don’t Stop Believin’",
          "1999",
          "Hungry Like the Wolf",
          "The Message",
          "Beat It",
          "Sexual Healing",
          "Planet Rock",
          "Little Red Corvette",
          "Africa",
          "Bam Bam",
          "Billie Jean",
          "Atlantic City",
          "Blue Monday",
          "Ain’t Nobody",
          "Jump",
          "Every Breath You Take",
          "This Must Be the Place (Naive Melody)",
          "Sweet Dreams (Are Made of This)",
          "Time After Time",
          "Radio Free Europe",
          "Purple Rain",
          "Sucker MC",
          "How Soon Is Now?",
          "What",
          "When Doves Cry",
          "West End Girls",
          "Hallelujah",
          "Boys of Summer",
          "Into the Groove",
          "Left of the Dial",
          "Everybody Wants to Rule the World",
          "Running Up That Hill",
          "Bizarre Love Triangle",
          "There Is a Light That Never Goes Out",
          "Livin",
          "Master of Puppets",
          "Kiss",
          "Move Your Body (The House Music Anthem)",
          "Paid in Full",
          "Bring the Noise",
          "Sweet Child O Mine",
          "Adore",
          "Welcome to the Jungle",
          "I Wanna Dance With Somebody (Who Loves Me)",
          "I Still Haven’t Found What I’m Looking For",
          "Just Like Heaven",
          "With or Without You",
          "Buffalo Stance",
          "Where Is My Mind?",
          "Straight Outta Compton",
          "Never Tear Us Apart",
          "Fast Car",
          "Teenage Riot",
          "It Takes Two",
          "Passionate Kisses",
          "Fuck tha Police",
          "Free Fallin",
          "Pictures of You",
          "Rhythm Nation",
          "Just a Friend",
          "Fight the Power",
          "Like a Prayer",
          "Freedom! ",
          "Enjoy the Silence",
          "The Humpty Dance",
          "Groove Is in the Heart",
          "Nothing Compares 2 U",
          "Can I Kick It?",
          "Vogue",
          "Losing My Religion",
          "Smells Like Teen Spirit",
          "Mind Playing Tricks on Me",
          "Under the Bridge",
          "Enter Sandman",
          "I Can",
          "Come as You Are",
          "Alive",
          "Nightswimming",
          "It Was a Good Day",
          "Creep",
          "Nuthin",
          "Real Love",
          "They Reminisce Over You",
          "One",
          "I Will Always Love You",
          "Killing in the Name",
          "Summer Babe (Winter Version)",
          "No Ordinary Love",
          "Rid of Me",
          "Divorce Song",
          "Rebel Girl",
          "Fade Into You",
          "Cannonball",
          "Loser",
          "Big Poppa",
          "Closer",
          "Sabotage",
          "Black Hole Sun",
          "Amor Prohibido",
          "Flava in Ya Ear (Remix)",
          "Grace",
          "Buddy Holly",
          "Basket Case",
          "Juicy",
          "Doll Parts",
          "C.R.E.A.M.",
          "California Love",
          "Wonderwall",
          "Shook Ones, Pt. II",
          "Fantasy",
          "Waterfalls",
          "You Oughta Know",
          "Criminal",
          "Radiation Vibe",
          "No Diggity",
          "Common People",
          "Killing Me Softly With His Song",
          "The Rain (Supa Dupa Fly)",
          "Karma Police",
          "Everlong",
          "Tyrone",
          "Back That Azz Up",
          "Are You That Somebody?",
          "La Vida Es un Carnaval",
          "Believe",
          "Doo Wop (That Thing)",
          "...Baby One More Time",
          "Say My Name",
          "Party Up (Up in Here)",
          "No Scrubs",
          "Paper Bag",
          "I Want It That Way",
          "Goodbye Earl",
          "Idioteque",
          "B.O.B.",
          "Stan",
          "Work It",
          "Ms. Jackson",
          "Untitled (How Does It Feel)",
          "Last Nite",
          "Get Ur Freak On",
          "Lose Yourself",
          "Grindin",
          "Heavy Metal Drummer",
          "Seven Nation Army",
          "If I Ain",
          "Mr. Brightside",
          "Maps",
          "Toxic",
          "99 Problems",
          "Hey Ya!",
          "Crazy in Love",
          "In Da Club",
          "Portions for Foxes",
          "Yeah!",
          "Since U Been Gone",
          "Sugar, We’re Goin Down",
          "Fix You",
          "Crazy",
          "Back to Black",
          "Umbrella",
          "All My Friends",
          "Int",
          "Stronger",
          "Single Ladies (Put a Ring On It)",
          "Paper Planes",
          "Bad Romance",
          "A Milli",
          "Runaway",
          "Gasolina",
          "The House That Built Me",
          "Super Bass",
          "Dancing on My Own",
          "Springsteen",
          "House of Balloons",
          "Royals",
          "212",
          "Rolling in the Deep",
          "Take Care",
          "Thinkin Bout You",
          "Summertime Sadness",
          "All Too Well",
          "Call Me Maybe",
          "Merry Go ",
          "Get Lucky",
          "Hold On, We",
          "Blank Space",
          "Alright",
          "Hotline Bling",
          "Uptown Funk",
          "Redbone",
          "Bad and Boujee",
          "Formation",
          "Cranes in the Sky",
          "Sign of the Times",
          "Truth Hurts",
          "I Like It",
          "Old Town Road",
          "Bad Guy",
          "Thank U, Next",
          "Safaera",
          "Dynamite",
          "Savage (Remix)"
         ],
         "legendgroup": "",
         "marker": {
          "color": "#636efa",
          "opacity": [
           0.5,
           0.958,
           0.6699999999999999,
           0.542,
           0.526,
           0.5,
           0.5,
           0.5,
           0.9299999999999999,
           0.796,
           0.706,
           0.5,
           0.6599999999999999,
           0.848,
           0.752,
           0.5680000000000001,
           0.84,
           0.516,
           0.5,
           0.5,
           0.9339999999999999,
           0.5,
           0.5,
           0.8160000000000001,
           0.5,
           0.65,
           0.5,
           0.5,
           0.77,
           0.692,
           0.698,
           0.738,
           0.61,
           0.5,
           0.5,
           0.5,
           0.5,
           0.5,
           0.5,
           0.8,
           0.688,
           0.598,
           0.97,
           0.956,
           0.5,
           0.5,
           0.73,
           0.636,
           0.994,
           0.5,
           0.74,
           0.648,
           0.5,
           0.898,
           0.5,
           0.656,
           0.804,
           0.914,
           0.5,
           0.5,
           0.834,
           0.5,
           0.992,
           0.626,
           0.756,
           0.5,
           0.856,
           0.5,
           0.6719999999999999,
           0.892,
           0.938,
           0.5640000000000001,
           0.54,
           0.5,
           0.536,
           0.5,
           0.728,
           0.5,
           0.894,
           0.978,
           0.5,
           0.5,
           0.9319999999999999,
           0.558,
           0.514,
           0.638,
           0.5740000000000001,
           0.532,
           0.5,
           0.5,
           0.6579999999999999,
           0.5,
           0.5,
           0.5,
           0.5,
           0.624,
           0.618,
           0.998,
           0.972,
           0.5,
           0.5,
           0.924,
           0.844,
           0.838,
           0.8200000000000001,
           0.986,
           0.952,
           0.6639999999999999,
           0.5,
           0.5880000000000001,
           0.712,
           0.92,
           0.5,
           0.8220000000000001,
           0.5,
           0.884,
           0.766,
           0.762,
           0.788,
           0.782,
           0.5,
           0.792,
           0.55,
           0.86,
           0.6839999999999999,
           0.5,
           0.5,
           0.696,
           0.78,
           0.546,
           0.556,
           0.744,
           0.622,
           0.974,
           0.5,
           0.596,
           0.5,
           0.5,
           0.5,
           0.5,
           0.5,
           0.5,
           0.5,
           0.5,
           0.594,
           0.608,
           0.552,
           0.5,
           0.708,
           0.868,
           0.5,
           0.5,
           0.758,
           0.5,
           0.5,
           0.718,
           0.79,
           0.614,
           0.962,
           0.988,
           0.5,
           0.5,
           0.5,
           0.5,
           0.6,
           0.878,
           0.832,
           0.886,
           0.5,
           0.5,
           0.5,
           0.506,
           0.5,
           0.948,
           0.6819999999999999,
           0.976,
           0.5,
           0.6679999999999999,
           0.5,
           0.5,
           0.5,
           0.5,
           0.906,
           0.5,
           0.702,
           0.5,
           0.6759999999999999,
           0.5,
           0.64,
           0.528,
           0.5,
           0.628,
           0.634,
           0.8280000000000001,
           0.5,
           0.5,
           0.5,
           0.508,
           0.5,
           0.5,
           0.5,
           0.5,
           0.5,
           0.5,
           0.602,
           0.606,
           0.774,
           0.5,
           0.5,
           0.5,
           0.522,
           0.5,
           0.5,
           0.874,
           0.5,
           0.806,
           0.5,
           0.778,
           0.946,
           0.5,
           0.966,
           0.72,
           0.866,
           0.5,
           0.6739999999999999,
           0.5,
           0.5920000000000001,
           0.704,
           0.846,
           0.5,
           0.5,
           0.872,
           0.5760000000000001,
           0.5,
           0.5,
           0.5,
           0.5,
           0.5,
           0.6619999999999999,
           0.5,
           0.654,
           0.982,
           0.75,
           0.954,
           0.5,
           0.5,
           0.5,
           0.5,
           0.896,
           0.76,
           0.5,
           0.5,
           0.5,
           0.5,
           0.802,
           0.5720000000000001,
           0.5,
           0.5,
           0.5800000000000001,
           0.87,
           0.5,
           0.5,
           0.5,
           0.5,
           0.5,
           0.5,
           0.5,
           0.5,
           0.5,
           0.724,
           0.5,
           0.5,
           0.642,
           0.5,
           0.5,
           0.5,
           0.5,
           0.5,
           0.864,
           0.714,
           0.5,
           0.916,
           0.5,
           0.5,
           0.5,
           0.5,
           0.502,
           0.944,
           0.716,
           0.918,
           0.5,
           0.5660000000000001,
           0.694,
           0.5,
           0.5,
           0.5,
           0.5,
           0.734,
           0.5,
           0.5,
           0.882,
           0.63,
           0.604,
           0.5,
           0.5,
           0.5,
           0.5,
           0.912,
           0.5,
           0.53,
           0.5,
           0.646,
           0.5,
           0.754,
           0.5,
           0.5,
           0.652,
           0.964,
           0.5,
           0.5,
           0.732,
           0.926,
           0.5,
           0.852,
           0.5820000000000001,
           0.6779999999999999,
           0.5,
           0.5,
           0.88,
           0.56,
           0.548,
           0.5,
           0.5,
           0.83,
           0.5,
           0.736,
           0.5,
           0.8240000000000001,
           0.5,
           0.5,
           0.538,
           0.5,
           0.784,
           0.5780000000000001,
           0.5,
           0.5,
           0.504,
           0.5,
           0.858,
           0.6859999999999999,
           0.768,
           0.5,
           0.62,
           0.562,
           0.5,
           0.5,
           0.5,
           0.996,
           0.89,
           0.748,
           0.5,
           0.518,
           0.534,
           0.632,
           0.5,
           0.722,
           0.776,
           0.99,
           0.616,
           0.5,
           0.5,
           0.5,
           0.5,
           0.5,
           0.6799999999999999,
           0.5,
           0.764,
           0.942,
           0.5,
           0.5,
           0.876,
           0.812,
           0.5860000000000001,
           0.512,
           0.5,
           0.612,
           0.5,
           0.5,
           0.5,
           0.5,
           0.5,
           0.5,
           0.5,
           0.51,
           0.5,
           0.5,
           0.5,
           0.5,
           0.5,
           0.7,
           0.9359999999999999,
           0.5840000000000001,
           0.786,
           0.5,
           0.81,
           0.5700000000000001,
           0.5,
           0.746,
           0.794,
           0.5,
           0.5,
           0.5,
           0.85,
           0.5,
           0.5,
           0.5,
           0.5,
           0.5,
           0.5,
           0.524,
           0.5,
           0.5,
           0.902,
           0.5900000000000001,
           0.5,
           0.5,
           0.5,
           0.5,
           0.52,
           0.5,
           0.904,
           0.922,
           0.554,
           0.888,
           0.71,
           0.5,
           0.69,
           0.984,
           0.6659999999999999,
           0.5,
           0.5,
           0.928,
           0.5,
           0.5,
           0.798,
           0.772,
           0.808,
           0.98,
           0.968,
           0.5,
           0.5,
           0.5,
           0.8140000000000001,
           0.5,
           0.5,
           0.5,
           0.842,
           0.5,
           0.8260000000000001,
           0.8180000000000001,
           0.5,
           0.544,
           0.908,
           0.5,
           0.5,
           0.95,
           0.9,
           0.5,
           0.5,
           0.96,
           0.5,
           0.5,
           0.94,
           0.5,
           0.836,
           0.5,
           0.5,
           0.5,
           0.862,
           0.5,
           0.5,
           0.5,
           0.742,
           0.5,
           0.91,
           0.5,
           0.5,
           0.5,
           0.5,
           0.854,
           0.5,
           0.5,
           0.5,
           0.5,
           0.5,
           0.644,
           0.726,
           0.5,
           0.5,
           0.5
          ],
          "symbol": "circle"
         },
         "mode": "markers",
         "name": "",
         "orientation": "v",
         "showlegend": false,
         "type": "scatter",
         "x": [
          "1937",
          "1939",
          "1949",
          "1951",
          "1953",
          "1953",
          "1955",
          "1955",
          "1955",
          "1955",
          "1956",
          "1956",
          "1956",
          "1956",
          "1957",
          "1957",
          "1957",
          "1957",
          "1958",
          "1958",
          "1958",
          "1958",
          "1958",
          "1958",
          "1959",
          "1959",
          "1959",
          "1960",
          "1960",
          "1960",
          "1960",
          "1961",
          "1961",
          "1961",
          "1962",
          "1962",
          "1962",
          "1963",
          "1963",
          "1963",
          "1963",
          "1963",
          "1963",
          "1963",
          "1964",
          "1964",
          "1964",
          "1964",
          "1964",
          "1964",
          "1964",
          "1964",
          "1964",
          "1964",
          "1964",
          "1964",
          "1965",
          "1965",
          "1965",
          "1965",
          "1965",
          "1965",
          "1965",
          "1965",
          "1965",
          "1965",
          "1965",
          "1965",
          "1965",
          "1965",
          "1965",
          "1965",
          "1965",
          "1965",
          "1965",
          "1965",
          "1966",
          "1966",
          "1966",
          "1966",
          "1966",
          "1966",
          "1966",
          "1966",
          "1966",
          "1966",
          "1966",
          "1966",
          "1967",
          "1967",
          "1967",
          "1967",
          "1967",
          "1967",
          "1967",
          "1967",
          "1967",
          "1967",
          "1967",
          "1967",
          "1967",
          "1967",
          "1967",
          "1967",
          "1967",
          "1967",
          "1967",
          "1968",
          "1968",
          "1968",
          "1968",
          "1968",
          "1968",
          "1968",
          "1968",
          "1968",
          "1968",
          "1968",
          "1968",
          "1968",
          "1968",
          "1969",
          "1969",
          "1969",
          "1969",
          "1969",
          "1969",
          "1969",
          "1969",
          "1969",
          "1969",
          "1969",
          "1969",
          "1969",
          "1969",
          "1970",
          "1970",
          "1970",
          "1970",
          "1970",
          "1970",
          "1970",
          "1970",
          "1970",
          "1970",
          "1970",
          "1970",
          "1970",
          "1970",
          "1970",
          "1970",
          "1970",
          "1970",
          "1970",
          "1971",
          "1971",
          "1971",
          "1971",
          "1971",
          "1971",
          "1971",
          "1971",
          "1971",
          "1971",
          "1971",
          "1971",
          "1971",
          "1971",
          "1971",
          "1971",
          "1971",
          "1971",
          "1971",
          "1971",
          "1971",
          "1972",
          "1972",
          "1972",
          "1972",
          "1972",
          "1972",
          "1972",
          "1972",
          "1972",
          "1972",
          "1972",
          "1972",
          "1972",
          "1972",
          "1972",
          "1972",
          "1972",
          "1972",
          "1972",
          "1972",
          "1973",
          "1973",
          "1973",
          "1973",
          "1973",
          "1973",
          "1973",
          "1973",
          "1973",
          "1973",
          "1973",
          "1973",
          "1973",
          "1973",
          "1973",
          "1974",
          "1974",
          "1974",
          "1974",
          "1974",
          "1975",
          "1975",
          "1975",
          "1975",
          "1975",
          "1975",
          "1975",
          "1975",
          "1975",
          "1975",
          "1975",
          "1975",
          "1975",
          "1976",
          "1976",
          "1976",
          "1976",
          "1976",
          "1976",
          "1976",
          "1976",
          "1976",
          "1976",
          "1976",
          "1976",
          "1977",
          "1977",
          "1977",
          "1977",
          "1977",
          "1977",
          "1977",
          "1977",
          "1977",
          "1977",
          "1977",
          "1977",
          "1977",
          "1977",
          "1977",
          "1977",
          "1977",
          "1977",
          "1978",
          "1978",
          "1978",
          "1978",
          "1978",
          "1978",
          "1978",
          "1978",
          "1978",
          "1978",
          "1978",
          "1979",
          "1979",
          "1979",
          "1979",
          "1979",
          "1979",
          "1979",
          "1979",
          "1979",
          "1979",
          "1980",
          "1980",
          "1980",
          "1980",
          "1980",
          "1980",
          "1980",
          "1980",
          "1980",
          "1980",
          "1980",
          "1981",
          "1981",
          "1981",
          "1981",
          "1981",
          "1981",
          "1981",
          "1981",
          "1982",
          "1982",
          "1982",
          "1982",
          "1982",
          "1982",
          "1982",
          "1982",
          "1982",
          "1982",
          "1982",
          "1983",
          "1983",
          "1983",
          "1983",
          "1983",
          "1983",
          "1983",
          "1983",
          "1984",
          "1984",
          "1984",
          "1984",
          "1984",
          "1984",
          "1984",
          "1984",
          "1985",
          "1985",
          "1985",
          "1985",
          "1986",
          "1986",
          "1986",
          "1986",
          "1986",
          "1986",
          "1987",
          "1987",
          "1987",
          "1987",
          "1987",
          "1987",
          "1987",
          "1987",
          "1987",
          "1988",
          "1988",
          "1988",
          "1988",
          "1988",
          "1988",
          "1988",
          "1988",
          "1988",
          "1989",
          "1989",
          "1989",
          "1989",
          "1989",
          "1989",
          "1990",
          "1990",
          "1990",
          "1990",
          "1990",
          "1990",
          "1990",
          "1991",
          "1991",
          "1991",
          "1991",
          "1991",
          "1991",
          "1991",
          "1991",
          "1992",
          "1992",
          "1992",
          "1992",
          "1992",
          "1992",
          "1992",
          "1992",
          "1992",
          "1992",
          "1992",
          "1993",
          "1993",
          "1993",
          "1993",
          "1993",
          "1993",
          "1994",
          "1994",
          "1994",
          "1994",
          "1994",
          "1994",
          "1994",
          "1994",
          "1994",
          "1994",
          "1994",
          "1994",
          "1995",
          "1995",
          "1995",
          "1995",
          "1995",
          "1995",
          "1996",
          "1996",
          "1996",
          "1996",
          "1996",
          "1997",
          "1997",
          "1997",
          "1997",
          "1998",
          "1998",
          "1998",
          "1998",
          "1998",
          "1998",
          "1999",
          "1999",
          "1999",
          "1999",
          "1999",
          "2000",
          "2000",
          "2000",
          "2000",
          "2000",
          "2000",
          "2000",
          "2001",
          "2001",
          "2002",
          "2002",
          "2002",
          "2003",
          "2003",
          "2003",
          "2003",
          "2003",
          "2003",
          "2003",
          "2003",
          "2003",
          "2004",
          "2004",
          "2004",
          "2005",
          "2005",
          "2006",
          "2006",
          "2007",
          "2007",
          "2007",
          "2007",
          "2008",
          "2008",
          "2009",
          "2009",
          "2010",
          "2010",
          "2010",
          "2010",
          "2010",
          "2011",
          "2011",
          "2011",
          "2011",
          "2011",
          "2011",
          "2012",
          "2012",
          "2012",
          "2012",
          "2013",
          "2013",
          "2013",
          "2014",
          "2015",
          "2015",
          "2015",
          "2016",
          "2016",
          "2016",
          "2016",
          "2017",
          "2017",
          "2018",
          "2019",
          "2019",
          "2019",
          "2020",
          "2020",
          "2020"
         ],
         "xaxis": "x",
         "y": [
          481,
          21,
          165,
          229,
          237,
          318,
          425,
          277,
          35,
          102,
          147,
          299,
          170,
          76,
          124,
          216,
          80,
          242,
          370,
          347,
          33,
          432,
          323,
          92,
          268,
          175,
          492,
          283,
          115,
          154,
          151,
          131,
          195,
          331,
          461,
          463,
          418,
          257,
          366,
          100,
          156,
          201,
          15,
          22,
          342,
          316,
          135,
          182,
          3,
          375,
          130,
          176,
          471,
          51,
          499,
          172,
          98,
          43,
          420,
          269,
          83,
          483,
          4,
          187,
          122,
          447,
          72,
          413,
          164,
          54,
          31,
          218,
          230,
          254,
          232,
          315,
          136,
          297,
          53,
          11,
          317,
          341,
          34,
          221,
          243,
          181,
          213,
          234,
          284,
          271,
          171,
          280,
          306,
          310,
          313,
          188,
          191,
          1,
          14,
          250,
          455,
          38,
          78,
          81,
          90,
          7,
          24,
          168,
          376,
          206,
          144,
          40,
          349,
          89,
          473,
          58,
          117,
          119,
          106,
          109,
          393,
          104,
          225,
          70,
          158,
          312,
          314,
          152,
          110,
          227,
          222,
          128,
          189,
          13,
          410,
          202,
          294,
          322,
          474,
          462,
          338,
          334,
          476,
          479,
          203,
          196,
          224,
          255,
          146,
          66,
          408,
          364,
          121,
          386,
          445,
          141,
          105,
          193,
          19,
          6,
          309,
          263,
          496,
          295,
          200,
          61,
          84,
          57,
          350,
          258,
          345,
          247,
          344,
          26,
          159,
          12,
          498,
          166,
          348,
          361,
          495,
          293,
          47,
          274,
          149,
          275,
          162,
          259,
          180,
          236,
          261,
          186,
          183,
          86,
          333,
          273,
          262,
          246,
          278,
          264,
          260,
          371,
          387,
          470,
          199,
          197,
          113,
          407,
          446,
          336,
          239,
          266,
          374,
          63,
          464,
          97,
          253,
          111,
          27,
          404,
          17,
          140,
          67,
          298,
          163,
          302,
          204,
          148,
          77,
          311,
          449,
          64,
          212,
          286,
          351,
          400,
          355,
          301,
          169,
          272,
          173,
          9,
          125,
          23,
          472,
          304,
          396,
          324,
          52,
          120,
          325,
          401,
          402,
          434,
          99,
          214,
          252,
          365,
          210,
          65,
          251,
          369,
          356,
          340,
          399,
          300,
          460,
          276,
          358,
          138,
          381,
          427,
          179,
          389,
          450,
          343,
          354,
          414,
          68,
          143,
          287,
          42,
          363,
          442,
          288,
          385,
          249,
          28,
          142,
          41,
          429,
          217,
          153,
          435,
          466,
          477,
          291,
          133,
          339,
          398,
          59,
          185,
          198,
          395,
          360,
          452,
          454,
          44,
          289,
          235,
          403,
          177,
          305,
          123,
          353,
          494,
          174,
          18,
          406,
          421,
          134,
          37,
          433,
          74,
          209,
          161,
          265,
          319,
          60,
          220,
          226,
          457,
          256,
          85,
          335,
          132,
          397,
          88,
          431,
          491,
          231,
          321,
          108,
          211,
          412,
          493,
          248,
          282,
          71,
          157,
          116,
          437,
          190,
          219,
          377,
          475,
          480,
          2,
          55,
          126,
          415,
          241,
          233,
          184,
          292,
          139,
          112,
          5,
          192,
          328,
          390,
          372,
          467,
          416,
          160,
          352,
          118,
          29,
          327,
          430,
          62,
          94,
          207,
          244,
          459,
          194,
          308,
          296,
          468,
          489,
          458,
          330,
          270,
          245,
          368,
          405,
          422,
          394,
          484,
          150,
          32,
          208,
          107,
          320,
          95,
          215,
          419,
          127,
          103,
          423,
          380,
          424,
          75,
          359,
          453,
          279,
          409,
          448,
          478,
          238,
          439,
          337,
          49,
          205,
          285,
          388,
          303,
          382,
          240,
          469,
          48,
          39,
          223,
          56,
          145,
          379,
          155,
          8,
          167,
          281,
          411,
          36,
          440,
          378,
          101,
          114,
          96,
          10,
          16,
          444,
          326,
          290,
          93,
          443,
          392,
          307,
          79,
          332,
          87,
          91,
          500,
          228,
          46,
          482,
          486,
          25,
          50,
          441,
          426,
          20,
          391,
          488,
          30,
          485,
          82,
          267,
          367,
          456,
          69,
          436,
          362,
          465,
          129,
          357,
          45,
          373,
          417,
          383,
          451,
          73,
          487,
          428,
          497,
          384,
          490,
          178,
          137,
          329,
          346,
          438
         ],
         "yaxis": "y"
        }
       ],
       "layout": {
        "height": 400,
        "legend": {
         "tracegroupgap": 0
        },
        "margin": {
         "b": 10,
         "l": 10,
         "r": 10,
         "t": 10
        },
        "plot_bgcolor": "white",
        "template": {
         "data": {
          "bar": [
           {
            "error_x": {
             "color": "#2a3f5f"
            },
            "error_y": {
             "color": "#2a3f5f"
            },
            "marker": {
             "line": {
              "color": "#E5ECF6",
              "width": 0.5
             },
             "pattern": {
              "fillmode": "overlay",
              "size": 10,
              "solidity": 0.2
             }
            },
            "type": "bar"
           }
          ],
          "barpolar": [
           {
            "marker": {
             "line": {
              "color": "#E5ECF6",
              "width": 0.5
             },
             "pattern": {
              "fillmode": "overlay",
              "size": 10,
              "solidity": 0.2
             }
            },
            "type": "barpolar"
           }
          ],
          "carpet": [
           {
            "aaxis": {
             "endlinecolor": "#2a3f5f",
             "gridcolor": "white",
             "linecolor": "white",
             "minorgridcolor": "white",
             "startlinecolor": "#2a3f5f"
            },
            "baxis": {
             "endlinecolor": "#2a3f5f",
             "gridcolor": "white",
             "linecolor": "white",
             "minorgridcolor": "white",
             "startlinecolor": "#2a3f5f"
            },
            "type": "carpet"
           }
          ],
          "choropleth": [
           {
            "colorbar": {
             "outlinewidth": 0,
             "ticks": ""
            },
            "type": "choropleth"
           }
          ],
          "contour": [
           {
            "colorbar": {
             "outlinewidth": 0,
             "ticks": ""
            },
            "colorscale": [
             [
              0,
              "#0d0887"
             ],
             [
              0.1111111111111111,
              "#46039f"
             ],
             [
              0.2222222222222222,
              "#7201a8"
             ],
             [
              0.3333333333333333,
              "#9c179e"
             ],
             [
              0.4444444444444444,
              "#bd3786"
             ],
             [
              0.5555555555555556,
              "#d8576b"
             ],
             [
              0.6666666666666666,
              "#ed7953"
             ],
             [
              0.7777777777777778,
              "#fb9f3a"
             ],
             [
              0.8888888888888888,
              "#fdca26"
             ],
             [
              1,
              "#f0f921"
             ]
            ],
            "type": "contour"
           }
          ],
          "contourcarpet": [
           {
            "colorbar": {
             "outlinewidth": 0,
             "ticks": ""
            },
            "type": "contourcarpet"
           }
          ],
          "heatmap": [
           {
            "colorbar": {
             "outlinewidth": 0,
             "ticks": ""
            },
            "colorscale": [
             [
              0,
              "#0d0887"
             ],
             [
              0.1111111111111111,
              "#46039f"
             ],
             [
              0.2222222222222222,
              "#7201a8"
             ],
             [
              0.3333333333333333,
              "#9c179e"
             ],
             [
              0.4444444444444444,
              "#bd3786"
             ],
             [
              0.5555555555555556,
              "#d8576b"
             ],
             [
              0.6666666666666666,
              "#ed7953"
             ],
             [
              0.7777777777777778,
              "#fb9f3a"
             ],
             [
              0.8888888888888888,
              "#fdca26"
             ],
             [
              1,
              "#f0f921"
             ]
            ],
            "type": "heatmap"
           }
          ],
          "heatmapgl": [
           {
            "colorbar": {
             "outlinewidth": 0,
             "ticks": ""
            },
            "colorscale": [
             [
              0,
              "#0d0887"
             ],
             [
              0.1111111111111111,
              "#46039f"
             ],
             [
              0.2222222222222222,
              "#7201a8"
             ],
             [
              0.3333333333333333,
              "#9c179e"
             ],
             [
              0.4444444444444444,
              "#bd3786"
             ],
             [
              0.5555555555555556,
              "#d8576b"
             ],
             [
              0.6666666666666666,
              "#ed7953"
             ],
             [
              0.7777777777777778,
              "#fb9f3a"
             ],
             [
              0.8888888888888888,
              "#fdca26"
             ],
             [
              1,
              "#f0f921"
             ]
            ],
            "type": "heatmapgl"
           }
          ],
          "histogram": [
           {
            "marker": {
             "pattern": {
              "fillmode": "overlay",
              "size": 10,
              "solidity": 0.2
             }
            },
            "type": "histogram"
           }
          ],
          "histogram2d": [
           {
            "colorbar": {
             "outlinewidth": 0,
             "ticks": ""
            },
            "colorscale": [
             [
              0,
              "#0d0887"
             ],
             [
              0.1111111111111111,
              "#46039f"
             ],
             [
              0.2222222222222222,
              "#7201a8"
             ],
             [
              0.3333333333333333,
              "#9c179e"
             ],
             [
              0.4444444444444444,
              "#bd3786"
             ],
             [
              0.5555555555555556,
              "#d8576b"
             ],
             [
              0.6666666666666666,
              "#ed7953"
             ],
             [
              0.7777777777777778,
              "#fb9f3a"
             ],
             [
              0.8888888888888888,
              "#fdca26"
             ],
             [
              1,
              "#f0f921"
             ]
            ],
            "type": "histogram2d"
           }
          ],
          "histogram2dcontour": [
           {
            "colorbar": {
             "outlinewidth": 0,
             "ticks": ""
            },
            "colorscale": [
             [
              0,
              "#0d0887"
             ],
             [
              0.1111111111111111,
              "#46039f"
             ],
             [
              0.2222222222222222,
              "#7201a8"
             ],
             [
              0.3333333333333333,
              "#9c179e"
             ],
             [
              0.4444444444444444,
              "#bd3786"
             ],
             [
              0.5555555555555556,
              "#d8576b"
             ],
             [
              0.6666666666666666,
              "#ed7953"
             ],
             [
              0.7777777777777778,
              "#fb9f3a"
             ],
             [
              0.8888888888888888,
              "#fdca26"
             ],
             [
              1,
              "#f0f921"
             ]
            ],
            "type": "histogram2dcontour"
           }
          ],
          "mesh3d": [
           {
            "colorbar": {
             "outlinewidth": 0,
             "ticks": ""
            },
            "type": "mesh3d"
           }
          ],
          "parcoords": [
           {
            "line": {
             "colorbar": {
              "outlinewidth": 0,
              "ticks": ""
             }
            },
            "type": "parcoords"
           }
          ],
          "pie": [
           {
            "automargin": true,
            "type": "pie"
           }
          ],
          "scatter": [
           {
            "marker": {
             "colorbar": {
              "outlinewidth": 0,
              "ticks": ""
             }
            },
            "type": "scatter"
           }
          ],
          "scatter3d": [
           {
            "line": {
             "colorbar": {
              "outlinewidth": 0,
              "ticks": ""
             }
            },
            "marker": {
             "colorbar": {
              "outlinewidth": 0,
              "ticks": ""
             }
            },
            "type": "scatter3d"
           }
          ],
          "scattercarpet": [
           {
            "marker": {
             "colorbar": {
              "outlinewidth": 0,
              "ticks": ""
             }
            },
            "type": "scattercarpet"
           }
          ],
          "scattergeo": [
           {
            "marker": {
             "colorbar": {
              "outlinewidth": 0,
              "ticks": ""
             }
            },
            "type": "scattergeo"
           }
          ],
          "scattergl": [
           {
            "marker": {
             "colorbar": {
              "outlinewidth": 0,
              "ticks": ""
             }
            },
            "type": "scattergl"
           }
          ],
          "scattermapbox": [
           {
            "marker": {
             "colorbar": {
              "outlinewidth": 0,
              "ticks": ""
             }
            },
            "type": "scattermapbox"
           }
          ],
          "scatterpolar": [
           {
            "marker": {
             "colorbar": {
              "outlinewidth": 0,
              "ticks": ""
             }
            },
            "type": "scatterpolar"
           }
          ],
          "scatterpolargl": [
           {
            "marker": {
             "colorbar": {
              "outlinewidth": 0,
              "ticks": ""
             }
            },
            "type": "scatterpolargl"
           }
          ],
          "scatterternary": [
           {
            "marker": {
             "colorbar": {
              "outlinewidth": 0,
              "ticks": ""
             }
            },
            "type": "scatterternary"
           }
          ],
          "surface": [
           {
            "colorbar": {
             "outlinewidth": 0,
             "ticks": ""
            },
            "colorscale": [
             [
              0,
              "#0d0887"
             ],
             [
              0.1111111111111111,
              "#46039f"
             ],
             [
              0.2222222222222222,
              "#7201a8"
             ],
             [
              0.3333333333333333,
              "#9c179e"
             ],
             [
              0.4444444444444444,
              "#bd3786"
             ],
             [
              0.5555555555555556,
              "#d8576b"
             ],
             [
              0.6666666666666666,
              "#ed7953"
             ],
             [
              0.7777777777777778,
              "#fb9f3a"
             ],
             [
              0.8888888888888888,
              "#fdca26"
             ],
             [
              1,
              "#f0f921"
             ]
            ],
            "type": "surface"
           }
          ],
          "table": [
           {
            "cells": {
             "fill": {
              "color": "#EBF0F8"
             },
             "line": {
              "color": "white"
             }
            },
            "header": {
             "fill": {
              "color": "#C8D4E3"
             },
             "line": {
              "color": "white"
             }
            },
            "type": "table"
           }
          ]
         },
         "layout": {
          "annotationdefaults": {
           "arrowcolor": "#2a3f5f",
           "arrowhead": 0,
           "arrowwidth": 1
          },
          "autotypenumbers": "strict",
          "coloraxis": {
           "colorbar": {
            "outlinewidth": 0,
            "ticks": ""
           }
          },
          "colorscale": {
           "diverging": [
            [
             0,
             "#8e0152"
            ],
            [
             0.1,
             "#c51b7d"
            ],
            [
             0.2,
             "#de77ae"
            ],
            [
             0.3,
             "#f1b6da"
            ],
            [
             0.4,
             "#fde0ef"
            ],
            [
             0.5,
             "#f7f7f7"
            ],
            [
             0.6,
             "#e6f5d0"
            ],
            [
             0.7,
             "#b8e186"
            ],
            [
             0.8,
             "#7fbc41"
            ],
            [
             0.9,
             "#4d9221"
            ],
            [
             1,
             "#276419"
            ]
           ],
           "sequential": [
            [
             0,
             "#0d0887"
            ],
            [
             0.1111111111111111,
             "#46039f"
            ],
            [
             0.2222222222222222,
             "#7201a8"
            ],
            [
             0.3333333333333333,
             "#9c179e"
            ],
            [
             0.4444444444444444,
             "#bd3786"
            ],
            [
             0.5555555555555556,
             "#d8576b"
            ],
            [
             0.6666666666666666,
             "#ed7953"
            ],
            [
             0.7777777777777778,
             "#fb9f3a"
            ],
            [
             0.8888888888888888,
             "#fdca26"
            ],
            [
             1,
             "#f0f921"
            ]
           ],
           "sequentialminus": [
            [
             0,
             "#0d0887"
            ],
            [
             0.1111111111111111,
             "#46039f"
            ],
            [
             0.2222222222222222,
             "#7201a8"
            ],
            [
             0.3333333333333333,
             "#9c179e"
            ],
            [
             0.4444444444444444,
             "#bd3786"
            ],
            [
             0.5555555555555556,
             "#d8576b"
            ],
            [
             0.6666666666666666,
             "#ed7953"
            ],
            [
             0.7777777777777778,
             "#fb9f3a"
            ],
            [
             0.8888888888888888,
             "#fdca26"
            ],
            [
             1,
             "#f0f921"
            ]
           ]
          },
          "colorway": [
           "#636efa",
           "#EF553B",
           "#00cc96",
           "#ab63fa",
           "#FFA15A",
           "#19d3f3",
           "#FF6692",
           "#B6E880",
           "#FF97FF",
           "#FECB52"
          ],
          "font": {
           "color": "#2a3f5f"
          },
          "geo": {
           "bgcolor": "white",
           "lakecolor": "white",
           "landcolor": "#E5ECF6",
           "showlakes": true,
           "showland": true,
           "subunitcolor": "white"
          },
          "hoverlabel": {
           "align": "left"
          },
          "hovermode": "closest",
          "mapbox": {
           "style": "light"
          },
          "paper_bgcolor": "white",
          "plot_bgcolor": "#E5ECF6",
          "polar": {
           "angularaxis": {
            "gridcolor": "white",
            "linecolor": "white",
            "ticks": ""
           },
           "bgcolor": "#E5ECF6",
           "radialaxis": {
            "gridcolor": "white",
            "linecolor": "white",
            "ticks": ""
           }
          },
          "scene": {
           "xaxis": {
            "backgroundcolor": "#E5ECF6",
            "gridcolor": "white",
            "gridwidth": 2,
            "linecolor": "white",
            "showbackground": true,
            "ticks": "",
            "zerolinecolor": "white"
           },
           "yaxis": {
            "backgroundcolor": "#E5ECF6",
            "gridcolor": "white",
            "gridwidth": 2,
            "linecolor": "white",
            "showbackground": true,
            "ticks": "",
            "zerolinecolor": "white"
           },
           "zaxis": {
            "backgroundcolor": "#E5ECF6",
            "gridcolor": "white",
            "gridwidth": 2,
            "linecolor": "white",
            "showbackground": true,
            "ticks": "",
            "zerolinecolor": "white"
           }
          },
          "shapedefaults": {
           "line": {
            "color": "#2a3f5f"
           }
          },
          "ternary": {
           "aaxis": {
            "gridcolor": "white",
            "linecolor": "white",
            "ticks": ""
           },
           "baxis": {
            "gridcolor": "white",
            "linecolor": "white",
            "ticks": ""
           },
           "bgcolor": "#E5ECF6",
           "caxis": {
            "gridcolor": "white",
            "linecolor": "white",
            "ticks": ""
           }
          },
          "title": {
           "x": 0.05
          },
          "xaxis": {
           "automargin": true,
           "gridcolor": "white",
           "linecolor": "white",
           "ticks": "",
           "title": {
            "standoff": 15
           },
           "zerolinecolor": "white",
           "zerolinewidth": 2
          },
          "yaxis": {
           "automargin": true,
           "gridcolor": "white",
           "linecolor": "white",
           "ticks": "",
           "title": {
            "standoff": 15
           },
           "zerolinecolor": "white",
           "zerolinewidth": 2
          }
         }
        },
        "width": 800,
        "xaxis": {
         "anchor": "y",
         "autorange": true,
         "domain": [
          0,
          1
         ],
         "range": [
          -4.337330873308733,
          74.33733087330873
         ],
         "title": {
          "text": "Song Release Year"
         },
         "type": "category"
        },
        "yaxis": {
         "anchor": "x",
         "autorange": true,
         "domain": [
          0,
          1
         ],
         "range": [
          -34.18245425188373,
          535.1824542518838
         ],
         "title": {
          "text": "Song Ranking"
         },
         "type": "linear"
        }
       }
      },
      "image/png": "[encoded data removed]",
      "text/html": [
       "<div>                            <div id=\"05995763-eecb-4444-9260-7b4770ab8e9f\" class=\"plotly-graph-div\" style=\"height:400px; width:800px;\"></div>            <script type=\"text/javascript\">                require([\"plotly\"], function(Plotly) {                    window.PLOTLYENV=window.PLOTLYENV || {};                                    if (document.getElementById(\"05995763-eecb-4444-9260-7b4770ab8e9f\")) {                    Plotly.newPlot(                        \"05995763-eecb-4444-9260-7b4770ab8e9f\",                        [{\"customdata\":[[\"Robert Johnson\"],[\"Billie Holiday\"],[\"Hank Williams\"],[\"Woody Guthrie\"],[\"Hank Williams\"],[\"Big Mama Thornton\"],[\"Muddy Waters\"],[\"Bo Diddley\"],[\"Little Richard\"],[\"Chuck Berry\"],[\"Fats Domino\"],[\"Screamin\\u2019 Jay Hawkins\"],[\"The Five Satins\"],[\"Johnny Cash\"],[\"Buddy Holly\"],[\"Elvis Presley\"],[\"Ray Charles\"],[\"Jerry Lee Lewis\"],[\"Buddy Holly\"],[\"Elvis Presley\"],[\"Chuck Berry\"],[\"Eddie Cochran\"],[\"Everly Brothers\"],[\"Little Richard\"],[\"The Isley Brothers\"],[\"The Flamingos\"],[\"Miles Davis\"],[\"Ray Charles\"],[\"Etta James\"],[\"Howlin\\u2019 Wolf\"],[\"The Shirelles\"],[\"Ben E. King\"],[\"Patsy Cline\"],[\"The Marvelettes\"],[\"Roy Orbison\"],[\"John Lee Hooker\"],[\"Booker T. and the MGs\"],[\"Martha Reeves and the Vandellas\"],[\"The Crystals\"],[\"Bob Dylan\"],[\"The Kingsmen\"],[\"Johnny Cash\"],[\"The Beatles\"],[\"The Ronettes\"],[\"Chuck Berry\"],[\"The Shangri-Las\"],[\"The Beatles\"],[\"Simon and Garfunkel\"],[\"Sam Cooke\"],[\"The Drifters\"],[\"Martha and the Vandellas\"],[\"The Kinks\"],[\"The Animals\"],[\"Dionne Warwick\"],[\"The Supremes\"],[\"Nina Simone\"],[\"The Beatles\"],[\"The Temptations\"],[\"The Mamas and the Papas\"],[\"The Righteous Brothers\"],[\"Bob Dylan\"],[\"The Four Tops\"],[\"Bob Dylan\"],[\"Bob Dylan\"],[\"The Impressions\"],[\"The Beatles\"],[\"The Beatles\"],[\"Them\"],[\"Bob Dylan\"],[\"Smokey Robinson and the Miracles\"],[\"The Rolling Stones\"],[\"Wilson Pickett\"],[\"The Byrds\"],[\"The Supremes\"],[\"The Who\"],[\"John Coltrane\"],[\"Otis Redding\"],[\"Beach Boys\"],[\"The Beach Boys\"],[\"The Beach Boys\"],[\"Bob Dylan\"],[\"The Monkees\"],[\"James Brown\"],[\"Ike and Tina Turner\"],[\"The Beatles\"],[\"The Byrds\"],[\"The Rolling Stones\"],[\"The Supremes\"],[\"Leonard Cohen\"],[\"Procol Harum\"],[\"Louis Armstrong\"],[\"The Beatles\"],[\"Aretha Franklin\"],[\"The Doors\"],[\"Smokey Robinson and the Miracles\"],[\"The Jimi Hendrix Experience\"],[\"Bobbie Gentry\"],[\"Aretha Franklin\"],[\"The Kinks\"],[\"The Jimi Hendrix Experience\"],[\"Jefferson Airplane\"],[\"Otis Redding\"],[\"The Four Tops\"],[\"The Velvet Underground\"],[\"Aretha Franklin\"],[\"The Beatles\"],[\"The Beatles\"],[\"Dusty Springfield\"],[\"Merle Haggard\"],[\"Glen Campbell\"],[\"The Rolling Stones\"],[\"The Jimi Hendrix Experience\"],[\"The Zombies\"],[\"The Beatles\"],[\"Tammy Wynette\"],[\"The Band\"],[\"Aretha Franklin\"],[\"Marvin Gaye\"],[\"The Rolling Stones\"],[\"Sly and the Family Stone\"],[\"James Brown\"],[\"The Jackson 5\"],[\"Joni Mitchell\"],[\"Elvis Presley\"],[\"The Meters\"],[\"Isaac Hayes\"],[\"The Stooges\"],[\"Creedence Clearwater Revival\"],[\"The Beatles\"],[\"Creedence Clearwater Revival\"],[\"Crosby, Stills, and Nash\"],[\"Led Zeppelin\"],[\"David Bowie\"],[\"The Rolling Stones\"],[\"Allman Brothers Band\"],[\"Elton John\"],[\"The Velvet Underground\"],[\"Neil Young\"],[\"Curtis Mayfield\"],[\"Van Morrison\"],[\"Black Sabbath\"],[\"The Grateful Dead\"],[\"Kris Kristofferson\"],[\"Santana\"],[\"Stevie Wonder\"],[\"James Brown\"],[\"Derek and the Dominos\"],[\"Loretta Lynn\"],[\"James Taylor\"],[\"Simon and Garfunkel\"],[\"Cat Stevens/Yusuf\"],[\"The Grateful Dead\"],[\"The Beatles\"],[\"The Kinks\"],[\"T. Rex\"],[\"Rod Stewart\"],[\"David Bowie\"],[\"The Rolling Stones\"],[\"John Lennon\"],[\"Marvin Gaye\"],[\"Bill Withers\"],[\"Dolly Parton\"],[\"Harry Nilsson\"],[\"The Who\"],[\"David Bowie\"],[\"Led Zeppelin\"],[\"Al Green\"],[\"Sly and the Family Stone\"],[\"John Prine\"],[\"Gil-Scott Heron\"],[\"Carole King\"],[\"Joni Mitchell\"],[\"Black Sabbath\"],[\"Joni Mitchell\"],[\"The Who\"],[\"Stevie Wonder\"],[\"Townes Van Zandt\"],[\"Mott the Hoople\"],[\"Roxy Music\"],[\"Jimmy Cliff\"],[\"Carly Simon\"],[\"Alice Cooper\"],[\"Elton John\"],[\"Al Green\"],[\"Elton John\"],[\"Randy Newman\"],[\"Nick Drake\"],[\"Neil Young\"],[\"Lou Reed\"],[\"Bill Withers\"],[\"Curtis Mayfield\"],[\"The Staple Singers\"],[\"Stevie Wonder\"],[\"The Rolling Stones\"],[\"The Temptations\"],[\"Roberta Flack\"],[\"Paul Simon\"],[\"Faces\"],[\"Toots and the Maytals\"],[\"Marvin Gaye\"],[\"The Wailers\"],[\"Elton John\"],[\"New York Dolls\"],[\"Gladys Knight and the Pips\"],[\"Aerosmith\"],[\"Ann Peebles\"],[\"Stevie Wonder\"],[\"Lynyrd Skynyrd\"],[\"Bruce Springsteen\"],[\"Hall and Oates\"],[\"Big Star\"],[\"Augustus Pablo\"],[\"William DeVaughn\"],[\"Dolly Parton\"],[\"Joni Mitchell\"],[\"Patti Smith\"],[\"Willie Nelson\"],[\"Bruce Springsteen\"],[\"Bruce Springsteen\"],[\"Kiss\"],[\"Queen\"],[\"Bob Marley and the Wailers\"],[\"Bob Dylan\"],[\"Bruce Springsteen\"],[\"Fleetwood Mac\"],[\"Pink Floyd\"],[\"David Bowie\"],[\"Led Zeppelin\"],[\"The Modern Lovers\"],[\"The Eagles\"],[\"Blue \\u00d6yster Cult\"],[\"Ramones\"],[\"Boston\"],[\"ABBA\"],[\"Jorge Ben\"],[\"David Bowie\"],[\"Thelma Houston\"],[\"Bob Seger\"],[\"Tom Petty and the Heartbreakers\"],[\"Thin Lizzy\"],[\"Television\"],[\"Fleetwood Mac\"],[\"Sex Pistols\"],[\"David Bowie\"],[\"Peter Gabriel\"],[\"Kraftwerk\"],[\"Elvis Costello\"],[\"Billy Joel\"],[\"Donna Summer\"],[\"X-Ray Spex\"],[\"Iggy Pop\"],[\"Fleetwood Mac\"],[\"Bill Withers\"],[\"Ramones\"],[\"Bee Gees\"],[\"Steely Dan\"],[\"Parliament\"],[\"Sex Pistols\"],[\"Funkadelic\"],[\"Earth, Wind, and Fire\"],[\"Gloria Gaynor\"],[\"The Cars\"],[\"Cheap Trick\"],[\"The Clash\"],[\"Sylvester\"],[\"The B-52's\"],[\"Steel Pulse\"],[\"Buzzcocks\"],[\"Patti Smith\"],[\"Blondie\"],[\"The Slits\"],[\"Sugar Hill Gang\"],[\"Pink Floyd\"],[\"Pretenders\"],[\"Neil Young\"],[\"The Doobie Brothers\"],[\"Michael Jackson\"],[\"Blondie\"],[\"Chic\"],[\"The Clash\"],[\"AC/DC\"],[\"Bob Marley and the Wailers\"],[\"Bob Marley and the Wailers\"],[\"Mot\\u00f6rhead\"],[\"The Funky 4 + 1\"],[\"Diana Ross\"],[\"Joan Jett\"],[\"Talking Heads\"],[\"George Jones\"],[\"Joy Division\"],[\"Queen and David Bowie\"],[\"Stevie Nicks\"],[\"Rick James\"],[\"Rush\"],[\"Luther Vandross\"],[\"The Go-Gos\"],[\"Phil Collins\"],[\"Journey\"],[\"Prince\"],[\"Duran Duran\"],[\"Grandmaster Flash and the Furious Five\"],[\"Michael Jackson\"],[\"Marvin Gaye\"],[\"Afrika Bambaataa and the Soulsonic Force\"],[\"Prince\"],[\"Toto\"],[\"Sister Nancy\"],[\"Michael Jackson\"],[\"Bruce Springsteen\"],[\"New Order\"],[\"Rufus and Chaka Khan\"],[\"Van Halen\"],[\"The Police\"],[\"Talking Heads\"],[\"Eurythmics\"],[\"Cyndi Lauper\"],[\"R.E.M.\"],[\"Prince and the Revolution\"],[\"Run-DMC\"],[\"The Smiths\"],[\"Tina Turner\"],[\"Prince and the Revolution\"],[\"Pet Shop Boys\"],[\"Leonard Cohen\"],[\"Don Henley\"],[\"Madonna\"],[\"The Replacements\"],[\"Tears for Fears\"],[\"Kate Bush\"],[\"New Order\"],[\"The Smiths\"],[\"Bon Jovi\"],[\"Metallica\"],[\"Prince\"],[\"Marshall Jefferson\"],[\"Eric B. and Rakim\"],[\"Public Enemy\"],[\"Guns N' Roses\"],[\"Prince\"],[\"Guns N' Roses\"],[\"Whitney Houston\"],[\"U2\"],[\"The Cure\"],[\"U2\"],[\"Neneh Cherry\"],[\"The Pixies\"],[\"N.W.A\"],[\"INXS\"],[\"Tracy Chapman\"],[\"Sonic Youth\"],[\"Rob Base and DJ E-Z Rock\"],[\"Lucinda Williams\"],[\"N.W.A\"],[\"Tom Petty\"],[\"The Cure\"],[\"Janet Jackson\"],[\"Biz Markie\"],[\"Public Enemy\"],[\"Madonna\"],[\"George Michael\"],[\"Depeche Mode\"],[\"Digital Underground\"],[\"Deee-Lite\"],[\"Sin\\u00e9ad O\\u2019Connor\"],[\"A Tribe Called Quest\"],[\"Madonna\"],[\"R.E.M.\"],[\"Nirvana\"],[\"Geto Boys\"],[\"Red Hot Chili Peppers\"],[\"Metallica\"],[\"Bonnie Raitt\"],[\"Nirvana\"],[\"Pearl Jam\"],[\"R.E.M.\"],[\"Ice Cube\"],[\"Radiohead\"],[\"Dr. Dre feat. Snoop Doggy Dogg\"],[\"Mary J. Blige\"],[\"Pete Rock and CL Smooth\"],[\"U2\"],[\"Whitney Houston\"],[\"Rage Against the Machine\"],[\"Pavement\"],[\"Sade\"],[\"PJ Harvey\"],[\"Liz Phair\"],[\"Bikini Kill\"],[\"Mazzy Star\"],[\"The Breeders\"],[\"Beck\"],[\"The Notorious B.I.G.\"],[\"Nine Inch Nails\"],[\"Beastie Boys\"],[\"Soundgarden\"],[\"Selena\"],[\"Craig Mack feat. Notorious B.I.G., LL Cool J, Busta Rhymes, Rampage\"],[\"Jeff Buckley\"],[\"Weezer\"],[\"Green Day\"],[\"Notorious B.I.G.\"],[\"Hole\"],[\"Wu-Tang Clan\"],[\"2Pac\"],[\"Oasis\"],[\"Mobb Deep\"],[\"Mariah Carey\"],[\"TLC\"],[\"Alanis Morissette\"],[\"Fiona Apple\"],[\"Fountains of Wayne\"],[\"Blackstreet feat. Dr. Dre and Queen Pen\"],[\"Pulp\"],[\"Fugees\"],[\"Missy Elliot\"],[\"Radiohead\"],[\"Foo Fighters\"],[\"Erykah Badu\"],[\"Juvenile feat. Lil Wayne and Mannie Fresh\"],[\"Aaliyah\"],[\"Celia Cruz\"],[\"Cher\"],[\"Lauryn Hill\"],[\"Britney Spears\"],[\"Destiny\\u2019s Child\"],[\"DMX\"],[\"TLC\"],[\"Fiona Apple\"],[\"Backstreet Boys\"],[\"Dixie Chicks\"],[\"Radiohead\"],[\"Outkast\"],[\"Eminem feat. Dido\"],[\"Missy Elliott\"],[\"Outkast\"],[\"D\\u2019Angelo\"],[\"The Strokes\"],[\"Missy Elliott\"],[\"Eminem\"],[\"Clipse\"],[\"Wilco\"],[\"The White Stripes\"],[\"Alicia Keys\"],[\"The Killers\"],[\"Yeah Yeah Yeahs\"],[\"Britney Spears\"],[\"Jay-Z\"],[\"Outkast\"],[\"Beyonc\\u00e9 feat. Jay-Z\"],[\"50 Cent\"],[\"Rilo Kiley\"],[\"Usher feat. Lil Jon and Ludacris\"],[\"Kelly Clarkson\"],[\"Fall Out Boy\"],[\"Coldplay\"],[\"Gnarls Barkley\"],[\"Amy Winehouse\"],[\"Rihanna feat. Jay-Z\"],[\"LCD Soundsystem\"],[\"UGK feat. Outkast\"],[\"Kanye West\"],[\"Beyonc\\u00e9\"],[\"M.I.A.\"],[\"Lady Gaga\"],[\"Lil Wayne\"],[\"Kanye West feat. Pusha T\"],[\"Daddy Yankee\"],[\"Miranda Lambert\"],[\"Nicki Minaj\"],[\"Robyn\"],[\"Eric Church\"],[\"The Weeknd\"],[\"Lorde\"],[\"Azealia Banks\"],[\"Adele\"],[\"Drake feat. Rihanna\"],[\"Frank Ocean\"],[\"Lana Del Rey\"],[\"Taylor Swift\"],[\"Carly Rae Jepsen\"],[\"Kacey Musgraves\"],[\"Daft Punk feat. Pharrell Williams\"],[\"Drake feat. Majid Jordan\"],[\"Taylor Swift\"],[\"Kendrick Lamar\"],[\"Drake\"],[\"Mark Ronson feat. Bruno Mars\"],[\"Childish Gambino\"],[\"Migos feat. Lil Uzi Vert\"],[\"Beyonc\\u00e9\"],[\"Solange\"],[\"Harry Styles\"],[\"Lizzo\"],[\"Cardi B, J Balvin, and Bad Bunny\"],[\"Lil Nas X\"],[\"Billie Eilish\"],[\"Ariana Grande\"],[\"Bad Bunny\"],[\"BTS\"],[\"Megan Thee Stallion feat. Beyonc\\u00e9\"]],\"hovertemplate\":\"<b>%{hovertext}</b><br><br>Release Year=%{x}<br>Song Ranking=%{y}<br>Artist Name=%{customdata[0]}<extra></extra>\",\"hovertext\":[\"Cross Road Blues\",\"Strange Fruit\",\"I\\u2019m So Lonesome I Could Cry\",\"This Land Is Your Land\",\"Your Cheatin\",\"Hound Dog\",\"Mannish Boy\",\"Bo Diddley\",\"Tutti-Frutti\",\"Maybelline\",\"Blueberry Hill\",\"I Put a Spell on You\",\"In the Still of the Night\",\"I Walk the Line\",\"That\\u2019ll Be the Day\",\"Jailhouse Rock\",\"What\",\"Great Balls of Fire\",\"Peggy Sue\",\"Heartbreak Hotel\",\"Johnny B. Goode\",\"Summertime Blues\",\"All I Have to Do Is Dream\",\"Good Golly, Miss Molly\",\"Shout (Parts 1 and 2)\",\"I Only Have Eyes for You\",\"So What\",\"Georgia on My Mind\",\"At Last\",\"Spoonful\",\"Will You Love Me Tomorrow\",\"Stand by Me\",\"Crazy\",\"Please Mr. Postman\",\"Crying\",\"Boom Boom\",\"Green Onions\",\"Heat Wave\",\"Da Doo Ron Ron\",\"Blowin\",\"Louie Louie\",\"Ring of Fire\",\"I Want to Hold Your Hand\",\"Be My Baby\",\"Promised Land\",\"Leader of the Pack\",\"She Loves You\",\"The Sounds of Silence\",\"A Change Is Gonna Come\",\"Up on the Roof\",\"Dancing in the Street\",\"You Really Got Me\",\"The House of the Rising Sun\",\"Walk on By\",\"Baby Love\",\"Mississippi Goddam\",\"In My Life\",\"My Girl\",\"California Dreamin\",\"Unchained Melody\",\"Desolation Row\",\"I Can\",\"Like a Rolling Stone\",\"Subterranean Homesick Blues\",\"People Get Ready\",\"Help!\",\"Yesterday\",\"Gloria\",\"Mr. Tambourine Man\",\"The Tracks of My Tears\",\"(I Can\",\"In the Midnight Hour\",\"Mr. Tambourine Man\",\"Stop! In the Name of Love\",\"My Generation\",\"Pt. 1-Acknowledgement\",\"Try a Little Tenderness\",\"Wouldn\\u2019t It Be Nice\",\"Good Vibrations\",\"God Only Knows\",\"Visions of Johanna\",\"I\",\"Papa\\u2019s Got a Brand New Bag\",\"River Deep, Mountain High\",\"Eleanor Rigby\",\"Eight Miles High\",\"Paint It, Black\",\"You Keep Me Hangin\\u2019 On\",\"Suzanne\",\"A Whiter Shade of Pale\",\"What a Wonderful World\",\"Penny Lane\",\"Chain of Fools\",\"Light My Fire\",\"The Tears of a Clown\",\"Little Wing\",\"Ode to Billie Joe\",\"Respect\",\"Waterloo Sunset\",\"Purple Haze\",\"White Rabbit\",\"(Sittin\",\"Reach Out (I\",\"I\\u2019m Waiting for the Man\",\"(You Make Me Feel Like) A Natural Woman\",\"Strawberry Fields Forever\",\"A Day in the Life\",\"Son of a Preacher Man\",\"Mama Tried\",\"Wichita Lineman\",\"Jumpin\\u2019 Jack Flash\",\"All Along the Watchtower\",\"Time of the Season\",\"Hey Jude\",\"Stand by Your Man\",\"The Weight\",\"I Say a Little Prayer\",\"I Heard It Through the Grapevine\",\"Sympathy for the Devil\",\"Everyday People\",\"Say It Loud (I\\u2019m Black and I\\u2019m Proud)\",\"I Want You Back\",\"Both Sides Now\",\"Suspicious Minds\",\"Cissy Strut\",\"Walk on By\",\"I Wanna Be Your Dog\",\"Proud Mary\",\"Something\",\"Fortunate Son\",\"Suite: Judy Blue Eyes\",\"Whole Lotta Love\",\"Space Oddity\",\"Gimme Shelter\",\"Whipping Post\",\"Your Song\",\"Sweet Jane\",\"After the Gold Rush\",\"Move On Up\",\"Into the Mystic\",\"Paranoid\",\"Ripple\",\"Sunday Mornin\",\"Oye Como Va\",\"Signed, Sealed, Delivered I\",\"Get Up (I Feel Like Being A) Sex Machine\",\"Layla\",\"Coal Miner\\u2019s Daughter\",\"Fire and Rain\",\"Bridge Over Troubled Water\",\"Father and Son\",\"Box of Rain\",\"Let It Be\",\"Lola\",\"Cosmic Dancer\",\"Maggie May\",\"Life on Mars?\",\"Wild Horses\",\"Imagine\",\"What\\u2019s Going On\",\"Ain\",\"Coat of Many Colors\",\"Without You\",\"Won\",\"Changes\",\"Stairway to Heaven\",\"Let\",\"Family Affair\",\"Angel From Montgomery\",\"The Revolution Will Not Be Televised\",\"It\\u2019s Too Late\",\"River\",\"Iron Man\",\"A Case of You\",\"Baba O\",\"Superstition\",\"Pancho and Lefty\",\"All the Young Dudes\",\"Virginia Plain\",\"The Harder They Come\",\"You\",\"School\\u2019s Out\",\"Tiny Dancer\",\"Love and Happiness\",\"Rocket Man\",\"Sail Away\",\"Pink Moon\",\"Heart of Gold\",\"Walk on the Wild Side\",\"Lean on Me\",\"Pusherman\",\"I\",\"You Are the Sunshine of My Life\",\"Tumbling Dice\",\"Papa Was a Rollin\",\"Killing Me Softly With His Song\",\"American Tune\",\"Ooh La La\",\"Pressure Drop\",\"Let\",\"Get Up, Stand Up\",\"Bennie and the Jets\",\"Personality Crisis\",\"Midnight Train to Georgia\",\"Dream On\",\"I Can\",\"Higher Ground\",\"Free Bird\",\"Rosalita (Come Out Tonight)\",\"She\\u2019s Gone\",\"September Gurls\",\"King Tubby Meets the Rockers Uptown\",\"Be Thankful for What You Got\",\"Jolene\",\"Help Me\",\"Gloria\",\"Blue Eyes Crying in the Rain\",\"Thunder Road\",\"Born to Run\",\"Rock and Roll All Nite\",\"Bohemian Rhapsody\",\"No Woman No Cry\",\"Tangled Up in Blue\",\"Jungleland\",\"Landslide\",\"Wish You Were Here\",\"Young Americans\",\"Kashmir\",\"Roadrunner\",\"Hotel California\",\"(Don\\u2019t Fear) The Reaper\",\"Blitzkrieg Bop\",\"More Than a Feeling\",\"Dancing Queen\",\"Ponta de Lan\\u00e7a Africano (Umbabarauma)\",\"Station to Station\",\"Don\",\"Night Moves\",\"American Girl\",\"The Boys Are Back in Town\",\"Marquee Moon\",\"Dreams\",\"Anarchy in the U.K.\",\"Heroes\",\"Solsbury Hill\",\"Trans-Europe Express\",\"Alison\",\"Scenes From an Italian Restaurant\",\"I Feel Love\",\"Oh Bondage! Up Yours!\",\"Lust for Life\",\"Go Your Own Way\",\"Lovely Day\",\"Sheena Is a Punk Rocker\",\"Stayin\",\"Deacon Blues\",\"Flash Light\",\"God Save the Queen\",\"One Nation Under a Groove\",\"September\",\"I Will Survive\",\"Just What I Needed\",\"Surrender\",\"(White Man) in Hammersmith Palais\",\"You Make Me Feel (Mighty Real)\",\"Rock Lobster\",\"Ku Klux Klan\",\"Ever Fallen in Love (With Someone You Shouldn\",\"Because the Night\",\"Heart of Glass\",\"Typical Girls\",\"Rapper\",\"Comfortably Numb\",\"Brass in Pocket\",\"Powderfinger\",\"What a Fool Believes\",\"Rock With You\",\"Dreaming\",\"Good Times\",\"London Calling\",\"You Shook Me All Night Long\",\"Redemption Song\",\"Could You Be Loved\",\"Ace of Spades\",\"That\",\"I\",\"Bad Reputation\",\"Once in a Lifetime\",\"He Stopped Loving Her Today\",\"Love Will Tear Us Apart\",\"Under Pressure\",\"Edge of Seventeen\",\"Super Freak\",\"Limelight\",\"Never Too Much\",\"Our Lips Are Sealed\",\"In the Air Tonight\",\"Don\\u2019t Stop Believin\\u2019\",\"1999\",\"Hungry Like the Wolf\",\"The Message\",\"Beat It\",\"Sexual Healing\",\"Planet Rock\",\"Little Red Corvette\",\"Africa\",\"Bam Bam\",\"Billie Jean\",\"Atlantic City\",\"Blue Monday\",\"Ain\\u2019t Nobody\",\"Jump\",\"Every Breath You Take\",\"This Must Be the Place (Naive Melody)\",\"Sweet Dreams (Are Made of This)\",\"Time After Time\",\"Radio Free Europe\",\"Purple Rain\",\"Sucker MC\",\"How Soon Is Now?\",\"What\",\"When Doves Cry\",\"West End Girls\",\"Hallelujah\",\"Boys of Summer\",\"Into the Groove\",\"Left of the Dial\",\"Everybody Wants to Rule the World\",\"Running Up That Hill\",\"Bizarre Love Triangle\",\"There Is a Light That Never Goes Out\",\"Livin\",\"Master of Puppets\",\"Kiss\",\"Move Your Body (The House Music Anthem)\",\"Paid in Full\",\"Bring the Noise\",\"Sweet Child O Mine\",\"Adore\",\"Welcome to the Jungle\",\"I Wanna Dance With Somebody (Who Loves Me)\",\"I Still Haven\\u2019t Found What I\\u2019m Looking For\",\"Just Like Heaven\",\"With or Without You\",\"Buffalo Stance\",\"Where Is My Mind?\",\"Straight Outta Compton\",\"Never Tear Us Apart\",\"Fast Car\",\"Teenage Riot\",\"It Takes Two\",\"Passionate Kisses\",\"Fuck tha Police\",\"Free Fallin\",\"Pictures of You\",\"Rhythm Nation\",\"Just a Friend\",\"Fight the Power\",\"Like a Prayer\",\"Freedom! \",\"Enjoy the Silence\",\"The Humpty Dance\",\"Groove Is in the Heart\",\"Nothing Compares 2 U\",\"Can I Kick It?\",\"Vogue\",\"Losing My Religion\",\"Smells Like Teen Spirit\",\"Mind Playing Tricks on Me\",\"Under the Bridge\",\"Enter Sandman\",\"I Can\",\"Come as You Are\",\"Alive\",\"Nightswimming\",\"It Was a Good Day\",\"Creep\",\"Nuthin\",\"Real Love\",\"They Reminisce Over You\",\"One\",\"I Will Always Love You\",\"Killing in the Name\",\"Summer Babe (Winter Version)\",\"No Ordinary Love\",\"Rid of Me\",\"Divorce Song\",\"Rebel Girl\",\"Fade Into You\",\"Cannonball\",\"Loser\",\"Big Poppa\",\"Closer\",\"Sabotage\",\"Black Hole Sun\",\"Amor Prohibido\",\"Flava in Ya Ear (Remix)\",\"Grace\",\"Buddy Holly\",\"Basket Case\",\"Juicy\",\"Doll Parts\",\"C.R.E.A.M.\",\"California Love\",\"Wonderwall\",\"Shook Ones, Pt. II\",\"Fantasy\",\"Waterfalls\",\"You Oughta Know\",\"Criminal\",\"Radiation Vibe\",\"No Diggity\",\"Common People\",\"Killing Me Softly With His Song\",\"The Rain (Supa Dupa Fly)\",\"Karma Police\",\"Everlong\",\"Tyrone\",\"Back That Azz Up\",\"Are You That Somebody?\",\"La Vida Es un Carnaval\",\"Believe\",\"Doo Wop (That Thing)\",\"...Baby One More Time\",\"Say My Name\",\"Party Up (Up in Here)\",\"No Scrubs\",\"Paper Bag\",\"I Want It That Way\",\"Goodbye Earl\",\"Idioteque\",\"B.O.B.\",\"Stan\",\"Work It\",\"Ms. Jackson\",\"Untitled (How Does It Feel)\",\"Last Nite\",\"Get Ur Freak On\",\"Lose Yourself\",\"Grindin\",\"Heavy Metal Drummer\",\"Seven Nation Army\",\"If I Ain\",\"Mr. Brightside\",\"Maps\",\"Toxic\",\"99 Problems\",\"Hey Ya!\",\"Crazy in Love\",\"In Da Club\",\"Portions for Foxes\",\"Yeah!\",\"Since U Been Gone\",\"Sugar, We\\u2019re Goin Down\",\"Fix You\",\"Crazy\",\"Back to Black\",\"Umbrella\",\"All My Friends\",\"Int\",\"Stronger\",\"Single Ladies (Put a Ring On It)\",\"Paper Planes\",\"Bad Romance\",\"A Milli\",\"Runaway\",\"Gasolina\",\"The House That Built Me\",\"Super Bass\",\"Dancing on My Own\",\"Springsteen\",\"House of Balloons\",\"Royals\",\"212\",\"Rolling in the Deep\",\"Take Care\",\"Thinkin Bout You\",\"Summertime Sadness\",\"All Too Well\",\"Call Me Maybe\",\"Merry Go \",\"Get Lucky\",\"Hold On, We\",\"Blank Space\",\"Alright\",\"Hotline Bling\",\"Uptown Funk\",\"Redbone\",\"Bad and Boujee\",\"Formation\",\"Cranes in the Sky\",\"Sign of the Times\",\"Truth Hurts\",\"I Like It\",\"Old Town Road\",\"Bad Guy\",\"Thank U, Next\",\"Safaera\",\"Dynamite\",\"Savage (Remix)\"],\"legendgroup\":\"\",\"marker\":{\"color\":\"#636efa\",\"opacity\":[0.5,0.958,0.6699999999999999,0.542,0.526,0.5,0.5,0.5,0.9299999999999999,0.796,0.706,0.5,0.6599999999999999,0.848,0.752,0.5680000000000001,0.84,0.516,0.5,0.5,0.9339999999999999,0.5,0.5,0.8160000000000001,0.5,0.65,0.5,0.5,0.77,0.692,0.698,0.738,0.61,0.5,0.5,0.5,0.5,0.5,0.5,0.8,0.688,0.598,0.97,0.956,0.5,0.5,0.73,0.636,0.994,0.5,0.74,0.648,0.5,0.898,0.5,0.656,0.804,0.914,0.5,0.5,0.834,0.5,0.992,0.626,0.756,0.5,0.856,0.5,0.6719999999999999,0.892,0.938,0.5640000000000001,0.54,0.5,0.536,0.5,0.728,0.5,0.894,0.978,0.5,0.5,0.9319999999999999,0.558,0.514,0.638,0.5740000000000001,0.532,0.5,0.5,0.6579999999999999,0.5,0.5,0.5,0.5,0.624,0.618,0.998,0.972,0.5,0.5,0.924,0.844,0.838,0.8200000000000001,0.986,0.952,0.6639999999999999,0.5,0.5880000000000001,0.712,0.92,0.5,0.8220000000000001,0.5,0.884,0.766,0.762,0.788,0.782,0.5,0.792,0.55,0.86,0.6839999999999999,0.5,0.5,0.696,0.78,0.546,0.556,0.744,0.622,0.974,0.5,0.596,0.5,0.5,0.5,0.5,0.5,0.5,0.5,0.5,0.594,0.608,0.552,0.5,0.708,0.868,0.5,0.5,0.758,0.5,0.5,0.718,0.79,0.614,0.962,0.988,0.5,0.5,0.5,0.5,0.6,0.878,0.832,0.886,0.5,0.5,0.5,0.506,0.5,0.948,0.6819999999999999,0.976,0.5,0.6679999999999999,0.5,0.5,0.5,0.5,0.906,0.5,0.702,0.5,0.6759999999999999,0.5,0.64,0.528,0.5,0.628,0.634,0.8280000000000001,0.5,0.5,0.5,0.508,0.5,0.5,0.5,0.5,0.5,0.5,0.602,0.606,0.774,0.5,0.5,0.5,0.522,0.5,0.5,0.874,0.5,0.806,0.5,0.778,0.946,0.5,0.966,0.72,0.866,0.5,0.6739999999999999,0.5,0.5920000000000001,0.704,0.846,0.5,0.5,0.872,0.5760000000000001,0.5,0.5,0.5,0.5,0.5,0.6619999999999999,0.5,0.654,0.982,0.75,0.954,0.5,0.5,0.5,0.5,0.896,0.76,0.5,0.5,0.5,0.5,0.802,0.5720000000000001,0.5,0.5,0.5800000000000001,0.87,0.5,0.5,0.5,0.5,0.5,0.5,0.5,0.5,0.5,0.724,0.5,0.5,0.642,0.5,0.5,0.5,0.5,0.5,0.864,0.714,0.5,0.916,0.5,0.5,0.5,0.5,0.502,0.944,0.716,0.918,0.5,0.5660000000000001,0.694,0.5,0.5,0.5,0.5,0.734,0.5,0.5,0.882,0.63,0.604,0.5,0.5,0.5,0.5,0.912,0.5,0.53,0.5,0.646,0.5,0.754,0.5,0.5,0.652,0.964,0.5,0.5,0.732,0.926,0.5,0.852,0.5820000000000001,0.6779999999999999,0.5,0.5,0.88,0.56,0.548,0.5,0.5,0.83,0.5,0.736,0.5,0.8240000000000001,0.5,0.5,0.538,0.5,0.784,0.5780000000000001,0.5,0.5,0.504,0.5,0.858,0.6859999999999999,0.768,0.5,0.62,0.562,0.5,0.5,0.5,0.996,0.89,0.748,0.5,0.518,0.534,0.632,0.5,0.722,0.776,0.99,0.616,0.5,0.5,0.5,0.5,0.5,0.6799999999999999,0.5,0.764,0.942,0.5,0.5,0.876,0.812,0.5860000000000001,0.512,0.5,0.612,0.5,0.5,0.5,0.5,0.5,0.5,0.5,0.51,0.5,0.5,0.5,0.5,0.5,0.7,0.9359999999999999,0.5840000000000001,0.786,0.5,0.81,0.5700000000000001,0.5,0.746,0.794,0.5,0.5,0.5,0.85,0.5,0.5,0.5,0.5,0.5,0.5,0.524,0.5,0.5,0.902,0.5900000000000001,0.5,0.5,0.5,0.5,0.52,0.5,0.904,0.922,0.554,0.888,0.71,0.5,0.69,0.984,0.6659999999999999,0.5,0.5,0.928,0.5,0.5,0.798,0.772,0.808,0.98,0.968,0.5,0.5,0.5,0.8140000000000001,0.5,0.5,0.5,0.842,0.5,0.8260000000000001,0.8180000000000001,0.5,0.544,0.908,0.5,0.5,0.95,0.9,0.5,0.5,0.96,0.5,0.5,0.94,0.5,0.836,0.5,0.5,0.5,0.862,0.5,0.5,0.5,0.742,0.5,0.91,0.5,0.5,0.5,0.5,0.854,0.5,0.5,0.5,0.5,0.5,0.644,0.726,0.5,0.5,0.5],\"symbol\":\"circle\"},\"mode\":\"markers\",\"name\":\"\",\"orientation\":\"v\",\"showlegend\":false,\"type\":\"scatter\",\"x\":[\"1937\",\"1939\",\"1949\",\"1951\",\"1953\",\"1953\",\"1955\",\"1955\",\"1955\",\"1955\",\"1956\",\"1956\",\"1956\",\"1956\",\"1957\",\"1957\",\"1957\",\"1957\",\"1958\",\"1958\",\"1958\",\"1958\",\"1958\",\"1958\",\"1959\",\"1959\",\"1959\",\"1960\",\"1960\",\"1960\",\"1960\",\"1961\",\"1961\",\"1961\",\"1962\",\"1962\",\"1962\",\"1963\",\"1963\",\"1963\",\"1963\",\"1963\",\"1963\",\"1963\",\"1964\",\"1964\",\"1964\",\"1964\",\"1964\",\"1964\",\"1964\",\"1964\",\"1964\",\"1964\",\"1964\",\"1964\",\"1965\",\"1965\",\"1965\",\"1965\",\"1965\",\"1965\",\"1965\",\"1965\",\"1965\",\"1965\",\"1965\",\"1965\",\"1965\",\"1965\",\"1965\",\"1965\",\"1965\",\"1965\",\"1965\",\"1965\",\"1966\",\"1966\",\"1966\",\"1966\",\"1966\",\"1966\",\"1966\",\"1966\",\"1966\",\"1966\",\"1966\",\"1966\",\"1967\",\"1967\",\"1967\",\"1967\",\"1967\",\"1967\",\"1967\",\"1967\",\"1967\",\"1967\",\"1967\",\"1967\",\"1967\",\"1967\",\"1967\",\"1967\",\"1967\",\"1967\",\"1967\",\"1968\",\"1968\",\"1968\",\"1968\",\"1968\",\"1968\",\"1968\",\"1968\",\"1968\",\"1968\",\"1968\",\"1968\",\"1968\",\"1968\",\"1969\",\"1969\",\"1969\",\"1969\",\"1969\",\"1969\",\"1969\",\"1969\",\"1969\",\"1969\",\"1969\",\"1969\",\"1969\",\"1969\",\"1970\",\"1970\",\"1970\",\"1970\",\"1970\",\"1970\",\"1970\",\"1970\",\"1970\",\"1970\",\"1970\",\"1970\",\"1970\",\"1970\",\"1970\",\"1970\",\"1970\",\"1970\",\"1970\",\"1971\",\"1971\",\"1971\",\"1971\",\"1971\",\"1971\",\"1971\",\"1971\",\"1971\",\"1971\",\"1971\",\"1971\",\"1971\",\"1971\",\"1971\",\"1971\",\"1971\",\"1971\",\"1971\",\"1971\",\"1971\",\"1972\",\"1972\",\"1972\",\"1972\",\"1972\",\"1972\",\"1972\",\"1972\",\"1972\",\"1972\",\"1972\",\"1972\",\"1972\",\"1972\",\"1972\",\"1972\",\"1972\",\"1972\",\"1972\",\"1972\",\"1973\",\"1973\",\"1973\",\"1973\",\"1973\",\"1973\",\"1973\",\"1973\",\"1973\",\"1973\",\"1973\",\"1973\",\"1973\",\"1973\",\"1973\",\"1974\",\"1974\",\"1974\",\"1974\",\"1974\",\"1975\",\"1975\",\"1975\",\"1975\",\"1975\",\"1975\",\"1975\",\"1975\",\"1975\",\"1975\",\"1975\",\"1975\",\"1975\",\"1976\",\"1976\",\"1976\",\"1976\",\"1976\",\"1976\",\"1976\",\"1976\",\"1976\",\"1976\",\"1976\",\"1976\",\"1977\",\"1977\",\"1977\",\"1977\",\"1977\",\"1977\",\"1977\",\"1977\",\"1977\",\"1977\",\"1977\",\"1977\",\"1977\",\"1977\",\"1977\",\"1977\",\"1977\",\"1977\",\"1978\",\"1978\",\"1978\",\"1978\",\"1978\",\"1978\",\"1978\",\"1978\",\"1978\",\"1978\",\"1978\",\"1979\",\"1979\",\"1979\",\"1979\",\"1979\",\"1979\",\"1979\",\"1979\",\"1979\",\"1979\",\"1980\",\"1980\",\"1980\",\"1980\",\"1980\",\"1980\",\"1980\",\"1980\",\"1980\",\"1980\",\"1980\",\"1981\",\"1981\",\"1981\",\"1981\",\"1981\",\"1981\",\"1981\",\"1981\",\"1982\",\"1982\",\"1982\",\"1982\",\"1982\",\"1982\",\"1982\",\"1982\",\"1982\",\"1982\",\"1982\",\"1983\",\"1983\",\"1983\",\"1983\",\"1983\",\"1983\",\"1983\",\"1983\",\"1984\",\"1984\",\"1984\",\"1984\",\"1984\",\"1984\",\"1984\",\"1984\",\"1985\",\"1985\",\"1985\",\"1985\",\"1986\",\"1986\",\"1986\",\"1986\",\"1986\",\"1986\",\"1987\",\"1987\",\"1987\",\"1987\",\"1987\",\"1987\",\"1987\",\"1987\",\"1987\",\"1988\",\"1988\",\"1988\",\"1988\",\"1988\",\"1988\",\"1988\",\"1988\",\"1988\",\"1989\",\"1989\",\"1989\",\"1989\",\"1989\",\"1989\",\"1990\",\"1990\",\"1990\",\"1990\",\"1990\",\"1990\",\"1990\",\"1991\",\"1991\",\"1991\",\"1991\",\"1991\",\"1991\",\"1991\",\"1991\",\"1992\",\"1992\",\"1992\",\"1992\",\"1992\",\"1992\",\"1992\",\"1992\",\"1992\",\"1992\",\"1992\",\"1993\",\"1993\",\"1993\",\"1993\",\"1993\",\"1993\",\"1994\",\"1994\",\"1994\",\"1994\",\"1994\",\"1994\",\"1994\",\"1994\",\"1994\",\"1994\",\"1994\",\"1994\",\"1995\",\"1995\",\"1995\",\"1995\",\"1995\",\"1995\",\"1996\",\"1996\",\"1996\",\"1996\",\"1996\",\"1997\",\"1997\",\"1997\",\"1997\",\"1998\",\"1998\",\"1998\",\"1998\",\"1998\",\"1998\",\"1999\",\"1999\",\"1999\",\"1999\",\"1999\",\"2000\",\"2000\",\"2000\",\"2000\",\"2000\",\"2000\",\"2000\",\"2001\",\"2001\",\"2002\",\"2002\",\"2002\",\"2003\",\"2003\",\"2003\",\"2003\",\"2003\",\"2003\",\"2003\",\"2003\",\"2003\",\"2004\",\"2004\",\"2004\",\"2005\",\"2005\",\"2006\",\"2006\",\"2007\",\"2007\",\"2007\",\"2007\",\"2008\",\"2008\",\"2009\",\"2009\",\"2010\",\"2010\",\"2010\",\"2010\",\"2010\",\"2011\",\"2011\",\"2011\",\"2011\",\"2011\",\"2011\",\"2012\",\"2012\",\"2012\",\"2012\",\"2013\",\"2013\",\"2013\",\"2014\",\"2015\",\"2015\",\"2015\",\"2016\",\"2016\",\"2016\",\"2016\",\"2017\",\"2017\",\"2018\",\"2019\",\"2019\",\"2019\",\"2020\",\"2020\",\"2020\"],\"xaxis\":\"x\",\"y\":[481,21,165,229,237,318,425,277,35,102,147,299,170,76,124,216,80,242,370,347,33,432,323,92,268,175,492,283,115,154,151,131,195,331,461,463,418,257,366,100,156,201,15,22,342,316,135,182,3,375,130,176,471,51,499,172,98,43,420,269,83,483,4,187,122,447,72,413,164,54,31,218,230,254,232,315,136,297,53,11,317,341,34,221,243,181,213,234,284,271,171,280,306,310,313,188,191,1,14,250,455,38,78,81,90,7,24,168,376,206,144,40,349,89,473,58,117,119,106,109,393,104,225,70,158,312,314,152,110,227,222,128,189,13,410,202,294,322,474,462,338,334,476,479,203,196,224,255,146,66,408,364,121,386,445,141,105,193,19,6,309,263,496,295,200,61,84,57,350,258,345,247,344,26,159,12,498,166,348,361,495,293,47,274,149,275,162,259,180,236,261,186,183,86,333,273,262,246,278,264,260,371,387,470,199,197,113,407,446,336,239,266,374,63,464,97,253,111,27,404,17,140,67,298,163,302,204,148,77,311,449,64,212,286,351,400,355,301,169,272,173,9,125,23,472,304,396,324,52,120,325,401,402,434,99,214,252,365,210,65,251,369,356,340,399,300,460,276,358,138,381,427,179,389,450,343,354,414,68,143,287,42,363,442,288,385,249,28,142,41,429,217,153,435,466,477,291,133,339,398,59,185,198,395,360,452,454,44,289,235,403,177,305,123,353,494,174,18,406,421,134,37,433,74,209,161,265,319,60,220,226,457,256,85,335,132,397,88,431,491,231,321,108,211,412,493,248,282,71,157,116,437,190,219,377,475,480,2,55,126,415,241,233,184,292,139,112,5,192,328,390,372,467,416,160,352,118,29,327,430,62,94,207,244,459,194,308,296,468,489,458,330,270,245,368,405,422,394,484,150,32,208,107,320,95,215,419,127,103,423,380,424,75,359,453,279,409,448,478,238,439,337,49,205,285,388,303,382,240,469,48,39,223,56,145,379,155,8,167,281,411,36,440,378,101,114,96,10,16,444,326,290,93,443,392,307,79,332,87,91,500,228,46,482,486,25,50,441,426,20,391,488,30,485,82,267,367,456,69,436,362,465,129,357,45,373,417,383,451,73,487,428,497,384,490,178,137,329,346,438],\"yaxis\":\"y\"}],                        {\"height\":400,\"legend\":{\"tracegroupgap\":0},\"margin\":{\"b\":10,\"l\":10,\"r\":10,\"t\":10},\"plot_bgcolor\":\"white\",\"template\":{\"data\":{\"bar\":[{\"error_x\":{\"color\":\"#2a3f5f\"},\"error_y\":{\"color\":\"#2a3f5f\"},\"marker\":{\"line\":{\"color\":\"#E5ECF6\",\"width\":0.5},\"pattern\":{\"fillmode\":\"overlay\",\"size\":10,\"solidity\":0.2}},\"type\":\"bar\"}],\"barpolar\":[{\"marker\":{\"line\":{\"color\":\"#E5ECF6\",\"width\":0.5},\"pattern\":{\"fillmode\":\"overlay\",\"size\":10,\"solidity\":0.2}},\"type\":\"barpolar\"}],\"carpet\":[{\"aaxis\":{\"endlinecolor\":\"#2a3f5f\",\"gridcolor\":\"white\",\"linecolor\":\"white\",\"minorgridcolor\":\"white\",\"startlinecolor\":\"#2a3f5f\"},\"baxis\":{\"endlinecolor\":\"#2a3f5f\",\"gridcolor\":\"white\",\"linecolor\":\"white\",\"minorgridcolor\":\"white\",\"startlinecolor\":\"#2a3f5f\"},\"type\":\"carpet\"}],\"choropleth\":[{\"colorbar\":{\"outlinewidth\":0,\"ticks\":\"\"},\"type\":\"choropleth\"}],\"contour\":[{\"colorbar\":{\"outlinewidth\":0,\"ticks\":\"\"},\"colorscale\":[[0.0,\"#0d0887\"],[0.1111111111111111,\"#46039f\"],[0.2222222222222222,\"#7201a8\"],[0.3333333333333333,\"#9c179e\"],[0.4444444444444444,\"#bd3786\"],[0.5555555555555556,\"#d8576b\"],[0.6666666666666666,\"#ed7953\"],[0.7777777777777778,\"#fb9f3a\"],[0.8888888888888888,\"#fdca26\"],[1.0,\"#f0f921\"]],\"type\":\"contour\"}],\"contourcarpet\":[{\"colorbar\":{\"outlinewidth\":0,\"ticks\":\"\"},\"type\":\"contourcarpet\"}],\"heatmap\":[{\"colorbar\":{\"outlinewidth\":0,\"ticks\":\"\"},\"colorscale\":[[0.0,\"#0d0887\"],[0.1111111111111111,\"#46039f\"],[0.2222222222222222,\"#7201a8\"],[0.3333333333333333,\"#9c179e\"],[0.4444444444444444,\"#bd3786\"],[0.5555555555555556,\"#d8576b\"],[0.6666666666666666,\"#ed7953\"],[0.7777777777777778,\"#fb9f3a\"],[0.8888888888888888,\"#fdca26\"],[1.0,\"#f0f921\"]],\"type\":\"heatmap\"}],\"heatmapgl\":[{\"colorbar\":{\"outlinewidth\":0,\"ticks\":\"\"},\"colorscale\":[[0.0,\"#0d0887\"],[0.1111111111111111,\"#46039f\"],[0.2222222222222222,\"#7201a8\"],[0.3333333333333333,\"#9c179e\"],[0.4444444444444444,\"#bd3786\"],[0.5555555555555556,\"#d8576b\"],[0.6666666666666666,\"#ed7953\"],[0.7777777777777778,\"#fb9f3a\"],[0.8888888888888888,\"#fdca26\"],[1.0,\"#f0f921\"]],\"type\":\"heatmapgl\"}],\"histogram\":[{\"marker\":{\"pattern\":{\"fillmode\":\"overlay\",\"size\":10,\"solidity\":0.2}},\"type\":\"histogram\"}],\"histogram2d\":[{\"colorbar\":{\"outlinewidth\":0,\"ticks\":\"\"},\"colorscale\":[[0.0,\"#0d0887\"],[0.1111111111111111,\"#46039f\"],[0.2222222222222222,\"#7201a8\"],[0.3333333333333333,\"#9c179e\"],[0.4444444444444444,\"#bd3786\"],[0.5555555555555556,\"#d8576b\"],[0.6666666666666666,\"#ed7953\"],[0.7777777777777778,\"#fb9f3a\"],[0.8888888888888888,\"#fdca26\"],[1.0,\"#f0f921\"]],\"type\":\"histogram2d\"}],\"histogram2dcontour\":[{\"colorbar\":{\"outlinewidth\":0,\"ticks\":\"\"},\"colorscale\":[[0.0,\"#0d0887\"],[0.1111111111111111,\"#46039f\"],[0.2222222222222222,\"#7201a8\"],[0.3333333333333333,\"#9c179e\"],[0.4444444444444444,\"#bd3786\"],[0.5555555555555556,\"#d8576b\"],[0.6666666666666666,\"#ed7953\"],[0.7777777777777778,\"#fb9f3a\"],[0.8888888888888888,\"#fdca26\"],[1.0,\"#f0f921\"]],\"type\":\"histogram2dcontour\"}],\"mesh3d\":[{\"colorbar\":{\"outlinewidth\":0,\"ticks\":\"\"},\"type\":\"mesh3d\"}],\"parcoords\":[{\"line\":{\"colorbar\":{\"outlinewidth\":0,\"ticks\":\"\"}},\"type\":\"parcoords\"}],\"pie\":[{\"automargin\":true,\"type\":\"pie\"}],\"scatter\":[{\"marker\":{\"colorbar\":{\"outlinewidth\":0,\"ticks\":\"\"}},\"type\":\"scatter\"}],\"scatter3d\":[{\"line\":{\"colorbar\":{\"outlinewidth\":0,\"ticks\":\"\"}},\"marker\":{\"colorbar\":{\"outlinewidth\":0,\"ticks\":\"\"}},\"type\":\"scatter3d\"}],\"scattercarpet\":[{\"marker\":{\"colorbar\":{\"outlinewidth\":0,\"ticks\":\"\"}},\"type\":\"scattercarpet\"}],\"scattergeo\":[{\"marker\":{\"colorbar\":{\"outlinewidth\":0,\"ticks\":\"\"}},\"type\":\"scattergeo\"}],\"scattergl\":[{\"marker\":{\"colorbar\":{\"outlinewidth\":0,\"ticks\":\"\"}},\"type\":\"scattergl\"}],\"scattermapbox\":[{\"marker\":{\"colorbar\":{\"outlinewidth\":0,\"ticks\":\"\"}},\"type\":\"scattermapbox\"}],\"scatterpolar\":[{\"marker\":{\"colorbar\":{\"outlinewidth\":0,\"ticks\":\"\"}},\"type\":\"scatterpolar\"}],\"scatterpolargl\":[{\"marker\":{\"colorbar\":{\"outlinewidth\":0,\"ticks\":\"\"}},\"type\":\"scatterpolargl\"}],\"scatterternary\":[{\"marker\":{\"colorbar\":{\"outlinewidth\":0,\"ticks\":\"\"}},\"type\":\"scatterternary\"}],\"surface\":[{\"colorbar\":{\"outlinewidth\":0,\"ticks\":\"\"},\"colorscale\":[[0.0,\"#0d0887\"],[0.1111111111111111,\"#46039f\"],[0.2222222222222222,\"#7201a8\"],[0.3333333333333333,\"#9c179e\"],[0.4444444444444444,\"#bd3786\"],[0.5555555555555556,\"#d8576b\"],[0.6666666666666666,\"#ed7953\"],[0.7777777777777778,\"#fb9f3a\"],[0.8888888888888888,\"#fdca26\"],[1.0,\"#f0f921\"]],\"type\":\"surface\"}],\"table\":[{\"cells\":{\"fill\":{\"color\":\"#EBF0F8\"},\"line\":{\"color\":\"white\"}},\"header\":{\"fill\":{\"color\":\"#C8D4E3\"},\"line\":{\"color\":\"white\"}},\"type\":\"table\"}]},\"layout\":{\"annotationdefaults\":{\"arrowcolor\":\"#2a3f5f\",\"arrowhead\":0,\"arrowwidth\":1},\"autotypenumbers\":\"strict\",\"coloraxis\":{\"colorbar\":{\"outlinewidth\":0,\"ticks\":\"\"}},\"colorscale\":{\"diverging\":[[0,\"#8e0152\"],[0.1,\"#c51b7d\"],[0.2,\"#de77ae\"],[0.3,\"#f1b6da\"],[0.4,\"#fde0ef\"],[0.5,\"#f7f7f7\"],[0.6,\"#e6f5d0\"],[0.7,\"#b8e186\"],[0.8,\"#7fbc41\"],[0.9,\"#4d9221\"],[1,\"#276419\"]],\"sequential\":[[0.0,\"#0d0887\"],[0.1111111111111111,\"#46039f\"],[0.2222222222222222,\"#7201a8\"],[0.3333333333333333,\"#9c179e\"],[0.4444444444444444,\"#bd3786\"],[0.5555555555555556,\"#d8576b\"],[0.6666666666666666,\"#ed7953\"],[0.7777777777777778,\"#fb9f3a\"],[0.8888888888888888,\"#fdca26\"],[1.0,\"#f0f921\"]],\"sequentialminus\":[[0.0,\"#0d0887\"],[0.1111111111111111,\"#46039f\"],[0.2222222222222222,\"#7201a8\"],[0.3333333333333333,\"#9c179e\"],[0.4444444444444444,\"#bd3786\"],[0.5555555555555556,\"#d8576b\"],[0.6666666666666666,\"#ed7953\"],[0.7777777777777778,\"#fb9f3a\"],[0.8888888888888888,\"#fdca26\"],[1.0,\"#f0f921\"]]},\"colorway\":[\"#636efa\",\"#EF553B\",\"#00cc96\",\"#ab63fa\",\"#FFA15A\",\"#19d3f3\",\"#FF6692\",\"#B6E880\",\"#FF97FF\",\"#FECB52\"],\"font\":{\"color\":\"#2a3f5f\"},\"geo\":{\"bgcolor\":\"white\",\"lakecolor\":\"white\",\"landcolor\":\"#E5ECF6\",\"showlakes\":true,\"showland\":true,\"subunitcolor\":\"white\"},\"hoverlabel\":{\"align\":\"left\"},\"hovermode\":\"closest\",\"mapbox\":{\"style\":\"light\"},\"paper_bgcolor\":\"white\",\"plot_bgcolor\":\"#E5ECF6\",\"polar\":{\"angularaxis\":{\"gridcolor\":\"white\",\"linecolor\":\"white\",\"ticks\":\"\"},\"bgcolor\":\"#E5ECF6\",\"radialaxis\":{\"gridcolor\":\"white\",\"linecolor\":\"white\",\"ticks\":\"\"}},\"scene\":{\"xaxis\":{\"backgroundcolor\":\"#E5ECF6\",\"gridcolor\":\"white\",\"gridwidth\":2,\"linecolor\":\"white\",\"showbackground\":true,\"ticks\":\"\",\"zerolinecolor\":\"white\"},\"yaxis\":{\"backgroundcolor\":\"#E5ECF6\",\"gridcolor\":\"white\",\"gridwidth\":2,\"linecolor\":\"white\",\"showbackground\":true,\"ticks\":\"\",\"zerolinecolor\":\"white\"},\"zaxis\":{\"backgroundcolor\":\"#E5ECF6\",\"gridcolor\":\"white\",\"gridwidth\":2,\"linecolor\":\"white\",\"showbackground\":true,\"ticks\":\"\",\"zerolinecolor\":\"white\"}},\"shapedefaults\":{\"line\":{\"color\":\"#2a3f5f\"}},\"ternary\":{\"aaxis\":{\"gridcolor\":\"white\",\"linecolor\":\"white\",\"ticks\":\"\"},\"baxis\":{\"gridcolor\":\"white\",\"linecolor\":\"white\",\"ticks\":\"\"},\"bgcolor\":\"#E5ECF6\",\"caxis\":{\"gridcolor\":\"white\",\"linecolor\":\"white\",\"ticks\":\"\"}},\"title\":{\"x\":0.05},\"xaxis\":{\"automargin\":true,\"gridcolor\":\"white\",\"linecolor\":\"white\",\"ticks\":\"\",\"title\":{\"standoff\":15},\"zerolinecolor\":\"white\",\"zerolinewidth\":2},\"yaxis\":{\"automargin\":true,\"gridcolor\":\"white\",\"linecolor\":\"white\",\"ticks\":\"\",\"title\":{\"standoff\":15},\"zerolinecolor\":\"white\",\"zerolinewidth\":2}}},\"width\":800,\"xaxis\":{\"anchor\":\"y\",\"domain\":[0.0,1.0],\"title\":{\"text\":\"Song Release Year\"}},\"yaxis\":{\"anchor\":\"x\",\"domain\":[0.0,1.0],\"title\":{\"text\":\"Song Ranking\"}}},                        {\"responsive\": true}                    ).then(function(){\n",
       "                            \n",
       "var gd = document.getElementById('05995763-eecb-4444-9260-7b4770ab8e9f');\n",
       "var x = new MutationObserver(function (mutations, observer) {{\n",
       "        var display = window.getComputedStyle(gd).display;\n",
       "        if (!display || display === 'none') {{\n",
       "            console.log([gd, 'removed!']);\n",
       "            Plotly.purge(gd);\n",
       "            observer.disconnect();\n",
       "        }}\n",
       "}});\n",
       "\n",
       "// Listen for the removal of the full notebook cells\n",
       "var notebookContainer = gd.closest('#notebook-container');\n",
       "if (notebookContainer) {{\n",
       "    x.observe(notebookContainer, {childList: true});\n",
       "}}\n",
       "\n",
       "// Listen for the clearing of the current output cell\n",
       "var outputEl = gd.closest('.output');\n",
       "if (outputEl) {{\n",
       "    x.observe(outputEl, {childList: true});\n",
       "}}\n",
       "\n",
       "                        })                };                });            </script>        </div>"
      ]
     },
     "metadata": {},
     "output_type": "display_data"
    }
   ],
   "source": [
    "fig = px.scatter(\n",
    "    data_frame=vis_data, \n",
    "    x='Release Year', \n",
    "    y='Song Ranking',\n",
    "    opacity = np.max([1 - vis_data['Song Ranking']/500, np.repeat(.5, len(vis_data))], axis=0),\n",
    "    hover_name='Song Name',\n",
    "    hover_data=['Artist Name', 'Song Ranking']\n",
    ")\n",
    "fig = fig.update_layout(\n",
    "    plot_bgcolor=\"white\", \n",
    "    margin=dict(t=10, l=10, b=10, r=10),\n",
    "    xaxis_title='Song Release Year',\n",
    "    yaxis_title=\"Song Ranking\",\n",
    "    width = 800, height = 400\n",
    ")\n",
    "fig"
   ]
  },
  {
   "cell_type": "markdown",
   "id": "268b280b-6da5-4e69-935f-a9c85475c27e",
   "metadata": {},
   "source": [
    "Yup, this is about what I expected to see. Great Success! A lot of analysis can and should be done on this list, but my girlfriend wants me to help her clean up the house and my little brother told me he wanted to build some kind of dashboard with this. So look out for a dashboard I'll embed here soon!"
   ]
  },
  {
   "cell_type": "code",
   "execution_count": null,
   "id": "45fada4d-ea7f-45df-b9c0-ff1f9166a89d",
   "metadata": {},
   "outputs": [],
   "source": []
  }
 ],
 "metadata": {
  "kernelspec": {
   "display_name": "Python 3",
   "language": "python",
   "name": "python3"
  },
  "language_info": {
   "codemirror_mode": {
    "name": "ipython",
    "version": 3
   },
   "file_extension": ".py",
   "mimetype": "text/x-python",
   "name": "python",
   "nbconvert_exporter": "python",
   "pygments_lexer": "ipython3",
   "version": "3.8.5"
  }
 },
 "nbformat": 4,
 "nbformat_minor": 5
}
