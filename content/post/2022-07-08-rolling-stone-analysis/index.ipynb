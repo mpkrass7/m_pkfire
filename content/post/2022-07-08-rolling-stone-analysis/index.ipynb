{
 "cells": [
  {
   "cell_type": "markdown",
   "id": "c6fb23d4-39d3-4ea1-9e7f-64f2d3f06d53",
   "metadata": {},
   "source": [
    "---\n",
    "title: \"The 2021 Rolling Stone Top 500 Songs of All Time List has Become a Personality Trait\"\n",
    "author: Marshall Krassenstein\n",
    "date: '2022-07-09'\n",
    "slug: rolling-stone-analytics\n",
    "categories: []\n",
    "tags: [python, machine-learning, clustering, dimensionality-reduction, music, streamlit, scikit-learn, pipelines, regression, api, spotipy]\n",
    "subtitle: ''\n",
    "summary: 'Another post about the Rolling Stone Top 500 Songs of all time, now with advanced analytics and scikit-learn!'\n",
    "authors: [Marshall Krassenstein]\n",
    "featured: yes\n",
    "image:\n",
    "  caption: ''\n",
    "  focal_point: ''\n",
    "  preview_only: no\n",
    "projects: []\n",
    "---"
   ]
  },
  {
   "cell_type": "markdown",
   "id": "0e89bcbd",
   "metadata": {},
   "source": [
    "In a previous post, I ranted about ranking systems and webscraped data on a fascinating list - Rolling Stone Magazine's Top 500 Greatest Songs of All Time. In this post, I pull the data again using the Spotify API and perform more in depth analytics on it including supervised learning, dimensionality reduction, and unsupervised learning. I also use Streamlit to make a web application that allows you to explore the data and see the results in a more interactive way.\n",
    "\n",
    "## Background\n",
    "\n",
    "Released in September 2021, Rolling Stone attempted to rank what maybe shouldn't be ranked. Across all genres over the last 100 years, they ordered from 1 to 500 what they considered to be the best songs of all time. It was the first time they made a list like this in 17 years. In constructing the list, they surveyed a bunch of artists and music critics about their 50 favorite songs and aggregated the results to create their ranking. Possibly because of who they surveyed and possibly because of how they scored the survey results, the emerging list makes the listener stop and think, \"Really? Gasolina by Daddy Yankee is in the top 50?\". Yet for all of its spicy takes, it makes for an excellent ~34 hour playlist, and I've been obsessed with it for almost a year.\n",
    "\n",
    "You can read more about how they came up with this list on their [website](https://www.rollingstone.com/music/music-lists/best-songs-of-all-time-1224767/), but I site it below for reference:\n",
    "\n",
    "*In 2004, Rolling Stone published its list of the 500 Greatest Songs of All Time. It’s one of the most widely read stories in our history, viewed hundreds of millions of times on this site. But a lot has changed since 2004; back then the iPod was relatively new, and Billie Eilish was three years old. So we’ve decided to give the list a total reboot. To create the new version of the RS 500 we convened a poll of more than 250 artists, musicians, and producers — from Angelique Kidjo to Zedd, Sam Smith to Megan Thee Stallion, M. Ward to Bill Ward — as well as figures from the music industry and leading critics and journalists. They each sent in a ranked list of their top 50 songs, and we tabulated the results.*\n",
    "\n",
    "*Nearly 4,000 songs received votes. Where the 2004 version of the list was dominated by early rock and soul, the new edition contains more hip-hop, modern country, indie rock, Latin pop, reggae, and R&B. More than half the songs here — 254 in all — weren’t present on the old list, including a third of the Top 100. The result is a more expansive, inclusive vision of pop, music that keeps rewriting its history with every beat.*"
   ]
  },
  {
   "cell_type": "markdown",
   "id": "c686405c",
   "metadata": {},
   "source": [
    "### Why I scraped data from the Rolling Stone Top 500.. Twice\n",
    "\n",
    "In my last post I described how and why I scraped data from the Rolling Stone top 500. In my own words, \"I’ve been so into my playlist that I wanted to be more exact when I told people where certain songs ranked in the Rolling Stone top 500 list\". My methodology was to use the `BeautifulSoup` library to scrape the songs off of the website and then merge in other information like genre and track time using the now deprecated iTunes API. The result had a few misses in some information but overall was pretty thorough.\n",
    "\n",
    "So I pulled this dataset and I sent it to my little brother to run some kind of analysis on. After waiting a few months, I saw that someone else made the same playlist on Spotify that I had made in Youtube Music. For me this was a game changer, because Spotify API is free to use and returns high quality results. Besides filling in some missing records I had from linking my webscraping to the iTunes API, it also provided a bunch of quantitative metrics for evaluating and comparing music, such as the danceability and liveness of a given song.\n",
    "\n",
    "Below, I show just how easy this was to do. In a few lines I pull more data than I ever had before on all of the songs in the top 500 list as well as metadata about the corresponding artists and albums."
   ]
  },
  {
   "cell_type": "markdown",
   "id": "5535f5b5",
   "metadata": {},
   "source": [
    "## Pulling Data"
   ]
  },
  {
   "cell_type": "markdown",
   "id": "709c8346-8a16-4329-ae00-8d96e586878e",
   "metadata": {},
   "source": [
    "### Imports "
   ]
  },
  {
   "cell_type": "code",
   "execution_count": 6,
   "id": "2a2f3346-248e-452a-ab45-a68afa53843b",
   "metadata": {},
   "outputs": [],
   "source": [
    "import numpy as np\n",
    "import pandas as pd\n",
    "import spotipy\n",
    "from spotipy import SpotifyClientCredentials\n",
    "import tqdm\n",
    "import yaml\n",
    "\n",
    "from IPython.core.interactiveshell import InteractiveShell\n",
    "InteractiveShell.ast_node_interactivity = \"all\""
   ]
  },
  {
   "cell_type": "markdown",
   "id": "7a42689d-e287-4400-8f0a-d921d1ed1052",
   "metadata": {},
   "source": [
    "### Authentication"
   ]
  },
  {
   "cell_type": "code",
   "execution_count": 7,
   "id": "9ddbbddf-533e-4ca3-bbd6-111d4db01513",
   "metadata": {},
   "outputs": [],
   "source": [
    "with open('secrets.yaml') as file:\n",
    "    secrets = yaml.safe_load(file)\n",
    "    client_id = secrets.get('client_id')\n",
    "    client_secret = secrets.get('client_secret')\n",
    "\n",
    "client_credentials_manager = SpotifyClientCredentials(client_id=client_id, client_secret=client_secret)\n",
    "sp = spotipy.Spotify(client_credentials_manager = client_credentials_manager)"
   ]
  },
  {
   "cell_type": "markdown",
   "id": "90f202e4-1d6f-448f-b624-c4f311c33963",
   "metadata": {},
   "source": [
    "### Pull track URIs and general info"
   ]
  },
  {
   "cell_type": "code",
   "execution_count": 8,
   "id": "0e4f8ca8-ab03-4570-8fd4-297baadefdb3",
   "metadata": {},
   "outputs": [
    {
     "data": {
      "text/plain": [
       "{'added_at': '2021-09-15T18:48:41Z',\n",
       " 'added_by': {'external_urls': {'spotify': 'https://open.spotify.com/user/117710003'},\n",
       "  'href': 'https://api.spotify.com/v1/users/117710003',\n",
       "  'id': '117710003',\n",
       "  'type': 'user',\n",
       "  'uri': 'spotify:user:117710003'},\n",
       " 'is_local': False,\n",
       " 'primary_color': None,\n",
       " 'track': {'album': {'album_type': 'album',\n",
       "   'artists': [{'external_urls': {'spotify': 'https://open.spotify.com/artist/5K4W6rqBFWDnAN6FQUkS6x'},\n",
       "     'href': 'https://api.spotify.com/v1/artists/5K4W6rqBFWDnAN6FQUkS6x',\n",
       "     'id': '5K4W6rqBFWDnAN6FQUkS6x',\n",
       "     'name': 'Kanye West',\n",
       "     'type': 'artist',\n",
       "     'uri': 'spotify:artist:5K4W6rqBFWDnAN6FQUkS6x'}],\n",
       "   'available_markets': [],\n",
       "   'external_urls': {'spotify': 'https://open.spotify.com/album/5fPglEDz9YEwRgbLRvhCZy'},\n",
       "   'href': 'https://api.spotify.com/v1/albums/5fPglEDz9YEwRgbLRvhCZy',\n",
       "   'id': '5fPglEDz9YEwRgbLRvhCZy',\n",
       "   'images': [{'height': 640,\n",
       "     'url': 'https://i.scdn.co/image/ab67616d0000b2739bbd79106e510d13a9a5ec33',\n",
       "     'width': 640},\n",
       "    {'height': 300,\n",
       "     'url': 'https://i.scdn.co/image/ab67616d00001e029bbd79106e510d13a9a5ec33',\n",
       "     'width': 300},\n",
       "    {'height': 64,\n",
       "     'url': 'https://i.scdn.co/image/ab67616d000048519bbd79106e510d13a9a5ec33',\n",
       "     'width': 64}],\n",
       "   'name': 'Graduation',\n",
       "   'release_date': '2007-09-11',\n",
       "   'release_date_precision': 'day',\n",
       "   'total_tracks': 13,\n",
       "   'type': 'album',\n",
       "   'uri': 'spotify:album:5fPglEDz9YEwRgbLRvhCZy'},\n",
       "  'artists': [{'external_urls': {'spotify': 'https://open.spotify.com/artist/5K4W6rqBFWDnAN6FQUkS6x'},\n",
       "    'href': 'https://api.spotify.com/v1/artists/5K4W6rqBFWDnAN6FQUkS6x',\n",
       "    'id': '5K4W6rqBFWDnAN6FQUkS6x',\n",
       "    'name': 'Kanye West',\n",
       "    'type': 'artist',\n",
       "    'uri': 'spotify:artist:5K4W6rqBFWDnAN6FQUkS6x'}],\n",
       "  'available_markets': [],\n",
       "  'disc_number': 1,\n",
       "  'duration_ms': 311866,\n",
       "  'episode': False,\n",
       "  'explicit': True,\n",
       "  'external_ids': {'isrc': 'USUM70741299'},\n",
       "  'external_urls': {'spotify': 'https://open.spotify.com/track/4fzsfWzRhPawzqhX8Qt9F3'},\n",
       "  'href': 'https://api.spotify.com/v1/tracks/4fzsfWzRhPawzqhX8Qt9F3',\n",
       "  'id': '4fzsfWzRhPawzqhX8Qt9F3',\n",
       "  'is_local': False,\n",
       "  'name': 'Stronger',\n",
       "  'popularity': 31,\n",
       "  'preview_url': None,\n",
       "  'track': True,\n",
       "  'track_number': 3,\n",
       "  'type': 'track',\n",
       "  'uri': 'spotify:track:4fzsfWzRhPawzqhX8Qt9F3'},\n",
       " 'video_thumbnail': {'url': None}}"
      ]
     },
     "execution_count": 8,
     "metadata": {},
     "output_type": "execute_result"
    }
   ],
   "source": [
    "playlist_link = \"https://open.spotify.com/playlist/4EdmaJCUXvXsXJKXZGvj2r\"\n",
    "playlist_URI = playlist_link.split(\"/\")[-1].split(\"?\")[0]\n",
    "playlist_data = []\n",
    "for i in range(5):\n",
    "    playlist_data = playlist_data + sp.playlist_tracks(playlist_URI, offset=i*100)['items']\n",
    "track_uris = [x[\"track\"][\"uri\"] for x in playlist_data]\n",
    "\n",
    "# Print information from Stronger by Kanye West\n",
    "playlist_data[0]"
   ]
  },
  {
   "cell_type": "markdown",
   "id": "b841609d-f189-4dc5-a27e-2c07dec32b65",
   "metadata": {},
   "source": [
    "### Put Into a Neat Dataframe"
   ]
  },
  {
   "cell_type": "code",
   "execution_count": 9,
   "id": "5029bce1-a3e1-4b67-a0d7-08f3621172be",
   "metadata": {},
   "outputs": [
    {
     "name": "stderr",
     "output_type": "stream",
     "text": [
      "500it [02:10,  3.84it/s]\n"
     ]
    }
   ],
   "source": [
    "playlist_dict = {\n",
    "    \n",
    "    'rank': [],\n",
    "    'artist_name':[],\n",
    "    'track_name':[],\n",
    "    \n",
    "    # Track data\n",
    "    'track_popularity':[],\n",
    "    'track_duration_ms':[],\n",
    "    'track_is_explicit':[],\n",
    "    'track_number':[],\n",
    "    'track_danceability': [],\n",
    "    'track_energy': [],\n",
    "    'track_key': [],\n",
    "    'track_loudness': [],\n",
    "    'track_mode': [],\n",
    "    'track_speechiness': [],\n",
    "    'track_acousticness': [],\n",
    "    'track_instrumentalness': [],\n",
    "    'track_liveness': [],\n",
    "    'track_valence': [],\n",
    "    'track_tempo': [],\n",
    "    'track_time_signature': [],\n",
    "    'track_analysis_url': [],\n",
    "\n",
    "    # Album data\n",
    "    'album_name':[],\n",
    "    'album_release_date':[],\n",
    "    'album_release_year':[],\n",
    "    'album_image':[],\n",
    "    \n",
    "    # Artist data\n",
    "    'artist_genre':[],\n",
    "    'artist_popularity':[],\n",
    "    \n",
    "}\n",
    "for count, i in tqdm.tqdm(enumerate(playlist_data)):\n",
    "    \n",
    "    # Query for More Song Data\n",
    "    track_info = sp.audio_features(i['track']['id'])[0]\n",
    "\n",
    "    playlist_dict['rank'].append(500 - count)\n",
    "    playlist_dict['artist_name'].append(i['track']['artists'][0]['name'])\n",
    "    playlist_dict['track_name'].append(i['track']['name'])\n",
    "    \n",
    "\n",
    "    # Song Stuff\n",
    "    playlist_dict['track_popularity'].append(i['track']['popularity'])\n",
    "    playlist_dict['track_duration_ms'].append(i['track']['duration_ms'])\n",
    "    playlist_dict['track_is_explicit'].append(i['track']['explicit'])\n",
    "    playlist_dict['track_number'].append(i['track']['track_number'])\n",
    "    playlist_dict['track_danceability'].append(track_info['danceability'])\n",
    "    playlist_dict['track_energy'].append(track_info['energy'])\n",
    "    playlist_dict['track_key'].append(track_info['key'])\n",
    "    playlist_dict['track_loudness'].append(track_info['loudness'])\n",
    "    playlist_dict['track_mode'].append(track_info['mode'])\n",
    "    playlist_dict['track_speechiness'].append(track_info['speechiness'])\n",
    "    playlist_dict['track_acousticness'].append(track_info['acousticness'])\n",
    "    playlist_dict['track_instrumentalness'].append(track_info['instrumentalness'])\n",
    "    playlist_dict['track_liveness'].append(track_info['liveness'])\n",
    "    playlist_dict['track_valence'].append(track_info['valence'])\n",
    "    playlist_dict['track_tempo'].append(track_info['tempo'])\n",
    "    playlist_dict['track_time_signature'].append(track_info['time_signature'])\n",
    "    playlist_dict['track_analysis_url'].append(track_info['analysis_url'])\n",
    "    \n",
    "    \n",
    "    # Album Stuff\n",
    "    playlist_dict['album_name'].append(i['track']['album']['name'])\n",
    "    playlist_dict['album_release_date'].append(i['track']['album']['release_date'])\n",
    "    playlist_dict['album_release_year'].append(np.nan)\n",
    "    playlist_dict['album_image'].append(i['track']['album']['images'][0]['url'])\n",
    "    \n",
    "    # Artist Stuff\n",
    "    # Query More Artist Data\n",
    "    artist_uri = i[\"track\"][\"artists\"][0][\"uri\"]\n",
    "    artist_info = sp.artist(artist_uri)\n",
    "    artist_pop = artist_info[\"popularity\"]\n",
    "    artist_genres = artist_info[\"genres\"]\n",
    "    \n",
    "    playlist_dict['artist_genre'].append(', '.join(artist_info['genres']))\n",
    "    playlist_dict['artist_popularity'].append(artist_info['popularity'])\n",
    "\n"
   ]
  },
  {
   "cell_type": "code",
   "execution_count": 103,
   "id": "aaf2f1b2-47fe-4ec3-b7fe-2e60c3c061c2",
   "metadata": {},
   "outputs": [
    {
     "data": {
      "text/plain": [
       "0"
      ]
     },
     "execution_count": 103,
     "metadata": {},
     "output_type": "execute_result"
    }
   ],
   "source": [
    "\n",
    "df = (\n",
    "    pd.DataFrame(data = playlist_dict)\n",
    "    .assign(album_release_date = lambda x: pd.to_datetime(x.album_release_date))\n",
    "    .assign(album_release_year = lambda x: x.album_release_date.dt.year)\n",
    ")\n",
    "# Check for null values\n",
    "df.isna().any().sum()"
   ]
  },
  {
   "cell_type": "code",
   "execution_count": 11,
   "id": "dc773155-7e0b-406e-a1d0-fc3127df1106",
   "metadata": {},
   "outputs": [
    {
     "data": {
      "text/html": [
       "<div>\n",
       "<style scoped>\n",
       "    .dataframe tbody tr th:only-of-type {\n",
       "        vertical-align: middle;\n",
       "    }\n",
       "\n",
       "    .dataframe tbody tr th {\n",
       "        vertical-align: top;\n",
       "    }\n",
       "\n",
       "    .dataframe thead th {\n",
       "        text-align: right;\n",
       "    }\n",
       "</style>\n",
       "<table border=\"1\" class=\"dataframe\">\n",
       "  <thead>\n",
       "    <tr style=\"text-align: right;\">\n",
       "      <th></th>\n",
       "      <th>rank</th>\n",
       "      <th>artist_name</th>\n",
       "      <th>track_name</th>\n",
       "      <th>track_popularity</th>\n",
       "      <th>track_duration_ms</th>\n",
       "      <th>track_is_explicit</th>\n",
       "      <th>track_number</th>\n",
       "      <th>track_danceability</th>\n",
       "      <th>track_energy</th>\n",
       "      <th>track_key</th>\n",
       "      <th>...</th>\n",
       "      <th>track_valence</th>\n",
       "      <th>track_tempo</th>\n",
       "      <th>track_time_signature</th>\n",
       "      <th>track_analysis_url</th>\n",
       "      <th>album_name</th>\n",
       "      <th>album_release_date</th>\n",
       "      <th>album_release_year</th>\n",
       "      <th>album_image</th>\n",
       "      <th>artist_genre</th>\n",
       "      <th>artist_popularity</th>\n",
       "    </tr>\n",
       "  </thead>\n",
       "  <tbody>\n",
       "    <tr>\n",
       "      <th>0</th>\n",
       "      <td>500</td>\n",
       "      <td>Kanye West</td>\n",
       "      <td>Stronger</td>\n",
       "      <td>31</td>\n",
       "      <td>311866</td>\n",
       "      <td>True</td>\n",
       "      <td>3</td>\n",
       "      <td>0.617</td>\n",
       "      <td>0.717</td>\n",
       "      <td>10</td>\n",
       "      <td>...</td>\n",
       "      <td>0.490</td>\n",
       "      <td>103.992</td>\n",
       "      <td>4</td>\n",
       "      <td>https://api.spotify.com/v1/audio-analysis/4fzs...</td>\n",
       "      <td>Graduation</td>\n",
       "      <td>2007-09-11</td>\n",
       "      <td>2007</td>\n",
       "      <td>https://i.scdn.co/image/ab67616d0000b2739bbd79...</td>\n",
       "      <td>chicago rap, rap</td>\n",
       "      <td>90</td>\n",
       "    </tr>\n",
       "    <tr>\n",
       "      <th>1</th>\n",
       "      <td>499</td>\n",
       "      <td>The Supremes</td>\n",
       "      <td>Baby Love</td>\n",
       "      <td>67</td>\n",
       "      <td>158040</td>\n",
       "      <td>False</td>\n",
       "      <td>3</td>\n",
       "      <td>0.595</td>\n",
       "      <td>0.643</td>\n",
       "      <td>5</td>\n",
       "      <td>...</td>\n",
       "      <td>0.730</td>\n",
       "      <td>135.633</td>\n",
       "      <td>4</td>\n",
       "      <td>https://api.spotify.com/v1/audio-analysis/5uES...</td>\n",
       "      <td>Where Did Our Love Go</td>\n",
       "      <td>1964-08-31</td>\n",
       "      <td>1964</td>\n",
       "      <td>https://i.scdn.co/image/ab67616d0000b273d5ea12...</td>\n",
       "      <td>brill building pop, classic girl group, disco,...</td>\n",
       "      <td>61</td>\n",
       "    </tr>\n",
       "    <tr>\n",
       "      <th>2</th>\n",
       "      <td>498</td>\n",
       "      <td>Townes Van Zandt</td>\n",
       "      <td>Poncho &amp; Lefty</td>\n",
       "      <td>55</td>\n",
       "      <td>220573</td>\n",
       "      <td>False</td>\n",
       "      <td>8</td>\n",
       "      <td>0.636</td>\n",
       "      <td>0.277</td>\n",
       "      <td>1</td>\n",
       "      <td>...</td>\n",
       "      <td>0.685</td>\n",
       "      <td>133.363</td>\n",
       "      <td>4</td>\n",
       "      <td>https://api.spotify.com/v1/audio-analysis/6QXt...</td>\n",
       "      <td>The Late Great Townes Van Zandt</td>\n",
       "      <td>1972-01-01</td>\n",
       "      <td>1972</td>\n",
       "      <td>https://i.scdn.co/image/ab67616d0000b273cbf571...</td>\n",
       "      <td>alternative country, cosmic american, country ...</td>\n",
       "      <td>53</td>\n",
       "    </tr>\n",
       "    <tr>\n",
       "      <th>3</th>\n",
       "      <td>497</td>\n",
       "      <td>Lizzo</td>\n",
       "      <td>Truth Hurts</td>\n",
       "      <td>78</td>\n",
       "      <td>173325</td>\n",
       "      <td>True</td>\n",
       "      <td>13</td>\n",
       "      <td>0.715</td>\n",
       "      <td>0.624</td>\n",
       "      <td>4</td>\n",
       "      <td>...</td>\n",
       "      <td>0.412</td>\n",
       "      <td>158.087</td>\n",
       "      <td>4</td>\n",
       "      <td>https://api.spotify.com/v1/audio-analysis/3HWz...</td>\n",
       "      <td>Cuz I Love You (Super Deluxe)</td>\n",
       "      <td>2019-04-19</td>\n",
       "      <td>2019</td>\n",
       "      <td>https://i.scdn.co/image/ab67616d0000b2737bebcd...</td>\n",
       "      <td>dance pop, escape room, minnesota hip hop, pop...</td>\n",
       "      <td>80</td>\n",
       "    </tr>\n",
       "    <tr>\n",
       "      <th>4</th>\n",
       "      <td>496</td>\n",
       "      <td>Harry Nilsson</td>\n",
       "      <td>Without You</td>\n",
       "      <td>68</td>\n",
       "      <td>201000</td>\n",
       "      <td>False</td>\n",
       "      <td>6</td>\n",
       "      <td>0.381</td>\n",
       "      <td>0.186</td>\n",
       "      <td>4</td>\n",
       "      <td>...</td>\n",
       "      <td>0.142</td>\n",
       "      <td>65.058</td>\n",
       "      <td>4</td>\n",
       "      <td>https://api.spotify.com/v1/audio-analysis/6MrI...</td>\n",
       "      <td>Nilsson Schmilsson</td>\n",
       "      <td>1971-01-01</td>\n",
       "      <td>1971</td>\n",
       "      <td>https://i.scdn.co/image/ab67616d0000b2734df5b5...</td>\n",
       "      <td>art rock, brill building pop, classic rock, cl...</td>\n",
       "      <td>59</td>\n",
       "    </tr>\n",
       "  </tbody>\n",
       "</table>\n",
       "<p>5 rows × 26 columns</p>\n",
       "</div>"
      ],
      "text/plain": [
       "   rank       artist_name      track_name  track_popularity  \\\n",
       "0   500        Kanye West        Stronger                31   \n",
       "1   499      The Supremes       Baby Love                67   \n",
       "2   498  Townes Van Zandt  Poncho & Lefty                55   \n",
       "3   497             Lizzo     Truth Hurts                78   \n",
       "4   496     Harry Nilsson     Without You                68   \n",
       "\n",
       "   track_duration_ms  track_is_explicit  track_number  track_danceability  \\\n",
       "0             311866               True             3               0.617   \n",
       "1             158040              False             3               0.595   \n",
       "2             220573              False             8               0.636   \n",
       "3             173325               True            13               0.715   \n",
       "4             201000              False             6               0.381   \n",
       "\n",
       "   track_energy  track_key  ...  track_valence  track_tempo  \\\n",
       "0         0.717         10  ...          0.490      103.992   \n",
       "1         0.643          5  ...          0.730      135.633   \n",
       "2         0.277          1  ...          0.685      133.363   \n",
       "3         0.624          4  ...          0.412      158.087   \n",
       "4         0.186          4  ...          0.142       65.058   \n",
       "\n",
       "   track_time_signature                                 track_analysis_url  \\\n",
       "0                     4  https://api.spotify.com/v1/audio-analysis/4fzs...   \n",
       "1                     4  https://api.spotify.com/v1/audio-analysis/5uES...   \n",
       "2                     4  https://api.spotify.com/v1/audio-analysis/6QXt...   \n",
       "3                     4  https://api.spotify.com/v1/audio-analysis/3HWz...   \n",
       "4                     4  https://api.spotify.com/v1/audio-analysis/6MrI...   \n",
       "\n",
       "                        album_name  album_release_date  album_release_year  \\\n",
       "0                       Graduation          2007-09-11                2007   \n",
       "1            Where Did Our Love Go          1964-08-31                1964   \n",
       "2  The Late Great Townes Van Zandt          1972-01-01                1972   \n",
       "3    Cuz I Love You (Super Deluxe)          2019-04-19                2019   \n",
       "4               Nilsson Schmilsson          1971-01-01                1971   \n",
       "\n",
       "                                         album_image  \\\n",
       "0  https://i.scdn.co/image/ab67616d0000b2739bbd79...   \n",
       "1  https://i.scdn.co/image/ab67616d0000b273d5ea12...   \n",
       "2  https://i.scdn.co/image/ab67616d0000b273cbf571...   \n",
       "3  https://i.scdn.co/image/ab67616d0000b2737bebcd...   \n",
       "4  https://i.scdn.co/image/ab67616d0000b2734df5b5...   \n",
       "\n",
       "                                        artist_genre artist_popularity  \n",
       "0                                   chicago rap, rap                90  \n",
       "1  brill building pop, classic girl group, disco,...                61  \n",
       "2  alternative country, cosmic american, country ...                53  \n",
       "3  dance pop, escape room, minnesota hip hop, pop...                80  \n",
       "4  art rock, brill building pop, classic rock, cl...                59  \n",
       "\n",
       "[5 rows x 26 columns]"
      ]
     },
     "execution_count": 11,
     "metadata": {},
     "output_type": "execute_result"
    },
    {
     "data": {
      "text/html": [
       "<div>\n",
       "<style scoped>\n",
       "    .dataframe tbody tr th:only-of-type {\n",
       "        vertical-align: middle;\n",
       "    }\n",
       "\n",
       "    .dataframe tbody tr th {\n",
       "        vertical-align: top;\n",
       "    }\n",
       "\n",
       "    .dataframe thead th {\n",
       "        text-align: right;\n",
       "    }\n",
       "</style>\n",
       "<table border=\"1\" class=\"dataframe\">\n",
       "  <thead>\n",
       "    <tr style=\"text-align: right;\">\n",
       "      <th></th>\n",
       "      <th>rank</th>\n",
       "      <th>artist_name</th>\n",
       "      <th>track_name</th>\n",
       "      <th>track_popularity</th>\n",
       "      <th>track_duration_ms</th>\n",
       "      <th>track_is_explicit</th>\n",
       "      <th>track_number</th>\n",
       "      <th>track_danceability</th>\n",
       "      <th>track_energy</th>\n",
       "      <th>track_key</th>\n",
       "      <th>...</th>\n",
       "      <th>track_valence</th>\n",
       "      <th>track_tempo</th>\n",
       "      <th>track_time_signature</th>\n",
       "      <th>track_analysis_url</th>\n",
       "      <th>album_name</th>\n",
       "      <th>album_release_date</th>\n",
       "      <th>album_release_year</th>\n",
       "      <th>album_image</th>\n",
       "      <th>artist_genre</th>\n",
       "      <th>artist_popularity</th>\n",
       "    </tr>\n",
       "  </thead>\n",
       "  <tbody>\n",
       "    <tr>\n",
       "      <th>495</th>\n",
       "      <td>5</td>\n",
       "      <td>Nirvana</td>\n",
       "      <td>Smells Like Teen Spirit</td>\n",
       "      <td>14</td>\n",
       "      <td>301920</td>\n",
       "      <td>False</td>\n",
       "      <td>1</td>\n",
       "      <td>0.502</td>\n",
       "      <td>0.912</td>\n",
       "      <td>1</td>\n",
       "      <td>...</td>\n",
       "      <td>0.720</td>\n",
       "      <td>116.761</td>\n",
       "      <td>4</td>\n",
       "      <td>https://api.spotify.com/v1/audio-analysis/1f3y...</td>\n",
       "      <td>Nevermind (Deluxe Edition)</td>\n",
       "      <td>1991-09-26</td>\n",
       "      <td>1991</td>\n",
       "      <td>https://i.scdn.co/image/ab67616d0000b27328a90d...</td>\n",
       "      <td>alternative rock, grunge, permanent wave, rock</td>\n",
       "      <td>80</td>\n",
       "    </tr>\n",
       "    <tr>\n",
       "      <th>496</th>\n",
       "      <td>4</td>\n",
       "      <td>Bob Dylan</td>\n",
       "      <td>Like a Rolling Stone</td>\n",
       "      <td>71</td>\n",
       "      <td>369600</td>\n",
       "      <td>False</td>\n",
       "      <td>1</td>\n",
       "      <td>0.482</td>\n",
       "      <td>0.721</td>\n",
       "      <td>0</td>\n",
       "      <td>...</td>\n",
       "      <td>0.557</td>\n",
       "      <td>95.263</td>\n",
       "      <td>4</td>\n",
       "      <td>https://api.spotify.com/v1/audio-analysis/3AhX...</td>\n",
       "      <td>Highway 61 Revisited</td>\n",
       "      <td>1965-08-30</td>\n",
       "      <td>1965</td>\n",
       "      <td>https://i.scdn.co/image/ab67616d0000b27341720e...</td>\n",
       "      <td>classic rock, country rock, folk, folk rock, r...</td>\n",
       "      <td>70</td>\n",
       "    </tr>\n",
       "    <tr>\n",
       "      <th>497</th>\n",
       "      <td>3</td>\n",
       "      <td>Sam Cooke</td>\n",
       "      <td>A Change Is Gonna Come</td>\n",
       "      <td>66</td>\n",
       "      <td>191160</td>\n",
       "      <td>False</td>\n",
       "      <td>7</td>\n",
       "      <td>0.212</td>\n",
       "      <td>0.383</td>\n",
       "      <td>10</td>\n",
       "      <td>...</td>\n",
       "      <td>0.452</td>\n",
       "      <td>173.790</td>\n",
       "      <td>3</td>\n",
       "      <td>https://api.spotify.com/v1/audio-analysis/0KOE...</td>\n",
       "      <td>Ain't That Good News</td>\n",
       "      <td>1964-03-01</td>\n",
       "      <td>1964</td>\n",
       "      <td>https://i.scdn.co/image/ab67616d0000b2737329db...</td>\n",
       "      <td>adult standards, brill building pop, classic s...</td>\n",
       "      <td>64</td>\n",
       "    </tr>\n",
       "    <tr>\n",
       "      <th>498</th>\n",
       "      <td>2</td>\n",
       "      <td>Public Enemy</td>\n",
       "      <td>Fight The Power</td>\n",
       "      <td>57</td>\n",
       "      <td>282640</td>\n",
       "      <td>True</td>\n",
       "      <td>20</td>\n",
       "      <td>0.797</td>\n",
       "      <td>0.582</td>\n",
       "      <td>2</td>\n",
       "      <td>...</td>\n",
       "      <td>0.415</td>\n",
       "      <td>105.974</td>\n",
       "      <td>4</td>\n",
       "      <td>https://api.spotify.com/v1/audio-analysis/1yo1...</td>\n",
       "      <td>Fear Of A Black Planet</td>\n",
       "      <td>1990-04-10</td>\n",
       "      <td>1990</td>\n",
       "      <td>https://i.scdn.co/image/ab67616d0000b2732e3d1d...</td>\n",
       "      <td>conscious hip hop, east coast hip hop, gangste...</td>\n",
       "      <td>56</td>\n",
       "    </tr>\n",
       "    <tr>\n",
       "      <th>499</th>\n",
       "      <td>1</td>\n",
       "      <td>Aretha Franklin</td>\n",
       "      <td>Respect</td>\n",
       "      <td>73</td>\n",
       "      <td>147600</td>\n",
       "      <td>False</td>\n",
       "      <td>1</td>\n",
       "      <td>0.805</td>\n",
       "      <td>0.558</td>\n",
       "      <td>0</td>\n",
       "      <td>...</td>\n",
       "      <td>0.965</td>\n",
       "      <td>114.950</td>\n",
       "      <td>4</td>\n",
       "      <td>https://api.spotify.com/v1/audio-analysis/7s25...</td>\n",
       "      <td>I Never Loved a Man the Way I Love You</td>\n",
       "      <td>1967-03-10</td>\n",
       "      <td>1967</td>\n",
       "      <td>https://i.scdn.co/image/ab67616d0000b2736aa931...</td>\n",
       "      <td>classic soul, jazz blues, memphis soul, soul, ...</td>\n",
       "      <td>68</td>\n",
       "    </tr>\n",
       "  </tbody>\n",
       "</table>\n",
       "<p>5 rows × 26 columns</p>\n",
       "</div>"
      ],
      "text/plain": [
       "     rank      artist_name               track_name  track_popularity  \\\n",
       "495     5          Nirvana  Smells Like Teen Spirit                14   \n",
       "496     4        Bob Dylan     Like a Rolling Stone                71   \n",
       "497     3        Sam Cooke   A Change Is Gonna Come                66   \n",
       "498     2     Public Enemy          Fight The Power                57   \n",
       "499     1  Aretha Franklin                  Respect                73   \n",
       "\n",
       "     track_duration_ms  track_is_explicit  track_number  track_danceability  \\\n",
       "495             301920              False             1               0.502   \n",
       "496             369600              False             1               0.482   \n",
       "497             191160              False             7               0.212   \n",
       "498             282640               True            20               0.797   \n",
       "499             147600              False             1               0.805   \n",
       "\n",
       "     track_energy  track_key  ...  track_valence  track_tempo  \\\n",
       "495         0.912          1  ...          0.720      116.761   \n",
       "496         0.721          0  ...          0.557       95.263   \n",
       "497         0.383         10  ...          0.452      173.790   \n",
       "498         0.582          2  ...          0.415      105.974   \n",
       "499         0.558          0  ...          0.965      114.950   \n",
       "\n",
       "     track_time_signature                                 track_analysis_url  \\\n",
       "495                     4  https://api.spotify.com/v1/audio-analysis/1f3y...   \n",
       "496                     4  https://api.spotify.com/v1/audio-analysis/3AhX...   \n",
       "497                     3  https://api.spotify.com/v1/audio-analysis/0KOE...   \n",
       "498                     4  https://api.spotify.com/v1/audio-analysis/1yo1...   \n",
       "499                     4  https://api.spotify.com/v1/audio-analysis/7s25...   \n",
       "\n",
       "                                 album_name  album_release_date  \\\n",
       "495              Nevermind (Deluxe Edition)          1991-09-26   \n",
       "496                    Highway 61 Revisited          1965-08-30   \n",
       "497                    Ain't That Good News          1964-03-01   \n",
       "498                  Fear Of A Black Planet          1990-04-10   \n",
       "499  I Never Loved a Man the Way I Love You          1967-03-10   \n",
       "\n",
       "     album_release_year                                        album_image  \\\n",
       "495                1991  https://i.scdn.co/image/ab67616d0000b27328a90d...   \n",
       "496                1965  https://i.scdn.co/image/ab67616d0000b27341720e...   \n",
       "497                1964  https://i.scdn.co/image/ab67616d0000b2737329db...   \n",
       "498                1990  https://i.scdn.co/image/ab67616d0000b2732e3d1d...   \n",
       "499                1967  https://i.scdn.co/image/ab67616d0000b2736aa931...   \n",
       "\n",
       "                                          artist_genre artist_popularity  \n",
       "495     alternative rock, grunge, permanent wave, rock                80  \n",
       "496  classic rock, country rock, folk, folk rock, r...                70  \n",
       "497  adult standards, brill building pop, classic s...                64  \n",
       "498  conscious hip hop, east coast hip hop, gangste...                56  \n",
       "499  classic soul, jazz blues, memphis soul, soul, ...                68  \n",
       "\n",
       "[5 rows x 26 columns]"
      ]
     },
     "execution_count": 11,
     "metadata": {},
     "output_type": "execute_result"
    }
   ],
   "source": [
    "df.head()\n",
    "df.tail()\n",
    "df.to_csv('data/spotify_music_output.csv',index=False)"
   ]
  },
  {
   "cell_type": "markdown",
   "id": "885d1d21-84e8-455c-af14-d2d6ad5c6bee",
   "metadata": {},
   "source": [
    "## The Measures We Have"
   ]
  },
  {
   "cell_type": "markdown",
   "id": "69f899cb-ebbf-4faa-830f-c6121d3b91dd",
   "metadata": {},
   "source": [
    "In less than two minutes, we have complete data on all 500 songs in the list! I'm almost upset with how easy this was compared with scraping the data from Rolling Stone Magazine. Great job Spotify. Still, we might wonder why I bothered to gather this info given I already did it before even if it is cleaner and more reliable. But as I said above, the other reason I went through the trouble to pull this was for the beautiful quantitative measures we can get for each song on the list. I'll show why these are so useful for my purposes in a little bit. As an example of what we have, below I show some new measures we have for stronger. "
   ]
  },
  {
   "cell_type": "code",
   "execution_count": 12,
   "id": "1b7c3fa6-a53a-42ee-a6d4-7864d7134e80",
   "metadata": {},
   "outputs": [
    {
     "data": {
      "text/plain": [
       "{'danceability': 0.617,\n",
       " 'energy': 0.717,\n",
       " 'key': 10,\n",
       " 'loudness': -7.858,\n",
       " 'mode': 0,\n",
       " 'speechiness': 0.153,\n",
       " 'acousticness': 0.00564,\n",
       " 'instrumentalness': 0,\n",
       " 'liveness': 0.408,\n",
       " 'valence': 0.49,\n",
       " 'tempo': 103.992,\n",
       " 'type': 'audio_features',\n",
       " 'id': '4fzsfWzRhPawzqhX8Qt9F3',\n",
       " 'uri': 'spotify:track:4fzsfWzRhPawzqhX8Qt9F3',\n",
       " 'track_href': 'https://api.spotify.com/v1/tracks/4fzsfWzRhPawzqhX8Qt9F3',\n",
       " 'analysis_url': 'https://api.spotify.com/v1/audio-analysis/4fzsfWzRhPawzqhX8Qt9F3',\n",
       " 'duration_ms': 311867,\n",
       " 'time_signature': 4}"
      ]
     },
     "execution_count": 12,
     "metadata": {},
     "output_type": "execute_result"
    }
   ],
   "source": [
    "sp.audio_features(track_uris[0])[0]"
   ]
  },
  {
   "cell_type": "markdown",
   "id": "5ea7ef93-4fb0-451b-944b-790aff16dcd7",
   "metadata": {},
   "source": [
    "Some explanation of what some of these metrics is worthwhile. I pulled these definitions straight from the spotify documentation\n",
    "\n",
    "- acousticness: A confidence measure from 0.0 to 1.0 of whether the track is acoustic. 1.0 represents high confidence the track is acoustic. \n",
    "\n",
    "- danceability: Danceability describes how suitable a track is for dancing based on a combination of musical elements including tempo, rhythm stability, beat strength, and overall regularity. A value of 0.0 is least danceable and 1.0 is most danceable.\n",
    "\n",
    "- energy: Energy is a measure from 0.0 to 1.0 and represents a perceptual measure of intensity and activity. Typically, energetic tracks feel fast, loud, and noisy. For example, death metal has high energy, while a Bach prelude scores low on the scale. Perceptual features contributing to this attribute include dynamic range, perceived loudness, timbre, onset rate, and general entropy.\n",
    "\n",
    "- instrumentalness: Predicts whether a track contains no vocals. \"Ooh\" and \"aah\" sounds are treated as instrumental in this context. Rap or spoken word tracks are clearly \"vocal\". The closer the instrumentalness value is to 1.0, the greater likelihood the track contains no vocal content. Values above 0.5 are intended to represent instrumental tracks, but confidence is higher as the value approaches 1.0.\n",
    "\n",
    "- key: The key the track is in. Integers map to pitches using standard Pitch Class notation. E.g. 0 = C, 1 = C♯/D♭, 2 = D, and so on. If no key was detected, the value is -1. >= -1, <= 11\n",
    "\n",
    "- liveness: Detects the presence of an audience in the recording. Higher liveness values represent an increased probability that the track was performed live. A value above 0.8 provides strong likelihood that the track is live.\n",
    "\n",
    "- loudness: The overall loudness of a track in decibels (dB). Loudness values are averaged across the entire track and are useful for comparing relative loudness of tracks. Loudness is the quality of a sound that is the primary psychological correlate of physical strength (amplitude). Values typically range between -60 and 0 db.\n",
    "\n",
    "- mode: Mode indicates the modality (major or minor) of a track, the type of scale from which its melodic content is derived. Major is represented by 1 and minor is 0.\n",
    "\n",
    "- speechiness: Speechiness detects the presence of spoken words in a track. The more exclusively speech-like the recording (e.g. talk show, audio book, poetry), the closer to 1.0 the attribute value. Values above 0.66 describe tracks that are probably made entirely of spoken words. Values between 0.33 and 0.66 describe tracks that may contain both music and speech, either in sections or layered, including such cases as rap music. Values below 0.33 most likely represent music and other non-speech-like tracks.\n",
    "\n",
    "- tempo: The overall estimated tempo of a track in beats per minute (BPM). In musical terminology, tempo is the speed or pace of a given piece and derives directly from the average beat duration.\n",
    "\n",
    "- time_signature: An estimated time signature. The time signature (meter) is a notational convention to specify how many beats are in each bar (or measure). The time signature ranges from 3 to 7 indicating time signatures of \"3/4\", to \"7/4\". >= 3, <= 7\n",
    "\n",
    "- valence: A measure from 0.0 to 1.0 describing the musical positiveness conveyed by a track. Tracks with high valence sound more positive (e.g. happy, cheerful, euphoric), while tracks with low valence sound more negative (e.g. sad, depressed, angry).\n"
   ]
  },
  {
   "cell_type": "markdown",
   "id": "0881b412",
   "metadata": {},
   "source": [
    "### Some Quick EDA\n",
    "\n",
    "Alright now that I have my dataset, I'd like to answer some important questions. I'm currently writing this piece on July 9, 2022 and I'm wondering which tracks and which artists are most and least popular right now."
   ]
  },
  {
   "cell_type": "code",
   "execution_count": 13,
   "id": "b3faa345-40fc-4a06-8f48-2d4b26af3c3d",
   "metadata": {},
   "outputs": [
    {
     "data": {
      "text/html": [
       "<div>\n",
       "<style scoped>\n",
       "    .dataframe tbody tr th:only-of-type {\n",
       "        vertical-align: middle;\n",
       "    }\n",
       "\n",
       "    .dataframe tbody tr th {\n",
       "        vertical-align: top;\n",
       "    }\n",
       "\n",
       "    .dataframe thead th {\n",
       "        text-align: right;\n",
       "    }\n",
       "</style>\n",
       "<table border=\"1\" class=\"dataframe\">\n",
       "  <thead>\n",
       "    <tr style=\"text-align: right;\">\n",
       "      <th></th>\n",
       "      <th>track_name</th>\n",
       "      <th>artist_name</th>\n",
       "      <th>track_popularity</th>\n",
       "      <th>artist_popularity</th>\n",
       "      <th>rank</th>\n",
       "    </tr>\n",
       "  </thead>\n",
       "  <tbody>\n",
       "    <tr>\n",
       "      <th>440</th>\n",
       "      <td>Running Up That Hill (A Deal With God)</td>\n",
       "      <td>Kate Bush</td>\n",
       "      <td>97</td>\n",
       "      <td>82</td>\n",
       "      <td>60</td>\n",
       "    </tr>\n",
       "    <tr>\n",
       "      <th>181</th>\n",
       "      <td>Everybody Wants To Rule The World</td>\n",
       "      <td>Tears For Fears</td>\n",
       "      <td>86</td>\n",
       "      <td>71</td>\n",
       "      <td>319</td>\n",
       "    </tr>\n",
       "    <tr>\n",
       "      <th>195</th>\n",
       "      <td>Every Breath You Take</td>\n",
       "      <td>The Police</td>\n",
       "      <td>86</td>\n",
       "      <td>73</td>\n",
       "      <td>305</td>\n",
       "    </tr>\n",
       "    <tr>\n",
       "      <th>143</th>\n",
       "      <td>Blank Space</td>\n",
       "      <td>Taylor Swift</td>\n",
       "      <td>85</td>\n",
       "      <td>92</td>\n",
       "      <td>357</td>\n",
       "    </tr>\n",
       "    <tr>\n",
       "      <th>122</th>\n",
       "      <td>Mr. Brightside</td>\n",
       "      <td>The Killers</td>\n",
       "      <td>85</td>\n",
       "      <td>76</td>\n",
       "      <td>378</td>\n",
       "    </tr>\n",
       "    <tr>\n",
       "      <th>...</th>\n",
       "      <td>...</td>\n",
       "      <td>...</td>\n",
       "      <td>...</td>\n",
       "      <td>...</td>\n",
       "      <td>...</td>\n",
       "    </tr>\n",
       "    <tr>\n",
       "      <th>486</th>\n",
       "      <td>Waterloo Sunset</td>\n",
       "      <td>The Kinks</td>\n",
       "      <td>3</td>\n",
       "      <td>65</td>\n",
       "      <td>14</td>\n",
       "    </tr>\n",
       "    <tr>\n",
       "      <th>259</th>\n",
       "      <td>The Humpty Dance</td>\n",
       "      <td>Digital Underground</td>\n",
       "      <td>3</td>\n",
       "      <td>54</td>\n",
       "      <td>241</td>\n",
       "    </tr>\n",
       "    <tr>\n",
       "      <th>50</th>\n",
       "      <td>Powderfinger - 2016 Remaster</td>\n",
       "      <td>Neil Young</td>\n",
       "      <td>2</td>\n",
       "      <td>60</td>\n",
       "      <td>450</td>\n",
       "    </tr>\n",
       "    <tr>\n",
       "      <th>105</th>\n",
       "      <td>Planet Rock</td>\n",
       "      <td>Afrika Bambaataa</td>\n",
       "      <td>1</td>\n",
       "      <td>42</td>\n",
       "      <td>395</td>\n",
       "    </tr>\n",
       "    <tr>\n",
       "      <th>380</th>\n",
       "      <td>Oh Bondage! Up Yours!</td>\n",
       "      <td>X-Ray Spex</td>\n",
       "      <td>0</td>\n",
       "      <td>36</td>\n",
       "      <td>120</td>\n",
       "    </tr>\n",
       "  </tbody>\n",
       "</table>\n",
       "<p>500 rows × 5 columns</p>\n",
       "</div>"
      ],
      "text/plain": [
       "                                 track_name          artist_name  \\\n",
       "440  Running Up That Hill (A Deal With God)            Kate Bush   \n",
       "181       Everybody Wants To Rule The World      Tears For Fears   \n",
       "195                   Every Breath You Take           The Police   \n",
       "143                             Blank Space         Taylor Swift   \n",
       "122                          Mr. Brightside          The Killers   \n",
       "..                                      ...                  ...   \n",
       "486                         Waterloo Sunset            The Kinks   \n",
       "259                        The Humpty Dance  Digital Underground   \n",
       "50             Powderfinger - 2016 Remaster           Neil Young   \n",
       "105                             Planet Rock     Afrika Bambaataa   \n",
       "380                   Oh Bondage! Up Yours!           X-Ray Spex   \n",
       "\n",
       "     track_popularity  artist_popularity  rank  \n",
       "440                97                 82    60  \n",
       "181                86                 71   319  \n",
       "195                86                 73   305  \n",
       "143                85                 92   357  \n",
       "122                85                 76   378  \n",
       "..                ...                ...   ...  \n",
       "486                 3                 65    14  \n",
       "259                 3                 54   241  \n",
       "50                  2                 60   450  \n",
       "105                 1                 42   395  \n",
       "380                 0                 36   120  \n",
       "\n",
       "[500 rows x 5 columns]"
      ]
     },
     "execution_count": 13,
     "metadata": {},
     "output_type": "execute_result"
    }
   ],
   "source": [
    "(\n",
    "    df[['track_name', 'artist_name', 'track_popularity', 'artist_popularity', 'rank']]\n",
    "    .sort_values(by='track_popularity', ascending=False)\n",
    ")"
   ]
  },
  {
   "cell_type": "markdown",
   "id": "3814c988-11a6-4f26-a53b-66a7f1a5371d",
   "metadata": {},
   "source": [
    "Man, Kate Bush's Running up that hill as number 1. Given the recent release of [season 4 of Stranger Things](https://www.theringer.com/music/2022/6/7/23157824/kate-bush-running-up-that-hill-stranger-things-billboard-charts), that tracks.\n",
    "\n",
    "\n",
    "As a Neil Young fan, I'm kind of sad to see Powder Finger so low although it's not really one of my favorite songs by him anyway. The Humpty Dance is amusing. If you've never listened to it, I recommend checking it out.\n",
    "\n",
    "Following on rank against popularity, I'm curious if more currently popular songs tend to be ranked higher on the list. Below I make a simple scatter plot showing the rank against the popularity of the top 500 songs."
   ]
  },
  {
   "cell_type": "code",
   "execution_count": 14,
   "id": "acec876e-d01f-4313-a3ed-5873ffc18051",
   "metadata": {},
   "outputs": [
    {
     "data": {
      "application/vnd.plotly.v1+json": {
       "config": {
        "plotlyServerURL": "https://plot.ly"
       },
       "data": [
        {
         "customdata": [
          [
           "Kanye West"
          ],
          [
           "The Supremes"
          ],
          [
           "Townes Van Zandt"
          ],
          [
           "Lizzo"
          ],
          [
           "Harry Nilsson"
          ],
          [
           "Carly Simon"
          ],
          [
           "Cyndi Lauper"
          ],
          [
           "Pixies"
          ],
          [
           "Miles Davis"
          ],
          [
           "Guns N' Roses"
          ],
          [
           "Lil Nas X"
          ],
          [
           "The Breeders"
          ],
          [
           "The Weeknd"
          ],
          [
           "Solange"
          ],
          [
           "Lil Wayne"
          ],
          [
           "Azealia Banks"
          ],
          [
           "Weezer"
          ],
          [
           "Four Tops"
          ],
          [
           "Lady Gaga"
          ],
          [
           "Robert Johnson"
          ],
          [
           "Biz Markie"
          ],
          [
           "Santana"
          ],
          [
           "JUVENILE"
          ],
          [
           "The Go-Go's"
          ],
          [
           "Kris Kristofferson"
          ],
          [
           "Janet Jackson"
          ],
          [
           "Curtis Mayfield"
          ],
          [
           "Tammy Wynette"
          ],
          [
           "Peter Gabriel"
          ],
          [
           "The Animals"
          ],
          [
           "Gladys Knight & The Pips"
          ],
          [
           "The Chicks"
          ],
          [
           "Mazzy Star"
          ],
          [
           "Nirvana"
          ],
          [
           "Luther Vandross"
          ],
          [
           "Daft Punk"
          ],
          [
           "Joni Mitchell"
          ],
          [
           "John Lee Hooker"
          ],
          [
           "Van Morrison"
          ],
          [
           "Roy Orbison"
          ],
          [
           "Steel Pulse"
          ],
          [
           "Sade"
          ],
          [
           "Beck"
          ],
          [
           "Bon Jovi"
          ],
          [
           "Lana Del Rey"
          ],
          [
           "Jefferson Airplane"
          ],
          [
           "Sister Nancy"
          ],
          [
           "Missy Elliott"
          ],
          [
           "TOTO"
          ],
          [
           "Migos"
          ],
          [
           "Neil Young"
          ],
          [
           "Blue Öyster Cult"
          ],
          [
           "Erykah Badu"
          ],
          [
           "The Beatles"
          ],
          [
           "Bruce Springsteen"
          ],
          [
           "T. Rex"
          ],
          [
           "50 Cent"
          ],
          [
           "Fall Out Boy"
          ],
          [
           "Motörhead"
          ],
          [
           "Miranda Lambert"
          ],
          [
           "Alicia Keys"
          ],
          [
           "Celia Cruz"
          ],
          [
           "Megan Thee Stallion"
          ],
          [
           "Lucinda Williams"
          ],
          [
           "Carly Rae Jepsen"
          ],
          [
           "Rush"
          ],
          [
           "Ramones"
          ],
          [
           "Pet Shop Boys"
          ],
          [
           "Eddie Cochran"
          ],
          [
           "Prince"
          ],
          [
           "Pete Rock & C.L. Smooth"
          ],
          [
           "Queen"
          ],
          [
           "Harry Styles"
          ],
          [
           "The Sugarhill Gang"
          ],
          [
           "Nicki Minaj"
          ],
          [
           "Muddy Waters"
          ],
          [
           "Blackstreet"
          ],
          [
           "Fiona Apple"
          ],
          [
           "Craig Mack"
          ],
          [
           "The Smiths"
          ],
          [
           "The Mamas & The Papas"
          ],
          [
           "Mariah Carey"
          ],
          [
           "Booker T. & the M.G.'s"
          ],
          [
           "Mark Ronson"
          ],
          [
           "Pearl Jam"
          ],
          [
           "Depeche Mode"
          ],
          [
           "Blondie"
          ],
          [
           "Them"
          ],
          [
           "Neneh Cherry"
          ],
          [
           "Wilco"
          ],
          [
           "Allman Brothers Band"
          ],
          [
           "Foo Fighters"
          ],
          [
           "Yusuf / Cat Stevens"
          ],
          [
           "Lynyrd Skynyrd"
          ],
          [
           "Run–D.M.C."
          ],
          [
           "Selena"
          ],
          [
           "KISS"
          ],
          [
           "Rufus"
          ],
          [
           "Bill Withers"
          ],
          [
           "Fleetwood Mac"
          ],
          [
           "David Bowie"
          ],
          [
           "Sylvester"
          ],
          [
           "Duran Duran"
          ],
          [
           "Public Enemy"
          ],
          [
           "Elvis Costello"
          ],
          [
           "Afrika Bambaataa"
          ],
          [
           "Jeff Buckley"
          ],
          [
           "James Brown"
          ],
          [
           "Coldplay"
          ],
          [
           "Eric Church"
          ],
          [
           "Metallica"
          ],
          [
           "Pretenders"
          ],
          [
           "DMX"
          ],
          [
           "New York Dolls"
          ],
          [
           "The Kinks"
          ],
          [
           "Diana Ross"
          ],
          [
           "Cardi B"
          ],
          [
           "Childish Gambino"
          ],
          [
           "Fiona Apple"
          ],
          [
           "The Slits"
          ],
          [
           "Fountains Of Wayne"
          ],
          [
           "D'Angelo"
          ],
          [
           "The Killers"
          ],
          [
           "The Cure"
          ],
          [
           "Merle Haggard"
          ],
          [
           "The Drifters"
          ],
          [
           "William DeVaughn"
          ],
          [
           "Drake"
          ],
          [
           "Bonnie Raitt"
          ],
          [
           "Elton John"
          ],
          [
           "Buddy Holly"
          ],
          [
           "The Cars"
          ],
          [
           "Soundgarden"
          ],
          [
           "Frank Ocean"
          ],
          [
           "The Crystals"
          ],
          [
           "Sex Pistols"
          ],
          [
           "Grateful Dead"
          ],
          [
           "Bob Marley & The Wailers"
          ],
          [
           "Kacey Musgraves"
          ],
          [
           "Jimmy Cliff"
          ],
          [
           "Prince"
          ],
          [
           "Fugees"
          ],
          [
           "Patti Smith"
          ],
          [
           "Taylor Swift"
          ],
          [
           "Cheap Trick"
          ],
          [
           "Thelma Houston"
          ],
          [
           "Michael Jackson"
          ],
          [
           "Eurythmics"
          ],
          [
           "Ice Cube"
          ],
          [
           "Jorge Ben Jor"
          ],
          [
           "John Prine"
          ],
          [
           "The Zombies"
          ],
          [
           "Roxy Music"
          ],
          [
           "Elvis Presley"
          ],
          [
           "BTS"
          ],
          [
           "Carole King"
          ],
          [
           "Black Sabbath"
          ],
          [
           "The Doobie Brothers"
          ],
          [
           "Chuck Berry"
          ],
          [
           "The Monkees"
          ],
          [
           "The Clash"
          ],
          [
           "Prince"
          ],
          [
           "Black Sabbath"
          ],
          [
           "Cher"
          ],
          [
           "Daryl Hall & John Oates"
          ],
          [
           "Marshall Jefferson"
          ],
          [
           "Grateful Dead"
          ],
          [
           "The Temptations"
          ],
          [
           "Rihanna"
          ],
          [
           "The Marvelettes"
          ],
          [
           "The Notorious B.I.G."
          ],
          [
           "Bad Bunny"
          ],
          [
           "Red Hot Chili Peppers"
          ],
          [
           "Mary J. Blige"
          ],
          [
           "Rilo Kiley"
          ],
          [
           "Iggy Pop"
          ],
          [
           "Billy Joel"
          ],
          [
           "The Everly Brothers"
          ],
          [
           "Neil Young"
          ],
          [
           "U2"
          ],
          [
           "2Pac"
          ],
          [
           "Tears For Fears"
          ],
          [
           "Big Mama Thornton"
          ],
          [
           "Bob Dylan"
          ],
          [
           "The Shangri-Las"
          ],
          [
           "John Coltrane"
          ],
          [
           "The Stooges"
          ],
          [
           "Smokey Robinson & The Miracles"
          ],
          [
           "Isaac Hayes"
          ],
          [
           "Eagles"
          ],
          [
           "The Doors"
          ],
          [
           "Bill Withers"
          ],
          [
           "Liz Phair"
          ],
          [
           "Gnarls Barkley"
          ],
          [
           "Aretha Franklin"
          ],
          [
           "The Police"
          ],
          [
           "Kraftwerk"
          ],
          [
           "TLC"
          ],
          [
           "Pink Floyd"
          ],
          [
           "Bob Seger"
          ],
          [
           "The B-52's"
          ],
          [
           "Screamin' Jay Hawkins"
          ],
          [
           "Bruce Springsteen"
          ],
          [
           "The Beach Boys"
          ],
          [
           "Bikini Kill"
          ],
          [
           "The Who"
          ],
          [
           "The Velvet Underground"
          ],
          [
           "Alice Cooper"
          ],
          [
           "A Tribe Called Quest"
          ],
          [
           "Phil Collins"
          ],
          [
           "Usher"
          ],
          [
           "Bruce Springsteen"
          ],
          [
           "Funky 4 + 1"
          ],
          [
           "AC/DC"
          ],
          [
           "ABBA"
          ],
          [
           "Destiny's Child"
          ],
          [
           "Leonard Cohen"
          ],
          [
           "Ray Charles"
          ],
          [
           "INXS"
          ],
          [
           "Clipse"
          ],
          [
           "The Beatles"
          ],
          [
           "Radiohead"
          ],
          [
           "Toots & The Maytals"
          ],
          [
           "Bo Diddley"
          ],
          [
           "Buzzcocks"
          ],
          [
           "Randy Newman"
          ],
          [
           "Al Green"
          ],
          [
           "Roberta Flack"
          ],
          [
           "Thin Lizzy"
          ],
          [
           "Procol Harum"
          ],
          [
           "Nine Inch Nails"
          ],
          [
           "The Righteous Brothers"
          ],
          [
           "The Isley Brothers"
          ],
          [
           "Drake"
          ],
          [
           "King Tubby"
          ],
          [
           "The Replacements"
          ],
          [
           "Marvin Gaye"
          ],
          [
           "Dolly Parton"
          ],
          [
           "Paul Simon"
          ],
          [
           "Curtis Mayfield"
          ],
          [
           "The Wailers"
          ],
          [
           "Neil Young"
          ],
          [
           "Gil Scott-Heron"
          ],
          [
           "Martha Reeves & The Vandellas"
          ],
          [
           "Metallica"
          ],
          [
           "Loretta Lynn"
          ],
          [
           "The Supremes"
          ],
          [
           "Willie Nelson"
          ],
          [
           "Parliament"
          ],
          [
           "Gloria Gaynor"
          ],
          [
           "Jimi Hendrix"
          ],
          [
           "Joan Jett & the Blackhearts"
          ],
          [
           "N.W.A."
          ],
          [
           "Joni Mitchell"
          ],
          [
           "Faces"
          ],
          [
           "Beastie Boys"
          ],
          [
           "Pavement"
          ],
          [
           "The Beatles"
          ],
          [
           "Jerry Lee Lewis"
          ],
          [
           "Digital Underground"
          ],
          [
           "Backstreet Boys"
          ],
          [
           "Big Star"
          ],
          [
           "Aaliyah"
          ],
          [
           "Hank Williams"
          ],
          [
           "Bill Withers"
          ],
          [
           "New Order"
          ],
          [
           "The Supremes"
          ],
          [
           "Deee-Lite"
          ],
          [
           "The Who"
          ],
          [
           "Whitney Houston"
          ],
          [
           "The Byrds"
          ],
          [
           "Woody Guthrie"
          ],
          [
           "Beyoncé"
          ],
          [
           "Creedence Clearwater Revival"
          ],
          [
           "The Smiths"
          ],
          [
           "Joni Mitchell"
          ],
          [
           "Derek & The Dominos"
          ],
          [
           "Eminem"
          ],
          [
           "Crosby, Stills & Nash"
          ],
          [
           "Ike & Tina Turner"
          ],
          [
           "New Order"
          ],
          [
           "Tom Petty"
          ],
          [
           "Wilson Pickett"
          ],
          [
           "Stevie Nicks"
          ],
          [
           "Elvis Presley"
          ],
          [
           "Mobb Deep"
          ],
          [
           "Steely Dan"
          ],
          [
           "The Rolling Stones"
          ],
          [
           "Boston"
          ],
          [
           "U2"
          ],
          [
           "Funkadelic"
          ],
          [
           "Don Henley"
          ],
          [
           "Hole"
          ],
          [
           "Rage Against The Machine"
          ],
          [
           "Glen Campbell"
          ],
          [
           "Britney Spears"
          ],
          [
           "David Bowie"
          ],
          [
           "Stevie Wonder"
          ],
          [
           "Elton John"
          ],
          [
           "Johnny Cash"
          ],
          [
           "David Bowie"
          ],
          [
           "Aerosmith"
          ],
          [
           "Marvin Gaye"
          ],
          [
           "Ann Peebles"
          ],
          [
           "James Brown"
          ],
          [
           "Patsy Cline"
          ],
          [
           "PJ Harvey"
          ],
          [
           "The Rolling Stones"
          ],
          [
           "Geto Boys"
          ],
          [
           "Bobbie Gentry"
          ],
          [
           "N.W.A."
          ],
          [
           "David Bowie"
          ],
          [
           "Jimi Hendrix"
          ],
          [
           "Bob Dylan"
          ],
          [
           "The Staple Singers"
          ],
          [
           "Michael Jackson"
          ],
          [
           "Sinéad O'Connor"
          ],
          [
           "Stevie Wonder"
          ],
          [
           "Simon & Garfunkel"
          ],
          [
           "The Byrds"
          ],
          [
           "Lou Reed"
          ],
          [
           "Pink Floyd"
          ],
          [
           "Billie Eilish"
          ],
          [
           "Van Halen"
          ],
          [
           "The Kinks"
          ],
          [
           "The Flamingos"
          ],
          [
           "R.E.M."
          ],
          [
           "Television"
          ],
          [
           "Nina Simone"
          ],
          [
           "Louis Armstrong"
          ],
          [
           "The Five Satins"
          ],
          [
           "Tom Petty and the Heartbreakers"
          ],
          [
           "Dusty Springfield"
          ],
          [
           "Eminem"
          ],
          [
           "Mott The Hoople"
          ],
          [
           "Hank Williams"
          ],
          [
           "Bob Dylan"
          ],
          [
           "Fleetwood Mac"
          ],
          [
           "Nick Drake"
          ],
          [
           "Madonna"
          ],
          [
           "R.E.M."
          ],
          [
           "The Who"
          ],
          [
           "The Meters"
          ],
          [
           "Sonic Youth"
          ],
          [
           "The Kingsmen"
          ],
          [
           "The Strokes"
          ],
          [
           "Howlin' Wolf"
          ],
          [
           "Rick James"
          ],
          [
           "Creedence Clearwater Revival"
          ],
          [
           "The Shirelles"
          ],
          [
           "Green Day"
          ],
          [
           "Elton John"
          ],
          [
           "Led Zeppelin"
          ],
          [
           "Fats Domino"
          ],
          [
           "James Taylor"
          ],
          [
           "Outkast"
          ],
          [
           "The Rolling Stones"
          ],
          [
           "The Clash"
          ],
          [
           "George Jones"
          ],
          [
           "Rod Stewart"
          ],
          [
           "Bob Marley & The Wailers"
          ],
          [
           "Madonna"
          ],
          [
           "Blondie"
          ],
          [
           "Ariana Grande"
          ],
          [
           "Otis Redding"
          ],
          [
           "The Beatles"
          ],
          [
           "Tina Turner"
          ],
          [
           "Journey"
          ],
          [
           "Eric B. & Rakim"
          ],
          [
           "Ben E. King"
          ],
          [
           "Martha Reeves & The Vandellas"
          ],
          [
           "Drake"
          ],
          [
           "Led Zeppelin"
          ],
          [
           "TLC"
          ],
          [
           "George Michael"
          ],
          [
           "Sex Pistols"
          ],
          [
           "Buddy Holly"
          ],
          [
           "Talking Heads"
          ],
          [
           "The Impressions"
          ],
          [
           "The Beatles"
          ],
          [
           "X-Ray Spex"
          ],
          [
           "Marvin Gaye"
          ],
          [
           "Radiohead"
          ],
          [
           "Aretha Franklin"
          ],
          [
           "Rob Base & DJ EZ Rock"
          ],
          [
           "Etta James"
          ],
          [
           "Britney Spears"
          ],
          [
           "Stevie Wonder"
          ],
          [
           "R.E.M."
          ],
          [
           "Bruce Springsteen"
          ],
          [
           "The Beatles"
          ],
          [
           "Sly & The Family Stone"
          ],
          [
           "The Cure"
          ],
          [
           "Wu-Tang Clan"
          ],
          [
           "The Rolling Stones"
          ],
          [
           "David Bowie"
          ],
          [
           "The Jackson 5"
          ],
          [
           "Alanis Morissette"
          ],
          [
           "Chuck Berry"
          ],
          [
           "Yeah Yeah Yeahs"
          ],
          [
           "Bob Dylan"
          ],
          [
           "Bee Gees"
          ],
          [
           "The Beatles"
          ],
          [
           "Patti Smith"
          ],
          [
           "JAY-Z"
          ],
          [
           "Oasis"
          ],
          [
           "Whitney Houston"
          ],
          [
           "Kelly Clarkson"
          ],
          [
           "Little Richard"
          ],
          [
           "UGK"
          ],
          [
           "Aretha Franklin"
          ],
          [
           "The Beatles"
          ],
          [
           "Guns N' Roses"
          ],
          [
           "LCD Soundsystem"
          ],
          [
           "The Rolling Stones"
          ],
          [
           "Prince"
          ],
          [
           "Al Green"
          ],
          [
           "Bob Dylan"
          ],
          [
           "Adele"
          ],
          [
           "The Velvet Underground"
          ],
          [
           "Ray Charles"
          ],
          [
           "Amy Winehouse"
          ],
          [
           "Four Tops"
          ],
          [
           "The Modern Lovers"
          ],
          [
           "Johnny Cash"
          ],
          [
           "Pulp"
          ],
          [
           "Leonard Cohen"
          ],
          [
           "Beyoncé"
          ],
          [
           "The Beatles"
          ],
          [
           "Tracy Chapman"
          ],
          [
           "Elvis Presley"
          ],
          [
           "Taylor Swift"
          ],
          [
           "CHIC"
          ],
          [
           "Bob Dylan"
          ],
          [
           "Simon & Garfunkel"
          ],
          [
           "Earth, Wind & Fire"
          ],
          [
           "Ramones"
          ],
          [
           "Dolly Parton"
          ],
          [
           "U2"
          ],
          [
           "Led Zeppelin"
          ],
          [
           "Kate Bush"
          ],
          [
           "Grandmaster Flash"
          ],
          [
           "The Band"
          ],
          [
           "Sly & The Family Stone"
          ],
          [
           "Missy Elliott"
          ],
          [
           "Madonna"
          ],
          [
           "Smokey Robinson & The Miracles"
          ],
          [
           "The Beach Boys"
          ],
          [
           "Donna Summer"
          ],
          [
           "Dionne Warwick"
          ],
          [
           "Daddy Yankee"
          ],
          [
           "Ms. Lauryn Hill"
          ],
          [
           "Radiohead"
          ],
          [
           "Elton John"
          ],
          [
           "M.I.A."
          ],
          [
           "Kendrick Lamar"
          ],
          [
           "Michael Jackson"
          ],
          [
           "The Temptations"
          ],
          [
           "Bob Marley & The Wailers"
          ],
          [
           "Joy Division"
          ],
          [
           "Jimi Hendrix"
          ],
          [
           "Outkast"
          ],
          [
           "Otis Redding"
          ],
          [
           "Prince"
          ],
          [
           "The White Stripes"
          ],
          [
           "Little Richard"
          ],
          [
           "James Brown"
          ],
          [
           "Chuck Berry"
          ],
          [
           "The Notorious B.I.G."
          ],
          [
           "The Rolling Stones"
          ],
          [
           "Lorde"
          ],
          [
           "Dr. Dre"
          ],
          [
           "Talking Heads"
          ],
          [
           "Bruce Springsteen"
          ],
          [
           "Joni Mitchell"
          ],
          [
           "Kanye West"
          ],
          [
           "The Beatles"
          ],
          [
           "David Bowie"
          ],
          [
           "The Ronettes"
          ],
          [
           "Billie Holiday"
          ],
          [
           "Robyn"
          ],
          [
           "John Lennon"
          ],
          [
           "Prince"
          ],
          [
           "Queen"
          ],
          [
           "Beyoncé"
          ],
          [
           "The Beatles"
          ],
          [
           "The Kinks"
          ],
          [
           "The Rolling Stones"
          ],
          [
           "Stevie Wonder"
          ],
          [
           "The Beach Boys"
          ],
          [
           "Outkast"
          ],
          [
           "Fleetwood Mac"
          ],
          [
           "Missy Elliott"
          ],
          [
           "The Beatles"
          ],
          [
           "Marvin Gaye"
          ],
          [
           "Nirvana"
          ],
          [
           "Bob Dylan"
          ],
          [
           "Sam Cooke"
          ],
          [
           "Public Enemy"
          ],
          [
           "Aretha Franklin"
          ]
         ],
         "hovertemplate": "<b>%{hovertext}</b><br><br>rank=%{x}<br>track_popularity=%{y}<br>artist_name=%{customdata[0]}<extra></extra>",
         "hovertext": [
          "Stronger",
          "Baby Love",
          "Poncho & Lefty",
          "Truth Hurts",
          "Without You",
          "You're so Vain",
          "Time After Time",
          "Where Is My Mind?",
          "So What",
          "Welcome To The Jungle",
          "Old Town Road",
          "Cannonball",
          "House Of Balloons / Glass Table Girls - Original",
          "Cranes in the Sky",
          "A Milli",
          "212",
          "Buddy Holly",
          "I Can't Help Myself (Sugar Pie, Honey Bunch)",
          "Bad Romance",
          "Cross Road Blues",
          "Just a Friend",
          "Oye Como Va",
          "Back That Azz Up",
          "Our Lips Are Sealed - Single Version",
          "Sunday Mornin' Comin' Down",
          "Rhythm Nation",
          "Move on Up - Single Edit",
          "Stand By Your Man",
          "Solsbury Hill",
          "House of the Rising Sun",
          "Midnight Train to Georgia",
          "Goodbye Earl",
          "Fade Into You",
          "Come As You Are",
          "Never Too Much",
          "Get Lucky (feat. Pharrell Williams & Nile Rodgers) - Radio Edit",
          "Help Me",
          "Boom Boom",
          "Into the Mystic - 2013 Remaster",
          "Crying",
          "Ku Klux Klan",
          "No Ordinary Love",
          "Loser",
          "Livin' On A Prayer",
          "Summertime Sadness",
          "White Rabbit",
          "Bam Bam",
          "The Rain (Supa Dupa Fly)",
          "Africa",
          "Bad and Boujee (feat. Lil Uzi Vert)",
          "Powderfinger - 2016 Remaster",
          "(Don't Fear) The Reaper",
          "Tyrone - Extended Version",
          "Help!",
          "Rosalita (Come Out Tonight)",
          "Cosmic Dancer",
          "In Da Club",
          "Sugar, We're Goin Down",
          "Ace of Spades",
          "The House That Built Me",
          "If I Ain't Got You",
          "La Vida Es Un Carnaval",
          "Savage Remix (feat. Beyoncé)",
          "Passionate Kisses",
          "Call Me Maybe",
          "Limelight",
          "Sheena Is a Punk Rocker - 2017 Remaster",
          "West End Girls",
          "Summertime Blues",
          "Adore",
          "They Reminisce Over You (T.R.O.Y.)",
          "Under Pressure - Remastered 2011",
          "Sign of the Times",
          "Rapper's Delight - Single Version",
          "Super Bass",
          "Mannish Boy",
          "No Diggity",
          "Criminal",
          "Flava in Ya Ear",
          "How Soon Is Now? - 2011 Remaster",
          "California Dreamin'",
          "Fantasy",
          "Green Onions",
          "Uptown Funk (feat. Bruno Mars)",
          "Alive",
          "Enjoy the Silence",
          "Dreaming",
          "Gloria",
          "Buffalo Stance",
          "Heavy Metal Drummer",
          "Whipping Post",
          "Everlong",
          "Father And Son",
          "Free Bird",
          "Sucker M.C.'s",
          "Amor Prohibido",
          "Rock And Roll All Nite",
          "Ain't Nobody",
          "Lovely Day",
          "Go Your Own Way - 2004 Remaster",
          "Station to Station - 2016 Remaster",
          "You Make Me Feel (Mighty Real)",
          "Hungry Like the Wolf - 2009 Remaster",
          "Bring The Noise",
          "Alison",
          "Planet Rock",
          "Grace",
          "Say It Loud - I'm Black And I'm Proud - Pt. 1",
          "Fix You",
          "Springsteen",
          "Enter Sandman",
          "Brass in Pocket - 2006 Remaster",
          "Party Up",
          "Personality Crisis",
          "Lola",
          "I'm Coming Out",
          "I Like It",
          "Redbone",
          "Paper Bag",
          "Typical Girls",
          "Radiation Vibe",
          "Untitled (How Does It Feel)",
          "Mr. Brightside",
          "Pictures Of You - Remastered",
          "Mama Tried",
          "Up on the Roof",
          "Be Thankful for What You Got (Pt. 1 & Pt. 2)",
          "Hotline Bling",
          "I Can't Make You Love Me",
          "Bennie And The Jets - Remastered 2014",
          "Peggy Sue",
          "Just What I Needed",
          "Black Hole Sun",
          "Thinkin Bout You",
          "Da Doo Ron Ron (When He Walked Me Home)",
          "God Save The Queen",
          "Box of Rain - 2013 Remaster",
          "Could You Be Loved",
          "Merry Go 'Round",
          "The Harder They Come",
          "Little Red Corvette",
          "Killing Me Softly With His Song",
          "Because the Night",
          "Blank Space",
          "Surrender",
          "Don't Leave Me This Way",
          "Rock with You - Single Version",
          "Sweet Dreams (Are Made of This) - Remastered",
          "It Was A Good Day",
          "Ponta De Lança Africano",
          "Angel from Montgomery",
          "Time of the Season",
          "Virginia Plain",
          "Heartbreak Hotel",
          "Dynamite",
          "It's Too Late",
          "Iron Man",
          "What a Fool Believes",
          "Promised Land",
          "I'm a Believer",
          "(White Man) in Hammersmith Palais",
          "1999",
          "Paranoid",
          "Believe",
          "She's Gone",
          "Move Your Body",
          "Ripple - 2020 Remaster",
          "Papa Was A Rollin' Stone - Single Version",
          "Umbrella",
          "Please Mr. Postman - Single Version / Mono",
          "Big Poppa - 2007 Remaster",
          "Safaera",
          "Under the Bridge",
          "Real Love",
          "Portions for Foxes",
          "Lust For Life",
          "Scenes from an Italian Restaurant",
          "All I Have to Do Is Dream",
          "After the Gold Rush",
          "I Still Haven't Found What I'm Looking For",
          "California Love - Original Version",
          "Everybody Wants To Rule The World",
          "Hound Dog",
          "Visions of Johanna",
          "Leader Of The Pack",
          "A Love Supreme, Pt. I – Acknowledgement",
          "I Wanna Be Your Dog",
          "The Tears Of A Clown",
          "Walk On By",
          "Hotel California - 2013 Remaster",
          "Light My Fire",
          "Ain't No Sunshine",
          "Divorce Song - Remastered",
          "Crazy",
          "Chain of Fools",
          "Every Breath You Take",
          "Trans-Europe Express - 2009 Remaster",
          "No Scrubs",
          "Wish You Were Here - 2011 Remaster",
          "Night Moves",
          "Rock Lobster",
          "I Put a Spell On You",
          "Jungleland",
          "Wouldn't It Be Nice",
          "Rebel Girl",
          "Won't Get Fooled Again - Original Album Version",
          "Sweet Jane",
          "School's Out",
          "Can I Kick It?",
          "In The Air Tonight - 2015 Remastered",
          "Yeah! (feat. Lil Jon & Ludacris)",
          "Atlantic City",
          "That's the Joint",
          "You Shook Me All Night Long",
          "Dancing Queen",
          "Say My Name",
          "Suzanne",
          "Georgia on My Mind",
          "Never Tear Us Apart",
          "Grindin'",
          "Penny Lane",
          "Karma Police",
          "Pressure Drop",
          "Bo Diddley",
          "Ever Fallen in Love (With Someone You Shouldn't've?) - 1996 Remastered Version",
          "Sail Away - 2002 Remaster",
          "Love and Happiness",
          "Killing Me Softly With His Song",
          "The Boys Are Back In Town",
          "A Whiter Shade of Pale - Original Single Version",
          "Closer",
          "Unchained Melody",
          "Shout, Pts. 1 & 2",
          "Take Care",
          "King Tubby Meets Rockers Uptown",
          "Left of the Dial - 2008 Remaster",
          "Let's Get It On",
          "Coat of Many Colors",
          "American Tune",
          "Pusherman",
          "Get Up, Stand Up",
          "Heart of Gold - 2009 Remaster",
          "The Revolution Will Not Be Televised",
          "(Love Is Like A) Heat Wave",
          "Master Of Puppets",
          "Coal Miner's Daughter - Single Version",
          "Stop! In The Name Of Love - Single Version",
          "Blue Eyes Crying In the Rain",
          "Flash Light",
          "I Will Survive",
          "Purple Haze",
          "Bad Reputation",
          "Straight Outta Compton",
          "River",
          "Ooh La La",
          "Sabotage - Remastered 2009",
          "Summer Babe - Winter Version",
          "Eleanor Rigby",
          "Great Balls of Fire",
          "The Humpty Dance",
          "I Want It That Way",
          "September Gurls",
          "Are You That Somebody",
          "Your Cheatin' Heart",
          "Lean on Me",
          "Blue Monday",
          "You Keep Me Hangin' On",
          "Groove Is in the Heart",
          "My Generation",
          "I Wanna Dance with Somebody (Who Loves Me)",
          "Mr. Tambourine Man",
          "This Land is Your Land",
          "Single Ladies (Put a Ring on It)",
          "Fortunate Son",
          "There Is a Light That Never Goes Out - 2011 Remaster",
          "Both Sides Now",
          "Layla",
          "Stan",
          "Suite: Judy Blue Eyes - 2005 Remaster",
          "River Deep - Mountain High",
          "Bizarre Love Triangle '94",
          "Free Fallin'",
          "In the Midnight Hour",
          "Edge of Seventeen",
          "Jailhouse Rock",
          "Shook Ones, Pt. II",
          "Deacon Blues",
          "Paint It, Black",
          "More Than a Feeling",
          "With Or Without You",
          "One Nation Under a Groove - Album Version - 2015 Remaster",
          "The Boys Of Summer",
          "Doll Parts",
          "Killing In The Name",
          "Wichita Lineman - Remastered 2001",
          "...Baby One More Time",
          "Young Americans - 2016 Remaster",
          "Signed, Sealed, Delivered (I'm Yours)",
          "Your Song",
          "Ring of Fire",
          "Changes - 2015 Remaster",
          "Dream On",
          "Sexual Healing",
          "I Can't Stand the Rain",
          "Get Up I Feel Like Being A Sex Machine - Pt. 1 / Single Version",
          "Crazy - Single Version",
          "Rid Of Me",
          "Wild Horses",
          "Mind Playing Tricks on Me",
          "Ode To Billie Joe",
          "Fuck Tha Police",
          "Space Oddity - 2015 Remaster",
          "Little Wing",
          "Subterranean Homesick Blues",
          "I'll Take You There",
          "Beat It",
          "Nothing Compares 2 U",
          "You Are The Sunshine Of My Life",
          "The Sounds of Silence",
          "Eight Miles High",
          "Walk On the Wild Side",
          "Comfortably Numb - 2011 Remastered Version",
          "bad guy",
          "Jump",
          "You Really Got Me - Remastered",
          "I Only Have Eyes for You",
          "Radio Free Europe",
          "Marquee Moon",
          "Mississippi Goddam",
          "What A Wonderful World",
          "In The Still of the Night",
          "American Girl",
          "Son Of A Preacher Man",
          "Lose Yourself",
          "All the Young Dudes",
          "I'm So Lonesome I Could Cry - Single Version",
          "Mr. Tambourine Man",
          "Landslide",
          "Pink Moon",
          "Into the Groove",
          "Nightswimming",
          "Baba O'Riley",
          "Cissy Strut",
          "Teen Age Riot (Album Version)",
          "Louie Louie",
          "Last Nite",
          "Spoonful",
          "Super Freak",
          "Proud Mary",
          "Will You Still Love Me Tomorrow",
          "Basket Case",
          "Rocket Man (I Think It's Going To Be A Long, Long Time)",
          "Kashmir - Remaster",
          "Blueberry Hill",
          "Fire and Rain",
          "Ms. Jackson",
          "Jumpin' Jack Flash - (Original Single Mono Version)",
          "London Calling",
          "He Stopped Loving Her Today",
          "Maggie May",
          "No Woman No Cry",
          "Vogue",
          "Heart Of Glass",
          "thank u, next",
          "Try a Little Tenderness",
          "She Loves You - Remastered 2009",
          "What's Love Got to Do with It",
          "Don't Stop Believin'",
          "Paid In Full",
          "Stand by Me",
          "Dancing In The Street - Stereo",
          "Hold On, We're Going Home",
          "Whole Lotta Love - 1990 Remaster",
          "Waterfalls",
          "Freedom! '90 - Remastered",
          "Anarchy In The UK",
          "That'll Be the Day",
          "This Must Be the Place (Naive Melody) - 2005 Remaster",
          "People Get Ready",
          "Let It Be - Remastered 2009",
          "Oh Bondage! Up Yours!",
          "I Heard It Through The Grapevine",
          "Creep",
          "I Say a Little Prayer",
          "It Takes Two",
          "At Last",
          "Toxic",
          "Higher Ground",
          "Losing My Religion",
          "Thunder Road",
          "Something - Remastered 2015",
          "Everyday People",
          "Just Like Heaven",
          "C.R.E.A.M. (Cash Rules Everything Around Me) (feat. Method Man, Raekwon, Inspectah Deck & Buddha Monk)",
          "Sympathy For The Devil",
          "Life on Mars? - 2015 Remaster",
          "I Want You Back",
          "You Oughta Know - 2015 Remaster",
          "Maybelline",
          "Maps",
          "Blowin' in the Wind",
          "Stayin Alive",
          "In My Life - Remastered 2009",
          "Gloria",
          "99 Problems",
          "Wonderwall",
          "I Will Always Love You",
          "Since U Been Gone",
          "Good Golly Miss Molly",
          "Int'l Players Anthem (I Choose You) (feat. Outkast)",
          "(You Make Me Feel Like) A Natural Woman",
          "Hey Jude - Remastered 2015",
          "Sweet Child O' Mine",
          "All My Friends",
          "Tumbling Dice",
          "Kiss",
          "Let's Stay Together",
          "Desolation Row",
          "Rolling in the Deep",
          "I'm Waiting For The Man",
          "What'd I Say, Pt. 1 & 2",
          "Back To Black",
          "Reach Out I'll Be There",
          "Roadrunner",
          "I Walk the Line",
          "Common People",
          "Hallelujah",
          "Formation",
          "Yesterday - Remastered 2015",
          "Fast Car",
          "Suspicious Minds",
          "All Too Well",
          "Good Times",
          "Tangled up in Blue",
          "Bridge Over Troubled Water",
          "September",
          "Blitzkrieg Bop - 2016 Remaster",
          "Jolene",
          "One",
          "Stairway to Heaven - Remaster",
          "Running Up That Hill (A Deal With God)",
          "The Message",
          "The Weight - Remastered 2000",
          "Family Affair - Single Version",
          "Work It",
          "Like a Prayer",
          "The Tracks Of My Tears",
          "Good Vibrations",
          "I Feel Love",
          "Walk on By",
          "Gasolina",
          "Doo Wop (That Thing)",
          "Idioteque",
          "Tiny Dancer",
          "Paper Planes",
          "Alright",
          "Billie Jean",
          "My Girl",
          "Redemption Song",
          "Love Will Tear Us Apart - 2020 Remaster",
          "All Along the Watchtower",
          "B.O.B. - Bombs Over Baghdad",
          "(Sittin' On) the Dock of the Bay",
          "When Doves Cry",
          "Seven Nation Army",
          "Tutti Frutti",
          "Papa's Got A Brand New Bag - Pt. 1",
          "Johnny B. Goode",
          "Juicy",
          "(I Can't Get No) Satisfaction - Mono Version",
          "Royals",
          "Nuthin' But A \"G\" Thang",
          "Once in a Lifetime - 2005 Remaster",
          "Born to Run",
          "A Case of You",
          "Runaway",
          "A Day In The Life - Remastered 2009",
          "Heroes - 2017 Remaster",
          "Be My Baby",
          "Strange Fruit",
          "Dancing On My Own",
          "Imagine - Remastered 2010",
          "Purple Rain",
          "Bohemian Rhapsody",
          "Crazy In Love (feat. Jay-Z)",
          "I Want To Hold Your Hand - Remastered 2015",
          "Waterloo Sunset",
          "Gimme Shelter",
          "Superstition",
          "God Only Knows - Remastered",
          "Hey Ya!",
          "Dreams - 2004 Remaster",
          "Get Ur Freak On",
          "Strawberry Fields Forever - Remastered 2009",
          "What's Going On",
          "Smells Like Teen Spirit",
          "Like a Rolling Stone",
          "A Change Is Gonna Come",
          "Fight The Power",
          "Respect"
         ],
         "legendgroup": "",
         "marker": {
          "color": "#636efa",
          "symbol": "circle"
         },
         "mode": "markers",
         "name": "",
         "orientation": "v",
         "showlegend": false,
         "type": "scatter",
         "x": [
          500,
          499,
          498,
          497,
          496,
          495,
          494,
          493,
          492,
          491,
          490,
          489,
          488,
          487,
          486,
          485,
          484,
          483,
          482,
          481,
          480,
          479,
          478,
          477,
          476,
          475,
          474,
          473,
          472,
          471,
          470,
          469,
          468,
          467,
          466,
          465,
          464,
          463,
          462,
          461,
          460,
          459,
          458,
          457,
          456,
          455,
          454,
          453,
          452,
          451,
          450,
          449,
          448,
          447,
          446,
          445,
          444,
          443,
          442,
          441,
          440,
          439,
          438,
          437,
          436,
          435,
          434,
          433,
          432,
          431,
          430,
          429,
          428,
          427,
          426,
          425,
          424,
          423,
          422,
          421,
          420,
          419,
          418,
          417,
          416,
          415,
          414,
          413,
          412,
          411,
          410,
          409,
          408,
          407,
          406,
          405,
          404,
          403,
          402,
          401,
          400,
          399,
          398,
          397,
          396,
          395,
          394,
          393,
          392,
          391,
          390,
          389,
          388,
          387,
          386,
          385,
          384,
          383,
          382,
          381,
          380,
          379,
          378,
          377,
          376,
          375,
          374,
          373,
          372,
          371,
          370,
          369,
          368,
          367,
          366,
          365,
          364,
          363,
          362,
          361,
          360,
          359,
          358,
          357,
          356,
          355,
          354,
          353,
          352,
          351,
          350,
          349,
          348,
          347,
          346,
          345,
          344,
          343,
          342,
          341,
          340,
          339,
          338,
          337,
          336,
          335,
          334,
          333,
          332,
          331,
          330,
          329,
          328,
          327,
          326,
          325,
          324,
          323,
          322,
          321,
          320,
          319,
          318,
          317,
          316,
          315,
          314,
          313,
          312,
          311,
          310,
          309,
          308,
          307,
          306,
          305,
          304,
          303,
          302,
          301,
          300,
          299,
          298,
          297,
          296,
          295,
          294,
          293,
          292,
          291,
          290,
          289,
          288,
          287,
          286,
          285,
          284,
          283,
          282,
          281,
          280,
          279,
          278,
          277,
          276,
          275,
          274,
          273,
          272,
          271,
          270,
          269,
          268,
          267,
          266,
          265,
          264,
          263,
          262,
          261,
          260,
          259,
          258,
          257,
          256,
          255,
          254,
          253,
          252,
          251,
          250,
          249,
          248,
          247,
          246,
          245,
          244,
          243,
          242,
          241,
          240,
          239,
          238,
          237,
          236,
          235,
          234,
          233,
          232,
          231,
          230,
          229,
          228,
          227,
          226,
          225,
          224,
          223,
          222,
          221,
          220,
          219,
          218,
          217,
          216,
          215,
          214,
          213,
          212,
          211,
          210,
          209,
          208,
          207,
          206,
          205,
          204,
          203,
          202,
          201,
          200,
          199,
          198,
          197,
          196,
          195,
          194,
          193,
          192,
          191,
          190,
          189,
          188,
          187,
          186,
          185,
          184,
          183,
          182,
          181,
          180,
          179,
          178,
          177,
          176,
          175,
          174,
          173,
          172,
          171,
          170,
          169,
          168,
          167,
          166,
          165,
          164,
          163,
          162,
          161,
          160,
          159,
          158,
          157,
          156,
          155,
          154,
          153,
          152,
          151,
          150,
          149,
          148,
          147,
          146,
          145,
          144,
          143,
          142,
          141,
          140,
          139,
          138,
          137,
          136,
          135,
          134,
          133,
          132,
          131,
          130,
          129,
          128,
          127,
          126,
          125,
          124,
          123,
          122,
          121,
          120,
          119,
          118,
          117,
          116,
          115,
          114,
          113,
          112,
          111,
          110,
          109,
          108,
          107,
          106,
          105,
          104,
          103,
          102,
          101,
          100,
          99,
          98,
          97,
          96,
          95,
          94,
          93,
          92,
          91,
          90,
          89,
          88,
          87,
          86,
          85,
          84,
          83,
          82,
          81,
          80,
          79,
          78,
          77,
          76,
          75,
          74,
          73,
          72,
          71,
          70,
          69,
          68,
          67,
          66,
          65,
          64,
          63,
          62,
          61,
          60,
          59,
          58,
          57,
          56,
          55,
          54,
          53,
          52,
          51,
          50,
          49,
          48,
          47,
          46,
          45,
          44,
          43,
          42,
          41,
          40,
          39,
          38,
          37,
          36,
          35,
          34,
          33,
          32,
          31,
          30,
          29,
          28,
          27,
          26,
          25,
          24,
          23,
          22,
          21,
          20,
          19,
          18,
          17,
          16,
          15,
          14,
          13,
          12,
          11,
          10,
          9,
          8,
          7,
          6,
          5,
          4,
          3,
          2,
          1
         ],
         "xaxis": "x",
         "y": [
          31,
          67,
          55,
          78,
          68,
          74,
          76,
          72,
          34,
          78,
          77,
          65,
          58,
          64,
          65,
          69,
          76,
          73,
          82,
          52,
          61,
          68,
          67,
          64,
          47,
          48,
          70,
          59,
          71,
          75,
          72,
          65,
          76,
          10,
          72,
          84,
          5,
          61,
          73,
          59,
          48,
          66,
          67,
          85,
          78,
          72,
          69,
          59,
          84,
          47,
          2,
          76,
          46,
          56,
          56,
          58,
          83,
          78,
          74,
          67,
          79,
          69,
          69,
          36,
          80,
          67,
          63,
          57,
          64,
          40,
          63,
          79,
          84,
          61,
          80,
          63,
          77,
          63,
          57,
          71,
          69,
          76,
          69,
          84,
          76,
          72,
          46,
          44,
          56,
          55,
          57,
          81,
          74,
          77,
          7,
          72,
          76,
          65,
          77,
          77,
          49,
          63,
          74,
          49,
          60,
          1,
          58,
          44,
          82,
          75,
          81,
          66,
          72,
          54,
          71,
          4,
          80,
          83,
          64,
          44,
          49,
          58,
          85,
          60,
          60,
          59,
          57,
          79,
          66,
          75,
          61,
          72,
          77,
          24,
          54,
          63,
          56,
          79,
          61,
          62,
          51,
          77,
          70,
          85,
          70,
          56,
          75,
          82,
          73,
          42,
          58,
          60,
          52,
          55,
          22,
          68,
          72,
          71,
          50,
          59,
          45,
          62,
          79,
          78,
          66,
          63,
          41,
          66,
          82,
          65,
          72,
          80,
          82,
          63,
          51,
          67,
          62,
          67,
          4,
          77,
          79,
          86,
          57,
          49,
          53,
          52,
          60,
          60,
          40,
          84,
          71,
          78,
          37,
          75,
          62,
          86,
          40,
          79,
          67,
          72,
          50,
          49,
          54,
          61,
          59,
          68,
          52,
          70,
          71,
          77,
          83,
          55,
          35,
          81,
          83,
          76,
          63,
          49,
          72,
          59,
          57,
          75,
          33,
          54,
          64,
          34,
          63,
          72,
          76,
          69,
          67,
          74,
          60,
          77,
          41,
          39,
          67,
          59,
          51,
          58,
          57,
          18,
          39,
          66,
          81,
          42,
          62,
          60,
          61,
          48,
          71,
          69,
          72,
          10,
          72,
          33,
          44,
          68,
          59,
          3,
          81,
          36,
          61,
          45,
          71,
          72,
          57,
          65,
          49,
          82,
          64,
          46,
          68,
          82,
          76,
          11,
          38,
          85,
          52,
          58,
          52,
          79,
          64,
          70,
          69,
          76,
          53,
          80,
          79,
          58,
          15,
          78,
          60,
          80,
          62,
          79,
          64,
          76,
          78,
          71,
          69,
          80,
          71,
          61,
          52,
          66,
          49,
          47,
          67,
          56,
          71,
          72,
          70,
          58,
          69,
          81,
          72,
          71,
          46,
          55,
          73,
          67,
          84,
          63,
          55,
          64,
          39,
          55,
          33,
          72,
          56,
          75,
          72,
          74,
          64,
          31,
          64,
          77,
          69,
          66,
          62,
          77,
          62,
          60,
          66,
          6,
          57,
          74,
          72,
          41,
          81,
          81,
          72,
          30,
          54,
          82,
          43,
          56,
          55,
          72,
          60,
          67,
          66,
          82,
          63,
          48,
          72,
          83,
          47,
          80,
          69,
          74,
          77,
          74,
          67,
          63,
          30,
          71,
          60,
          77,
          0,
          72,
          84,
          74,
          56,
          75,
          82,
          65,
          83,
          66,
          53,
          61,
          71,
          75,
          64,
          71,
          77,
          69,
          14,
          66,
          68,
          79,
          73,
          20,
          54,
          72,
          77,
          72,
          38,
          65,
          68,
          74,
          83,
          60,
          67,
          73,
          74,
          48,
          80,
          58,
          62,
          79,
          58,
          56,
          65,
          71,
          64,
          73,
          60,
          78,
          75,
          66,
          66,
          63,
          71,
          82,
          72,
          73,
          76,
          79,
          97,
          50,
          72,
          51,
          71,
          74,
          64,
          60,
          46,
          62,
          7,
          73,
          59,
          78,
          77,
          79,
          84,
          79,
          71,
          69,
          77,
          63,
          76,
          71,
          84,
          66,
          57,
          76,
          62,
          77,
          79,
          5,
          69,
          73,
          13,
          78,
          65,
          77,
          69,
          57,
          65,
          77,
          75,
          75,
          78,
          71,
          3,
          76,
          69,
          50,
          82,
          84,
          69,
          70,
          70,
          14,
          71,
          66,
          57,
          73
         ],
         "yaxis": "y"
        },
        {
         "hovertemplate": "<b>LOWESS trendline</b><br><br>rank=%{x}<br>track_popularity=%{y} <b>(trend)</b><extra></extra>",
         "legendgroup": "",
         "marker": {
          "color": "#636efa",
          "symbol": "circle"
         },
         "mode": "lines",
         "name": "",
         "showlegend": false,
         "type": "scatter",
         "x": [
          1,
          2,
          3,
          4,
          5,
          6,
          7,
          8,
          9,
          10,
          11,
          12,
          13,
          14,
          15,
          16,
          17,
          18,
          19,
          20,
          21,
          22,
          23,
          24,
          25,
          26,
          27,
          28,
          29,
          30,
          31,
          32,
          33,
          34,
          35,
          36,
          37,
          38,
          39,
          40,
          41,
          42,
          43,
          44,
          45,
          46,
          47,
          48,
          49,
          50,
          51,
          52,
          53,
          54,
          55,
          56,
          57,
          58,
          59,
          60,
          61,
          62,
          63,
          64,
          65,
          66,
          67,
          68,
          69,
          70,
          71,
          72,
          73,
          74,
          75,
          76,
          77,
          78,
          79,
          80,
          81,
          82,
          83,
          84,
          85,
          86,
          87,
          88,
          89,
          90,
          91,
          92,
          93,
          94,
          95,
          96,
          97,
          98,
          99,
          100,
          101,
          102,
          103,
          104,
          105,
          106,
          107,
          108,
          109,
          110,
          111,
          112,
          113,
          114,
          115,
          116,
          117,
          118,
          119,
          120,
          121,
          122,
          123,
          124,
          125,
          126,
          127,
          128,
          129,
          130,
          131,
          132,
          133,
          134,
          135,
          136,
          137,
          138,
          139,
          140,
          141,
          142,
          143,
          144,
          145,
          146,
          147,
          148,
          149,
          150,
          151,
          152,
          153,
          154,
          155,
          156,
          157,
          158,
          159,
          160,
          161,
          162,
          163,
          164,
          165,
          166,
          167,
          168,
          169,
          170,
          171,
          172,
          173,
          174,
          175,
          176,
          177,
          178,
          179,
          180,
          181,
          182,
          183,
          184,
          185,
          186,
          187,
          188,
          189,
          190,
          191,
          192,
          193,
          194,
          195,
          196,
          197,
          198,
          199,
          200,
          201,
          202,
          203,
          204,
          205,
          206,
          207,
          208,
          209,
          210,
          211,
          212,
          213,
          214,
          215,
          216,
          217,
          218,
          219,
          220,
          221,
          222,
          223,
          224,
          225,
          226,
          227,
          228,
          229,
          230,
          231,
          232,
          233,
          234,
          235,
          236,
          237,
          238,
          239,
          240,
          241,
          242,
          243,
          244,
          245,
          246,
          247,
          248,
          249,
          250,
          251,
          252,
          253,
          254,
          255,
          256,
          257,
          258,
          259,
          260,
          261,
          262,
          263,
          264,
          265,
          266,
          267,
          268,
          269,
          270,
          271,
          272,
          273,
          274,
          275,
          276,
          277,
          278,
          279,
          280,
          281,
          282,
          283,
          284,
          285,
          286,
          287,
          288,
          289,
          290,
          291,
          292,
          293,
          294,
          295,
          296,
          297,
          298,
          299,
          300,
          301,
          302,
          303,
          304,
          305,
          306,
          307,
          308,
          309,
          310,
          311,
          312,
          313,
          314,
          315,
          316,
          317,
          318,
          319,
          320,
          321,
          322,
          323,
          324,
          325,
          326,
          327,
          328,
          329,
          330,
          331,
          332,
          333,
          334,
          335,
          336,
          337,
          338,
          339,
          340,
          341,
          342,
          343,
          344,
          345,
          346,
          347,
          348,
          349,
          350,
          351,
          352,
          353,
          354,
          355,
          356,
          357,
          358,
          359,
          360,
          361,
          362,
          363,
          364,
          365,
          366,
          367,
          368,
          369,
          370,
          371,
          372,
          373,
          374,
          375,
          376,
          377,
          378,
          379,
          380,
          381,
          382,
          383,
          384,
          385,
          386,
          387,
          388,
          389,
          390,
          391,
          392,
          393,
          394,
          395,
          396,
          397,
          398,
          399,
          400,
          401,
          402,
          403,
          404,
          405,
          406,
          407,
          408,
          409,
          410,
          411,
          412,
          413,
          414,
          415,
          416,
          417,
          418,
          419,
          420,
          421,
          422,
          423,
          424,
          425,
          426,
          427,
          428,
          429,
          430,
          431,
          432,
          433,
          434,
          435,
          436,
          437,
          438,
          439,
          440,
          441,
          442,
          443,
          444,
          445,
          446,
          447,
          448,
          449,
          450,
          451,
          452,
          453,
          454,
          455,
          456,
          457,
          458,
          459,
          460,
          461,
          462,
          463,
          464,
          465,
          466,
          467,
          468,
          469,
          470,
          471,
          472,
          473,
          474,
          475,
          476,
          477,
          478,
          479,
          480,
          481,
          482,
          483,
          484,
          485,
          486,
          487,
          488,
          489,
          490,
          491,
          492,
          493,
          494,
          495,
          496,
          497,
          498,
          499,
          500
         ],
         "xaxis": "x",
         "y": [
          71.73091809589411,
          71.70013077577369,
          71.66933959499214,
          71.6385447359871,
          71.60774649716345,
          71.57694520488636,
          71.54614119427654,
          71.5153348273643,
          71.48452650083141,
          71.45371661547485,
          71.42290541257852,
          71.39209302279214,
          71.36127973234272,
          71.33046588896367,
          71.29965179283573,
          71.26883773220469,
          71.23802398044732,
          71.20721072243398,
          71.17639806719397,
          71.14558605013193,
          71.11477464452975,
          71.08396391253638,
          71.05315408204868,
          71.0223454249716,
          70.99153816953744,
          70.96073257667716,
          70.92992884701282,
          70.89912715604399,
          70.86832766112587,
          70.83753053546842,
          70.80673593599617,
          70.7759439149402,
          70.74515445691377,
          70.7143676064329,
          70.68358340525695,
          70.65280202292567,
          70.62202368126393,
          70.59124848781833,
          70.5604764992266,
          70.529707731771,
          70.49894224740765,
          70.4681800629164,
          70.43742119114818,
          70.40666562004911,
          70.37591321706289,
          70.34516367946256,
          70.31441656510971,
          70.28367131608161,
          70.25292729829437,
          70.22218394813608,
          70.19144069132254,
          70.1606969573799,
          70.12995228352518,
          70.09920638899209,
          70.06845913553545,
          70.03771045676922,
          70.00696025719348,
          69.97620845398997,
          69.94545509544314,
          69.91470027976926,
          69.88394420946888,
          69.85318697009673,
          69.82242851316062,
          69.79166869853275,
          69.76090732988793,
          69.73014414898576,
          69.69937877479076,
          69.66861079373383,
          69.63783985301151,
          69.6070656527382,
          69.5762879175919,
          69.54550630236587,
          69.51472038314753,
          69.48392978535192,
          69.45313412610555,
          69.4223330536389,
          69.3915262159564,
          69.3607133198904,
          69.32989421549176,
          69.2990688573265,
          69.26823715261979,
          69.23739907863776,
          69.2065547069061,
          69.17570407433789,
          69.14484732508546,
          69.11398458649428,
          69.08311594474151,
          69.05224152171252,
          69.02136150506072,
          68.9904759780371,
          68.95958494909225,
          68.92868843449199,
          68.89778652366468,
          68.86687943154442,
          68.83596735951912,
          68.80505042011771,
          68.77412870926857,
          68.7432024487279,
          68.71227189169343,
          68.68133723225039,
          68.65039856216295,
          68.6194559662972,
          68.58850956422967,
          68.55755948747915,
          68.5266058476119,
          68.49564866528581,
          68.46468792524682,
          68.43372363806321,
          68.40275574932899,
          68.3717841761584,
          68.34080894551526,
          68.30983026462756,
          68.27884838332542,
          68.24786343733975,
          68.21687553940262,
          68.18588465739943,
          68.15489067629291,
          68.12389357579158,
          68.09289325985853,
          68.06188943568573,
          68.03088170565599,
          67.99986961324187,
          67.9688525932646,
          67.93783011786995,
          67.90680164192766,
          67.87576669386978,
          67.84472487752716,
          67.81367579091174,
          67.78261890207327,
          67.75155348447878,
          67.72047864849753,
          67.68939337566104,
          67.65829647643896,
          67.6271868315001,
          67.59606310243358,
          67.56492381542839,
          67.5337676549455,
          67.5025933270825,
          67.47139929486016,
          67.44018392263294,
          67.40894554539145,
          67.37768253723966,
          67.34639320823872,
          67.31507604406951,
          67.28372981533117,
          67.25235356161748,
          67.22094623714709,
          67.18950705033213,
          67.15803548046715,
          67.12653100877722,
          67.09499292271123,
          67.06342042944789,
          67.03181316568363,
          67.0001709882403,
          66.96849398696398,
          66.93678289288906,
          66.90503908853216,
          66.87326475597102,
          66.84146319405266,
          66.80963892734151,
          66.77779763503428,
          66.74594665400062,
          66.71409524008044,
          66.68225472383011,
          66.65043870768687,
          66.61866380134795,
          66.58695031535817,
          66.55667376637666,
          66.5265946373694,
          66.49672190360613,
          66.46706191264828,
          66.43762103029907,
          66.40840715109644,
          66.3794295991617,
          66.35069646600786,
          66.32221300358357,
          66.29398400861864,
          66.26601365974423,
          66.2383050166257,
          66.21086106621121,
          66.18368518163074,
          66.15677916104886,
          66.13014295169756,
          66.10377556956,
          66.07767544954095,
          66.0518399770384,
          66.02626491863494,
          66.00094644365764,
          65.97588179211462,
          65.95106906688095,
          65.9265057555625,
          65.90218967414269,
          65.87812176121261,
          65.8543046542621,
          65.83074257600391,
          65.80743802304679,
          65.7843923859245,
          65.76160817504292,
          65.73908995751594,
          65.71684010142954,
          65.69485930463837,
          65.67314434051168,
          65.65168986470788,
          65.63049295128738,
          65.6095520040193,
          65.58886561234816,
          65.56843244875361,
          65.54825227778393,
          65.52832567812065,
          65.5086521482379,
          65.4892308067124,
          65.4700617648606,
          65.45114685334443,
          65.43249085984657,
          65.41409846636645,
          65.3959712258193,
          65.37810846054806,
          65.36050964725054,
          65.34317562090521,
          65.32610707882097,
          65.30930274432556,
          65.29276105136438,
          65.27648021808423,
          65.26045930666787,
          65.24469601994473,
          65.2291896439014,
          65.21393971911287,
          65.19894792199604,
          65.18421472355277,
          65.16973980257875,
          65.15552305938718,
          65.14156396298857,
          65.12786178083303,
          65.11441753948223,
          65.10123130647573,
          65.0883012426793,
          65.07562670700335,
          65.06321004093375,
          65.0510560085338,
          65.03917071758397,
          65.02756189462129,
          65.01623666676592,
          65.00520374236808,
          64.99447292283958,
          64.98405333009941,
          64.97395138098575,
          64.9641720890943,
          64.95471682462046,
          64.94558231609594,
          64.93676317979407,
          64.92825297257863,
          64.92004743016992,
          64.91214558433718,
          64.90454723586274,
          64.8972525828486,
          64.89026400719953,
          64.8835853978142,
          64.87721864301818,
          64.87116376854617,
          64.86541997774046,
          64.8599865974244,
          64.85486537695186,
          64.85005829312078,
          64.84556740657364,
          64.84139527944221,
          64.83754376857513,
          64.83401367576408,
          64.83080469338361,
          64.82791382952489,
          64.82533631932301,
          64.82306730630339,
          64.82110378224478,
          64.81944129668031,
          64.8180743609149,
          64.81699859063396,
          64.81621139964898,
          64.81570942867093,
          64.81548798633534,
          64.81554370412535,
          64.81587603388236,
          64.81648262016674,
          64.81736030287682,
          64.81850435871094,
          64.81990643383742,
          64.82155990802943,
          64.82345989674738,
          64.825600555008,
          64.82797669594686,
          64.83058321557868,
          64.8334151575895,
          64.83646903091693,
          64.83974152468929,
          64.8432297618298,
          64.84693053639079,
          64.85084073161478,
          64.85495684910458,
          64.8592755409255,
          64.86379518657677,
          64.86851527208202,
          64.87343493994605,
          64.87855780961435,
          64.88389011484274,
          64.88943646283528,
          64.89520180927354,
          64.90119280917732,
          64.90741784809843,
          64.91388633929864,
          64.92060747480747,
          64.92758971420979,
          64.93483982523763,
          64.94235961294808,
          64.95014589653672,
          64.95819528438282,
          64.96650332181974,
          64.97506414084684,
          64.98387188600664,
          64.99292246493717,
          65.00221603251556,
          65.01175356931282,
          65.0215384469252,
          65.03157517983185,
          65.0418663164287,
          65.05241234538963,
          65.06321201081472,
          65.07426280385964,
          65.08556339273342,
          65.09711502488739,
          65.10891835689729,
          65.12097470260137,
          65.13328719954613,
          65.1458611312143,
          65.1587017489183,
          65.17181314422645,
          65.18519711990562,
          65.20500842309264,
          65.22471227861753,
          65.24430801977417,
          65.2637967578661,
          65.28318069395571,
          65.30246283577586,
          65.32164721230647,
          65.34073893010158,
          65.35974379868712,
          65.37866810788783,
          65.39751802778495,
          65.41629940131281,
          65.43501780199497,
          65.4536786674347,
          65.47228745431192,
          65.49084963426951,
          65.50937053229858,
          65.52785534987095,
          65.54630919459423,
          65.56473663031012,
          65.58314150768351,
          65.60152716313272,
          65.61989675883622,
          65.63825307816998,
          65.65659836163513,
          65.67493445900351,
          65.69326290237068,
          65.71158526757146,
          65.7299031217002,
          65.74821793527342,
          65.76653091220989,
          65.78484325820276,
          65.80315619332855,
          65.82147102215173,
          65.83978899504349,
          65.85811109252512,
          65.87643809886184,
          65.89477074423627,
          65.91310958524721,
          65.93145505227466,
          65.94980740108372,
          65.96816695757073,
          65.98653415432646,
          66.00490950516824,
          66.02329353085378,
          66.0416865708129,
          66.06008903031122,
          66.07850152106863,
          66.09692483801362,
          66.1153597478988,
          66.13380676863389,
          66.15226619236931,
          66.17073823260081,
          66.18922305418457,
          66.20772089804045,
          66.22623194600114,
          66.2447563086526,
          66.26329391507241,
          66.28184452135167,
          66.30040775812587,
          66.31898340931781,
          66.33757138504164,
          66.35617162747305,
          66.37478417495392,
          66.39340919629537,
          66.41204680950428,
          66.43069716992535,
          66.44936054217095,
          66.46803707805127,
          66.48672679097024,
          66.50542965082704,
          66.52414551701246,
          66.5428741664194,
          66.56161533631214,
          66.58036864857777,
          66.59913360246345,
          66.61790958898945,
          66.63669609815317,
          66.65549278088889,
          66.6742994513061,
          66.69311612449248,
          66.71194297146917,
          66.73078011237642,
          66.7496275246875,
          66.7684850210346,
          66.78735233625731,
          66.80622911007119,
          66.82511493252775,
          66.84400937488275,
          66.86291210260278,
          66.88182282069371,
          66.90074116343487,
          66.91966675590392,
          66.93859913963107,
          66.957537858576,
          66.97648232053166,
          66.99543181506459,
          67.01438568957781,
          67.03334345182925,
          67.05230470219857,
          67.0712691550455,
          67.09023659009996,
          67.1092067711462,
          67.12817938155398,
          67.14715419067099,
          67.1661309749598,
          67.18510946299119,
          67.20408927645389,
          67.22307000062602,
          67.24205113562854,
          67.2610320406326,
          67.28001195247295,
          67.29899020097538,
          67.31796627752125,
          67.33693984760474,
          67.35591073263174,
          67.37487870874281,
          67.39384357092166,
          67.4128052298511,
          67.43176351889431,
          67.45071831897116,
          67.46966950502782,
          67.48861687680517,
          67.50756008750564,
          67.52649862846758,
          67.5454319713883,
          67.56435965017877,
          67.5832813820246,
          67.60219699897775,
          67.6211063174928,
          67.64000921239169,
          67.65890554231527,
          67.67779501337766,
          67.6966772523871,
          67.7155518568941,
          67.73441834906208,
          67.75327625324933,
          67.77212503953882,
          67.79096408396892,
          67.80979273685168,
          67.82861043520076,
          67.84741666175468,
          67.86621110389706,
          67.88499367129626,
          67.90376436516446,
          67.92252320994271,
          67.94127025311134,
          67.96000566162344,
          67.97872974153128,
          67.99744267918942,
          68.0161445427918,
          68.03483529118373,
          68.05351485909868,
          68.07218322974099,
          68.09084047575934,
          68.10948680851797,
          68.12812248057233,
          68.14674762016851,
          68.16536224490878,
          68.18396645357731,
          68.20256030318811,
          68.22114372534602,
          68.23971655673199,
          68.25827859087828,
          68.27682954380158,
          68.29536925964747
         ],
         "yaxis": "y"
        }
       ],
       "layout": {
        "coloraxis": {
         "showscale": false
        },
        "height": 400,
        "legend": {
         "tracegroupgap": 0
        },
        "margin": {
         "b": 10,
         "l": 10,
         "r": 10,
         "t": 50
        },
        "plot_bgcolor": "white",
        "template": {
         "data": {
          "bar": [
           {
            "error_x": {
             "color": "#2a3f5f"
            },
            "error_y": {
             "color": "#2a3f5f"
            },
            "marker": {
             "line": {
              "color": "#E5ECF6",
              "width": 0.5
             },
             "pattern": {
              "fillmode": "overlay",
              "size": 10,
              "solidity": 0.2
             }
            },
            "type": "bar"
           }
          ],
          "barpolar": [
           {
            "marker": {
             "line": {
              "color": "#E5ECF6",
              "width": 0.5
             },
             "pattern": {
              "fillmode": "overlay",
              "size": 10,
              "solidity": 0.2
             }
            },
            "type": "barpolar"
           }
          ],
          "carpet": [
           {
            "aaxis": {
             "endlinecolor": "#2a3f5f",
             "gridcolor": "white",
             "linecolor": "white",
             "minorgridcolor": "white",
             "startlinecolor": "#2a3f5f"
            },
            "baxis": {
             "endlinecolor": "#2a3f5f",
             "gridcolor": "white",
             "linecolor": "white",
             "minorgridcolor": "white",
             "startlinecolor": "#2a3f5f"
            },
            "type": "carpet"
           }
          ],
          "choropleth": [
           {
            "colorbar": {
             "outlinewidth": 0,
             "ticks": ""
            },
            "type": "choropleth"
           }
          ],
          "contour": [
           {
            "colorbar": {
             "outlinewidth": 0,
             "ticks": ""
            },
            "colorscale": [
             [
              0,
              "#0d0887"
             ],
             [
              0.1111111111111111,
              "#46039f"
             ],
             [
              0.2222222222222222,
              "#7201a8"
             ],
             [
              0.3333333333333333,
              "#9c179e"
             ],
             [
              0.4444444444444444,
              "#bd3786"
             ],
             [
              0.5555555555555556,
              "#d8576b"
             ],
             [
              0.6666666666666666,
              "#ed7953"
             ],
             [
              0.7777777777777778,
              "#fb9f3a"
             ],
             [
              0.8888888888888888,
              "#fdca26"
             ],
             [
              1,
              "#f0f921"
             ]
            ],
            "type": "contour"
           }
          ],
          "contourcarpet": [
           {
            "colorbar": {
             "outlinewidth": 0,
             "ticks": ""
            },
            "type": "contourcarpet"
           }
          ],
          "heatmap": [
           {
            "colorbar": {
             "outlinewidth": 0,
             "ticks": ""
            },
            "colorscale": [
             [
              0,
              "#0d0887"
             ],
             [
              0.1111111111111111,
              "#46039f"
             ],
             [
              0.2222222222222222,
              "#7201a8"
             ],
             [
              0.3333333333333333,
              "#9c179e"
             ],
             [
              0.4444444444444444,
              "#bd3786"
             ],
             [
              0.5555555555555556,
              "#d8576b"
             ],
             [
              0.6666666666666666,
              "#ed7953"
             ],
             [
              0.7777777777777778,
              "#fb9f3a"
             ],
             [
              0.8888888888888888,
              "#fdca26"
             ],
             [
              1,
              "#f0f921"
             ]
            ],
            "type": "heatmap"
           }
          ],
          "heatmapgl": [
           {
            "colorbar": {
             "outlinewidth": 0,
             "ticks": ""
            },
            "colorscale": [
             [
              0,
              "#0d0887"
             ],
             [
              0.1111111111111111,
              "#46039f"
             ],
             [
              0.2222222222222222,
              "#7201a8"
             ],
             [
              0.3333333333333333,
              "#9c179e"
             ],
             [
              0.4444444444444444,
              "#bd3786"
             ],
             [
              0.5555555555555556,
              "#d8576b"
             ],
             [
              0.6666666666666666,
              "#ed7953"
             ],
             [
              0.7777777777777778,
              "#fb9f3a"
             ],
             [
              0.8888888888888888,
              "#fdca26"
             ],
             [
              1,
              "#f0f921"
             ]
            ],
            "type": "heatmapgl"
           }
          ],
          "histogram": [
           {
            "marker": {
             "pattern": {
              "fillmode": "overlay",
              "size": 10,
              "solidity": 0.2
             }
            },
            "type": "histogram"
           }
          ],
          "histogram2d": [
           {
            "colorbar": {
             "outlinewidth": 0,
             "ticks": ""
            },
            "colorscale": [
             [
              0,
              "#0d0887"
             ],
             [
              0.1111111111111111,
              "#46039f"
             ],
             [
              0.2222222222222222,
              "#7201a8"
             ],
             [
              0.3333333333333333,
              "#9c179e"
             ],
             [
              0.4444444444444444,
              "#bd3786"
             ],
             [
              0.5555555555555556,
              "#d8576b"
             ],
             [
              0.6666666666666666,
              "#ed7953"
             ],
             [
              0.7777777777777778,
              "#fb9f3a"
             ],
             [
              0.8888888888888888,
              "#fdca26"
             ],
             [
              1,
              "#f0f921"
             ]
            ],
            "type": "histogram2d"
           }
          ],
          "histogram2dcontour": [
           {
            "colorbar": {
             "outlinewidth": 0,
             "ticks": ""
            },
            "colorscale": [
             [
              0,
              "#0d0887"
             ],
             [
              0.1111111111111111,
              "#46039f"
             ],
             [
              0.2222222222222222,
              "#7201a8"
             ],
             [
              0.3333333333333333,
              "#9c179e"
             ],
             [
              0.4444444444444444,
              "#bd3786"
             ],
             [
              0.5555555555555556,
              "#d8576b"
             ],
             [
              0.6666666666666666,
              "#ed7953"
             ],
             [
              0.7777777777777778,
              "#fb9f3a"
             ],
             [
              0.8888888888888888,
              "#fdca26"
             ],
             [
              1,
              "#f0f921"
             ]
            ],
            "type": "histogram2dcontour"
           }
          ],
          "mesh3d": [
           {
            "colorbar": {
             "outlinewidth": 0,
             "ticks": ""
            },
            "type": "mesh3d"
           }
          ],
          "parcoords": [
           {
            "line": {
             "colorbar": {
              "outlinewidth": 0,
              "ticks": ""
             }
            },
            "type": "parcoords"
           }
          ],
          "pie": [
           {
            "automargin": true,
            "type": "pie"
           }
          ],
          "scatter": [
           {
            "marker": {
             "colorbar": {
              "outlinewidth": 0,
              "ticks": ""
             }
            },
            "type": "scatter"
           }
          ],
          "scatter3d": [
           {
            "line": {
             "colorbar": {
              "outlinewidth": 0,
              "ticks": ""
             }
            },
            "marker": {
             "colorbar": {
              "outlinewidth": 0,
              "ticks": ""
             }
            },
            "type": "scatter3d"
           }
          ],
          "scattercarpet": [
           {
            "marker": {
             "colorbar": {
              "outlinewidth": 0,
              "ticks": ""
             }
            },
            "type": "scattercarpet"
           }
          ],
          "scattergeo": [
           {
            "marker": {
             "colorbar": {
              "outlinewidth": 0,
              "ticks": ""
             }
            },
            "type": "scattergeo"
           }
          ],
          "scattergl": [
           {
            "marker": {
             "colorbar": {
              "outlinewidth": 0,
              "ticks": ""
             }
            },
            "type": "scattergl"
           }
          ],
          "scattermapbox": [
           {
            "marker": {
             "colorbar": {
              "outlinewidth": 0,
              "ticks": ""
             }
            },
            "type": "scattermapbox"
           }
          ],
          "scatterpolar": [
           {
            "marker": {
             "colorbar": {
              "outlinewidth": 0,
              "ticks": ""
             }
            },
            "type": "scatterpolar"
           }
          ],
          "scatterpolargl": [
           {
            "marker": {
             "colorbar": {
              "outlinewidth": 0,
              "ticks": ""
             }
            },
            "type": "scatterpolargl"
           }
          ],
          "scatterternary": [
           {
            "marker": {
             "colorbar": {
              "outlinewidth": 0,
              "ticks": ""
             }
            },
            "type": "scatterternary"
           }
          ],
          "surface": [
           {
            "colorbar": {
             "outlinewidth": 0,
             "ticks": ""
            },
            "colorscale": [
             [
              0,
              "#0d0887"
             ],
             [
              0.1111111111111111,
              "#46039f"
             ],
             [
              0.2222222222222222,
              "#7201a8"
             ],
             [
              0.3333333333333333,
              "#9c179e"
             ],
             [
              0.4444444444444444,
              "#bd3786"
             ],
             [
              0.5555555555555556,
              "#d8576b"
             ],
             [
              0.6666666666666666,
              "#ed7953"
             ],
             [
              0.7777777777777778,
              "#fb9f3a"
             ],
             [
              0.8888888888888888,
              "#fdca26"
             ],
             [
              1,
              "#f0f921"
             ]
            ],
            "type": "surface"
           }
          ],
          "table": [
           {
            "cells": {
             "fill": {
              "color": "#EBF0F8"
             },
             "line": {
              "color": "white"
             }
            },
            "header": {
             "fill": {
              "color": "#C8D4E3"
             },
             "line": {
              "color": "white"
             }
            },
            "type": "table"
           }
          ]
         },
         "layout": {
          "annotationdefaults": {
           "arrowcolor": "#2a3f5f",
           "arrowhead": 0,
           "arrowwidth": 1
          },
          "autotypenumbers": "strict",
          "coloraxis": {
           "colorbar": {
            "outlinewidth": 0,
            "ticks": ""
           }
          },
          "colorscale": {
           "diverging": [
            [
             0,
             "#8e0152"
            ],
            [
             0.1,
             "#c51b7d"
            ],
            [
             0.2,
             "#de77ae"
            ],
            [
             0.3,
             "#f1b6da"
            ],
            [
             0.4,
             "#fde0ef"
            ],
            [
             0.5,
             "#f7f7f7"
            ],
            [
             0.6,
             "#e6f5d0"
            ],
            [
             0.7,
             "#b8e186"
            ],
            [
             0.8,
             "#7fbc41"
            ],
            [
             0.9,
             "#4d9221"
            ],
            [
             1,
             "#276419"
            ]
           ],
           "sequential": [
            [
             0,
             "#0d0887"
            ],
            [
             0.1111111111111111,
             "#46039f"
            ],
            [
             0.2222222222222222,
             "#7201a8"
            ],
            [
             0.3333333333333333,
             "#9c179e"
            ],
            [
             0.4444444444444444,
             "#bd3786"
            ],
            [
             0.5555555555555556,
             "#d8576b"
            ],
            [
             0.6666666666666666,
             "#ed7953"
            ],
            [
             0.7777777777777778,
             "#fb9f3a"
            ],
            [
             0.8888888888888888,
             "#fdca26"
            ],
            [
             1,
             "#f0f921"
            ]
           ],
           "sequentialminus": [
            [
             0,
             "#0d0887"
            ],
            [
             0.1111111111111111,
             "#46039f"
            ],
            [
             0.2222222222222222,
             "#7201a8"
            ],
            [
             0.3333333333333333,
             "#9c179e"
            ],
            [
             0.4444444444444444,
             "#bd3786"
            ],
            [
             0.5555555555555556,
             "#d8576b"
            ],
            [
             0.6666666666666666,
             "#ed7953"
            ],
            [
             0.7777777777777778,
             "#fb9f3a"
            ],
            [
             0.8888888888888888,
             "#fdca26"
            ],
            [
             1,
             "#f0f921"
            ]
           ]
          },
          "colorway": [
           "#636efa",
           "#EF553B",
           "#00cc96",
           "#ab63fa",
           "#FFA15A",
           "#19d3f3",
           "#FF6692",
           "#B6E880",
           "#FF97FF",
           "#FECB52"
          ],
          "font": {
           "color": "#2a3f5f"
          },
          "geo": {
           "bgcolor": "white",
           "lakecolor": "white",
           "landcolor": "#E5ECF6",
           "showlakes": true,
           "showland": true,
           "subunitcolor": "white"
          },
          "hoverlabel": {
           "align": "left"
          },
          "hovermode": "closest",
          "mapbox": {
           "style": "light"
          },
          "paper_bgcolor": "white",
          "plot_bgcolor": "#E5ECF6",
          "polar": {
           "angularaxis": {
            "gridcolor": "white",
            "linecolor": "white",
            "ticks": ""
           },
           "bgcolor": "#E5ECF6",
           "radialaxis": {
            "gridcolor": "white",
            "linecolor": "white",
            "ticks": ""
           }
          },
          "scene": {
           "xaxis": {
            "backgroundcolor": "#E5ECF6",
            "gridcolor": "white",
            "gridwidth": 2,
            "linecolor": "white",
            "showbackground": true,
            "ticks": "",
            "zerolinecolor": "white"
           },
           "yaxis": {
            "backgroundcolor": "#E5ECF6",
            "gridcolor": "white",
            "gridwidth": 2,
            "linecolor": "white",
            "showbackground": true,
            "ticks": "",
            "zerolinecolor": "white"
           },
           "zaxis": {
            "backgroundcolor": "#E5ECF6",
            "gridcolor": "white",
            "gridwidth": 2,
            "linecolor": "white",
            "showbackground": true,
            "ticks": "",
            "zerolinecolor": "white"
           }
          },
          "shapedefaults": {
           "line": {
            "color": "#2a3f5f"
           }
          },
          "ternary": {
           "aaxis": {
            "gridcolor": "white",
            "linecolor": "white",
            "ticks": ""
           },
           "baxis": {
            "gridcolor": "white",
            "linecolor": "white",
            "ticks": ""
           },
           "bgcolor": "#E5ECF6",
           "caxis": {
            "gridcolor": "white",
            "linecolor": "white",
            "ticks": ""
           }
          },
          "title": {
           "x": 0.05
          },
          "xaxis": {
           "automargin": true,
           "gridcolor": "white",
           "linecolor": "white",
           "ticks": "",
           "title": {
            "standoff": 15
           },
           "zerolinecolor": "white",
           "zerolinewidth": 2
          },
          "yaxis": {
           "automargin": true,
           "gridcolor": "white",
           "linecolor": "white",
           "ticks": "",
           "title": {
            "standoff": 15
           },
           "zerolinecolor": "white",
           "zerolinewidth": 2
          }
         }
        },
        "title": {
         "text": "Comparing Rank and Track Popularity"
        },
        "width": 800,
        "xaxis": {
         "anchor": "y",
         "autorange": true,
         "domain": [
          0,
          1
         ],
         "range": [
          530.9189729397294,
          -29.918972939729397
         ],
         "title": {
          "text": "Song Ranking"
         },
         "type": "linear"
        },
        "yaxis": {
         "anchor": "x",
         "autorange": true,
         "domain": [
          0,
          1
         ],
         "range": [
          -6.933868501529052,
          103.93386850152905
         ],
         "title": {
          "text": "Current Song Popularity"
         },
         "type": "linear"
        }
       }
      }
     },
     "metadata": {},
     "output_type": "display_data"
    }
   ],
   "source": [
    "import plotly.express as px\n",
    "\n",
    "def plot_popularity_against_track_rank(df, outpath=None):\n",
    "    fig = px.scatter(\n",
    "        data_frame=df, \n",
    "        x='rank', \n",
    "        y='track_popularity', \n",
    "        hover_name='track_name', \n",
    "        title='Comparing Rank and Track Popularity',\n",
    "        hover_data=['artist_name'],\n",
    "        trendline=\"lowess\"\n",
    "    )\n",
    "    fig = fig.update_coloraxes(showscale=False)\n",
    "    fig = fig.update_xaxes(autorange=\"reversed\")\n",
    "    fig = fig.update_layout(\n",
    "        plot_bgcolor=\"white\", \n",
    "        margin=dict(t=50, l=10, b=10, r=10),\n",
    "        xaxis_title='Song Ranking',\n",
    "        yaxis_title=\"Current Song Popularity\",\n",
    "        width = 800, height = 400\n",
    "    )\n",
    "    if outpath:\n",
    "        fig.write_image(outpath)\n",
    "    return fig\n",
    "\n",
    "plot_popularity_against_track_rank(df, outpath=\"images/track_pop.png\")"
   ]
  },
  {
   "cell_type": "markdown",
   "id": "c9c5af63-88f2-4e13-bbe0-419e54f25369",
   "metadata": {},
   "source": [
    "![track_pop](images/track_pop.png)\n",
    "\n",
    "Dammnnn, Kate Buschhhh so far up there. And we see that there is no real link between current popularity and ranking. I mean, fair. Now I'd like to do something similar with artists in general. Below I explore the rank against popularity at the artist level by grabbing the best ranked song for each artist and compare it against the artist level popularity."
   ]
  },
  {
   "cell_type": "code",
   "execution_count": 15,
   "id": "424970e5-bcfe-415e-a506-4c21229aa947",
   "metadata": {},
   "outputs": [
    {
     "data": {
      "text/html": [
       "<div>\n",
       "<style scoped>\n",
       "    .dataframe tbody tr th:only-of-type {\n",
       "        vertical-align: middle;\n",
       "    }\n",
       "\n",
       "    .dataframe tbody tr th {\n",
       "        vertical-align: top;\n",
       "    }\n",
       "\n",
       "    .dataframe thead th {\n",
       "        text-align: right;\n",
       "    }\n",
       "</style>\n",
       "<table border=\"1\" class=\"dataframe\">\n",
       "  <thead>\n",
       "    <tr style=\"text-align: right;\">\n",
       "      <th></th>\n",
       "      <th>artist_name</th>\n",
       "      <th>rank</th>\n",
       "      <th>artist_popularity</th>\n",
       "    </tr>\n",
       "  </thead>\n",
       "  <tbody>\n",
       "    <tr>\n",
       "      <th>21</th>\n",
       "      <td>Bad Bunny</td>\n",
       "      <td>329</td>\n",
       "      <td>100</td>\n",
       "    </tr>\n",
       "    <tr>\n",
       "      <th>86</th>\n",
       "      <td>Drake</td>\n",
       "      <td>129</td>\n",
       "      <td>95</td>\n",
       "    </tr>\n",
       "    <tr>\n",
       "      <th>127</th>\n",
       "      <td>Harry Styles</td>\n",
       "      <td>428</td>\n",
       "      <td>93</td>\n",
       "    </tr>\n",
       "    <tr>\n",
       "      <th>279</th>\n",
       "      <td>Taylor Swift</td>\n",
       "      <td>69</td>\n",
       "      <td>92</td>\n",
       "    </tr>\n",
       "    <tr>\n",
       "      <th>19</th>\n",
       "      <td>BTS</td>\n",
       "      <td>346</td>\n",
       "      <td>92</td>\n",
       "    </tr>\n",
       "    <tr>\n",
       "      <th>...</th>\n",
       "      <td>...</td>\n",
       "      <td>...</td>\n",
       "      <td>...</td>\n",
       "    </tr>\n",
       "    <tr>\n",
       "      <th>354</th>\n",
       "      <td>Woody Guthrie</td>\n",
       "      <td>229</td>\n",
       "      <td>41</td>\n",
       "    </tr>\n",
       "    <tr>\n",
       "      <th>320</th>\n",
       "      <td>The Slits</td>\n",
       "      <td>381</td>\n",
       "      <td>39</td>\n",
       "    </tr>\n",
       "    <tr>\n",
       "      <th>258</th>\n",
       "      <td>Screamin' Jay Hawkins</td>\n",
       "      <td>299</td>\n",
       "      <td>38</td>\n",
       "    </tr>\n",
       "    <tr>\n",
       "      <th>356</th>\n",
       "      <td>X-Ray Spex</td>\n",
       "      <td>120</td>\n",
       "      <td>36</td>\n",
       "    </tr>\n",
       "    <tr>\n",
       "      <th>112</th>\n",
       "      <td>Funky 4 + 1</td>\n",
       "      <td>288</td>\n",
       "      <td>23</td>\n",
       "    </tr>\n",
       "  </tbody>\n",
       "</table>\n",
       "<p>359 rows × 3 columns</p>\n",
       "</div>"
      ],
      "text/plain": [
       "               artist_name  rank  artist_popularity\n",
       "21               Bad Bunny   329                100\n",
       "86                   Drake   129                 95\n",
       "127           Harry Styles   428                 93\n",
       "279           Taylor Swift    69                 92\n",
       "19                     BTS   346                 92\n",
       "..                     ...   ...                ...\n",
       "354          Woody Guthrie   229                 41\n",
       "320              The Slits   381                 39\n",
       "258  Screamin' Jay Hawkins   299                 38\n",
       "356             X-Ray Spex   120                 36\n",
       "112            Funky 4 + 1   288                 23\n",
       "\n",
       "[359 rows x 3 columns]"
      ]
     },
     "execution_count": 15,
     "metadata": {},
     "output_type": "execute_result"
    }
   ],
   "source": [
    "artist_df = (\n",
    "    df\n",
    "    .groupby('artist_name')\n",
    "    .agg({'rank':'min', 'artist_popularity':'max'})\n",
    "    .reset_index()\n",
    "    .sort_values(by='artist_popularity', ascending=False)\n",
    ")\n",
    "artist_df"
   ]
  },
  {
   "cell_type": "markdown",
   "id": "1a7124f6-3bfb-4562-9f9b-54c955684b17",
   "metadata": {},
   "source": [
    "Woww this definitely tracks. Props to Harry Styles and X-Ray Spex for lining up their artist popularity generally with their song popularity. Now I'll make the same plot I built above at the artist level. It turns out Kanye West and Kendrick Lamar are the two most popular artists with songs in the top 50 with `Runaway` and `Alright` respectively."
   ]
  },
  {
   "cell_type": "code",
   "execution_count": 71,
   "id": "51923cba-4d24-4dbf-8da3-d6de8762bad4",
   "metadata": {},
   "outputs": [
    {
     "data": {
      "application/vnd.plotly.v1+json": {
       "config": {
        "plotlyServerURL": "https://plot.ly"
       },
       "data": [
        {
         "hovertemplate": "<b>%{hovertext}</b><br><br>rank=%{x}<br>artist_popularity=%{y}<extra></extra>",
         "hovertext": [
          "Bad Bunny",
          "Drake",
          "Harry Styles",
          "Taylor Swift",
          "BTS",
          "The Weeknd",
          "Kanye West",
          "Eminem",
          "Kendrick Lamar",
          "Ariana Grande",
          "Billie Eilish",
          "Rihanna",
          "Coldplay",
          "Daddy Yankee",
          "Lil Wayne",
          "Lana Del Rey",
          "Adele",
          "Nicki Minaj",
          "Lady Gaga",
          "Beyoncé",
          "Queen",
          "The Beatles",
          "Kate Bush",
          "Lil Nas X",
          "JAY-Z",
          "Elton John",
          "Red Hot Chili Peppers",
          "50 Cent",
          "Metallica",
          "Frank Ocean",
          "Lizzo",
          "Cardi B",
          "Nirvana",
          "Michael Jackson",
          "Megan Thee Stallion",
          "AC/DC",
          "ABBA",
          "Elvis Presley",
          "Fleetwood Mac",
          "Dr. Dre",
          "Daft Punk",
          "2Pac",
          "Britney Spears",
          "Green Day",
          "Guns N' Roses",
          "The Notorious B.I.G.",
          "Migos",
          "Pink Floyd",
          "Fall Out Boy",
          "Radiohead",
          "The Rolling Stones",
          "Childish Gambino",
          "Usher",
          "Bob Marley & The Wailers",
          "U2",
          "Bon Jovi",
          "David Bowie",
          "Madonna",
          "The Killers",
          "Creedence Clearwater Revival",
          "Alicia Keys",
          "Led Zeppelin",
          "Bee Gees",
          "Mariah Carey",
          "Foo Fighters",
          "Billy Joel",
          "Lorde",
          "Oasis",
          "Phil Collins",
          "Eagles",
          "The Strokes",
          "Whitney Houston",
          "Mark Ronson",
          "Journey",
          "Bruce Springsteen",
          "Aerosmith",
          "Backstreet Boys",
          "Ice Cube",
          "Amy Winehouse",
          "Johnny Cash",
          "Weezer",
          "Stevie Wonder",
          "Pearl Jam",
          "Outkast",
          "The Police",
          "Earth, Wind & Fire",
          "The Cure",
          "Miranda Lambert",
          "KISS",
          "Kelly Clarkson",
          "The Smiths",
          "The Beach Boys",
          "Lynyrd Skynyrd",
          "George Michael",
          "Eric Church",
          "Marvin Gaye",
          "R.E.M.",
          "TOTO",
          "Van Morrison",
          "Van Halen",
          "Depeche Mode",
          "The Doors",
          "Black Sabbath",
          "Tears For Fears",
          "Rod Stewart",
          "Rage Against The Machine",
          "The Clash",
          "Bob Dylan",
          "Simon & Garfunkel",
          "Santana",
          "Carly Rae Jepsen",
          "Mary J. Blige",
          "Daryl Hall & John Oates",
          "Prince",
          "Destiny's Child",
          "Bill Withers",
          "Kacey Musgraves",
          "Willie Nelson",
          "The White Stripes",
          "Ms. Lauryn Hill",
          "Selena",
          "Dolly Parton",
          "Cyndi Lauper",
          "Jimi Hendrix",
          "Missy Elliott",
          "DMX",
          "Tina Turner",
          "Blondie",
          "Tom Petty",
          "Aretha Franklin",
          "Tracy Chapman",
          "Paul Simon",
          "Pixies",
          "Talking Heads",
          "The Who",
          "Sade",
          "Louis Armstrong",
          "John Lennon",
          "Yusuf / Cat Stevens",
          "INXS",
          "Cher",
          "Duran Duran",
          "Bob Seger",
          "Beastie Boys",
          "Grateful Dead",
          "M.I.A.",
          "Steely Dan",
          "Eurythmics",
          "TLC",
          "Otis Redding",
          "The Chicks",
          "The Doobie Brothers",
          "Diana Ross",
          "Nina Simone",
          "Tom Petty and the Heartbreakers",
          "Wu-Tang Clan",
          "Alanis Morissette",
          "James Taylor",
          "The Temptations",
          "Aaliyah",
          "Rush",
          "Mobb Deep",
          "Pet Shop Boys",
          "Soundgarden",
          "A Tribe Called Quest",
          "Boston",
          "Nine Inch Nails",
          "Ramones",
          "The Kinks",
          "The Jackson 5",
          "Motörhead",
          "Fugees",
          "N.W.A.",
          "New Order",
          "Janet Jackson",
          "Ray Charles",
          "Stevie Nicks",
          "Beck",
          "The Mamas & The Papas",
          "The Cars",
          "Sam Cooke",
          "Etta James",
          "Donna Summer",
          "Celia Cruz",
          "Don Henley",
          "The Animals",
          "Roy Orbison",
          "Ben E. King",
          "Peter Gabriel",
          "Alice Cooper",
          "Al Green",
          "Yeah Yeah Yeahs",
          "Erykah Badu",
          "Chuck Berry",
          "Joan Jett & the Blackhearts",
          "Leonard Cohen",
          "Joy Division",
          "Blackstreet",
          "Gloria Gaynor",
          "Cheap Trick",
          "Iggy Pop",
          "John Coltrane",
          "James Brown",
          "Allman Brothers Band",
          "The Monkees",
          "Thin Lizzy",
          "Billie Holiday",
          "The Isley Brothers",
          "Luther Vandross",
          "George Jones",
          "Kris Kristofferson",
          "Pretenders",
          "Robyn",
          "Lou Reed",
          "Blue Öyster Cult",
          "Dusty Springfield",
          "Mazzy Star",
          "The Supremes",
          "The Velvet Underground",
          "Wilco",
          "Fiona Apple",
          "Four Tops",
          "Jimmy Cliff",
          "Roxy Music",
          "Glen Campbell",
          "Run–D.M.C.",
          "Gnarls Barkley",
          "Carole King",
          "Solange",
          "Azealia Banks",
          "Rick James",
          "Carly Simon",
          "T. Rex",
          "Miles Davis",
          "Jorge Ben Jor",
          "The B-52's",
          "The Band",
          "The Righteous Brothers",
          "Roberta Flack",
          "CHIC",
          "Dionne Warwick",
          "Derek & The Dominos",
          "Merle Haggard",
          "Pulp",
          "Neil Young",
          "D'Angelo",
          "Sly & The Family Stone",
          "Bonnie Raitt",
          "Harry Nilsson",
          "Hole",
          "Nick Drake",
          "Faces",
          "Jeff Buckley",
          "John Prine",
          "UGK",
          "Jefferson Airplane",
          "Randy Newman",
          "JUVENILE",
          "Sonic Youth",
          "Patsy Cline",
          "The Everly Brothers",
          "The Drifters",
          "Fountains Of Wayne",
          "Jerry Lee Lewis",
          "Buddy Holly",
          "LCD Soundsystem",
          "The Zombies",
          "Gladys Knight & The Pips",
          "Curtis Mayfield",
          "Sinéad O'Connor",
          "Martha Reeves & The Vandellas",
          "Sex Pistols",
          "The Byrds",
          "Patti Smith",
          "PJ Harvey",
          "Elvis Costello",
          "The Wailers",
          "Little Richard",
          "Public Enemy",
          "Wilson Pickett",
          "Pavement",
          "Smokey Robinson & The Miracles",
          "John Lee Hooker",
          "Clipse",
          "The Go-Go's",
          "Hank Williams",
          "The Ronettes",
          "The Staple Singers",
          "Booker T. & the M.G.'s",
          "Fats Domino",
          "Steel Pulse",
          "Toots & The Maytals",
          "Ike & Tina Turner",
          "Digital Underground",
          "Geto Boys",
          "Muddy Waters",
          "Joni Mitchell",
          "Procol Harum",
          "Townes Van Zandt",
          "Them",
          "Loretta Lynn",
          "Neneh Cherry",
          "The Stooges",
          "Sister Nancy",
          "Parliament",
          "Kraftwerk",
          "Eric B. & Rakim",
          "Funkadelic",
          "Tammy Wynette",
          "The Replacements",
          "Deee-Lite",
          "Isaac Hayes",
          "The Meters",
          "Eddie Cochran",
          "The Breeders",
          "Crosby, Stills & Nash",
          "The Sugarhill Gang",
          "The Shirelles",
          "Sylvester",
          "Gil Scott-Heron",
          "Howlin' Wolf",
          "Lucinda Williams",
          "Buzzcocks",
          "Rufus",
          "Ann Peebles",
          "Biz Markie",
          "The Impressions",
          "The Marvelettes",
          "Craig Mack",
          "William DeVaughn",
          "Mott The Hoople",
          "Bo Diddley",
          "The Kingsmen",
          "Liz Phair",
          "Bikini Kill",
          "Pete Rock & C.L. Smooth",
          "Marshall Jefferson",
          "The Crystals",
          "The Flamingos",
          "Rilo Kiley",
          "Thelma Houston",
          "Rob Base & DJ EZ Rock",
          "Television",
          "King Tubby",
          "Big Star",
          "Robert Johnson",
          "The Modern Lovers",
          "Bobbie Gentry",
          "New York Dolls",
          "The Five Satins",
          "Afrika Bambaataa",
          "The Shangri-Las",
          "Big Mama Thornton",
          "Grandmaster Flash",
          "Woody Guthrie",
          "The Slits",
          "Screamin' Jay Hawkins",
          "X-Ray Spex",
          "Funky 4 + 1"
         ],
         "legendgroup": "",
         "marker": {
          "color": "#636efa",
          "symbol": "circle"
         },
         "mode": "markers",
         "name": "",
         "orientation": "v",
         "showlegend": false,
         "type": "scatter",
         "x": [
          329,
          129,
          428,
          69,
          346,
          488,
          25,
          167,
          45,
          137,
          178,
          332,
          392,
          50,
          486,
          456,
          82,
          426,
          482,
          16,
          17,
          7,
          60,
          490,
          96,
          47,
          328,
          444,
          256,
          367,
          497,
          384,
          5,
          44,
          438,
          287,
          286,
          70,
          9,
          29,
          465,
          320,
          114,
          150,
          88,
          32,
          451,
          179,
          443,
          48,
          13,
          383,
          290,
          42,
          62,
          457,
          23,
          55,
          378,
          152,
          440,
          61,
          99,
          419,
          409,
          324,
          30,
          95,
          291,
          311,
          155,
          94,
          417,
          133,
          27,
          199,
          240,
          352,
          79,
          76,
          484,
          12,
          416,
          10,
          305,
          65,
          108,
          441,
          404,
          93,
          226,
          11,
          407,
          126,
          391,
          6,
          112,
          452,
          462,
          177,
          415,
          310,
          338,
          319,
          141,
          207,
          143,
          4,
          66,
          479,
          436,
          327,
          336,
          18,
          285,
          236,
          362,
          253,
          36,
          49,
          405,
          63,
          494,
          40,
          8,
          388,
          134,
          138,
          219,
          1,
          71,
          262,
          493,
          28,
          159,
          459,
          171,
          19,
          408,
          282,
          337,
          398,
          301,
          245,
          334,
          46,
          214,
          353,
          127,
          38,
          469,
          343,
          385,
          172,
          169,
          107,
          103,
          146,
          43,
          238,
          435,
          215,
          433,
          368,
          292,
          212,
          270,
          64,
          14,
          104,
          442,
          359,
          190,
          220,
          475,
          80,
          217,
          458,
          420,
          369,
          3,
          115,
          52,
          439,
          209,
          471,
          461,
          131,
          472,
          293,
          84,
          101,
          448,
          33,
          249,
          74,
          41,
          424,
          251,
          356,
          325,
          315,
          34,
          410,
          341,
          272,
          21,
          268,
          466,
          142,
          476,
          389,
          20,
          180,
          449,
          168,
          468,
          234,
          81,
          411,
          382,
          78,
          361,
          348,
          206,
          406,
          307,
          345,
          487,
          485,
          153,
          495,
          445,
          492,
          351,
          300,
          58,
          269,
          273,
          68,
          51,
          224,
          376,
          75,
          259,
          379,
          57,
          372,
          496,
          208,
          162,
          246,
          394,
          350,
          91,
          455,
          275,
          478,
          157,
          195,
          323,
          375,
          380,
          242,
          124,
          87,
          349,
          470,
          261,
          184,
          130,
          125,
          181,
          97,
          194,
          396,
          260,
          35,
          2,
          218,
          244,
          54,
          463,
          281,
          477,
          165,
          22,
          186,
          418,
          147,
          460,
          278,
          221,
          241,
          192,
          425,
          26,
          271,
          498,
          413,
          255,
          412,
          314,
          454,
          252,
          304,
          132,
          210,
          473,
          265,
          233,
          312,
          158,
          432,
          489,
          222,
          427,
          151,
          399,
          258,
          154,
          437,
          276,
          403,
          197,
          480,
          122,
          331,
          422,
          374,
          166,
          277,
          156,
          308,
          296,
          430,
          335,
          366,
          175,
          326,
          355,
          116,
          173,
          266,
          239,
          481,
          77,
          191,
          387,
          170,
          395,
          316,
          318,
          59,
          229,
          381,
          299,
          120,
          288
         ],
         "xaxis": "x",
         "y": [
          100,
          95,
          93,
          92,
          92,
          91,
          90,
          89,
          89,
          87,
          87,
          86,
          86,
          86,
          84,
          84,
          84,
          84,
          83,
          83,
          83,
          82,
          82,
          82,
          82,
          82,
          81,
          81,
          81,
          81,
          80,
          80,
          80,
          80,
          80,
          79,
          79,
          78,
          78,
          78,
          78,
          78,
          78,
          78,
          78,
          77,
          77,
          77,
          77,
          77,
          77,
          77,
          77,
          77,
          76,
          76,
          76,
          76,
          76,
          76,
          76,
          75,
          75,
          75,
          75,
          75,
          75,
          74,
          74,
          74,
          74,
          74,
          74,
          74,
          74,
          74,
          73,
          73,
          73,
          73,
          73,
          73,
          73,
          73,
          73,
          72,
          72,
          72,
          72,
          72,
          72,
          72,
          71,
          71,
          71,
          71,
          71,
          71,
          71,
          71,
          71,
          71,
          71,
          71,
          71,
          70,
          70,
          70,
          70,
          70,
          70,
          70,
          70,
          70,
          70,
          69,
          69,
          69,
          69,
          69,
          69,
          69,
          69,
          69,
          69,
          69,
          68,
          68,
          68,
          68,
          67,
          67,
          67,
          67,
          67,
          67,
          67,
          67,
          67,
          67,
          67,
          67,
          67,
          67,
          66,
          66,
          66,
          66,
          66,
          66,
          66,
          66,
          66,
          66,
          66,
          66,
          66,
          66,
          65,
          65,
          65,
          65,
          65,
          65,
          65,
          65,
          65,
          65,
          65,
          65,
          64,
          64,
          64,
          64,
          64,
          64,
          64,
          64,
          64,
          64,
          64,
          64,
          63,
          63,
          63,
          63,
          63,
          63,
          63,
          63,
          63,
          63,
          63,
          63,
          63,
          63,
          62,
          62,
          62,
          62,
          62,
          62,
          62,
          62,
          62,
          62,
          62,
          61,
          61,
          61,
          61,
          61,
          61,
          61,
          61,
          61,
          61,
          61,
          61,
          61,
          61,
          61,
          60,
          60,
          60,
          60,
          60,
          60,
          60,
          60,
          60,
          60,
          60,
          60,
          60,
          60,
          60,
          60,
          60,
          60,
          60,
          60,
          60,
          60,
          60,
          59,
          59,
          59,
          59,
          59,
          59,
          59,
          59,
          59,
          59,
          59,
          59,
          58,
          58,
          58,
          58,
          58,
          58,
          58,
          58,
          58,
          58,
          58,
          58,
          58,
          57,
          57,
          57,
          57,
          57,
          57,
          57,
          56,
          56,
          56,
          56,
          56,
          55,
          55,
          55,
          55,
          55,
          55,
          55,
          55,
          55,
          55,
          54,
          54,
          54,
          54,
          53,
          53,
          53,
          53,
          53,
          53,
          52,
          52,
          52,
          52,
          52,
          52,
          51,
          51,
          51,
          51,
          51,
          51,
          51,
          51,
          51,
          51,
          50,
          50,
          50,
          50,
          50,
          50,
          49,
          49,
          49,
          49,
          48,
          48,
          48,
          47,
          47,
          47,
          47,
          47,
          47,
          47,
          46,
          46,
          45,
          45,
          44,
          44,
          44,
          44,
          44,
          43,
          43,
          42,
          42,
          42,
          42,
          42,
          41,
          39,
          38,
          36,
          23
         ],
         "yaxis": "y"
        },
        {
         "hovertemplate": "<b>LOWESS trendline</b><br><br>rank=%{x}<br>artist_popularity=%{y} <b>(trend)</b><extra></extra>",
         "legendgroup": "",
         "marker": {
          "color": "#636efa",
          "symbol": "circle"
         },
         "mode": "lines",
         "name": "",
         "showlegend": false,
         "type": "scatter",
         "x": [
          1,
          2,
          3,
          4,
          5,
          6,
          7,
          8,
          9,
          10,
          11,
          12,
          13,
          14,
          16,
          17,
          18,
          19,
          20,
          21,
          22,
          23,
          25,
          26,
          27,
          28,
          29,
          30,
          32,
          33,
          34,
          35,
          36,
          38,
          40,
          41,
          42,
          43,
          44,
          45,
          46,
          47,
          48,
          49,
          50,
          51,
          52,
          54,
          55,
          57,
          58,
          59,
          60,
          61,
          62,
          63,
          64,
          65,
          66,
          68,
          69,
          70,
          71,
          74,
          75,
          76,
          77,
          78,
          79,
          80,
          81,
          82,
          84,
          87,
          88,
          91,
          93,
          94,
          95,
          96,
          97,
          99,
          101,
          103,
          104,
          107,
          108,
          112,
          114,
          115,
          116,
          120,
          122,
          124,
          125,
          126,
          127,
          129,
          130,
          131,
          132,
          133,
          134,
          137,
          138,
          141,
          142,
          143,
          146,
          147,
          150,
          151,
          152,
          153,
          154,
          155,
          156,
          157,
          158,
          159,
          162,
          165,
          166,
          167,
          168,
          169,
          170,
          171,
          172,
          173,
          175,
          177,
          178,
          179,
          180,
          181,
          184,
          186,
          190,
          191,
          192,
          194,
          195,
          197,
          199,
          206,
          207,
          208,
          209,
          210,
          212,
          214,
          215,
          217,
          218,
          219,
          220,
          221,
          222,
          224,
          226,
          229,
          233,
          234,
          236,
          238,
          239,
          240,
          241,
          242,
          244,
          245,
          246,
          249,
          251,
          252,
          253,
          255,
          256,
          258,
          259,
          260,
          261,
          262,
          265,
          266,
          268,
          269,
          270,
          271,
          272,
          273,
          275,
          276,
          277,
          278,
          281,
          282,
          285,
          286,
          287,
          288,
          290,
          291,
          292,
          293,
          296,
          299,
          300,
          301,
          304,
          305,
          307,
          308,
          310,
          311,
          312,
          314,
          315,
          316,
          318,
          319,
          320,
          323,
          324,
          325,
          326,
          327,
          328,
          329,
          331,
          332,
          334,
          335,
          336,
          337,
          338,
          341,
          343,
          345,
          346,
          348,
          349,
          350,
          351,
          352,
          353,
          355,
          356,
          359,
          361,
          362,
          366,
          367,
          368,
          369,
          372,
          374,
          375,
          376,
          378,
          379,
          380,
          381,
          382,
          383,
          384,
          385,
          387,
          388,
          389,
          391,
          392,
          394,
          395,
          396,
          398,
          399,
          403,
          404,
          405,
          406,
          407,
          408,
          409,
          410,
          411,
          412,
          413,
          415,
          416,
          417,
          418,
          419,
          420,
          422,
          424,
          425,
          426,
          427,
          428,
          430,
          432,
          433,
          435,
          436,
          437,
          438,
          439,
          440,
          441,
          442,
          443,
          444,
          445,
          448,
          449,
          451,
          452,
          454,
          455,
          456,
          457,
          458,
          459,
          460,
          461,
          462,
          463,
          465,
          466,
          468,
          469,
          470,
          471,
          472,
          473,
          475,
          476,
          477,
          478,
          479,
          480,
          481,
          482,
          484,
          485,
          486,
          487,
          488,
          489,
          490,
          492,
          493,
          494,
          495,
          496,
          497,
          498
         ],
         "xaxis": "x",
         "y": [
          71.64772133933387,
          71.59282674672129,
          71.53794697341489,
          71.48308259883102,
          71.42823434778283,
          71.3734029692783,
          71.31858912140632,
          71.26379341700442,
          71.20901636084717,
          71.15425844099371,
          71.09952006931081,
          71.04480161555483,
          70.99010343078771,
          70.93542582499285,
          70.82613342021605,
          70.77151923220251,
          70.71692663119106,
          70.66235560570148,
          70.60780613386447,
          70.55327826838473,
          70.49877220510423,
          70.44428830114748,
          70.33538899854327,
          70.28097453093696,
          70.22658399965715,
          70.17221783973442,
          70.11787649303623,
          70.06356041052636,
          69.95500542467774,
          69.90076707452441,
          69.84655511309417,
          69.79236982577436,
          69.73821163534714,
          69.62997890124312,
          69.52186197324225,
          69.46784865868527,
          69.41386641859445,
          69.35991605945655,
          69.30599834819517,
          69.25211406062124,
          69.19826385351918,
          69.14444823415023,
          69.0906676843953,
          69.03692256112618,
          68.9832131131207,
          68.92953953618611,
          68.87590191435108,
          68.76873522292124,
          68.71520666168054,
          68.60826082792397,
          68.55484421741399,
          68.50146570343472,
          68.44812587209512,
          68.39482542059285,
          68.34156494744543,
          68.28834494075842,
          68.23516579644084,
          68.18202789282172,
          68.12893163046469,
          68.02286545932938,
          67.96989623392933,
          67.91697009376364,
          67.86408730535196,
          67.70570034259805,
          67.65299220500341,
          67.600328079525,
          67.54770821199283,
          67.49513283902317,
          67.44260232319556,
          67.39011711024432,
          67.33767761454614,
          67.28528428801903,
          67.18063800579303,
          67.02402514202987,
          66.97191755429992,
          66.81589114450598,
          66.71212451572539,
          66.66031786412083,
          66.60856288667145,
          66.55685986944364,
          66.50520895426571,
          66.4020634475349,
          66.29912644797528,
          66.19639717384716,
          66.14511010910259,
          65.99155723722015,
          65.94047504077527,
          65.73664801454649,
          65.63502843504435,
          65.58428974678657,
          65.53359715879728,
          65.33126709373978,
          65.23035146988309,
          65.12959058643683,
          65.07926567927484,
          65.02897654489313,
          64.97872231383475,
          64.87831439820901,
          64.82815831752443,
          64.77803225611218,
          64.72793472587175,
          64.67786424173445,
          64.62781937547528,
          64.47782087187156,
          64.42785992553657,
          64.27805618273,
          64.22813741401296,
          64.17822061333422,
          64.02844117063309,
          63.978489992183206,
          63.82849389538559,
          63.77843066649679,
          63.728326093407894,
          63.67817466579897,
          63.627970707430464,
          63.57770873912522,
          63.527383762225625,
          63.47699102638392,
          63.42652660773498,
          63.37598761365556,
          63.22391297662716,
          63.071193321789906,
          63.020171631596426,
          62.96911097205903,
          62.91802705700872,
          62.866937874915074,
          62.81586348583209,
          62.76482534287876,
          62.713845505208916,
          62.68838405949144,
          62.613444417593485,
          62.54005922868163,
          62.50395805260469,
          62.46825414347961,
          62.43294891953003,
          62.39804478830946,
          62.31071775925016,
          62.26036814336482,
          62.16679899669387,
          62.12062899529409,
          62.09088161566226,
          62.032683473809136,
          62.02087217751353,
          61.98235804698603,
          61.92905162530552,
          61.757148341868415,
          61.734482654747914,
          61.69533134275549,
          61.67368266410625,
          61.669402438192215,
          61.62853272992053,
          61.58973509234687,
          61.571119517414125,
          61.5354626037757,
          61.51842298942614,
          61.50190670662145,
          61.48590739015577,
          61.4704172908405,
          61.455427683167656,
          61.4580642239516,
          61.431012111280204,
          61.39384889178883,
          61.33643091378964,
          61.32697325903644,
          61.309472712535346,
          61.293828351195934,
          61.28668008848271,
          61.27997062095132,
          61.27369611984204,
          61.26785344048482,
          61.26984508050303,
          61.265135853951314,
          61.260849932183405,
          61.25048342945426,
          61.24559807642398,
          61.23265624003454,
          61.24230945888786,
          61.240579712208095,
          61.24028003689601,
          61.24077085297953,
          61.241542614370076,
          61.2426532238005,
          61.24409552824315,
          61.24586327671782,
          61.24448028071496,
          61.24770771533337,
          61.2470448078034,
          61.24352096743834,
          61.25594037950489,
          61.26082474411576,
          61.26599425663055,
          61.2788794382163,
          61.29044788408863,
          61.29666914609336,
          61.30318623857833,
          61.30298385847038,
          61.32544991075711,
          61.326907733832236,
          61.346970192636554,
          61.35032406942378,
          61.36025650954512,
          61.37053384560894,
          61.39214718371532,
          61.403498930279845,
          61.40969721331582,
          61.421905069126154,
          61.45594430046364,
          61.49855437827372,
          61.513454901183174,
          61.52868650783822,
          61.57624425090479,
          61.592670139355654,
          61.626281557054526,
          61.63987372801673,
          61.674958594131255,
          61.68951329965389,
          61.707575465390114,
          61.747101519523085,
          61.762588474247366,
          61.781165442816004,
          61.81604950691257,
          61.83503178407912,
          61.85410323881217,
          61.911829612978615,
          61.93124089908789,
          61.95073747838558,
          61.97032108430019,
          61.98999270313308,
          62.0097517035555,
          62.02959524616263,
          62.06953045518702,
          62.09064667313975,
          62.132396724058715,
          62.15304046592768,
          62.17353937745951,
          62.19390208860487,
          62.21413749029176,
          62.27416520493399,
          62.31369713617661,
          62.35290510139483,
          62.37240226658051,
          62.41120748483867,
          62.430523519042545,
          62.449786534742444,
          62.46899976149406,
          62.48816621247966,
          62.50728860172034,
          62.545409554268,
          62.564411576115724,
          62.6212042310174,
          62.65890284507018,
          62.67770684238329,
          62.75264235850166,
          62.771309704016254,
          62.789951910417564,
          62.80856953447642,
          62.864278876719716,
          62.9013023870038,
          62.91978053031848,
          62.93823706032797,
          62.97508832776532,
          62.99348456706042,
          63.01186197902955,
          63.03022111028425,
          63.04856261989738,
          63.066887342368936,
          63.085196105960954,
          63.10348949790425,
          63.140031404724795,
          63.1582804233486,
          63.17651532223612,
          63.2129442478411,
          63.23113898321689,
          63.2674899020624,
          63.28564606040996,
          63.30378942115311,
          63.34003894716433,
          63.358145868468014,
          63.43046407415986,
          63.44851862016069,
          63.466564211922254,
          63.484601321534655,
          63.50263032583318,
          63.52065159139098,
          63.53866538716463,
          63.55667188117254,
          63.574671112545964,
          63.59266311497262,
          63.61064798176378,
          63.646597365773594,
          63.664562595450015,
          63.68252187086637,
          63.700475275689435,
          63.71842278303844,
          63.736364402051414,
          63.7722296133539,
          63.80807030866034,
          63.82598158969762,
          63.8438869904872,
          63.861786708305026,
          63.87968084692693,
          63.91545294223773,
          63.95120414361243,
          63.96907246258923,
          64.00479636919422,
          64.02265273054003,
          64.04050583096353,
          64.05835596609046,
          64.07620350093289,
          64.09404868889906,
          64.11189172460405,
          64.12973266112343,
          64.14757143422567,
          64.16540792705948,
          64.18324186273574,
          64.23672404838162,
          64.2545435478932,
          64.29016847205182,
          64.30797322638864,
          64.34356492227607,
          64.36135070236234,
          64.37912915481755,
          64.39689991374287,
          64.41466244970809,
          64.4324160803176,
          64.45016009695406,
          64.46789379465578,
          64.48561657751567,
          64.5033278804747,
          64.53871372000614,
          64.55638723117313,
          64.59169239106265,
          64.6093228264079,
          64.62693775516591,
          64.64453665060446,
          64.66211907339995,
          64.67968463557493,
          64.71476404986974,
          64.73227761055274,
          64.74977359692143,
          64.7672519896681,
          64.78471292187677,
          64.80215662528511,
          64.81958332486424,
          64.83699343288694,
          64.87176605688123,
          64.88912939509251,
          64.90647782781058,
          64.92381163489932,
          64.9411309519414,
          64.95843589841985,
          64.97572649436621,
          65.01026488804476,
          65.0275125810066,
          65.04474591459982,
          65.0619648619121,
          65.07916935005116,
          65.0963593863835,
          65.11353503923888
         ],
         "yaxis": "y"
        }
       ],
       "layout": {
        "coloraxis": {
         "showscale": false
        },
        "height": 400,
        "legend": {
         "tracegroupgap": 0
        },
        "margin": {
         "b": 10,
         "l": 10,
         "r": 10,
         "t": 50
        },
        "plot_bgcolor": "white",
        "template": {
         "data": {
          "bar": [
           {
            "error_x": {
             "color": "#2a3f5f"
            },
            "error_y": {
             "color": "#2a3f5f"
            },
            "marker": {
             "line": {
              "color": "#E5ECF6",
              "width": 0.5
             },
             "pattern": {
              "fillmode": "overlay",
              "size": 10,
              "solidity": 0.2
             }
            },
            "type": "bar"
           }
          ],
          "barpolar": [
           {
            "marker": {
             "line": {
              "color": "#E5ECF6",
              "width": 0.5
             },
             "pattern": {
              "fillmode": "overlay",
              "size": 10,
              "solidity": 0.2
             }
            },
            "type": "barpolar"
           }
          ],
          "carpet": [
           {
            "aaxis": {
             "endlinecolor": "#2a3f5f",
             "gridcolor": "white",
             "linecolor": "white",
             "minorgridcolor": "white",
             "startlinecolor": "#2a3f5f"
            },
            "baxis": {
             "endlinecolor": "#2a3f5f",
             "gridcolor": "white",
             "linecolor": "white",
             "minorgridcolor": "white",
             "startlinecolor": "#2a3f5f"
            },
            "type": "carpet"
           }
          ],
          "choropleth": [
           {
            "colorbar": {
             "outlinewidth": 0,
             "ticks": ""
            },
            "type": "choropleth"
           }
          ],
          "contour": [
           {
            "colorbar": {
             "outlinewidth": 0,
             "ticks": ""
            },
            "colorscale": [
             [
              0,
              "#0d0887"
             ],
             [
              0.1111111111111111,
              "#46039f"
             ],
             [
              0.2222222222222222,
              "#7201a8"
             ],
             [
              0.3333333333333333,
              "#9c179e"
             ],
             [
              0.4444444444444444,
              "#bd3786"
             ],
             [
              0.5555555555555556,
              "#d8576b"
             ],
             [
              0.6666666666666666,
              "#ed7953"
             ],
             [
              0.7777777777777778,
              "#fb9f3a"
             ],
             [
              0.8888888888888888,
              "#fdca26"
             ],
             [
              1,
              "#f0f921"
             ]
            ],
            "type": "contour"
           }
          ],
          "contourcarpet": [
           {
            "colorbar": {
             "outlinewidth": 0,
             "ticks": ""
            },
            "type": "contourcarpet"
           }
          ],
          "heatmap": [
           {
            "colorbar": {
             "outlinewidth": 0,
             "ticks": ""
            },
            "colorscale": [
             [
              0,
              "#0d0887"
             ],
             [
              0.1111111111111111,
              "#46039f"
             ],
             [
              0.2222222222222222,
              "#7201a8"
             ],
             [
              0.3333333333333333,
              "#9c179e"
             ],
             [
              0.4444444444444444,
              "#bd3786"
             ],
             [
              0.5555555555555556,
              "#d8576b"
             ],
             [
              0.6666666666666666,
              "#ed7953"
             ],
             [
              0.7777777777777778,
              "#fb9f3a"
             ],
             [
              0.8888888888888888,
              "#fdca26"
             ],
             [
              1,
              "#f0f921"
             ]
            ],
            "type": "heatmap"
           }
          ],
          "heatmapgl": [
           {
            "colorbar": {
             "outlinewidth": 0,
             "ticks": ""
            },
            "colorscale": [
             [
              0,
              "#0d0887"
             ],
             [
              0.1111111111111111,
              "#46039f"
             ],
             [
              0.2222222222222222,
              "#7201a8"
             ],
             [
              0.3333333333333333,
              "#9c179e"
             ],
             [
              0.4444444444444444,
              "#bd3786"
             ],
             [
              0.5555555555555556,
              "#d8576b"
             ],
             [
              0.6666666666666666,
              "#ed7953"
             ],
             [
              0.7777777777777778,
              "#fb9f3a"
             ],
             [
              0.8888888888888888,
              "#fdca26"
             ],
             [
              1,
              "#f0f921"
             ]
            ],
            "type": "heatmapgl"
           }
          ],
          "histogram": [
           {
            "marker": {
             "pattern": {
              "fillmode": "overlay",
              "size": 10,
              "solidity": 0.2
             }
            },
            "type": "histogram"
           }
          ],
          "histogram2d": [
           {
            "colorbar": {
             "outlinewidth": 0,
             "ticks": ""
            },
            "colorscale": [
             [
              0,
              "#0d0887"
             ],
             [
              0.1111111111111111,
              "#46039f"
             ],
             [
              0.2222222222222222,
              "#7201a8"
             ],
             [
              0.3333333333333333,
              "#9c179e"
             ],
             [
              0.4444444444444444,
              "#bd3786"
             ],
             [
              0.5555555555555556,
              "#d8576b"
             ],
             [
              0.6666666666666666,
              "#ed7953"
             ],
             [
              0.7777777777777778,
              "#fb9f3a"
             ],
             [
              0.8888888888888888,
              "#fdca26"
             ],
             [
              1,
              "#f0f921"
             ]
            ],
            "type": "histogram2d"
           }
          ],
          "histogram2dcontour": [
           {
            "colorbar": {
             "outlinewidth": 0,
             "ticks": ""
            },
            "colorscale": [
             [
              0,
              "#0d0887"
             ],
             [
              0.1111111111111111,
              "#46039f"
             ],
             [
              0.2222222222222222,
              "#7201a8"
             ],
             [
              0.3333333333333333,
              "#9c179e"
             ],
             [
              0.4444444444444444,
              "#bd3786"
             ],
             [
              0.5555555555555556,
              "#d8576b"
             ],
             [
              0.6666666666666666,
              "#ed7953"
             ],
             [
              0.7777777777777778,
              "#fb9f3a"
             ],
             [
              0.8888888888888888,
              "#fdca26"
             ],
             [
              1,
              "#f0f921"
             ]
            ],
            "type": "histogram2dcontour"
           }
          ],
          "mesh3d": [
           {
            "colorbar": {
             "outlinewidth": 0,
             "ticks": ""
            },
            "type": "mesh3d"
           }
          ],
          "parcoords": [
           {
            "line": {
             "colorbar": {
              "outlinewidth": 0,
              "ticks": ""
             }
            },
            "type": "parcoords"
           }
          ],
          "pie": [
           {
            "automargin": true,
            "type": "pie"
           }
          ],
          "scatter": [
           {
            "marker": {
             "colorbar": {
              "outlinewidth": 0,
              "ticks": ""
             }
            },
            "type": "scatter"
           }
          ],
          "scatter3d": [
           {
            "line": {
             "colorbar": {
              "outlinewidth": 0,
              "ticks": ""
             }
            },
            "marker": {
             "colorbar": {
              "outlinewidth": 0,
              "ticks": ""
             }
            },
            "type": "scatter3d"
           }
          ],
          "scattercarpet": [
           {
            "marker": {
             "colorbar": {
              "outlinewidth": 0,
              "ticks": ""
             }
            },
            "type": "scattercarpet"
           }
          ],
          "scattergeo": [
           {
            "marker": {
             "colorbar": {
              "outlinewidth": 0,
              "ticks": ""
             }
            },
            "type": "scattergeo"
           }
          ],
          "scattergl": [
           {
            "marker": {
             "colorbar": {
              "outlinewidth": 0,
              "ticks": ""
             }
            },
            "type": "scattergl"
           }
          ],
          "scattermapbox": [
           {
            "marker": {
             "colorbar": {
              "outlinewidth": 0,
              "ticks": ""
             }
            },
            "type": "scattermapbox"
           }
          ],
          "scatterpolar": [
           {
            "marker": {
             "colorbar": {
              "outlinewidth": 0,
              "ticks": ""
             }
            },
            "type": "scatterpolar"
           }
          ],
          "scatterpolargl": [
           {
            "marker": {
             "colorbar": {
              "outlinewidth": 0,
              "ticks": ""
             }
            },
            "type": "scatterpolargl"
           }
          ],
          "scatterternary": [
           {
            "marker": {
             "colorbar": {
              "outlinewidth": 0,
              "ticks": ""
             }
            },
            "type": "scatterternary"
           }
          ],
          "surface": [
           {
            "colorbar": {
             "outlinewidth": 0,
             "ticks": ""
            },
            "colorscale": [
             [
              0,
              "#0d0887"
             ],
             [
              0.1111111111111111,
              "#46039f"
             ],
             [
              0.2222222222222222,
              "#7201a8"
             ],
             [
              0.3333333333333333,
              "#9c179e"
             ],
             [
              0.4444444444444444,
              "#bd3786"
             ],
             [
              0.5555555555555556,
              "#d8576b"
             ],
             [
              0.6666666666666666,
              "#ed7953"
             ],
             [
              0.7777777777777778,
              "#fb9f3a"
             ],
             [
              0.8888888888888888,
              "#fdca26"
             ],
             [
              1,
              "#f0f921"
             ]
            ],
            "type": "surface"
           }
          ],
          "table": [
           {
            "cells": {
             "fill": {
              "color": "#EBF0F8"
             },
             "line": {
              "color": "white"
             }
            },
            "header": {
             "fill": {
              "color": "#C8D4E3"
             },
             "line": {
              "color": "white"
             }
            },
            "type": "table"
           }
          ]
         },
         "layout": {
          "annotationdefaults": {
           "arrowcolor": "#2a3f5f",
           "arrowhead": 0,
           "arrowwidth": 1
          },
          "autotypenumbers": "strict",
          "coloraxis": {
           "colorbar": {
            "outlinewidth": 0,
            "ticks": ""
           }
          },
          "colorscale": {
           "diverging": [
            [
             0,
             "#8e0152"
            ],
            [
             0.1,
             "#c51b7d"
            ],
            [
             0.2,
             "#de77ae"
            ],
            [
             0.3,
             "#f1b6da"
            ],
            [
             0.4,
             "#fde0ef"
            ],
            [
             0.5,
             "#f7f7f7"
            ],
            [
             0.6,
             "#e6f5d0"
            ],
            [
             0.7,
             "#b8e186"
            ],
            [
             0.8,
             "#7fbc41"
            ],
            [
             0.9,
             "#4d9221"
            ],
            [
             1,
             "#276419"
            ]
           ],
           "sequential": [
            [
             0,
             "#0d0887"
            ],
            [
             0.1111111111111111,
             "#46039f"
            ],
            [
             0.2222222222222222,
             "#7201a8"
            ],
            [
             0.3333333333333333,
             "#9c179e"
            ],
            [
             0.4444444444444444,
             "#bd3786"
            ],
            [
             0.5555555555555556,
             "#d8576b"
            ],
            [
             0.6666666666666666,
             "#ed7953"
            ],
            [
             0.7777777777777778,
             "#fb9f3a"
            ],
            [
             0.8888888888888888,
             "#fdca26"
            ],
            [
             1,
             "#f0f921"
            ]
           ],
           "sequentialminus": [
            [
             0,
             "#0d0887"
            ],
            [
             0.1111111111111111,
             "#46039f"
            ],
            [
             0.2222222222222222,
             "#7201a8"
            ],
            [
             0.3333333333333333,
             "#9c179e"
            ],
            [
             0.4444444444444444,
             "#bd3786"
            ],
            [
             0.5555555555555556,
             "#d8576b"
            ],
            [
             0.6666666666666666,
             "#ed7953"
            ],
            [
             0.7777777777777778,
             "#fb9f3a"
            ],
            [
             0.8888888888888888,
             "#fdca26"
            ],
            [
             1,
             "#f0f921"
            ]
           ]
          },
          "colorway": [
           "#636efa",
           "#EF553B",
           "#00cc96",
           "#ab63fa",
           "#FFA15A",
           "#19d3f3",
           "#FF6692",
           "#B6E880",
           "#FF97FF",
           "#FECB52"
          ],
          "font": {
           "color": "#2a3f5f"
          },
          "geo": {
           "bgcolor": "white",
           "lakecolor": "white",
           "landcolor": "#E5ECF6",
           "showlakes": true,
           "showland": true,
           "subunitcolor": "white"
          },
          "hoverlabel": {
           "align": "left"
          },
          "hovermode": "closest",
          "mapbox": {
           "style": "light"
          },
          "paper_bgcolor": "white",
          "plot_bgcolor": "#E5ECF6",
          "polar": {
           "angularaxis": {
            "gridcolor": "white",
            "linecolor": "white",
            "ticks": ""
           },
           "bgcolor": "#E5ECF6",
           "radialaxis": {
            "gridcolor": "white",
            "linecolor": "white",
            "ticks": ""
           }
          },
          "scene": {
           "xaxis": {
            "backgroundcolor": "#E5ECF6",
            "gridcolor": "white",
            "gridwidth": 2,
            "linecolor": "white",
            "showbackground": true,
            "ticks": "",
            "zerolinecolor": "white"
           },
           "yaxis": {
            "backgroundcolor": "#E5ECF6",
            "gridcolor": "white",
            "gridwidth": 2,
            "linecolor": "white",
            "showbackground": true,
            "ticks": "",
            "zerolinecolor": "white"
           },
           "zaxis": {
            "backgroundcolor": "#E5ECF6",
            "gridcolor": "white",
            "gridwidth": 2,
            "linecolor": "white",
            "showbackground": true,
            "ticks": "",
            "zerolinecolor": "white"
           }
          },
          "shapedefaults": {
           "line": {
            "color": "#2a3f5f"
           }
          },
          "ternary": {
           "aaxis": {
            "gridcolor": "white",
            "linecolor": "white",
            "ticks": ""
           },
           "baxis": {
            "gridcolor": "white",
            "linecolor": "white",
            "ticks": ""
           },
           "bgcolor": "#E5ECF6",
           "caxis": {
            "gridcolor": "white",
            "linecolor": "white",
            "ticks": ""
           }
          },
          "title": {
           "x": 0.05
          },
          "xaxis": {
           "automargin": true,
           "gridcolor": "white",
           "linecolor": "white",
           "ticks": "",
           "title": {
            "standoff": 15
           },
           "zerolinecolor": "white",
           "zerolinewidth": 2
          },
          "yaxis": {
           "automargin": true,
           "gridcolor": "white",
           "linecolor": "white",
           "ticks": "",
           "title": {
            "standoff": 15
           },
           "zerolinecolor": "white",
           "zerolinewidth": 2
          }
         }
        },
        "title": {
         "text": "Best Track Rank and Artist Popularity"
        },
        "width": 800,
        "xaxis": {
         "anchor": "y",
         "autorange": true,
         "domain": [
          0,
          1
         ],
         "range": [
          528.795049200492,
          -29.795049200492006
         ],
         "title": {
          "text": "Best Song Ranking"
         },
         "type": "linear"
        },
        "yaxis": {
         "anchor": "x",
         "autorange": true,
         "domain": [
          0,
          1
         ],
         "range": [
          17.495795107033636,
          105.50420489296636
         ],
         "title": {
          "text": "Current Artist Popularity"
         },
         "type": "linear"
        }
       }
      }
     },
     "metadata": {},
     "output_type": "display_data"
    }
   ],
   "source": [
    "def plot_popularity_against_artist_rank(df, outpath=None):\n",
    "\n",
    "    fig = px.scatter(\n",
    "        data_frame=artist_df, \n",
    "        x='rank', \n",
    "        y='artist_popularity', \n",
    "        hover_name='artist_name', \n",
    "        title='Best Track Rank and Artist Popularity',\n",
    "        trendline= 'lowess'\n",
    "    )\n",
    "    fig = fig.update_coloraxes(showscale=False)\n",
    "    fig = fig.update_xaxes(autorange=\"reversed\")\n",
    "    fig = fig.update_layout(\n",
    "        plot_bgcolor=\"white\", \n",
    "        margin=dict(t=50, l=10, b=10, r=10),\n",
    "        xaxis_title='Best Song Ranking',\n",
    "        yaxis_title=\"Current Artist Popularity\",\n",
    "        width = 800, height = 400\n",
    "    )\n",
    "    if outpath:\n",
    "        fig.write_image(outpath)\n",
    "    return fig\n",
    "\n",
    "plot_popularity_against_artist_rank(artist_df, outpath=\"images/artist_pop.png\")\n"
   ]
  },
  {
   "cell_type": "markdown",
   "id": "a2e1ce57-0d02-44a7-9580-3bdec1b5f562",
   "metadata": {
    "tags": []
   },
   "source": [
    "![artist_pop](images/artist_pop.png)\n",
    "\n",
    "\n",
    "## Advanced Analytics Part 1 - Forecast the album release date\n",
    "\n",
    "With all of these new quantitative measures, I started to wonder if I could actually use machine learning in some way on this list. For example, maybe in different years there was a trend for the top songs to have varying amounts of accousticenss or loudness. Or, if I wanted to, I could leverage the artist genres to see if there was a correlation between the top songs and their genres. Below, I implement a simple pipeline using scikit-learn on a random forest. First I split my data and define my datatypes. Then I provide two helper functions for handling boolean variables and for running [singular value decomposition](https://www.geeksforgeeks.org/singular-value-decomposition-svd/) on the combined results. Finally, I define my pipeline, fit it to the data, and predict release years."
   ]
  },
  {
   "cell_type": "code",
   "execution_count": 17,
   "id": "6a94fedb-3131-402a-91b7-1735ab8e5351",
   "metadata": {},
   "outputs": [],
   "source": [
    "## Packages\n",
    "from sklearn import model_selection\n",
    "from sklearn.compose import ColumnTransformer\n",
    "from sklearn.decomposition import TruncatedSVD\n",
    "from sklearn.ensemble import RandomForestRegressor\n",
    "from sklearn.feature_extraction.text import CountVectorizer\n",
    "from sklearn.metrics import mean_absolute_error, mean_squared_error\n",
    "from sklearn.model_selection import GridSearchCV, cross_val_score, KFold\n",
    "from sklearn.pipeline import Pipeline\n",
    "from sklearn.preprocessing import MinMaxScaler, OneHotEncoder, FunctionTransformer"
   ]
  },
  {
   "cell_type": "code",
   "execution_count": 18,
   "id": "87f20aa5-8c65-40c8-b79e-4e321d7e5f60",
   "metadata": {},
   "outputs": [],
   "source": [
    "SEED = 42\n",
    "\n",
    "column_type_mapping = {\n",
    "    \"track_danceability\": \"numeric\",\n",
    "    \"track_energy\": \"numeric\",\n",
    "    \"track_loudness\": \"numeric\",\n",
    "    \"track_speechiness\": \"numeric\",\n",
    "    \"track_acousticness\": \"numeric\",\n",
    "    \"track_instrumentalness\": \"numeric\",\n",
    "    \"track_liveness\": \"numeric\",\n",
    "    \"track_valence\": \"numeric\",\n",
    "    \"track_tempo\": \"numeric\",\n",
    "    \"track_duration_ms\": \"numeric\",\n",
    "    \"track_popularity\": \"numeric\",\n",
    "    \"track_is_explicit\": \"categorical\",\n",
    "    \"artist_popularity\": \"numeric\",\n",
    "    \"track_time_signature\": \"categorical\",\n",
    "    \"track_key\": \"categorical\",\n",
    "    \"album_release_year\": \"numeric\",\n",
    "    \"artist_genre\": \"text\",\n",
    "}\n",
    "\n",
    "\n",
    "target = 'album_release_year'\n",
    "features = list(column_type_mapping.keys())\n",
    "\n",
    "numeric_cols = [i for i in features if column_type_mapping[i] == \"numeric\"]\n",
    "categorical_cols = [i for i in features if column_type_mapping[i] == \"categorical\"]\n",
    "text_cols = [i for i in features if column_type_mapping[i] == \"text\"]\n",
    "\n",
    "X, y = df[features], df[target]\n",
    "X_train, X_test, Y_train, Y_test = model_selection.train_test_split(X, y, test_size=.2, random_state=42)"
   ]
  },
  {
   "cell_type": "code",
   "execution_count": 19,
   "id": "36a0a4f6",
   "metadata": {},
   "outputs": [],
   "source": [
    "# Modified TruncatedSVD that doesn't fail if n_components > ncols\n",
    "class MyTruncatedSVD(TruncatedSVD):\n",
    "    def fit_transform(self, X, y=None):\n",
    "        if X.shape[1] <= self.n_components:\n",
    "            self.n_components = X.shape[1] - 1\n",
    "        return TruncatedSVD.fit_transform(self, X=X, y=y)\n",
    "\n",
    "def to_string(x):\n",
    "    \"\"\"Handle values as string.  They may be treated as booleans or numerics otherwise\"\"\"\n",
    "    return x.astype(str)\n"
   ]
  },
  {
   "cell_type": "code",
   "execution_count": 90,
   "id": "139fe66c-3b44-4f63-a669-0eb7978c96bc",
   "metadata": {},
   "outputs": [],
   "source": [
    "#Define the hyperparameter grid\n",
    "param_grid = {\n",
    "    'svd__n_components' : [5, 10, 30],\n",
    "    'rf__max_depth': [5, 10, 20],\n",
    "    'rf__n_estimators': [30, 100, 200]\n",
    "    }\n",
    "\n",
    "# Build Pipeline\n",
    "numeric_pipeline = Pipeline(\n",
    "        steps=[\n",
    "            (\"scaler\", MinMaxScaler()),\n",
    "        ]\n",
    "    )\n",
    "\n",
    "# Handle Categorical Variables\n",
    "categorical_pipeline = Pipeline(\n",
    "    steps=[\n",
    "        (\"convert_to_string\", FunctionTransformer(to_string)),\n",
    "        (\"onehot\", OneHotEncoder(categories=\"auto\", handle_unknown=\"ignore\")),\n",
    "    ]\n",
    ")\n",
    "\n",
    "\n",
    "# Handle Text features (just artist genre)\n",
    "text_pipeline = Pipeline(\n",
    "    steps=[\n",
    "        (\"ngrams\", CountVectorizer(ngram_range=(1, 2))),\n",
    "    ]\n",
    ")\n",
    "\n",
    "# Handle each variable type as overall preprocessing\n",
    "preprocessing_pipeline = ColumnTransformer(\n",
    "    transformers=[\n",
    "        (\"num\", numeric_pipeline, numeric_cols),\n",
    "        (\"cat\", categorical_pipeline, categorical_cols),\n",
    "        (\"text\", text_pipeline, text_cols[0])\n",
    "        ]\n",
    ")\n",
    "\n",
    "# Run SVD on the results\n",
    "steps = [\n",
    "    (\"preprocessing\", preprocessing_pipeline),\n",
    "    (\"svd\", MyTruncatedSVD(random_state=SEED),),\n",
    "    (\"rf\", RandomForestRegressor())\n",
    "    ]\n",
    "\n",
    "pipe = Pipeline(\n",
    "    steps=steps,\n",
    "    verbose=False,\n",
    ")\n"
   ]
  },
  {
   "cell_type": "code",
   "execution_count": 92,
   "id": "06598b0b",
   "metadata": {},
   "outputs": [],
   "source": [
    "# Run grid search to tune hyper parameters\n",
    "estimator = GridSearchCV(pipe, param_grid=param_grid, cv=5, scoring='neg_mean_absolute_error', n_jobs=-1,) \n",
    "x = estimator.fit(X_train, Y_train)"
   ]
  },
  {
   "cell_type": "markdown",
   "id": "a51ef9aa",
   "metadata": {},
   "source": [
    "![ml_pipeline](images/ml_pipeline.jpg)\n",
    "\n",
    "\n",
    "Alright, we've fit our model, and found our hyper parameters. I also printed out the average cross validation score from the best hyper parameter settings. We have an in sample MAE of about 10. In other words, when the model predicts a release year, it's off by 10 years on average. Considering the space of songs is about 100 years in total, the performance is actually a little better than I expected it to be. There are two easy reasons to I can use to explain this: \n",
    "\n",
    "1. This estimate is overly optimistic as I explain in my article about [nested cross validation](https://www.marshallpk.com/post/nested-cross-validation/). When I evaluate the model on the test set, performance will probably be a little lower.\n",
    "2. This estimate and the holdout set have some leakage because I randomly split my dataset instead of partioning it by the artist name. The problem with random partitioning in this case is that I have artist level features like popularity and genre that are essentially duplicated in training validation and holdout sets. For exmaple, the list of artist genres affiliated with each song of the Beatles' is `[beatlesque, british invasion, classic rock, merseybeat, psychedelic rock, rock]`. No other artist will have 'beatlesque' in their genre so when the models sees this on the holdout data, it will know the release year of the album will be much lower than with other songs. This leakage will persist in the holdout set. I should repartition my data more thoughtfully, but I'm just kind of having fun here. My article, my rules! "
   ]
  },
  {
   "cell_type": "code",
   "execution_count": 45,
   "id": "91bebb1d",
   "metadata": {},
   "outputs": [
    {
     "name": "stdout",
     "output_type": "stream",
     "text": [
      "Best parameters found: {'rf__max_depth': 20, 'rf__n_estimators': 200, 'svd__n_components': 30}\n",
      "In sample MAE: 10.05\n"
     ]
    }
   ],
   "source": [
    "print(f\"Best parameters found: {estimator.best_params_}\")\n",
    "print(f\"In sample MAE: {round(abs(estimator.best_score_),2)}\")"
   ]
  },
  {
   "cell_type": "markdown",
   "id": "3c6faa02-f22a-4d28-a850-8ce0b09c682e",
   "metadata": {},
   "source": [
    "Surprisingly, the MAE actually dropped by nearly two years and even the Root Mean Squared Error, a metric that penalizes far off predictions, is under 12 years. As I listed before, there is a good amount of leakage in this model from the artist level features. Still, I do feel pretty impressed with this low error on the model."
   ]
  },
  {
   "cell_type": "code",
   "execution_count": 46,
   "id": "c0b31819-5bb0-451d-8f8f-0da6cf3077c6",
   "metadata": {},
   "outputs": [
    {
     "name": "stdout",
     "output_type": "stream",
     "text": [
      "MAE: 8.301839416971916\n",
      "RMSE: 11.88\n",
      "Fraction of deviance explained: 41.82%\n"
     ]
    }
   ],
   "source": [
    "preds = estimator.predict(X_test)\n",
    "r2 = round((1 - np.sum(np.abs(Y_test - preds))/np.sum(np.abs(Y_test - preds.mean()))) * 100,2)\n",
    "print(f'MAE: {mean_absolute_error(preds, Y_test)}')\n",
    "print(f'RMSE: {round(np.sqrt(mean_squared_error(preds, Y_test)),2)}')\n",
    "print(f\"Fraction of deviance explained: {r2}%\")\n"
   ]
  },
  {
   "cell_type": "markdown",
   "id": "05398907-252c-497a-93e6-410df922ff10",
   "metadata": {},
   "source": [
    "## Advanced Analytics Part 2 - Dimensionality Reduction and Clustering\n",
    "\n",
    "Now I want to disperse with machine learning in the predictive sense. Instead, I think I'm going to try and find tracks that are similar to each other. For example, I just moved in with this couple in Lawrenceville. One of my new roommates told me \"I think all of those 80's rock bands sound the same. Like I never know which song is AC/DC or Kiss, or the Eagles\".\n",
    "\n",
    "Now first of all, the Eagles became famous in the mid 70's. Kiss, surprisingly, also became famous in the later 70's rather than the 80's. Regardless of timelines, I would secondly debate the claim that the Eagles sound at all similar to AC/DC or Kiss. Luckily, I now have data on at least one of each of these bands most famous songs. So, I'm going to do three things here:\n",
    "\n",
    "1. Use [UMAP](https://umap-learn.readthedocs.io/en/latest/) (a popular **dimensionality reduction** algorithm) on some columns on the dataset to project it onto a two dimensional plane\n",
    "2. Run [DBSCAN](https://scikit-learn.org/stable/modules/clustering.html#dbscan) on the dataset to assign our songs to distinct groups or **clusters**.\n",
    "3. Plot the results and look at where we stand\n",
    "\n",
    "Doing this might sound complicated, and from a mathematics perspective it is. Luckily, Python has many packages to help us and running UMAP and DBSCAN on a dataset like this will be pretty easy."
   ]
  },
  {
   "cell_type": "code",
   "execution_count": 47,
   "id": "adcd4951-8f33-4f60-a0de-e0cb23c03acd",
   "metadata": {},
   "outputs": [
    {
     "data": {
      "text/html": [
       "<div>\n",
       "<style scoped>\n",
       "    .dataframe tbody tr th:only-of-type {\n",
       "        vertical-align: middle;\n",
       "    }\n",
       "\n",
       "    .dataframe tbody tr th {\n",
       "        vertical-align: top;\n",
       "    }\n",
       "\n",
       "    .dataframe thead th {\n",
       "        text-align: right;\n",
       "    }\n",
       "</style>\n",
       "<table border=\"1\" class=\"dataframe\">\n",
       "  <thead>\n",
       "    <tr style=\"text-align: right;\">\n",
       "      <th></th>\n",
       "      <th>rank</th>\n",
       "      <th>artist_name</th>\n",
       "      <th>track_name</th>\n",
       "      <th>track_popularity</th>\n",
       "      <th>track_duration_ms</th>\n",
       "      <th>track_is_explicit</th>\n",
       "      <th>track_number</th>\n",
       "      <th>track_danceability</th>\n",
       "      <th>track_energy</th>\n",
       "      <th>track_key</th>\n",
       "      <th>...</th>\n",
       "      <th>track_valence</th>\n",
       "      <th>track_tempo</th>\n",
       "      <th>track_time_signature</th>\n",
       "      <th>track_analysis_url</th>\n",
       "      <th>album_name</th>\n",
       "      <th>album_release_date</th>\n",
       "      <th>album_release_year</th>\n",
       "      <th>album_image</th>\n",
       "      <th>artist_genre</th>\n",
       "      <th>artist_popularity</th>\n",
       "    </tr>\n",
       "  </thead>\n",
       "  <tbody>\n",
       "    <tr>\n",
       "      <th>96</th>\n",
       "      <td>404</td>\n",
       "      <td>KISS</td>\n",
       "      <td>Rock And Roll All Nite</td>\n",
       "      <td>76</td>\n",
       "      <td>168840</td>\n",
       "      <td>False</td>\n",
       "      <td>10</td>\n",
       "      <td>0.654</td>\n",
       "      <td>0.929</td>\n",
       "      <td>1</td>\n",
       "      <td>...</td>\n",
       "      <td>0.902</td>\n",
       "      <td>144.774</td>\n",
       "      <td>4</td>\n",
       "      <td>https://api.spotify.com/v1/audio-analysis/6KTv...</td>\n",
       "      <td>Dressed To Kill</td>\n",
       "      <td>1975-03-19</td>\n",
       "      <td>1975</td>\n",
       "      <td>https://i.scdn.co/image/ab67616d0000b27365a7b0...</td>\n",
       "      <td>album rock, glam rock, hard rock, metal, rock</td>\n",
       "      <td>72</td>\n",
       "    </tr>\n",
       "    <tr>\n",
       "      <th>189</th>\n",
       "      <td>311</td>\n",
       "      <td>Eagles</td>\n",
       "      <td>Hotel California - 2013 Remaster</td>\n",
       "      <td>84</td>\n",
       "      <td>391376</td>\n",
       "      <td>False</td>\n",
       "      <td>1</td>\n",
       "      <td>0.579</td>\n",
       "      <td>0.508</td>\n",
       "      <td>2</td>\n",
       "      <td>...</td>\n",
       "      <td>0.609</td>\n",
       "      <td>147.125</td>\n",
       "      <td>4</td>\n",
       "      <td>https://api.spotify.com/v1/audio-analysis/40ri...</td>\n",
       "      <td>Hotel California (2013 Remaster)</td>\n",
       "      <td>1976-12-08</td>\n",
       "      <td>1976</td>\n",
       "      <td>https://i.scdn.co/image/ab67616d0000b273463734...</td>\n",
       "      <td>album rock, classic rock, country rock, folk r...</td>\n",
       "      <td>74</td>\n",
       "    </tr>\n",
       "    <tr>\n",
       "      <th>213</th>\n",
       "      <td>287</td>\n",
       "      <td>AC/DC</td>\n",
       "      <td>You Shook Me All Night Long</td>\n",
       "      <td>81</td>\n",
       "      <td>210173</td>\n",
       "      <td>False</td>\n",
       "      <td>7</td>\n",
       "      <td>0.532</td>\n",
       "      <td>0.767</td>\n",
       "      <td>7</td>\n",
       "      <td>...</td>\n",
       "      <td>0.755</td>\n",
       "      <td>127.361</td>\n",
       "      <td>4</td>\n",
       "      <td>https://api.spotify.com/v1/audio-analysis/2SiX...</td>\n",
       "      <td>Back In Black</td>\n",
       "      <td>1980-07-25</td>\n",
       "      <td>1980</td>\n",
       "      <td>https://i.scdn.co/image/ab67616d0000b2730b51f8...</td>\n",
       "      <td>australian rock, hard rock, rock</td>\n",
       "      <td>79</td>\n",
       "    </tr>\n",
       "    <tr>\n",
       "      <th>291</th>\n",
       "      <td>209</td>\n",
       "      <td>Don Henley</td>\n",
       "      <td>The Boys Of Summer</td>\n",
       "      <td>78</td>\n",
       "      <td>288733</td>\n",
       "      <td>False</td>\n",
       "      <td>1</td>\n",
       "      <td>0.516</td>\n",
       "      <td>0.549</td>\n",
       "      <td>6</td>\n",
       "      <td>...</td>\n",
       "      <td>0.907</td>\n",
       "      <td>176.941</td>\n",
       "      <td>4</td>\n",
       "      <td>https://api.spotify.com/v1/audio-analysis/4gve...</td>\n",
       "      <td>Building The Perfect Beast</td>\n",
       "      <td>1984-01-01</td>\n",
       "      <td>1984</td>\n",
       "      <td>https://i.scdn.co/image/ab67616d0000b273e59d7f...</td>\n",
       "      <td>album rock, art rock, classic rock, country ro...</td>\n",
       "      <td>63</td>\n",
       "    </tr>\n",
       "  </tbody>\n",
       "</table>\n",
       "<p>4 rows × 26 columns</p>\n",
       "</div>"
      ],
      "text/plain": [
       "     rank artist_name                        track_name  track_popularity  \\\n",
       "96    404        KISS            Rock And Roll All Nite                76   \n",
       "189   311      Eagles  Hotel California - 2013 Remaster                84   \n",
       "213   287       AC/DC       You Shook Me All Night Long                81   \n",
       "291   209  Don Henley                The Boys Of Summer                78   \n",
       "\n",
       "     track_duration_ms  track_is_explicit  track_number  track_danceability  \\\n",
       "96              168840              False            10               0.654   \n",
       "189             391376              False             1               0.579   \n",
       "213             210173              False             7               0.532   \n",
       "291             288733              False             1               0.516   \n",
       "\n",
       "     track_energy  track_key  ...  track_valence  track_tempo  \\\n",
       "96          0.929          1  ...          0.902      144.774   \n",
       "189         0.508          2  ...          0.609      147.125   \n",
       "213         0.767          7  ...          0.755      127.361   \n",
       "291         0.549          6  ...          0.907      176.941   \n",
       "\n",
       "     track_time_signature                                 track_analysis_url  \\\n",
       "96                      4  https://api.spotify.com/v1/audio-analysis/6KTv...   \n",
       "189                     4  https://api.spotify.com/v1/audio-analysis/40ri...   \n",
       "213                     4  https://api.spotify.com/v1/audio-analysis/2SiX...   \n",
       "291                     4  https://api.spotify.com/v1/audio-analysis/4gve...   \n",
       "\n",
       "                           album_name  album_release_date  album_release_year  \\\n",
       "96                    Dressed To Kill          1975-03-19                1975   \n",
       "189  Hotel California (2013 Remaster)          1976-12-08                1976   \n",
       "213                     Back In Black          1980-07-25                1980   \n",
       "291        Building The Perfect Beast          1984-01-01                1984   \n",
       "\n",
       "                                           album_image  \\\n",
       "96   https://i.scdn.co/image/ab67616d0000b27365a7b0...   \n",
       "189  https://i.scdn.co/image/ab67616d0000b273463734...   \n",
       "213  https://i.scdn.co/image/ab67616d0000b2730b51f8...   \n",
       "291  https://i.scdn.co/image/ab67616d0000b273e59d7f...   \n",
       "\n",
       "                                          artist_genre artist_popularity  \n",
       "96       album rock, glam rock, hard rock, metal, rock                72  \n",
       "189  album rock, classic rock, country rock, folk r...                74  \n",
       "213                   australian rock, hard rock, rock                79  \n",
       "291  album rock, art rock, classic rock, country ro...                63  \n",
       "\n",
       "[4 rows x 26 columns]"
      ]
     },
     "execution_count": 47,
     "metadata": {},
     "output_type": "execute_result"
    }
   ],
   "source": [
    "# Select the artists (Note that Don Henley is the lead singer of the eagles)\n",
    "search_artists = ['kiss', 'ac/dc', 'eagles', 'don henley']\n",
    "\n",
    "artist_indexes = df.loc[lambda x: x.artist_name.str.lower().isin(search_artists)].index\n",
    "\n",
    "df.loc[lambda x: x.artist_name.str.lower().isin(search_artists)]"
   ]
  },
  {
   "cell_type": "markdown",
   "id": "84d180e2-da6f-49c7-be4b-1e8862e07210",
   "metadata": {},
   "source": [
    "### Build Pipeline\n",
    "\n",
    "The pipe I will use for this will be similar to the one I used for predicting the album release year. In fact, I can even preprocessing steps from the previous section and then just apply UMAP and DBSCAN on the results."
   ]
  },
  {
   "cell_type": "code",
   "execution_count": 88,
   "id": "f69139a1-c6d9-495d-aae0-810b5221b693",
   "metadata": {},
   "outputs": [],
   "source": [
    "from sklearn.cluster import DBSCAN\n",
    "import umap\n",
    "\n",
    "preprocessing_pipeline = ColumnTransformer(\n",
    "    transformers=[\n",
    "        (\"num\", numeric_pipeline, numeric_cols),\n",
    "        (\"cat\", categorical_pipeline, categorical_cols),\n",
    "        (\"text\", text_pipeline, text_cols[0])\n",
    "        ]\n",
    ")\n",
    "\n",
    "pipeline = Pipeline(\n",
    "    steps = [\n",
    "        (\"preprocessing\", preprocessing_pipeline),\n",
    "        (\"svd\", MyTruncatedSVD(n_components=10, random_state=SEED)),\n",
    "        (\"umap\", umap.UMAP(random_state=42)),\n",
    "        (\"dbscan\", DBSCAN())\n",
    "    ],\n",
    "    verbose=False\n",
    ")\n"
   ]
  },
  {
   "cell_type": "markdown",
   "id": "ac6e09ae",
   "metadata": {},
   "source": [
    "![new_cluster](images/cluster_pipeline_1.jpg)\n",
    "\n",
    "Now I'll use the first two steps to decompose the dataset into a two dimensional planeThis will let me plot the results in a 2D. Then, I let the full pipeline run so I can get cluster assignments. "
   ]
  },
  {
   "cell_type": "code",
   "execution_count": 82,
   "id": "2e232ff6-8f29-4205-ad3e-4884d3425d2d",
   "metadata": {},
   "outputs": [
    {
     "name": "stdout",
     "output_type": "stream",
     "text": [
      "[Pipeline] ..... (step 1 of 3) Processing preprocessing, total=   0.0s\n",
      "[Pipeline] ............... (step 2 of 3) Processing svd, total=   0.0s\n",
      "[Pipeline] .............. (step 3 of 3) Processing umap, total=   2.3s\n",
      "[Pipeline] ..... (step 1 of 4) Processing preprocessing, total=   0.0s\n",
      "[Pipeline] ............... (step 2 of 4) Processing svd, total=   0.0s\n",
      "[Pipeline] .............. (step 3 of 4) Processing umap, total=   2.9s\n",
      "[Pipeline] ............ (step 4 of 4) Processing dbscan, total=   0.0s\n"
     ]
    }
   ],
   "source": [
    "\n",
    "umap_embedding = (\n",
    "    pipeline[:-1]\n",
    "    .set_params(umap__n_components = 2)\n",
    "    .fit_transform(df)\n",
    ")\n",
    "\n",
    "fit_clustering_params = {\n",
    "    \"umap__n_components\": 2, \n",
    "    \"umap__min_dist\":0.0,\n",
    "    \"umap__n_neighbors\": 30,\n",
    "    \"dbscan__eps\":.5,\n",
    "    \"dbscan__min_samples\":5\n",
    "}\n",
    "\n",
    "clusters_2d = (pipeline\n",
    "            .set_params(**fit_clustering_params)\n",
    "            .fit_predict(df, y=None)\n",
    "           )\n",
    "\n"
   ]
  },
  {
   "cell_type": "markdown",
   "id": "d7be8258-3220-414b-8914-48aa31fe0e04",
   "metadata": {},
   "source": [
    "### Plotting the results\n",
    "\n",
    "Below I plot my two dimensional embedding and clustering results, marking the artists I was comparing with a star. In this case, Boys of Summer by Don Henley was placed right near Hotel California by the Eagles while Shook Me All Night Long by AC/DC was placed near Rock and Roll All Night by Kiss. While these were the results I expected to prove. I actually see a problem with them. Far to the left are all of the Beatles songs. Why are they all so close together? Do they really all sound the same? No, they certainly do not. The issue here is that I'm using the artist genre in my dimensionality reduction and because I'm running ngrams on that text field, it creates a ton of extra features, each with the same weight as the numeric features. I'll need to run this again and remove the text features. I'll also throw out the categorical features for the same reason."
   ]
  },
  {
   "cell_type": "code",
   "execution_count": 83,
   "id": "a139da8e-e2d4-4451-abf5-e6beeae197cc",
   "metadata": {},
   "outputs": [
    {
     "data": {
      "application/vnd.plotly.v1+json": {
       "config": {
        "plotlyServerURL": "https://plot.ly"
       },
       "data": [
        {
         "hovertemplate": "</br>%{text}<extra></extra>",
         "marker": {
          "color": [
           0,
           1,
           2,
           -1,
           3,
           2,
           4,
           4,
           0,
           4,
           5,
           4,
           6,
           6,
           5,
           7,
           4,
           1,
           6,
           1,
           8,
           3,
           5,
           4,
           2,
           6,
           1,
           0,
           3,
           3,
           1,
           0,
           6,
           4,
           1,
           0,
           9,
           1,
           2,
           1,
           0,
           6,
           4,
           4,
           6,
           3,
           0,
           7,
           3,
           5,
           2,
           3,
           5,
           3,
           2,
           3,
           8,
           4,
           3,
           0,
           6,
           0,
           6,
           2,
           6,
           3,
           4,
           4,
           1,
           10,
           8,
           3,
           6,
           8,
           7,
           1,
           7,
           6,
           5,
           4,
           1,
           6,
           1,
           6,
           4,
           4,
           4,
           3,
           6,
           4,
           3,
           4,
           2,
           3,
           8,
           6,
           3,
           1,
           1,
           3,
           4,
           0,
           4,
           8,
           2,
           8,
           4,
           1,
           6,
           0,
           4,
           4,
           8,
           4,
           3,
           1,
           6,
           5,
           6,
           4,
           6,
           1,
           4,
           4,
           0,
           1,
           1,
           5,
           2,
           4,
           1,
           4,
           3,
           5,
           1,
           4,
           3,
           0,
           0,
           0,
           10,
           5,
           4,
           6,
           3,
           0,
           6,
           4,
           5,
           4,
           2,
           1,
           4,
           4,
           6,
           2,
           3,
           3,
           3,
           3,
           4,
           10,
           3,
           6,
           3,
           0,
           3,
           1,
           6,
           1,
           8,
           0,
           4,
           6,
           6,
           4,
           2,
           1,
           2,
           4,
           5,
           4,
           1,
           2,
           1,
           0,
           4,
           1,
           1,
           3,
           3,
           1,
           4,
           5,
           1,
           4,
           6,
           7,
           3,
           3,
           4,
           1,
           2,
           1,
           0,
           3,
           4,
           3,
           8,
           4,
           7,
           2,
           5,
           3,
           6,
           6,
           9,
           1,
           4,
           8,
           3,
           4,
           0,
           1,
           4,
           0,
           1,
           1,
           3,
           3,
           3,
           1,
           1,
           5,
           0,
           4,
           1,
           0,
           2,
           1,
           0,
           2,
           5,
           1,
           4,
           0,
           1,
           0,
           10,
           0,
           3,
           4,
           8,
           9,
           3,
           8,
           4,
           3,
           4,
           8,
           6,
           3,
           6,
           0,
           1,
           4,
           1,
           6,
           3,
           6,
           3,
           9,
           6,
           3,
           4,
           9,
           3,
           5,
           3,
           1,
           4,
           3,
           1,
           3,
           4,
           8,
           3,
           3,
           3,
           4,
           1,
           3,
           4,
           5,
           1,
           6,
           4,
           1,
           4,
           0,
           4,
           3,
           1,
           1,
           1,
           0,
           4,
           3,
           8,
           1,
           8,
           4,
           3,
           2,
           1,
           6,
           6,
           1,
           2,
           3,
           4,
           3,
           6,
           3,
           3,
           0,
           4,
           4,
           1,
           0,
           1,
           3,
           1,
           5,
           3,
           0,
           2,
           3,
           9,
           6,
           4,
           3,
           1,
           4,
           4,
           4,
           1,
           1,
           3,
           1,
           4,
           4,
           3,
           1,
           2,
           8,
           3,
           4,
           0,
           4,
           0,
           6,
           4,
           6,
           1,
           3,
           6,
           3,
           8,
           1,
           1,
           5,
           3,
           7,
           0,
           4,
           1,
           4,
           1,
           3,
           4,
           1,
           4,
           1,
           5,
           1,
           6,
           1,
           4,
           2,
           3,
           1,
           4,
           8,
           3,
           4,
           1,
           9,
           3,
           4,
           2,
           4,
           3,
           4,
           5,
           4,
           6,
           6,
           1,
           5,
           1,
           3,
           4,
           4,
           3,
           10,
           1,
           2,
           6,
           4,
           1,
           1,
           1,
           4,
           0,
           4,
           9,
           6,
           3,
           0,
           4,
           6,
           1,
           2,
           2,
           1,
           4,
           0,
           4,
           3,
           4,
           8,
           3,
           1,
           7,
           6,
           1,
           1,
           6,
           1,
           5,
           5,
           4,
           4,
           6,
           5,
           6,
           1,
           0,
           4,
           3,
           8,
           1,
           10,
           3,
           1,
           1,
           3,
           8,
           3,
           6,
           5,
           4,
           2,
           9,
           0,
           3,
           4,
           1,
           1,
           6,
           3,
           10,
           3,
           6,
           3,
           3,
           3,
           1,
           1,
           8,
           3,
           7,
           3,
           1,
           4,
           2,
           1,
           8,
           1
          ],
          "line": {
           "color": "black",
           "width": 1
          }
         },
         "mode": "markers",
         "showlegend": false,
         "text": [
          "Artist Name: Kanye West </br> Song Name: Stronger",
          "Artist Name: The Supremes </br> Song Name: Baby Love",
          "Artist Name: Townes Van Zandt </br> Song Name: Poncho & Lefty",
          "Artist Name: Lizzo </br> Song Name: Truth Hurts",
          "Artist Name: Harry Nilsson </br> Song Name: Without You",
          "Artist Name: Carly Simon </br> Song Name: You're so Vain",
          "Artist Name: Cyndi Lauper </br> Song Name: Time After Time",
          "Artist Name: Pixies </br> Song Name: Where Is My Mind?",
          "Artist Name: Miles Davis </br> Song Name: So What",
          "Artist Name: Guns N' Roses </br> Song Name: Welcome To The Jungle",
          "Artist Name: Lil Nas X </br> Song Name: Old Town Road",
          "Artist Name: The Breeders </br> Song Name: Cannonball",
          "Artist Name: The Weeknd </br> Song Name: House Of Balloons / Glass Table Girls - Original",
          "Artist Name: Solange </br> Song Name: Cranes in the Sky",
          "Artist Name: Lil Wayne </br> Song Name: A Milli",
          "Artist Name: Azealia Banks </br> Song Name: 212",
          "Artist Name: Weezer </br> Song Name: Buddy Holly",
          "Artist Name: Four Tops </br> Song Name: I Can't Help Myself (Sugar Pie, Honey Bunch)",
          "Artist Name: Lady Gaga </br> Song Name: Bad Romance",
          "Artist Name: Robert Johnson </br> Song Name: Cross Road Blues",
          "Artist Name: Biz Markie </br> Song Name: Just a Friend",
          "Artist Name: Santana </br> Song Name: Oye Como Va",
          "Artist Name: JUVENILE </br> Song Name: Back That Azz Up",
          "Artist Name: The Go-Go's </br> Song Name: Our Lips Are Sealed - Single Version",
          "Artist Name: Kris Kristofferson </br> Song Name: Sunday Mornin' Comin' Down",
          "Artist Name: Janet Jackson </br> Song Name: Rhythm Nation",
          "Artist Name: Curtis Mayfield </br> Song Name: Move on Up - Single Edit",
          "Artist Name: Tammy Wynette </br> Song Name: Stand By Your Man",
          "Artist Name: Peter Gabriel </br> Song Name: Solsbury Hill",
          "Artist Name: The Animals </br> Song Name: House of the Rising Sun",
          "Artist Name: Gladys Knight & The Pips </br> Song Name: Midnight Train to Georgia",
          "Artist Name: The Chicks </br> Song Name: Goodbye Earl",
          "Artist Name: Mazzy Star </br> Song Name: Fade Into You",
          "Artist Name: Nirvana </br> Song Name: Come As You Are",
          "Artist Name: Luther Vandross </br> Song Name: Never Too Much",
          "Artist Name: Daft Punk </br> Song Name: Get Lucky (feat. Pharrell Williams & Nile Rodgers) - Radio Edit",
          "Artist Name: Joni Mitchell </br> Song Name: Help Me",
          "Artist Name: John Lee Hooker </br> Song Name: Boom Boom",
          "Artist Name: Van Morrison </br> Song Name: Into the Mystic - 2013 Remaster",
          "Artist Name: Roy Orbison </br> Song Name: Crying",
          "Artist Name: Steel Pulse </br> Song Name: Ku Klux Klan",
          "Artist Name: Sade </br> Song Name: No Ordinary Love",
          "Artist Name: Beck </br> Song Name: Loser",
          "Artist Name: Bon Jovi </br> Song Name: Livin' On A Prayer",
          "Artist Name: Lana Del Rey </br> Song Name: Summertime Sadness",
          "Artist Name: Jefferson Airplane </br> Song Name: White Rabbit",
          "Artist Name: Sister Nancy </br> Song Name: Bam Bam",
          "Artist Name: Missy Elliott </br> Song Name: The Rain (Supa Dupa Fly)",
          "Artist Name: TOTO </br> Song Name: Africa",
          "Artist Name: Migos </br> Song Name: Bad and Boujee (feat. Lil Uzi Vert)",
          "Artist Name: Neil Young </br> Song Name: Powderfinger - 2016 Remaster",
          "Artist Name: Blue Öyster Cult </br> Song Name: (Don't Fear) The Reaper",
          "Artist Name: Erykah Badu </br> Song Name: Tyrone - Extended Version",
          "Artist Name: The Beatles </br> Song Name: Help!",
          "Artist Name: Bruce Springsteen </br> Song Name: Rosalita (Come Out Tonight)",
          "Artist Name: T. Rex </br> Song Name: Cosmic Dancer",
          "Artist Name: 50 Cent </br> Song Name: In Da Club",
          "Artist Name: Fall Out Boy </br> Song Name: Sugar, We're Goin Down",
          "Artist Name: Motörhead </br> Song Name: Ace of Spades",
          "Artist Name: Miranda Lambert </br> Song Name: The House That Built Me",
          "Artist Name: Alicia Keys </br> Song Name: If I Ain't Got You",
          "Artist Name: Celia Cruz </br> Song Name: La Vida Es Un Carnaval",
          "Artist Name: Megan Thee Stallion </br> Song Name: Savage Remix (feat. Beyoncé)",
          "Artist Name: Lucinda Williams </br> Song Name: Passionate Kisses",
          "Artist Name: Carly Rae Jepsen </br> Song Name: Call Me Maybe",
          "Artist Name: Rush </br> Song Name: Limelight",
          "Artist Name: Ramones </br> Song Name: Sheena Is a Punk Rocker - 2017 Remaster",
          "Artist Name: Pet Shop Boys </br> Song Name: West End Girls",
          "Artist Name: Eddie Cochran </br> Song Name: Summertime Blues",
          "Artist Name: Prince </br> Song Name: Adore",
          "Artist Name: Pete Rock & C.L. Smooth </br> Song Name: They Reminisce Over You (T.R.O.Y.)",
          "Artist Name: Queen </br> Song Name: Under Pressure - Remastered 2011",
          "Artist Name: Harry Styles </br> Song Name: Sign of the Times",
          "Artist Name: The Sugarhill Gang </br> Song Name: Rapper's Delight - Single Version",
          "Artist Name: Nicki Minaj </br> Song Name: Super Bass",
          "Artist Name: Muddy Waters </br> Song Name: Mannish Boy",
          "Artist Name: Blackstreet </br> Song Name: No Diggity",
          "Artist Name: Fiona Apple </br> Song Name: Criminal",
          "Artist Name: Craig Mack </br> Song Name: Flava in Ya Ear",
          "Artist Name: The Smiths </br> Song Name: How Soon Is Now? - 2011 Remaster",
          "Artist Name: The Mamas & The Papas </br> Song Name: California Dreamin'",
          "Artist Name: Mariah Carey </br> Song Name: Fantasy",
          "Artist Name: Booker T. & the M.G.'s </br> Song Name: Green Onions",
          "Artist Name: Mark Ronson </br> Song Name: Uptown Funk (feat. Bruno Mars)",
          "Artist Name: Pearl Jam </br> Song Name: Alive",
          "Artist Name: Depeche Mode </br> Song Name: Enjoy the Silence",
          "Artist Name: Blondie </br> Song Name: Dreaming",
          "Artist Name: Them </br> Song Name: Gloria",
          "Artist Name: Neneh Cherry </br> Song Name: Buffalo Stance",
          "Artist Name: Wilco </br> Song Name: Heavy Metal Drummer",
          "Artist Name: Allman Brothers Band </br> Song Name: Whipping Post",
          "Artist Name: Foo Fighters </br> Song Name: Everlong",
          "Artist Name: Yusuf / Cat Stevens </br> Song Name: Father And Son",
          "Artist Name: Lynyrd Skynyrd </br> Song Name: Free Bird",
          "Artist Name: Run–D.M.C. </br> Song Name: Sucker M.C.'s",
          "Artist Name: Selena </br> Song Name: Amor Prohibido",
          "Artist Name: KISS </br> Song Name: Rock And Roll All Nite",
          "Artist Name: Rufus </br> Song Name: Ain't Nobody",
          "Artist Name: Bill Withers </br> Song Name: Lovely Day",
          "Artist Name: Fleetwood Mac </br> Song Name: Go Your Own Way - 2004 Remaster",
          "Artist Name: David Bowie </br> Song Name: Station to Station - 2016 Remaster",
          "Artist Name: Sylvester </br> Song Name: You Make Me Feel (Mighty Real)",
          "Artist Name: Duran Duran </br> Song Name: Hungry Like the Wolf - 2009 Remaster",
          "Artist Name: Public Enemy </br> Song Name: Bring The Noise",
          "Artist Name: Elvis Costello </br> Song Name: Alison",
          "Artist Name: Afrika Bambaataa </br> Song Name: Planet Rock",
          "Artist Name: Jeff Buckley </br> Song Name: Grace",
          "Artist Name: James Brown </br> Song Name: Say It Loud - I'm Black And I'm Proud - Pt. 1",
          "Artist Name: Coldplay </br> Song Name: Fix You",
          "Artist Name: Eric Church </br> Song Name: Springsteen",
          "Artist Name: Metallica </br> Song Name: Enter Sandman",
          "Artist Name: Pretenders </br> Song Name: Brass in Pocket - 2006 Remaster",
          "Artist Name: DMX </br> Song Name: Party Up",
          "Artist Name: New York Dolls </br> Song Name: Personality Crisis",
          "Artist Name: The Kinks </br> Song Name: Lola",
          "Artist Name: Diana Ross </br> Song Name: I'm Coming Out",
          "Artist Name: Cardi B </br> Song Name: I Like It",
          "Artist Name: Childish Gambino </br> Song Name: Redbone",
          "Artist Name: Fiona Apple </br> Song Name: Paper Bag",
          "Artist Name: The Slits </br> Song Name: Typical Girls",
          "Artist Name: Fountains Of Wayne </br> Song Name: Radiation Vibe",
          "Artist Name: D'Angelo </br> Song Name: Untitled (How Does It Feel)",
          "Artist Name: The Killers </br> Song Name: Mr. Brightside",
          "Artist Name: The Cure </br> Song Name: Pictures Of You - Remastered",
          "Artist Name: Merle Haggard </br> Song Name: Mama Tried",
          "Artist Name: The Drifters </br> Song Name: Up on the Roof",
          "Artist Name: William DeVaughn </br> Song Name: Be Thankful for What You Got (Pt. 1 & Pt. 2)",
          "Artist Name: Drake </br> Song Name: Hotline Bling",
          "Artist Name: Bonnie Raitt </br> Song Name: I Can't Make You Love Me",
          "Artist Name: Elton John </br> Song Name: Bennie And The Jets - Remastered 2014",
          "Artist Name: Buddy Holly </br> Song Name: Peggy Sue",
          "Artist Name: The Cars </br> Song Name: Just What I Needed",
          "Artist Name: Soundgarden </br> Song Name: Black Hole Sun",
          "Artist Name: Frank Ocean </br> Song Name: Thinkin Bout You",
          "Artist Name: The Crystals </br> Song Name: Da Doo Ron Ron (When He Walked Me Home)",
          "Artist Name: Sex Pistols </br> Song Name: God Save The Queen",
          "Artist Name: Grateful Dead </br> Song Name: Box of Rain - 2013 Remaster",
          "Artist Name: Bob Marley & The Wailers </br> Song Name: Could You Be Loved",
          "Artist Name: Kacey Musgraves </br> Song Name: Merry Go 'Round",
          "Artist Name: Jimmy Cliff </br> Song Name: The Harder They Come",
          "Artist Name: Prince </br> Song Name: Little Red Corvette",
          "Artist Name: Fugees </br> Song Name: Killing Me Softly With His Song",
          "Artist Name: Patti Smith </br> Song Name: Because the Night",
          "Artist Name: Taylor Swift </br> Song Name: Blank Space",
          "Artist Name: Cheap Trick </br> Song Name: Surrender",
          "Artist Name: Thelma Houston </br> Song Name: Don't Leave Me This Way",
          "Artist Name: Michael Jackson </br> Song Name: Rock with You - Single Version",
          "Artist Name: Eurythmics </br> Song Name: Sweet Dreams (Are Made of This) - Remastered",
          "Artist Name: Ice Cube </br> Song Name: It Was A Good Day",
          "Artist Name: Jorge Ben Jor </br> Song Name: Ponta De Lança Africano",
          "Artist Name: John Prine </br> Song Name: Angel from Montgomery",
          "Artist Name: The Zombies </br> Song Name: Time of the Season",
          "Artist Name: Roxy Music </br> Song Name: Virginia Plain",
          "Artist Name: Elvis Presley </br> Song Name: Heartbreak Hotel",
          "Artist Name: BTS </br> Song Name: Dynamite",
          "Artist Name: Carole King </br> Song Name: It's Too Late",
          "Artist Name: Black Sabbath </br> Song Name: Iron Man",
          "Artist Name: The Doobie Brothers </br> Song Name: What a Fool Believes",
          "Artist Name: Chuck Berry </br> Song Name: Promised Land",
          "Artist Name: The Monkees </br> Song Name: I'm a Believer",
          "Artist Name: The Clash </br> Song Name: (White Man) in Hammersmith Palais",
          "Artist Name: Prince </br> Song Name: 1999",
          "Artist Name: Black Sabbath </br> Song Name: Paranoid",
          "Artist Name: Cher </br> Song Name: Believe",
          "Artist Name: Daryl Hall & John Oates </br> Song Name: She's Gone",
          "Artist Name: Marshall Jefferson </br> Song Name: Move Your Body",
          "Artist Name: Grateful Dead </br> Song Name: Ripple - 2020 Remaster",
          "Artist Name: The Temptations </br> Song Name: Papa Was A Rollin' Stone - Single Version",
          "Artist Name: Rihanna </br> Song Name: Umbrella",
          "Artist Name: The Marvelettes </br> Song Name: Please Mr. Postman - Single Version / Mono",
          "Artist Name: The Notorious B.I.G. </br> Song Name: Big Poppa - 2007 Remaster",
          "Artist Name: Bad Bunny </br> Song Name: Safaera",
          "Artist Name: Red Hot Chili Peppers </br> Song Name: Under the Bridge",
          "Artist Name: Mary J. Blige </br> Song Name: Real Love",
          "Artist Name: Rilo Kiley </br> Song Name: Portions for Foxes",
          "Artist Name: Iggy Pop </br> Song Name: Lust For Life",
          "Artist Name: Billy Joel </br> Song Name: Scenes from an Italian Restaurant",
          "Artist Name: The Everly Brothers </br> Song Name: All I Have to Do Is Dream",
          "Artist Name: Neil Young </br> Song Name: After the Gold Rush",
          "Artist Name: U2 </br> Song Name: I Still Haven't Found What I'm Looking For",
          "Artist Name: 2Pac </br> Song Name: California Love - Original Version",
          "Artist Name: Tears For Fears </br> Song Name: Everybody Wants To Rule The World",
          "Artist Name: Big Mama Thornton </br> Song Name: Hound Dog",
          "Artist Name: Bob Dylan </br> Song Name: Visions of Johanna",
          "Artist Name: The Shangri-Las </br> Song Name: Leader Of The Pack",
          "Artist Name: John Coltrane </br> Song Name: A Love Supreme, Pt. I – Acknowledgement",
          "Artist Name: The Stooges </br> Song Name: I Wanna Be Your Dog",
          "Artist Name: Smokey Robinson & The Miracles </br> Song Name: The Tears Of A Clown",
          "Artist Name: Isaac Hayes </br> Song Name: Walk On By",
          "Artist Name: Eagles </br> Song Name: Hotel California - 2013 Remaster",
          "Artist Name: The Doors </br> Song Name: Light My Fire",
          "Artist Name: Bill Withers </br> Song Name: Ain't No Sunshine",
          "Artist Name: Liz Phair </br> Song Name: Divorce Song - Remastered",
          "Artist Name: Gnarls Barkley </br> Song Name: Crazy",
          "Artist Name: Aretha Franklin </br> Song Name: Chain of Fools",
          "Artist Name: The Police </br> Song Name: Every Breath You Take",
          "Artist Name: Kraftwerk </br> Song Name: Trans-Europe Express - 2009 Remaster",
          "Artist Name: TLC </br> Song Name: No Scrubs",
          "Artist Name: Pink Floyd </br> Song Name: Wish You Were Here - 2011 Remaster",
          "Artist Name: Bob Seger </br> Song Name: Night Moves",
          "Artist Name: The B-52's </br> Song Name: Rock Lobster",
          "Artist Name: Screamin' Jay Hawkins </br> Song Name: I Put a Spell On You",
          "Artist Name: Bruce Springsteen </br> Song Name: Jungleland",
          "Artist Name: The Beach Boys </br> Song Name: Wouldn't It Be Nice",
          "Artist Name: Bikini Kill </br> Song Name: Rebel Girl",
          "Artist Name: The Who </br> Song Name: Won't Get Fooled Again - Original Album Version",
          "Artist Name: The Velvet Underground </br> Song Name: Sweet Jane",
          "Artist Name: Alice Cooper </br> Song Name: School's Out",
          "Artist Name: A Tribe Called Quest </br> Song Name: Can I Kick It?",
          "Artist Name: Phil Collins </br> Song Name: In The Air Tonight - 2015 Remastered",
          "Artist Name: Usher </br> Song Name: Yeah! (feat. Lil Jon & Ludacris)",
          "Artist Name: Bruce Springsteen </br> Song Name: Atlantic City",
          "Artist Name: Funky 4 + 1 </br> Song Name: That's the Joint",
          "Artist Name: AC/DC </br> Song Name: You Shook Me All Night Long",
          "Artist Name: ABBA </br> Song Name: Dancing Queen",
          "Artist Name: Destiny's Child </br> Song Name: Say My Name",
          "Artist Name: Leonard Cohen </br> Song Name: Suzanne",
          "Artist Name: Ray Charles </br> Song Name: Georgia on My Mind",
          "Artist Name: INXS </br> Song Name: Never Tear Us Apart",
          "Artist Name: Clipse </br> Song Name: Grindin'",
          "Artist Name: The Beatles </br> Song Name: Penny Lane",
          "Artist Name: Radiohead </br> Song Name: Karma Police",
          "Artist Name: Toots & The Maytals </br> Song Name: Pressure Drop",
          "Artist Name: Bo Diddley </br> Song Name: Bo Diddley",
          "Artist Name: Buzzcocks </br> Song Name: Ever Fallen in Love (With Someone You Shouldn't've?) - 1996 Remastered Version",
          "Artist Name: Randy Newman </br> Song Name: Sail Away - 2002 Remaster",
          "Artist Name: Al Green </br> Song Name: Love and Happiness",
          "Artist Name: Roberta Flack </br> Song Name: Killing Me Softly With His Song",
          "Artist Name: Thin Lizzy </br> Song Name: The Boys Are Back In Town",
          "Artist Name: Procol Harum </br> Song Name: A Whiter Shade of Pale - Original Single Version",
          "Artist Name: Nine Inch Nails </br> Song Name: Closer",
          "Artist Name: The Righteous Brothers </br> Song Name: Unchained Melody",
          "Artist Name: The Isley Brothers </br> Song Name: Shout, Pts. 1 & 2",
          "Artist Name: Drake </br> Song Name: Take Care",
          "Artist Name: King Tubby </br> Song Name: King Tubby Meets Rockers Uptown",
          "Artist Name: The Replacements </br> Song Name: Left of the Dial - 2008 Remaster",
          "Artist Name: Marvin Gaye </br> Song Name: Let's Get It On",
          "Artist Name: Dolly Parton </br> Song Name: Coat of Many Colors",
          "Artist Name: Paul Simon </br> Song Name: American Tune",
          "Artist Name: Curtis Mayfield </br> Song Name: Pusherman",
          "Artist Name: The Wailers </br> Song Name: Get Up, Stand Up",
          "Artist Name: Neil Young </br> Song Name: Heart of Gold - 2009 Remaster",
          "Artist Name: Gil Scott-Heron </br> Song Name: The Revolution Will Not Be Televised",
          "Artist Name: Martha Reeves & The Vandellas </br> Song Name: (Love Is Like A) Heat Wave",
          "Artist Name: Metallica </br> Song Name: Master Of Puppets",
          "Artist Name: Loretta Lynn </br> Song Name: Coal Miner's Daughter - Single Version",
          "Artist Name: The Supremes </br> Song Name: Stop! In The Name Of Love - Single Version",
          "Artist Name: Willie Nelson </br> Song Name: Blue Eyes Crying In the Rain",
          "Artist Name: Parliament </br> Song Name: Flash Light",
          "Artist Name: Gloria Gaynor </br> Song Name: I Will Survive",
          "Artist Name: Jimi Hendrix </br> Song Name: Purple Haze",
          "Artist Name: Joan Jett & the Blackhearts </br> Song Name: Bad Reputation",
          "Artist Name: N.W.A. </br> Song Name: Straight Outta Compton",
          "Artist Name: Joni Mitchell </br> Song Name: River",
          "Artist Name: Faces </br> Song Name: Ooh La La",
          "Artist Name: Beastie Boys </br> Song Name: Sabotage - Remastered 2009",
          "Artist Name: Pavement </br> Song Name: Summer Babe - Winter Version",
          "Artist Name: The Beatles </br> Song Name: Eleanor Rigby",
          "Artist Name: Jerry Lee Lewis </br> Song Name: Great Balls of Fire",
          "Artist Name: Digital Underground </br> Song Name: The Humpty Dance",
          "Artist Name: Backstreet Boys </br> Song Name: I Want It That Way",
          "Artist Name: Big Star </br> Song Name: September Gurls",
          "Artist Name: Aaliyah </br> Song Name: Are You That Somebody",
          "Artist Name: Hank Williams </br> Song Name: Your Cheatin' Heart",
          "Artist Name: Bill Withers </br> Song Name: Lean on Me",
          "Artist Name: New Order </br> Song Name: Blue Monday",
          "Artist Name: The Supremes </br> Song Name: You Keep Me Hangin' On",
          "Artist Name: Deee-Lite </br> Song Name: Groove Is in the Heart",
          "Artist Name: The Who </br> Song Name: My Generation",
          "Artist Name: Whitney Houston </br> Song Name: I Wanna Dance with Somebody (Who Loves Me)",
          "Artist Name: The Byrds </br> Song Name: Mr. Tambourine Man",
          "Artist Name: Woody Guthrie </br> Song Name: This Land is Your Land",
          "Artist Name: Beyoncé </br> Song Name: Single Ladies (Put a Ring on It)",
          "Artist Name: Creedence Clearwater Revival </br> Song Name: Fortunate Son",
          "Artist Name: The Smiths </br> Song Name: There Is a Light That Never Goes Out - 2011 Remaster",
          "Artist Name: Joni Mitchell </br> Song Name: Both Sides Now",
          "Artist Name: Derek & The Dominos </br> Song Name: Layla",
          "Artist Name: Eminem </br> Song Name: Stan",
          "Artist Name: Crosby, Stills & Nash </br> Song Name: Suite: Judy Blue Eyes - 2005 Remaster",
          "Artist Name: Ike & Tina Turner </br> Song Name: River Deep - Mountain High",
          "Artist Name: New Order </br> Song Name: Bizarre Love Triangle '94",
          "Artist Name: Tom Petty </br> Song Name: Free Fallin'",
          "Artist Name: Wilson Pickett </br> Song Name: In the Midnight Hour",
          "Artist Name: Stevie Nicks </br> Song Name: Edge of Seventeen",
          "Artist Name: Elvis Presley </br> Song Name: Jailhouse Rock",
          "Artist Name: Mobb Deep </br> Song Name: Shook Ones, Pt. II",
          "Artist Name: Steely Dan </br> Song Name: Deacon Blues",
          "Artist Name: The Rolling Stones </br> Song Name: Paint It, Black",
          "Artist Name: Boston </br> Song Name: More Than a Feeling",
          "Artist Name: U2 </br> Song Name: With Or Without You",
          "Artist Name: Funkadelic </br> Song Name: One Nation Under a Groove - Album Version - 2015 Remaster",
          "Artist Name: Don Henley </br> Song Name: The Boys Of Summer",
          "Artist Name: Hole </br> Song Name: Doll Parts",
          "Artist Name: Rage Against The Machine </br> Song Name: Killing In The Name",
          "Artist Name: Glen Campbell </br> Song Name: Wichita Lineman - Remastered 2001",
          "Artist Name: Britney Spears </br> Song Name: ...Baby One More Time",
          "Artist Name: David Bowie </br> Song Name: Young Americans - 2016 Remaster",
          "Artist Name: Stevie Wonder </br> Song Name: Signed, Sealed, Delivered (I'm Yours)",
          "Artist Name: Elton John </br> Song Name: Your Song",
          "Artist Name: Johnny Cash </br> Song Name: Ring of Fire",
          "Artist Name: David Bowie </br> Song Name: Changes - 2015 Remaster",
          "Artist Name: Aerosmith </br> Song Name: Dream On",
          "Artist Name: Marvin Gaye </br> Song Name: Sexual Healing",
          "Artist Name: Ann Peebles </br> Song Name: I Can't Stand the Rain",
          "Artist Name: James Brown </br> Song Name: Get Up I Feel Like Being A Sex Machine - Pt. 1 / Single Version",
          "Artist Name: Patsy Cline </br> Song Name: Crazy - Single Version",
          "Artist Name: PJ Harvey </br> Song Name: Rid Of Me",
          "Artist Name: The Rolling Stones </br> Song Name: Wild Horses",
          "Artist Name: Geto Boys </br> Song Name: Mind Playing Tricks on Me",
          "Artist Name: Bobbie Gentry </br> Song Name: Ode To Billie Joe",
          "Artist Name: N.W.A. </br> Song Name: Fuck Tha Police",
          "Artist Name: David Bowie </br> Song Name: Space Oddity - 2015 Remaster",
          "Artist Name: Jimi Hendrix </br> Song Name: Little Wing",
          "Artist Name: Bob Dylan </br> Song Name: Subterranean Homesick Blues",
          "Artist Name: The Staple Singers </br> Song Name: I'll Take You There",
          "Artist Name: Michael Jackson </br> Song Name: Beat It",
          "Artist Name: Sinéad O'Connor </br> Song Name: Nothing Compares 2 U",
          "Artist Name: Stevie Wonder </br> Song Name: You Are The Sunshine Of My Life",
          "Artist Name: Simon & Garfunkel </br> Song Name: The Sounds of Silence",
          "Artist Name: The Byrds </br> Song Name: Eight Miles High",
          "Artist Name: Lou Reed </br> Song Name: Walk On the Wild Side",
          "Artist Name: Pink Floyd </br> Song Name: Comfortably Numb - 2011 Remastered Version",
          "Artist Name: Billie Eilish </br> Song Name: bad guy",
          "Artist Name: Van Halen </br> Song Name: Jump",
          "Artist Name: The Kinks </br> Song Name: You Really Got Me - Remastered",
          "Artist Name: The Flamingos </br> Song Name: I Only Have Eyes for You",
          "Artist Name: R.E.M. </br> Song Name: Radio Free Europe",
          "Artist Name: Television </br> Song Name: Marquee Moon",
          "Artist Name: Nina Simone </br> Song Name: Mississippi Goddam",
          "Artist Name: Louis Armstrong </br> Song Name: What A Wonderful World",
          "Artist Name: The Five Satins </br> Song Name: In The Still of the Night",
          "Artist Name: Tom Petty and the Heartbreakers </br> Song Name: American Girl",
          "Artist Name: Dusty Springfield </br> Song Name: Son Of A Preacher Man",
          "Artist Name: Eminem </br> Song Name: Lose Yourself",
          "Artist Name: Mott The Hoople </br> Song Name: All the Young Dudes",
          "Artist Name: Hank Williams </br> Song Name: I'm So Lonesome I Could Cry - Single Version",
          "Artist Name: Bob Dylan </br> Song Name: Mr. Tambourine Man",
          "Artist Name: Fleetwood Mac </br> Song Name: Landslide",
          "Artist Name: Nick Drake </br> Song Name: Pink Moon",
          "Artist Name: Madonna </br> Song Name: Into the Groove",
          "Artist Name: R.E.M. </br> Song Name: Nightswimming",
          "Artist Name: The Who </br> Song Name: Baba O'Riley",
          "Artist Name: The Meters </br> Song Name: Cissy Strut",
          "Artist Name: Sonic Youth </br> Song Name: Teen Age Riot (Album Version)",
          "Artist Name: The Kingsmen </br> Song Name: Louie Louie",
          "Artist Name: The Strokes </br> Song Name: Last Nite",
          "Artist Name: Howlin' Wolf </br> Song Name: Spoonful",
          "Artist Name: Rick James </br> Song Name: Super Freak",
          "Artist Name: Creedence Clearwater Revival </br> Song Name: Proud Mary",
          "Artist Name: The Shirelles </br> Song Name: Will You Still Love Me Tomorrow",
          "Artist Name: Green Day </br> Song Name: Basket Case",
          "Artist Name: Elton John </br> Song Name: Rocket Man (I Think It's Going To Be A Long, Long Time)",
          "Artist Name: Led Zeppelin </br> Song Name: Kashmir - Remaster",
          "Artist Name: Fats Domino </br> Song Name: Blueberry Hill",
          "Artist Name: James Taylor </br> Song Name: Fire and Rain",
          "Artist Name: Outkast </br> Song Name: Ms. Jackson",
          "Artist Name: The Rolling Stones </br> Song Name: Jumpin' Jack Flash - (Original Single Mono Version)",
          "Artist Name: The Clash </br> Song Name: London Calling",
          "Artist Name: George Jones </br> Song Name: He Stopped Loving Her Today",
          "Artist Name: Rod Stewart </br> Song Name: Maggie May",
          "Artist Name: Bob Marley & The Wailers </br> Song Name: No Woman No Cry",
          "Artist Name: Madonna </br> Song Name: Vogue",
          "Artist Name: Blondie </br> Song Name: Heart Of Glass",
          "Artist Name: Ariana Grande </br> Song Name: thank u, next",
          "Artist Name: Otis Redding </br> Song Name: Try a Little Tenderness",
          "Artist Name: The Beatles </br> Song Name: She Loves You - Remastered 2009",
          "Artist Name: Tina Turner </br> Song Name: What's Love Got to Do with It",
          "Artist Name: Journey </br> Song Name: Don't Stop Believin'",
          "Artist Name: Eric B. & Rakim </br> Song Name: Paid In Full",
          "Artist Name: Ben E. King </br> Song Name: Stand by Me",
          "Artist Name: Martha Reeves & The Vandellas </br> Song Name: Dancing In The Street - Stereo",
          "Artist Name: Drake </br> Song Name: Hold On, We're Going Home",
          "Artist Name: Led Zeppelin </br> Song Name: Whole Lotta Love - 1990 Remaster",
          "Artist Name: TLC </br> Song Name: Waterfalls",
          "Artist Name: George Michael </br> Song Name: Freedom! '90 - Remastered",
          "Artist Name: Sex Pistols </br> Song Name: Anarchy In The UK",
          "Artist Name: Buddy Holly </br> Song Name: That'll Be the Day",
          "Artist Name: Talking Heads </br> Song Name: This Must Be the Place (Naive Melody) - 2005 Remaster",
          "Artist Name: The Impressions </br> Song Name: People Get Ready",
          "Artist Name: The Beatles </br> Song Name: Let It Be - Remastered 2009",
          "Artist Name: X-Ray Spex </br> Song Name: Oh Bondage! Up Yours!",
          "Artist Name: Marvin Gaye </br> Song Name: I Heard It Through The Grapevine",
          "Artist Name: Radiohead </br> Song Name: Creep",
          "Artist Name: Aretha Franklin </br> Song Name: I Say a Little Prayer",
          "Artist Name: Rob Base & DJ EZ Rock </br> Song Name: It Takes Two",
          "Artist Name: Etta James </br> Song Name: At Last",
          "Artist Name: Britney Spears </br> Song Name: Toxic",
          "Artist Name: Stevie Wonder </br> Song Name: Higher Ground",
          "Artist Name: R.E.M. </br> Song Name: Losing My Religion",
          "Artist Name: Bruce Springsteen </br> Song Name: Thunder Road",
          "Artist Name: The Beatles </br> Song Name: Something - Remastered 2015",
          "Artist Name: Sly & The Family Stone </br> Song Name: Everyday People",
          "Artist Name: The Cure </br> Song Name: Just Like Heaven",
          "Artist Name: Wu-Tang Clan </br> Song Name: C.R.E.A.M. (Cash Rules Everything Around Me) (feat. Method Man, Raekwon, Inspectah Deck & Buddha Monk)",
          "Artist Name: The Rolling Stones </br> Song Name: Sympathy For The Devil",
          "Artist Name: David Bowie </br> Song Name: Life on Mars? - 2015 Remaster",
          "Artist Name: The Jackson 5 </br> Song Name: I Want You Back",
          "Artist Name: Alanis Morissette </br> Song Name: You Oughta Know - 2015 Remaster",
          "Artist Name: Chuck Berry </br> Song Name: Maybelline",
          "Artist Name: Yeah Yeah Yeahs </br> Song Name: Maps",
          "Artist Name: Bob Dylan </br> Song Name: Blowin' in the Wind",
          "Artist Name: Bee Gees </br> Song Name: Stayin Alive",
          "Artist Name: The Beatles </br> Song Name: In My Life - Remastered 2009",
          "Artist Name: Patti Smith </br> Song Name: Gloria",
          "Artist Name: JAY-Z </br> Song Name: 99 Problems",
          "Artist Name: Oasis </br> Song Name: Wonderwall",
          "Artist Name: Whitney Houston </br> Song Name: I Will Always Love You",
          "Artist Name: Kelly Clarkson </br> Song Name: Since U Been Gone",
          "Artist Name: Little Richard </br> Song Name: Good Golly Miss Molly",
          "Artist Name: UGK </br> Song Name: Int'l Players Anthem (I Choose You) (feat. Outkast)",
          "Artist Name: Aretha Franklin </br> Song Name: (You Make Me Feel Like) A Natural Woman",
          "Artist Name: The Beatles </br> Song Name: Hey Jude - Remastered 2015",
          "Artist Name: Guns N' Roses </br> Song Name: Sweet Child O' Mine",
          "Artist Name: LCD Soundsystem </br> Song Name: All My Friends",
          "Artist Name: The Rolling Stones </br> Song Name: Tumbling Dice",
          "Artist Name: Prince </br> Song Name: Kiss",
          "Artist Name: Al Green </br> Song Name: Let's Stay Together",
          "Artist Name: Bob Dylan </br> Song Name: Desolation Row",
          "Artist Name: Adele </br> Song Name: Rolling in the Deep",
          "Artist Name: The Velvet Underground </br> Song Name: I'm Waiting For The Man",
          "Artist Name: Ray Charles </br> Song Name: What'd I Say, Pt. 1 & 2",
          "Artist Name: Amy Winehouse </br> Song Name: Back To Black",
          "Artist Name: Four Tops </br> Song Name: Reach Out I'll Be There",
          "Artist Name: The Modern Lovers </br> Song Name: Roadrunner",
          "Artist Name: Johnny Cash </br> Song Name: I Walk the Line",
          "Artist Name: Pulp </br> Song Name: Common People",
          "Artist Name: Leonard Cohen </br> Song Name: Hallelujah",
          "Artist Name: Beyoncé </br> Song Name: Formation",
          "Artist Name: The Beatles </br> Song Name: Yesterday - Remastered 2015",
          "Artist Name: Tracy Chapman </br> Song Name: Fast Car",
          "Artist Name: Elvis Presley </br> Song Name: Suspicious Minds",
          "Artist Name: Taylor Swift </br> Song Name: All Too Well",
          "Artist Name: CHIC </br> Song Name: Good Times",
          "Artist Name: Bob Dylan </br> Song Name: Tangled up in Blue",
          "Artist Name: Simon & Garfunkel </br> Song Name: Bridge Over Troubled Water",
          "Artist Name: Earth, Wind & Fire </br> Song Name: September",
          "Artist Name: Ramones </br> Song Name: Blitzkrieg Bop - 2016 Remaster",
          "Artist Name: Dolly Parton </br> Song Name: Jolene",
          "Artist Name: U2 </br> Song Name: One",
          "Artist Name: Led Zeppelin </br> Song Name: Stairway to Heaven - Remaster",
          "Artist Name: Kate Bush </br> Song Name: Running Up That Hill (A Deal With God)",
          "Artist Name: Grandmaster Flash </br> Song Name: The Message",
          "Artist Name: The Band </br> Song Name: The Weight - Remastered 2000",
          "Artist Name: Sly & The Family Stone </br> Song Name: Family Affair - Single Version",
          "Artist Name: Missy Elliott </br> Song Name: Work It",
          "Artist Name: Madonna </br> Song Name: Like a Prayer",
          "Artist Name: Smokey Robinson & The Miracles </br> Song Name: The Tracks Of My Tears",
          "Artist Name: The Beach Boys </br> Song Name: Good Vibrations",
          "Artist Name: Donna Summer </br> Song Name: I Feel Love",
          "Artist Name: Dionne Warwick </br> Song Name: Walk on By",
          "Artist Name: Daddy Yankee </br> Song Name: Gasolina",
          "Artist Name: Ms. Lauryn Hill </br> Song Name: Doo Wop (That Thing)",
          "Artist Name: Radiohead </br> Song Name: Idioteque",
          "Artist Name: Elton John </br> Song Name: Tiny Dancer",
          "Artist Name: M.I.A. </br> Song Name: Paper Planes",
          "Artist Name: Kendrick Lamar </br> Song Name: Alright",
          "Artist Name: Michael Jackson </br> Song Name: Billie Jean",
          "Artist Name: The Temptations </br> Song Name: My Girl",
          "Artist Name: Bob Marley & The Wailers </br> Song Name: Redemption Song",
          "Artist Name: Joy Division </br> Song Name: Love Will Tear Us Apart - 2020 Remaster",
          "Artist Name: Jimi Hendrix </br> Song Name: All Along the Watchtower",
          "Artist Name: Outkast </br> Song Name: B.O.B. - Bombs Over Baghdad",
          "Artist Name: Otis Redding </br> Song Name: (Sittin' On) the Dock of the Bay",
          "Artist Name: Prince </br> Song Name: When Doves Cry",
          "Artist Name: The White Stripes </br> Song Name: Seven Nation Army",
          "Artist Name: Little Richard </br> Song Name: Tutti Frutti",
          "Artist Name: James Brown </br> Song Name: Papa's Got A Brand New Bag - Pt. 1",
          "Artist Name: Chuck Berry </br> Song Name: Johnny B. Goode",
          "Artist Name: The Notorious B.I.G. </br> Song Name: Juicy",
          "Artist Name: The Rolling Stones </br> Song Name: (I Can't Get No) Satisfaction - Mono Version",
          "Artist Name: Lorde </br> Song Name: Royals",
          "Artist Name: Dr. Dre </br> Song Name: Nuthin' But A \"G\" Thang",
          "Artist Name: Talking Heads </br> Song Name: Once in a Lifetime - 2005 Remaster",
          "Artist Name: Bruce Springsteen </br> Song Name: Born to Run",
          "Artist Name: Joni Mitchell </br> Song Name: A Case of You",
          "Artist Name: Kanye West </br> Song Name: Runaway",
          "Artist Name: The Beatles </br> Song Name: A Day In The Life - Remastered 2009",
          "Artist Name: David Bowie </br> Song Name: Heroes - 2017 Remaster",
          "Artist Name: The Ronettes </br> Song Name: Be My Baby",
          "Artist Name: Billie Holiday </br> Song Name: Strange Fruit",
          "Artist Name: Robyn </br> Song Name: Dancing On My Own",
          "Artist Name: John Lennon </br> Song Name: Imagine - Remastered 2010",
          "Artist Name: Prince </br> Song Name: Purple Rain",
          "Artist Name: Queen </br> Song Name: Bohemian Rhapsody",
          "Artist Name: Beyoncé </br> Song Name: Crazy In Love (feat. Jay-Z)",
          "Artist Name: The Beatles </br> Song Name: I Want To Hold Your Hand - Remastered 2015",
          "Artist Name: The Kinks </br> Song Name: Waterloo Sunset",
          "Artist Name: The Rolling Stones </br> Song Name: Gimme Shelter",
          "Artist Name: Stevie Wonder </br> Song Name: Superstition",
          "Artist Name: The Beach Boys </br> Song Name: God Only Knows - Remastered",
          "Artist Name: Outkast </br> Song Name: Hey Ya!",
          "Artist Name: Fleetwood Mac </br> Song Name: Dreams - 2004 Remaster",
          "Artist Name: Missy Elliott </br> Song Name: Get Ur Freak On",
          "Artist Name: The Beatles </br> Song Name: Strawberry Fields Forever - Remastered 2009",
          "Artist Name: Marvin Gaye </br> Song Name: What's Going On",
          "Artist Name: Nirvana </br> Song Name: Smells Like Teen Spirit",
          "Artist Name: Bob Dylan </br> Song Name: Like a Rolling Stone",
          "Artist Name: Sam Cooke </br> Song Name: A Change Is Gonna Come",
          "Artist Name: Public Enemy </br> Song Name: Fight The Power",
          "Artist Name: Aretha Franklin </br> Song Name: Respect"
         ],
         "type": "scatter",
         "x": [
          4.696685314178467,
          -0.8169629573822021,
          -2.054823398590088,
          7.298248767852783,
          0.363618403673172,
          -1.841252326965332,
          2.9852004051208496,
          0.20722967386245728,
          4.0066938400268555,
          1.783630609512329,
          7.419965744018555,
          1.1157495975494385,
          5.5724310874938965,
          6.22758150100708,
          7.658834934234619,
          7.567267894744873,
          0.8337902426719666,
          -0.4981898367404938,
          6.27472448348999,
          2.8180620670318604,
          10.786785125732422,
          -3.6274147033691406,
          8.873567581176758,
          1.868782877922058,
          -2.0284907817840576,
          6.095354080200195,
          1.0925441980361938,
          3.422879695892334,
          -1.3269736766815186,
          -0.9041285514831543,
          0.9491318464279175,
          3.4478046894073486,
          4.736446857452393,
          1.7273261547088623,
          2.0931620597839355,
          4.458755016326904,
          -0.0845976397395134,
          2.7982017993927,
          -2.4246230125427246,
          -1.7223886251449585,
          4.2364983558654785,
          4.240688800811768,
          0.2806408107280731,
          2.1142659187316895,
          5.285211563110352,
          -1.050444483757019,
          4.289417743682861,
          7.865941524505615,
          -1.3872932195663452,
          8.407635688781738,
          -2.6056761741638184,
          -1.872577428817749,
          7.317577362060547,
          -5.093123912811279,
          -1.2542439699172974,
          -0.46854570508003235,
          9.687392234802246,
          1.9049534797668457,
          -3.3670616149902344,
          3.461848020553589,
          5.9568867683410645,
          4.5819292068481445,
          5.922658443450928,
          -2.0310492515563965,
          6.4978251457214355,
          -0.7400574684143066,
          1.7295358180999756,
          2.1779673099517822,
          -1.4271334409713745,
          0.7701448798179626,
          10.071569442749023,
          -3.5956368446350098,
          4.176643371582031,
          9.667426109313965,
          7.776733875274658,
          2.789740800857544,
          7.7656168937683105,
          6.001855373382568,
          8.559497833251953,
          2.476680040359497,
          -2.022966146469116,
          6.044253826141357,
          1.3540632724761963,
          6.310393333435059,
          2.0288848876953125,
          2.528132677078247,
          2.12705135345459,
          -0.9702298641204834,
          3.7479474544525146,
          0.918387770652771,
          0.6552004218101501,
          0.7327427268028259,
          -2.379396677017212,
          -1.227044939994812,
          10.847247123718262,
          5.190463066101074,
          -2.6013710498809814,
          2.369877576828003,
          2.5113964080810547,
          -1.3008668422698975,
          0.06866474449634552,
          4.475614547729492,
          2.211782217025757,
          10.953669548034668,
          -2.5947036743164062,
          9.862778663635254,
          1.8727606534957886,
          2.7067413330078125,
          3.6459105014801025,
          3.390554189682007,
          1.7930558919906616,
          1.618513822555542,
          10.10243034362793,
          1.7535592317581177,
          -0.3849000930786133,
          2.4645519256591797,
          6.369505882263184,
          8.107930183410645,
          5.964876174926758,
          1.815764307975769,
          3.702223539352417,
          1.510955810546875,
          0.40968334674835205,
          2.458115339279175,
          3.3672642707824707,
          -1.4170893430709839,
          1.1062275171279907,
          8.361990928649902,
          -2.3298065662384033,
          1.6536391973495483,
          -1.8396422863006592,
          1.708616852760315,
          -3.372709274291992,
          7.9970316886901855,
          -1.462242841720581,
          2.13083815574646,
          -1.8189561367034912,
          4.110881328582764,
          3.503725528717041,
          4.097108364105225,
          0.7875078916549683,
          8.401764869689941,
          0.3898172974586487,
          4.166975975036621,
          1.5442469120025635,
          4.49155855178833,
          4.193795680999756,
          1.9757362604141235,
          8.318020820617676,
          2.2004048824310303,
          -1.9180293083190918,
          -2.029430627822876,
          1.715736985206604,
          2.4503378868103027,
          5.392429828643799,
          -1.7926876544952393,
          -2.093576669692993,
          0.6784800291061401,
          -3.7785353660583496,
          -2.0550882816314697,
          1.6856225728988647,
          0.8021509647369385,
          -2.182807207107544,
          6.229398250579834,
          -1.3893920183181763,
          4.57256555557251,
          -1.9200775623321533,
          0.9958006739616394,
          6.331633567810059,
          -0.6483584642410278,
          9.682900428771973,
          4.555756092071533,
          1.6871403455734253,
          6.107211589813232,
          3.954059362411499,
          0.9854753017425537,
          -2.401308536529541,
          -1.7150379419326782,
          -2.5893399715423584,
          1.7942053079605103,
          7.820724964141846,
          2.1078715324401855,
          2.815492868423462,
          -2.635127067565918,
          -1.1673206090927124,
          4.0976972579956055,
          0.7435786128044128,
          -0.25956252217292786,
          1.1815022230148315,
          0.5384584069252014,
          -3.2269675731658936,
          2.564523458480835,
          2.1135365962982178,
          7.365698337554932,
          1.7370193004608154,
          -1.119787335395813,
          3.373775005340576,
          7.797845363616943,
          -0.7132278084754944,
          0.5585476756095886,
          1.9282491207122803,
          2.786712169647217,
          -1.2703310251235962,
          -1.9664968252182007,
          4.503384113311768,
          -0.15089358389377594,
          -0.3569737672805786,
          -1.6802152395248413,
          10.908126831054688,
          1.5781999826431274,
          7.688311576843262,
          -1.216981053352356,
          8.220518112182617,
          -3.4375925064086914,
          4.129191875457764,
          6.4402756690979,
          -0.13768871128559113,
          2.218503952026367,
          1.7819998264312744,
          10.684412002563477,
          -5.026124954223633,
          0.5775901079177856,
          4.171582221984863,
          2.8261334896087646,
          1.907386302947998,
          3.9543206691741943,
          1.4645873308181763,
          0.4077366888523102,
          -1.4814238548278809,
          -0.3374367654323578,
          -3.3570265769958496,
          -1.7197531461715698,
          0.8877366185188293,
          8.323685646057129,
          4.150007724761963,
          1.3377618789672852,
          0.9148489832878113,
          3.466566324234009,
          -2.542206048965454,
          1.1042473316192627,
          4.194150924682617,
          -2.605654239654541,
          7.950921058654785,
          -0.5488552451133728,
          1.8220895528793335,
          3.3441340923309326,
          -0.8729521036148071,
          3.381714344024658,
          0.8633822202682495,
          4.478097915649414,
          -0.9516189694404602,
          2.1114180088043213,
          10.760398864746094,
          -0.09838175028562546,
          0.5819829702377319,
          9.975324630737305,
          0.5196148157119751,
          -5.054515838623047,
          2.4255926609039307,
          9.737163543701172,
          4.2677717208862305,
          0.04590332880616188,
          6.5472731590271,
          3.9575717449188232,
          2.620899200439453,
          1.8299839496612549,
          -0.832367479801178,
          3.678816080093384,
          -0.13682885468006134,
          6.000630855560303,
          0.508439838886261,
          -0.052969854325056076,
          5.736335754394531,
          -1.6309224367141724,
          2.4889585971832275,
          -0.07132823020219803,
          0.5740485787391663,
          8.209394454956055,
          0.5242868065834045,
          -0.5137733221054077,
          1.8764275312423706,
          0.374170184135437,
          -0.5115776658058167,
          -1.3578943014144897,
          2.4066355228424072,
          9.981271743774414,
          0.5522963404655457,
          -3.5140528678894043,
          -1.3319729566574097,
          1.764293909072876,
          0.9326001405715942,
          0.5821040868759155,
          1.8885221481323242,
          8.236578941345215,
          -1.566688060760498,
          6.259493350982666,
          0.10359320789575577,
          2.447345018386841,
          1.6038110256195068,
          3.569073438644409,
          0.03778917342424393,
          -2.4796605110168457,
          0.936470627784729,
          1.533307671546936,
          2.6755311489105225,
          3.971846342086792,
          0.25779959559440613,
          -3.4529972076416016,
          10.876832962036133,
          -1.5281065702438354,
          10.744312286376953,
          0.016029464080929756,
          -0.9006223082542419,
          -2.551307439804077,
          1.3133107423782349,
          4.192591190338135,
          3.6436798572540283,
          2.505279541015625,
          -1.3602299690246582,
          0.48232874274253845,
          -0.11716284602880478,
          -0.6588680148124695,
          5.162440299987793,
          -2.4628798961639404,
          -0.39457637071609497,
          3.7927260398864746,
          0.9456548690795898,
          0.7135288119316101,
          2.6222028732299805,
          3.8341400623321533,
          -1.33718740940094,
          0.6365938782691956,
          -1.40800142288208,
          8.181574821472168,
          -0.09851789474487305,
          3.91656494140625,
          -2.6265504360198975,
          -1.4153484106063843,
          -0.06059921905398369,
          5.851116180419922,
          0.8928067684173584,
          -0.20526865124702454,
          1.1245880126953125,
          0.44398632645606995,
          2.1104650497436523,
          0.30970120429992676,
          2.7828574180603027,
          2.3710243701934814,
          -1.6533801555633545,
          -1.3663705587387085,
          2.1096372604370117,
          1.6382039785385132,
          -2.5276715755462646,
          -1.3202004432678223,
          -2.264146089553833,
          10.048340797424316,
          -3.434018611907959,
          1.6481164693832397,
          3.3085148334503174,
          1.7662516832351685,
          4.2255120277404785,
          5.768947124481201,
          2.1231861114501953,
          5.691957950592041,
          1.6354100704193115,
          -5.061495304107666,
          3.518576145172119,
          -1.3231409788131714,
          10.811958312988281,
          -1.2753459215164185,
          -0.6026126146316528,
          8.296710968017578,
          -2.4864118099212646,
          7.744316101074219,
          4.366750717163086,
          2.163637399673462,
          -1.8820668458938599,
          0.8878269791603088,
          -0.3805845379829407,
          -5.238002300262451,
          1.9962836503982544,
          0.9575035572052002,
          0.6181989908218384,
          1.6595641374588013,
          7.763973712921143,
          2.5476601123809814,
          6.330456733703613,
          2.449631690979004,
          0.8887178897857666,
          -1.2279284000396729,
          -5.2275190353393555,
          0.8760607838630676,
          2.475428581237793,
          9.685022354125977,
          -3.5742344856262207,
          0.064266636967659,
          2.7455894947052,
          0.08234305679798126,
          -3.682156801223755,
          0.8769310116767883,
          -2.532942533493042,
          1.844034194946289,
          -5.113923072814941,
          0.32796618342399597,
          8.256726264953613,
          1.9104846715927124,
          5.816568851470947,
          6.434480667114258,
          -1.348480224609375,
          8.410970687866211,
          1.7639590501785278,
          -5.065054416656494,
          1.7755423784255981,
          0.11257041245698929,
          -3.5250766277313232,
          0.8621209859848022,
          1.486343502998352,
          -2.5760116577148438,
          6.11033296585083,
          -0.3395344614982605,
          2.2785232067108154,
          2.568096399307251,
          -0.4558259844779968,
          0.016599196940660477,
          3.645329236984253,
          1.2610363960266113,
          -0.12344663590192795,
          5.8277587890625,
          -5.3242950439453125,
          3.915571689605713,
          2.385610342025757,
          4.157804012298584,
          2.4048447608947754,
          -2.6020615100860596,
          -1.3633567094802856,
          2.4229166507720947,
          1.7631465196609497,
          3.485481023788452,
          1.7696117162704468,
          -2.5378589630126953,
          2.075160264968872,
          10.814021110534668,
          0.6568067669868469,
          0.9455643892288208,
          7.766636371612549,
          5.716695308685303,
          -0.4428185820579529,
          -1.9840576648712158,
          3.6188745498657227,
          -1.2131426334381104,
          7.360541820526123,
          7.7586259841918945,
          0.5710936188697815,
          1.637627124786377,
          4.2250447273254395,
          8.2849760055542,
          4.2133073806762695,
          1.1522139310836792,
          4.117091655731201,
          0.9313106536865234,
          -0.9740245342254639,
          9.993876457214355,
          1.6579675674438477,
          0.741481602191925,
          -0.9972632527351379,
          -1.2908518314361572,
          2.697937250137329,
          -3.75801157951355,
          9.760076522827148,
          -3.496215343475342,
          6.481472492218018,
          7.890356063842773,
          0.8388581275939941,
          -1.2309759855270386,
          -0.07802823930978775,
          4.531086444854736,
          -5.208362102508545,
          0.15560898184776306,
          -1.0662126541137695,
          3.1355652809143066,
          6.468849182128906,
          -1.5308870077133179,
          0.7895399928092957,
          -3.5611908435821533,
          5.77947473526001,
          -5.015209674835205,
          -0.38391223549842834,
          -3.449965238571167,
          2.511242389678955,
          -2.0144808292388916,
          9.973014831542969,
          -1.3765298128128052,
          7.84457540512085,
          -5.2378926277160645,
          0.9765344262123108,
          1.7265825271606445,
          -2.5470447540283203,
          -0.9273256659507751,
          10.922792434692383,
          1.7099246978759766
         ],
         "y": [
          4.201108932495117,
          2.8553338050842285,
          6.215123653411865,
          6.13086462020874,
          12.89566707611084,
          4.713689804077148,
          9.120807647705078,
          10.423511505126953,
          3.9195127487182617,
          7.078556060791016,
          5.217039108276367,
          9.978836059570312,
          8.029930114746094,
          8.657866477966309,
          5.255256652832031,
          5.958018779754639,
          9.744695663452148,
          2.5829033851623535,
          8.986489295959473,
          2.7496697902679443,
          3.702101469039917,
          12.641270637512207,
          4.860656261444092,
          10.748008728027344,
          6.174227714538574,
          8.258681297302246,
          1.4750659465789795,
          4.955453872680664,
          12.002799987792969,
          13.016730308532715,
          1.6500812768936157,
          4.9469146728515625,
          8.048290252685547,
          8.675006866455078,
          0.8965142965316772,
          4.3568949699401855,
          7.19174861907959,
          2.7390196323394775,
          6.309051990509033,
          3.81235671043396,
          4.507025718688965,
          7.902454853057861,
          10.40169620513916,
          7.242241859436035,
          7.993986129760742,
          12.93447494506836,
          4.599255561828613,
          6.292246341705322,
          12.139023780822754,
          5.115906238555908,
          6.603022575378418,
          12.906390190124512,
          5.049277305603027,
          12.17888355255127,
          6.839286804199219,
          13.05677604675293,
          4.504202365875244,
          7.136031627655029,
          12.47031307220459,
          4.934089183807373,
          8.206177711486816,
          4.4544291496276855,
          7.949009418487549,
          6.139939308166504,
          9.270514488220215,
          13.150671005249023,
          9.010453224182129,
          10.396219253540039,
          3.406358242034912,
          0.28944286704063416,
          4.288431644439697,
          12.604456901550293,
          8.097930908203125,
          4.50576114654541,
          6.281479358673096,
          2.753608465194702,
          6.2335524559021,
          9.193750381469727,
          5.005326271057129,
          9.219398498535156,
          4.081282138824463,
          8.286648750305176,
          2.1419825553894043,
          9.002412796020508,
          8.10461139678955,
          9.265312194824219,
          10.307076454162598,
          13.000852584838867,
          8.676368713378906,
          9.641897201538086,
          13.415284156799316,
          9.868697166442871,
          6.284367084503174,
          12.47114086151123,
          3.647794246673584,
          8.012256622314453,
          12.700526237487793,
          0.6906289458274841,
          0.7085853815078735,
          12.193893432617188,
          10.830945014953613,
          4.496187686920166,
          10.23832893371582,
          3.534956216812134,
          6.828057765960693,
          4.448120594024658,
          8.250284194946289,
          1.0615904331207275,
          8.568184852600098,
          5.007101535797119,
          7.058008670806885,
          11.108652114868164,
          4.26340913772583,
          9.072813034057617,
          13.080540657043457,
          0.6809718012809753,
          9.083157539367676,
          4.865977764129639,
          9.194343566894531,
          9.092301368713379,
          8.231813430786133,
          1.2511093616485596,
          10.43823528289795,
          9.220758438110352,
          5.023828983306885,
          3.4070889949798584,
          1.9383913278579712,
          5.152364253997803,
          6.182906150817871,
          6.678548812866211,
          3.8174726963043213,
          10.996849060058594,
          12.3768892288208,
          5.171369552612305,
          3.429877996444702,
          7.436056613922119,
          12.538506507873535,
          4.37500524520874,
          4.898816108703613,
          4.264418601989746,
          0.30524200201034546,
          4.806715488433838,
          10.053244590759277,
          8.123153686523438,
          11.362297058105469,
          4.384512901306152,
          7.960580825805664,
          10.608372688293457,
          4.72297477722168,
          7.294206142425537,
          6.239173412322998,
          4.021963596343994,
          10.982271194458008,
          7.037356853485107,
          7.923388957977295,
          4.683170318603516,
          12.782977104187012,
          13.390392303466797,
          12.546457290649414,
          4.386926651000977,
          8.738719940185547,
          0.33027708530426025,
          12.779226303100586,
          9.006086349487305,
          12.079132080078125,
          4.2654805183410645,
          12.566652297973633,
          1.5351521968841553,
          9.06497573852539,
          2.3544371128082275,
          4.498967170715332,
          4.229181289672852,
          8.660371780395508,
          8.37179183959961,
          7.965551853179932,
          10.221085548400879,
          6.476673126220703,
          3.750781536102295,
          6.616022109985352,
          8.554742813110352,
          4.811763286590576,
          10.34135913848877,
          2.7180984020233154,
          6.390816688537598,
          3.2058372497558594,
          4.011701583862305,
          10.500688552856445,
          2.3028204441070557,
          1.9499601125717163,
          13.235677719116211,
          12.713695526123047,
          0.9083293080329895,
          10.222456932067871,
          5.026588439941406,
          2.429056406021118,
          11.872224807739258,
          8.803686141967773,
          6.2245283126831055,
          13.08936882019043,
          13.325366973876953,
          10.471102714538574,
          2.7562708854675293,
          6.8114542961120605,
          3.95898699760437,
          4.277139663696289,
          13.361553192138672,
          12.385984420776367,
          12.864991188049316,
          3.5795726776123047,
          6.598549842834473,
          6.116113662719727,
          6.849658489227295,
          4.762758731842041,
          12.392128944396973,
          8.155099868774414,
          9.144227981567383,
          7.235265731811523,
          2.4901814460754395,
          10.819167137145996,
          3.7915000915527344,
          12.209196090698242,
          9.985776901245117,
          4.595712661743164,
          2.7785086631774902,
          9.110029220581055,
          4.140854835510254,
          2.2331268787384033,
          1.878365159034729,
          12.933113098144531,
          13.30399227142334,
          12.485313415527344,
          3.659780502319336,
          1.6113046407699585,
          5.137068271636963,
          4.2760443687438965,
          10.268773078918457,
          1.5678178071975708,
          4.935274124145508,
          6.580119609832764,
          1.4526565074920654,
          4.541524887084961,
          6.608478546142578,
          4.873649597167969,
          2.3264992237091064,
          7.112393856048584,
          5.050600051879883,
          2.8971712589263916,
          5.010697364807129,
          0.4193631708621979,
          4.335494518280029,
          13.086248397827148,
          7.401061058044434,
          3.727708101272583,
          7.204438209533691,
          13.545551300048828,
          4.363627910614014,
          10.590375900268555,
          12.210538864135742,
          7.039809703826904,
          4.4887285232543945,
          8.182145118713379,
          12.684385299682617,
          9.278214454650879,
          4.2857842445373535,
          0.9880064129829407,
          10.552597045898438,
          2.84805965423584,
          8.64445972442627,
          13.329275131225586,
          8.233105659484863,
          13.270761489868164,
          7.170009613037109,
          7.994613170623779,
          12.70363998413086,
          9.22995376586914,
          7.2211809158325195,
          13.44321346282959,
          4.732527732849121,
          13.208808898925781,
          2.414767265319824,
          10.52939510345459,
          12.962668418884277,
          2.3207101821899414,
          12.084397315979004,
          7.077319145202637,
          4.349448204040527,
          13.337132453918457,
          12.725945472717285,
          12.173253059387207,
          8.527508735656738,
          1.0771256685256958,
          13.451766014099121,
          7.2379469871521,
          4.737502574920654,
          4.069018840789795,
          8.994356155395508,
          10.899788856506348,
          0.726734459400177,
          6.645042419433594,
          4.847586154937744,
          10.81791877746582,
          12.771151542663574,
          1.5813043117523193,
          2.272773027420044,
          1.052435040473938,
          3.9665334224700928,
          10.21753978729248,
          12.618480682373047,
          3.613990068435669,
          3.9215850830078125,
          3.7427022457122803,
          10.782257080078125,
          13.179059982299805,
          6.43299674987793,
          2.0939431190490723,
          7.946328639984131,
          8.72349739074707,
          0.7041217088699341,
          6.696428298950195,
          13.225560188293457,
          11.377096176147461,
          13.124395370483398,
          8.033258438110352,
          12.76846694946289,
          13.053702354431152,
          3.7384228706359863,
          9.878121376037598,
          10.578121185302734,
          2.070641040802002,
          3.796236038208008,
          3.384425401687622,
          13.475109100341797,
          3.714733123779297,
          4.726476669311523,
          13.36624813079834,
          3.980236768722534,
          6.394406795501709,
          12.119368553161621,
          7.15706205368042,
          8.001049995422363,
          9.842243194580078,
          13.291913986206055,
          1.8159723281860352,
          10.703160285949707,
          7.262110233306885,
          10.473430633544922,
          2.734467029571533,
          0.8020662069320679,
          12.685883522033691,
          3.3588643074035645,
          8.057637214660645,
          6.658414840698242,
          12.716596603393555,
          3.3381259441375732,
          6.334587574005127,
          4.319588661193848,
          12.688325881958008,
          8.773380279541016,
          5.0753936767578125,
          6.537505626678467,
          4.187416076660156,
          7.989083290100098,
          10.299339294433594,
          7.964968204498291,
          2.3426690101623535,
          12.22691822052002,
          8.757521629333496,
          12.160231590270996,
          3.678976058959961,
          3.290408134460449,
          2.274775505065918,
          5.188889503479004,
          12.733125686645508,
          6.214269161224365,
          4.252479076385498,
          7.35172176361084,
          3.8440301418304443,
          10.45594310760498,
          2.4118449687957764,
          12.072257995605469,
          7.987000942230225,
          1.5891033411026,
          9.968132019042969,
          2.3542416095733643,
          4.94846773147583,
          2.465761423110962,
          9.05577564239502,
          0.7223545908927917,
          9.784503936767578,
          6.842850685119629,
          12.075567245483398,
          1.2835875749588013,
          9.219351768493652,
          4.496827125549316,
          12.642484664916992,
          10.797276496887207,
          1.1230260133743286,
          7.2173590660095215,
          12.605057716369629,
          9.667830467224121,
          6.3599748611450195,
          6.4527387619018555,
          12.172659873962402,
          10.103493690490723,
          4.78448486328125,
          8.226128578186035,
          8.075451850891113,
          9.217037200927734,
          3.3375658988952637,
          4.785556793212891,
          2.4198687076568604,
          12.215019226074219,
          7.0829925537109375,
          10.956746101379395,
          12.682053565979004,
          0.3587348759174347,
          2.2442939281463623,
          6.393311023712158,
          8.442811012268066,
          12.334609031677246,
          2.516193151473999,
          1.0002650022506714,
          2.5243980884552,
          10.955277442932129,
          4.7620849609375,
          10.148628234863281,
          7.2301859855651855,
          8.061999320983887,
          12.01019287109375,
          4.185220241546631,
          7.091241359710693,
          8.071258544921875,
          0.6360080242156982,
          6.400154113769531,
          6.690734386444092,
          0.7749823927879333,
          9.013956069946289,
          4.918182373046875,
          8.545324325561523,
          12.73668384552002,
          10.175507545471191,
          3.6732442378997803,
          13.509060859680176,
          1.4115194082260132,
          6.278071880340576,
          7.997204303741455,
          2.334224224090576,
          4.018636703491211,
          8.69045352935791,
          3.255866765975952,
          5.014974594116211,
          5.321305274963379,
          10.035173416137695,
          6.657908916473389,
          8.248638153076172,
          4.7732253074646,
          7.972764492034912,
          1.4559534788131714,
          4.1976470947265625,
          10.23613166809082,
          13.108034133911133,
          4.342706203460693,
          2.3662731647491455,
          0.27266764640808105,
          13.001795768737793,
          3.28460693359375,
          1.0239343643188477,
          12.5604829788208,
          4.448832035064697,
          12.67848014831543,
          9.250223159790039,
          4.8865132331848145,
          10.461530685424805,
          6.863142013549805,
          7.187459945678711,
          4.147615909576416,
          12.074088096618652,
          10.720857620239258,
          3.0918867588043213,
          3.0033273696899414,
          9.234248161315918,
          12.18386173248291,
          0.31457245349884033,
          12.592022895812988,
          8.031163215637207,
          12.254955291748047,
          13.095927238464355,
          12.736075401306152,
          0.7929479479789734,
          3.978431463241577,
          4.353706359863281,
          12.086042404174805,
          6.308779716491699,
          12.069868087768555,
          1.582224726676941,
          8.671605110168457,
          6.3630194664001465,
          2.950259208679199,
          3.5660016536712646,
          2.3906936645507812
         ]
        },
        {
         "marker": {
          "color": "lightskyblue",
          "line": {
           "color": "midnightblue",
           "width": 1
          },
          "size": 15,
          "symbol": "star"
         },
         "mode": "markers",
         "showlegend": true,
         "text": [
          "Artist Name: KISS </br> Song Name: Rock And Roll All Nite",
          "Artist Name: Eagles </br> Song Name: Hotel California - 2013 Remaster",
          "Artist Name: AC/DC </br> Song Name: You Shook Me All Night Long",
          "Artist Name: Don Henley </br> Song Name: The Boys Of Summer"
         ],
         "type": "scatter",
         "x": [
          -2.6013710498809814,
          0.5384584069252014,
          -3.4375925064086914,
          0.5821040868759155
         ],
         "y": [
          12.700526237487793,
          13.235677719116211,
          12.392128944396973,
          13.451766014099121
         ]
        }
       ],
       "layout": {
        "height": 400,
        "hoverlabel": {
         "bgcolor": "white",
         "font": {
          "family": "Rockwell",
          "size": 16
         },
         "namelength": -1
        },
        "margin": {
         "b": 20,
         "l": 20,
         "r": 20,
         "t": 30
        },
        "plot_bgcolor": "#ffffff",
        "template": {
         "data": {
          "bar": [
           {
            "error_x": {
             "color": "#2a3f5f"
            },
            "error_y": {
             "color": "#2a3f5f"
            },
            "marker": {
             "line": {
              "color": "#E5ECF6",
              "width": 0.5
             },
             "pattern": {
              "fillmode": "overlay",
              "size": 10,
              "solidity": 0.2
             }
            },
            "type": "bar"
           }
          ],
          "barpolar": [
           {
            "marker": {
             "line": {
              "color": "#E5ECF6",
              "width": 0.5
             },
             "pattern": {
              "fillmode": "overlay",
              "size": 10,
              "solidity": 0.2
             }
            },
            "type": "barpolar"
           }
          ],
          "carpet": [
           {
            "aaxis": {
             "endlinecolor": "#2a3f5f",
             "gridcolor": "white",
             "linecolor": "white",
             "minorgridcolor": "white",
             "startlinecolor": "#2a3f5f"
            },
            "baxis": {
             "endlinecolor": "#2a3f5f",
             "gridcolor": "white",
             "linecolor": "white",
             "minorgridcolor": "white",
             "startlinecolor": "#2a3f5f"
            },
            "type": "carpet"
           }
          ],
          "choropleth": [
           {
            "colorbar": {
             "outlinewidth": 0,
             "ticks": ""
            },
            "type": "choropleth"
           }
          ],
          "contour": [
           {
            "colorbar": {
             "outlinewidth": 0,
             "ticks": ""
            },
            "colorscale": [
             [
              0,
              "#0d0887"
             ],
             [
              0.1111111111111111,
              "#46039f"
             ],
             [
              0.2222222222222222,
              "#7201a8"
             ],
             [
              0.3333333333333333,
              "#9c179e"
             ],
             [
              0.4444444444444444,
              "#bd3786"
             ],
             [
              0.5555555555555556,
              "#d8576b"
             ],
             [
              0.6666666666666666,
              "#ed7953"
             ],
             [
              0.7777777777777778,
              "#fb9f3a"
             ],
             [
              0.8888888888888888,
              "#fdca26"
             ],
             [
              1,
              "#f0f921"
             ]
            ],
            "type": "contour"
           }
          ],
          "contourcarpet": [
           {
            "colorbar": {
             "outlinewidth": 0,
             "ticks": ""
            },
            "type": "contourcarpet"
           }
          ],
          "heatmap": [
           {
            "colorbar": {
             "outlinewidth": 0,
             "ticks": ""
            },
            "colorscale": [
             [
              0,
              "#0d0887"
             ],
             [
              0.1111111111111111,
              "#46039f"
             ],
             [
              0.2222222222222222,
              "#7201a8"
             ],
             [
              0.3333333333333333,
              "#9c179e"
             ],
             [
              0.4444444444444444,
              "#bd3786"
             ],
             [
              0.5555555555555556,
              "#d8576b"
             ],
             [
              0.6666666666666666,
              "#ed7953"
             ],
             [
              0.7777777777777778,
              "#fb9f3a"
             ],
             [
              0.8888888888888888,
              "#fdca26"
             ],
             [
              1,
              "#f0f921"
             ]
            ],
            "type": "heatmap"
           }
          ],
          "heatmapgl": [
           {
            "colorbar": {
             "outlinewidth": 0,
             "ticks": ""
            },
            "colorscale": [
             [
              0,
              "#0d0887"
             ],
             [
              0.1111111111111111,
              "#46039f"
             ],
             [
              0.2222222222222222,
              "#7201a8"
             ],
             [
              0.3333333333333333,
              "#9c179e"
             ],
             [
              0.4444444444444444,
              "#bd3786"
             ],
             [
              0.5555555555555556,
              "#d8576b"
             ],
             [
              0.6666666666666666,
              "#ed7953"
             ],
             [
              0.7777777777777778,
              "#fb9f3a"
             ],
             [
              0.8888888888888888,
              "#fdca26"
             ],
             [
              1,
              "#f0f921"
             ]
            ],
            "type": "heatmapgl"
           }
          ],
          "histogram": [
           {
            "marker": {
             "pattern": {
              "fillmode": "overlay",
              "size": 10,
              "solidity": 0.2
             }
            },
            "type": "histogram"
           }
          ],
          "histogram2d": [
           {
            "colorbar": {
             "outlinewidth": 0,
             "ticks": ""
            },
            "colorscale": [
             [
              0,
              "#0d0887"
             ],
             [
              0.1111111111111111,
              "#46039f"
             ],
             [
              0.2222222222222222,
              "#7201a8"
             ],
             [
              0.3333333333333333,
              "#9c179e"
             ],
             [
              0.4444444444444444,
              "#bd3786"
             ],
             [
              0.5555555555555556,
              "#d8576b"
             ],
             [
              0.6666666666666666,
              "#ed7953"
             ],
             [
              0.7777777777777778,
              "#fb9f3a"
             ],
             [
              0.8888888888888888,
              "#fdca26"
             ],
             [
              1,
              "#f0f921"
             ]
            ],
            "type": "histogram2d"
           }
          ],
          "histogram2dcontour": [
           {
            "colorbar": {
             "outlinewidth": 0,
             "ticks": ""
            },
            "colorscale": [
             [
              0,
              "#0d0887"
             ],
             [
              0.1111111111111111,
              "#46039f"
             ],
             [
              0.2222222222222222,
              "#7201a8"
             ],
             [
              0.3333333333333333,
              "#9c179e"
             ],
             [
              0.4444444444444444,
              "#bd3786"
             ],
             [
              0.5555555555555556,
              "#d8576b"
             ],
             [
              0.6666666666666666,
              "#ed7953"
             ],
             [
              0.7777777777777778,
              "#fb9f3a"
             ],
             [
              0.8888888888888888,
              "#fdca26"
             ],
             [
              1,
              "#f0f921"
             ]
            ],
            "type": "histogram2dcontour"
           }
          ],
          "mesh3d": [
           {
            "colorbar": {
             "outlinewidth": 0,
             "ticks": ""
            },
            "type": "mesh3d"
           }
          ],
          "parcoords": [
           {
            "line": {
             "colorbar": {
              "outlinewidth": 0,
              "ticks": ""
             }
            },
            "type": "parcoords"
           }
          ],
          "pie": [
           {
            "automargin": true,
            "type": "pie"
           }
          ],
          "scatter": [
           {
            "marker": {
             "colorbar": {
              "outlinewidth": 0,
              "ticks": ""
             }
            },
            "type": "scatter"
           }
          ],
          "scatter3d": [
           {
            "line": {
             "colorbar": {
              "outlinewidth": 0,
              "ticks": ""
             }
            },
            "marker": {
             "colorbar": {
              "outlinewidth": 0,
              "ticks": ""
             }
            },
            "type": "scatter3d"
           }
          ],
          "scattercarpet": [
           {
            "marker": {
             "colorbar": {
              "outlinewidth": 0,
              "ticks": ""
             }
            },
            "type": "scattercarpet"
           }
          ],
          "scattergeo": [
           {
            "marker": {
             "colorbar": {
              "outlinewidth": 0,
              "ticks": ""
             }
            },
            "type": "scattergeo"
           }
          ],
          "scattergl": [
           {
            "marker": {
             "colorbar": {
              "outlinewidth": 0,
              "ticks": ""
             }
            },
            "type": "scattergl"
           }
          ],
          "scattermapbox": [
           {
            "marker": {
             "colorbar": {
              "outlinewidth": 0,
              "ticks": ""
             }
            },
            "type": "scattermapbox"
           }
          ],
          "scatterpolar": [
           {
            "marker": {
             "colorbar": {
              "outlinewidth": 0,
              "ticks": ""
             }
            },
            "type": "scatterpolar"
           }
          ],
          "scatterpolargl": [
           {
            "marker": {
             "colorbar": {
              "outlinewidth": 0,
              "ticks": ""
             }
            },
            "type": "scatterpolargl"
           }
          ],
          "scatterternary": [
           {
            "marker": {
             "colorbar": {
              "outlinewidth": 0,
              "ticks": ""
             }
            },
            "type": "scatterternary"
           }
          ],
          "surface": [
           {
            "colorbar": {
             "outlinewidth": 0,
             "ticks": ""
            },
            "colorscale": [
             [
              0,
              "#0d0887"
             ],
             [
              0.1111111111111111,
              "#46039f"
             ],
             [
              0.2222222222222222,
              "#7201a8"
             ],
             [
              0.3333333333333333,
              "#9c179e"
             ],
             [
              0.4444444444444444,
              "#bd3786"
             ],
             [
              0.5555555555555556,
              "#d8576b"
             ],
             [
              0.6666666666666666,
              "#ed7953"
             ],
             [
              0.7777777777777778,
              "#fb9f3a"
             ],
             [
              0.8888888888888888,
              "#fdca26"
             ],
             [
              1,
              "#f0f921"
             ]
            ],
            "type": "surface"
           }
          ],
          "table": [
           {
            "cells": {
             "fill": {
              "color": "#EBF0F8"
             },
             "line": {
              "color": "white"
             }
            },
            "header": {
             "fill": {
              "color": "#C8D4E3"
             },
             "line": {
              "color": "white"
             }
            },
            "type": "table"
           }
          ]
         },
         "layout": {
          "annotationdefaults": {
           "arrowcolor": "#2a3f5f",
           "arrowhead": 0,
           "arrowwidth": 1
          },
          "autotypenumbers": "strict",
          "coloraxis": {
           "colorbar": {
            "outlinewidth": 0,
            "ticks": ""
           }
          },
          "colorscale": {
           "diverging": [
            [
             0,
             "#8e0152"
            ],
            [
             0.1,
             "#c51b7d"
            ],
            [
             0.2,
             "#de77ae"
            ],
            [
             0.3,
             "#f1b6da"
            ],
            [
             0.4,
             "#fde0ef"
            ],
            [
             0.5,
             "#f7f7f7"
            ],
            [
             0.6,
             "#e6f5d0"
            ],
            [
             0.7,
             "#b8e186"
            ],
            [
             0.8,
             "#7fbc41"
            ],
            [
             0.9,
             "#4d9221"
            ],
            [
             1,
             "#276419"
            ]
           ],
           "sequential": [
            [
             0,
             "#0d0887"
            ],
            [
             0.1111111111111111,
             "#46039f"
            ],
            [
             0.2222222222222222,
             "#7201a8"
            ],
            [
             0.3333333333333333,
             "#9c179e"
            ],
            [
             0.4444444444444444,
             "#bd3786"
            ],
            [
             0.5555555555555556,
             "#d8576b"
            ],
            [
             0.6666666666666666,
             "#ed7953"
            ],
            [
             0.7777777777777778,
             "#fb9f3a"
            ],
            [
             0.8888888888888888,
             "#fdca26"
            ],
            [
             1,
             "#f0f921"
            ]
           ],
           "sequentialminus": [
            [
             0,
             "#0d0887"
            ],
            [
             0.1111111111111111,
             "#46039f"
            ],
            [
             0.2222222222222222,
             "#7201a8"
            ],
            [
             0.3333333333333333,
             "#9c179e"
            ],
            [
             0.4444444444444444,
             "#bd3786"
            ],
            [
             0.5555555555555556,
             "#d8576b"
            ],
            [
             0.6666666666666666,
             "#ed7953"
            ],
            [
             0.7777777777777778,
             "#fb9f3a"
            ],
            [
             0.8888888888888888,
             "#fdca26"
            ],
            [
             1,
             "#f0f921"
            ]
           ]
          },
          "colorway": [
           "#636efa",
           "#EF553B",
           "#00cc96",
           "#ab63fa",
           "#FFA15A",
           "#19d3f3",
           "#FF6692",
           "#B6E880",
           "#FF97FF",
           "#FECB52"
          ],
          "font": {
           "color": "#2a3f5f"
          },
          "geo": {
           "bgcolor": "white",
           "lakecolor": "white",
           "landcolor": "#E5ECF6",
           "showlakes": true,
           "showland": true,
           "subunitcolor": "white"
          },
          "hoverlabel": {
           "align": "left"
          },
          "hovermode": "closest",
          "mapbox": {
           "style": "light"
          },
          "paper_bgcolor": "white",
          "plot_bgcolor": "#E5ECF6",
          "polar": {
           "angularaxis": {
            "gridcolor": "white",
            "linecolor": "white",
            "ticks": ""
           },
           "bgcolor": "#E5ECF6",
           "radialaxis": {
            "gridcolor": "white",
            "linecolor": "white",
            "ticks": ""
           }
          },
          "scene": {
           "xaxis": {
            "backgroundcolor": "#E5ECF6",
            "gridcolor": "white",
            "gridwidth": 2,
            "linecolor": "white",
            "showbackground": true,
            "ticks": "",
            "zerolinecolor": "white"
           },
           "yaxis": {
            "backgroundcolor": "#E5ECF6",
            "gridcolor": "white",
            "gridwidth": 2,
            "linecolor": "white",
            "showbackground": true,
            "ticks": "",
            "zerolinecolor": "white"
           },
           "zaxis": {
            "backgroundcolor": "#E5ECF6",
            "gridcolor": "white",
            "gridwidth": 2,
            "linecolor": "white",
            "showbackground": true,
            "ticks": "",
            "zerolinecolor": "white"
           }
          },
          "shapedefaults": {
           "line": {
            "color": "#2a3f5f"
           }
          },
          "ternary": {
           "aaxis": {
            "gridcolor": "white",
            "linecolor": "white",
            "ticks": ""
           },
           "baxis": {
            "gridcolor": "white",
            "linecolor": "white",
            "ticks": ""
           },
           "bgcolor": "#E5ECF6",
           "caxis": {
            "gridcolor": "white",
            "linecolor": "white",
            "ticks": ""
           }
          },
          "title": {
           "x": 0.05
          },
          "xaxis": {
           "automargin": true,
           "gridcolor": "white",
           "linecolor": "white",
           "ticks": "",
           "title": {
            "standoff": 15
           },
           "zerolinecolor": "white",
           "zerolinewidth": 2
          },
          "yaxis": {
           "automargin": true,
           "gridcolor": "white",
           "linecolor": "white",
           "ticks": "",
           "title": {
            "standoff": 15
           },
           "zerolinecolor": "white",
           "zerolinewidth": 2
          }
         }
        },
        "title": {
         "font": {
          "size": 20
         }
        },
        "width": 800,
        "xaxis": {
         "autorange": true,
         "range": [
          -6.344447538012364,
          11.97382204210172
         ],
         "type": "linear"
        },
        "yaxis": {
         "autorange": true,
         "range": [
          -0.6598315508986408,
          14.635838735859096
         ],
         "type": "linear"
        }
       }
      }
     },
     "metadata": {},
     "output_type": "display_data"
    }
   ],
   "source": [
    "import plotly.graph_objects as go\n",
    "\n",
    "def plot_embedding(df, umap_embedding, clusters, artist_indexes, outpath=None):\n",
    "\n",
    "    text = [\n",
    "            f\"Artist Name: {artist_name} </br> Song Name: {track_name}\"\n",
    "            for artist_name, track_name in zip(\n",
    "                df.artist_name, df.track_name\n",
    "            )\n",
    "        ]\n",
    "    hovertemplate = \"</br>%{text}<extra></extra>\"\n",
    "\n",
    "        # Add in the listed bands from above\n",
    "    filter_df = df.iloc[artist_indexes]\n",
    "\n",
    "    text_record = [\n",
    "            f\"Artist Name: {artist_name} </br> Song Name: {track_name}\"\n",
    "            for artist_name, track_name in zip(\n",
    "                filter_df.artist_name, filter_df.track_name\n",
    "            )\n",
    "        ]\n",
    "    fig = go.Figure()\n",
    "\n",
    "    if umap_embedding.shape[1] == 2:\n",
    "        fig = fig.add_trace(\n",
    "            go.Scatter(\n",
    "                x=umap_embedding[:, 0],\n",
    "                y=umap_embedding[:, 1],\n",
    "                hovertemplate=hovertemplate,\n",
    "                text=text,\n",
    "                showlegend=False,\n",
    "                mode=\"markers\",\n",
    "                marker_color=clusters,\n",
    "                marker_line_color=\"black\",\n",
    "                marker_line_width=1,\n",
    "            )\n",
    "        )\n",
    "\n",
    "\n",
    "\n",
    "        fig = fig.add_trace(\n",
    "            go.Scatter(\n",
    "                x=umap_embedding[artist_indexes, 0],\n",
    "                y=umap_embedding[artist_indexes, 1],\n",
    "                text=text_record,\n",
    "                showlegend=True,\n",
    "                mode=\"markers\",\n",
    "                marker_symbol=\"star\",\n",
    "                marker_line_color=\"midnightblue\",\n",
    "                marker_color=\"lightskyblue\",\n",
    "                marker_line_width=1,\n",
    "                marker=dict(size=15),\n",
    "            )\n",
    "        )\n",
    "    else:\n",
    "        fig = go.Figure(data=[go.Scatter3d(\n",
    "        x=umap_embedding[:, 0],\n",
    "        y=umap_embedding[:, 1],\n",
    "        z=umap_embedding[:, 2],\n",
    "        mode='markers',\n",
    "        text=text,\n",
    "        marker_line_color=\"black\",\n",
    "        marker_line_width=1,\n",
    "        marker=dict(\n",
    "            size=10,\n",
    "            color=clusters,                # set color to an array/list of desired values\n",
    "            # colorscale='Viridis',   # choose a colorscale\n",
    "            opacity=0.75\n",
    "        )\n",
    "        )])\n",
    "\n",
    "\n",
    "        fig = fig.add_trace(\n",
    "            go.Scatter3d(\n",
    "                    x=umap_embedding[artist_indexes, 0],\n",
    "                    y=umap_embedding[artist_indexes, 1],\n",
    "                    z=umap_embedding[artist_indexes, 2],\n",
    "                    text=text_record,\n",
    "                    showlegend=True,\n",
    "                    mode=\"markers\",\n",
    "                    marker_symbol=\"diamond\",\n",
    "                    marker_line_color=\"midnightblue\",\n",
    "                    marker_color=\"lightskyblue\",\n",
    "                    marker_line_width=1,\n",
    "                    marker=dict(size=12),\n",
    "            )\n",
    "        )\n",
    "\n",
    "    fig = fig.update_layout(\n",
    "        title_font_size=20,\n",
    "        height=400,\n",
    "        width=800,\n",
    "        plot_bgcolor=\"#ffffff\",\n",
    "        hoverlabel=dict(\n",
    "            bgcolor=\"white\", font_size=16, font_family=\"Rockwell\", namelength=-1\n",
    "        ),\n",
    "        margin=dict(l=20, r=20, t=30, b=20),\n",
    "    )\n",
    "    if outpath:\n",
    "        fig.write_image(outpath)\n",
    "    return fig\n",
    "\n",
    "plot_embedding(df, umap_embedding, clusters_2d, artist_indexes, outpath=\"images/umap_2d_first_take.png\")"
   ]
  },
  {
   "cell_type": "markdown",
   "id": "ea9d35ae",
   "metadata": {},
   "source": [
    "![2d_embed](images/umap_2d_first_take.png)\n",
    "\n",
    "### Dimensionality Reduction and Clustering - Take 2\n",
    "\n",
    "Below I run the same pipeline, this time only taking my numeric features. Since there will be far fewer features to run UMAP on, I also remove the Singular Value Decomposition step.\n"
   ]
  },
  {
   "cell_type": "code",
   "execution_count": 89,
   "id": "ab36b6c4",
   "metadata": {},
   "outputs": [],
   "source": [
    "from sklearn.cluster import DBSCAN\n",
    "import umap\n",
    "\n",
    "numeric_preprocessing_pipeline = ColumnTransformer(\n",
    "    transformers=[\n",
    "        (\"num\", numeric_pipeline, numeric_cols),\n",
    "        ]\n",
    ")\n",
    "\n",
    "pipeline = Pipeline(\n",
    "    steps = [\n",
    "        (\"preprocessing\", numeric_preprocessing_pipeline),\n",
    "        (\"umap\", umap.UMAP(random_state=42)),\n",
    "        (\"dbscan\", DBSCAN())\n",
    "    ],\n",
    "    verbose=False\n",
    ")\n"
   ]
  },
  {
   "cell_type": "markdown",
   "id": "5697a0a7",
   "metadata": {},
   "source": [
    "![new_cluster](images/cluster_pipeline_2.jpg)"
   ]
  },
  {
   "cell_type": "markdown",
   "id": "89a606d2",
   "metadata": {},
   "source": [
    "Below I run the pipeline to get the UMAP embeddings and cluster assignments again. Because everyone loves 3D charts, I also extract the embeddings and cluster assignments in three dimensions. We'll see how this looks in a sec."
   ]
  },
  {
   "cell_type": "code",
   "execution_count": 85,
   "id": "805d385a-e6bb-4a31-b552-91c3d8b3308c",
   "metadata": {},
   "outputs": [
    {
     "name": "stdout",
     "output_type": "stream",
     "text": [
      "[Pipeline] ..... (step 1 of 2) Processing preprocessing, total=   0.0s\n",
      "[Pipeline] .............. (step 2 of 2) Processing umap, total=   2.8s\n",
      "[Pipeline] ..... (step 1 of 2) Processing preprocessing, total=   0.0s\n",
      "[Pipeline] .............. (step 2 of 2) Processing umap, total=   2.5s\n",
      "[Pipeline] ..... (step 1 of 3) Processing preprocessing, total=   0.0s\n",
      "[Pipeline] .............. (step 2 of 3) Processing umap, total=   3.2s\n",
      "[Pipeline] ............ (step 3 of 3) Processing dbscan, total=   0.0s\n",
      "[Pipeline] ..... (step 1 of 3) Processing preprocessing, total=   0.0s\n",
      "[Pipeline] .............. (step 2 of 3) Processing umap, total=   2.8s\n",
      "[Pipeline] ............ (step 3 of 3) Processing dbscan, total=   0.0s\n"
     ]
    }
   ],
   "source": [
    "\n",
    "umap_embedding = (\n",
    "    pipeline[:-1]\n",
    "    .set_params(umap__n_components = 2)\n",
    "    .fit_transform(df)\n",
    ")\n",
    "umap_embedding_3d = (\n",
    "    pipeline[:-1]\n",
    "    .set_params(umap__n_components = 3)\n",
    "    .fit_transform(df)\n",
    ")\n",
    "\n",
    "fit_clustering_params = {\n",
    "    \"umap__n_components\": 2, \n",
    "    \"umap__min_dist\": 0.0,\n",
    "    \"umap__n_neighbors\": 30,\n",
    "    \"dbscan__eps\":.3,\n",
    "    \"dbscan__min_samples\":4\n",
    "}\n",
    "\n",
    "\n",
    "clusters_2d = (pipeline\n",
    "            .set_params(**fit_clustering_params)\n",
    "            .fit_predict(df, y=None)\n",
    "           )\n",
    "\n",
    "fit_clustering_params['umap__n_components'] = 3\n",
    "clusters_3d = (\n",
    "    pipeline\n",
    "    .set_params(**fit_clustering_params)\n",
    "    .fit_predict(df, y=None)\n",
    ")\n"
   ]
  },
  {
   "cell_type": "code",
   "execution_count": 86,
   "id": "336393e8-9a78-4d23-9483-2a5ee5ee66d1",
   "metadata": {},
   "outputs": [
    {
     "data": {
      "application/vnd.plotly.v1+json": {
       "config": {
        "plotlyServerURL": "https://plot.ly"
       },
       "data": [
        {
         "hovertemplate": "</br>%{text}<extra></extra>",
         "marker": {
          "color": [
           0,
           1,
           1,
           0,
           1,
           2,
           1,
           3,
           1,
           0,
           2,
           4,
           5,
           6,
           0,
           0,
           0,
           2,
           2,
           7,
           8,
           7,
           0,
           0,
           7,
           2,
           7,
           7,
           7,
           3,
           7,
           2,
           7,
           0,
           2,
           0,
           7,
           7,
           7,
           1,
           0,
           7,
           0,
           2,
           5,
           1,
           1,
           0,
           7,
           0,
           6,
           0,
           8,
           0,
           0,
           0,
           0,
           0,
           0,
           7,
           7,
           -1,
           0,
           0,
           0,
           2,
           2,
           0,
           0,
           7,
           8,
           1,
           9,
           8,
           0,
           -1,
           8,
           0,
           0,
           0,
           1,
           0,
           7,
           2,
           0,
           2,
           0,
           0,
           2,
           0,
           3,
           0,
           7,
           0,
           0,
           7,
           2,
           0,
           0,
           0,
           0,
           4,
           2,
           8,
           1,
           0,
           0,
           8,
           1,
           2,
           0,
           0,
           0,
           0,
           7,
           0,
           0,
           2,
           1,
           4,
           0,
           3,
           0,
           0,
           1,
           7,
           1,
           2,
           7,
           2,
           7,
           0,
           9,
           1,
           1,
           0,
           1,
           2,
           7,
           1,
           2,
           3,
           0,
           0,
           2,
           2,
           2,
           2,
           0,
           -1,
           1,
           0,
           6,
           7,
           0,
           7,
           0,
           7,
           1,
           1,
           0,
           0,
           0,
           0,
           3,
           10,
           6,
           7,
           0,
           1,
           0,
           8,
           3,
           2,
           0,
           0,
           9,
           7,
           7,
           2,
           0,
           6,
           7,
           7,
           1,
           3,
           9,
           2,
           3,
           0,
           1,
           -1,
           2,
           0,
           0,
           1,
           4,
           0,
           7,
           1,
           0,
           7,
           3,
           1,
           0,
           -1,
           2,
           9,
           8,
           1,
           2,
           3,
           2,
           0,
           -1,
           0,
           7,
           1,
           5,
           10,
           7,
           3,
           7,
           2,
           0,
           7,
           0,
           7,
           0,
           1,
           4,
           1,
           6,
           8,
           4,
           0,
           0,
           7,
           1,
           0,
           0,
           0,
           7,
           1,
           4,
           7,
           1,
           7,
           -1,
           0,
           4,
           0,
           0,
           1,
           1,
           0,
           4,
           -1,
           7,
           0,
           0,
           0,
           0,
           1,
           1,
           4,
           0,
           2,
           2,
           2,
           1,
           7,
           10,
           2,
           -1,
           1,
           1,
           0,
           7,
           1,
           -1,
           3,
           2,
           2,
           7,
           0,
           1,
           0,
           3,
           5,
           0,
           7,
           0,
           0,
           1,
           2,
           0,
           0,
           7,
           7,
           1,
           1,
           2,
           2,
           0,
           7,
           7,
           7,
           0,
           7,
           0,
           1,
           3,
           1,
           2,
           2,
           9,
           7,
           3,
           0,
           1,
           7,
           0,
           2,
           0,
           7,
           0,
           4,
           3,
           7,
           7,
           1,
           1,
           10,
           9,
           7,
           -1,
           7,
           7,
           0,
           7,
           9,
           4,
           0,
           2,
           2,
           1,
           0,
           2,
           1,
           2,
           7,
           1,
           7,
           7,
           8,
           4,
           2,
           7,
           1,
           2,
           9,
           9,
           -1,
           7,
           0,
           2,
           9,
           0,
           7,
           5,
           3,
           0,
           2,
           0,
           0,
           7,
           0,
           1,
           1,
           0,
           2,
           3,
           7,
           -1,
           7,
           0,
           0,
           0,
           1,
           1,
           0,
           0,
           7,
           0,
           7,
           7,
           9,
           1,
           9,
           1,
           0,
           7,
           7,
           0,
           0,
           1,
           0,
           7,
           0,
           7,
           0,
           0,
           4,
           7,
           0,
           7,
           1,
           0,
           4,
           1,
           3,
           0,
           2,
           7,
           0,
           1,
           0,
           1,
           3,
           6,
           5,
           2,
           7,
           1,
           0,
           0,
           1,
           1,
           7,
           7,
           0,
           7,
           1,
           8,
           9,
           7,
           5,
           4,
           7,
           2,
           8,
           8,
           1,
           10,
           0,
           0,
           1,
           7,
           4,
           0,
           0,
           1,
           0,
           9,
           1,
           1,
           7,
           0,
           2,
           3,
           0,
           2,
           0,
           1,
           5,
           3,
           4,
           -1,
           7,
           9,
           1,
           0,
           1,
           8,
           7,
           1,
           1,
           2,
           7,
           2,
           2,
           2,
           7,
           1,
           2,
           1,
           7,
           8,
           2
          ],
          "line": {
           "color": "black",
           "width": 1
          }
         },
         "mode": "markers",
         "showlegend": false,
         "text": [
          "Artist Name: Kanye West </br> Song Name: Stronger",
          "Artist Name: The Supremes </br> Song Name: Baby Love",
          "Artist Name: Townes Van Zandt </br> Song Name: Poncho & Lefty",
          "Artist Name: Lizzo </br> Song Name: Truth Hurts",
          "Artist Name: Harry Nilsson </br> Song Name: Without You",
          "Artist Name: Carly Simon </br> Song Name: You're so Vain",
          "Artist Name: Cyndi Lauper </br> Song Name: Time After Time",
          "Artist Name: Pixies </br> Song Name: Where Is My Mind?",
          "Artist Name: Miles Davis </br> Song Name: So What",
          "Artist Name: Guns N' Roses </br> Song Name: Welcome To The Jungle",
          "Artist Name: Lil Nas X </br> Song Name: Old Town Road",
          "Artist Name: The Breeders </br> Song Name: Cannonball",
          "Artist Name: The Weeknd </br> Song Name: House Of Balloons / Glass Table Girls - Original",
          "Artist Name: Solange </br> Song Name: Cranes in the Sky",
          "Artist Name: Lil Wayne </br> Song Name: A Milli",
          "Artist Name: Azealia Banks </br> Song Name: 212",
          "Artist Name: Weezer </br> Song Name: Buddy Holly",
          "Artist Name: Four Tops </br> Song Name: I Can't Help Myself (Sugar Pie, Honey Bunch)",
          "Artist Name: Lady Gaga </br> Song Name: Bad Romance",
          "Artist Name: Robert Johnson </br> Song Name: Cross Road Blues",
          "Artist Name: Biz Markie </br> Song Name: Just a Friend",
          "Artist Name: Santana </br> Song Name: Oye Como Va",
          "Artist Name: JUVENILE </br> Song Name: Back That Azz Up",
          "Artist Name: The Go-Go's </br> Song Name: Our Lips Are Sealed - Single Version",
          "Artist Name: Kris Kristofferson </br> Song Name: Sunday Mornin' Comin' Down",
          "Artist Name: Janet Jackson </br> Song Name: Rhythm Nation",
          "Artist Name: Curtis Mayfield </br> Song Name: Move on Up - Single Edit",
          "Artist Name: Tammy Wynette </br> Song Name: Stand By Your Man",
          "Artist Name: Peter Gabriel </br> Song Name: Solsbury Hill",
          "Artist Name: The Animals </br> Song Name: House of the Rising Sun",
          "Artist Name: Gladys Knight & The Pips </br> Song Name: Midnight Train to Georgia",
          "Artist Name: The Chicks </br> Song Name: Goodbye Earl",
          "Artist Name: Mazzy Star </br> Song Name: Fade Into You",
          "Artist Name: Nirvana </br> Song Name: Come As You Are",
          "Artist Name: Luther Vandross </br> Song Name: Never Too Much",
          "Artist Name: Daft Punk </br> Song Name: Get Lucky (feat. Pharrell Williams & Nile Rodgers) - Radio Edit",
          "Artist Name: Joni Mitchell </br> Song Name: Help Me",
          "Artist Name: John Lee Hooker </br> Song Name: Boom Boom",
          "Artist Name: Van Morrison </br> Song Name: Into the Mystic - 2013 Remaster",
          "Artist Name: Roy Orbison </br> Song Name: Crying",
          "Artist Name: Steel Pulse </br> Song Name: Ku Klux Klan",
          "Artist Name: Sade </br> Song Name: No Ordinary Love",
          "Artist Name: Beck </br> Song Name: Loser",
          "Artist Name: Bon Jovi </br> Song Name: Livin' On A Prayer",
          "Artist Name: Lana Del Rey </br> Song Name: Summertime Sadness",
          "Artist Name: Jefferson Airplane </br> Song Name: White Rabbit",
          "Artist Name: Sister Nancy </br> Song Name: Bam Bam",
          "Artist Name: Missy Elliott </br> Song Name: The Rain (Supa Dupa Fly)",
          "Artist Name: TOTO </br> Song Name: Africa",
          "Artist Name: Migos </br> Song Name: Bad and Boujee (feat. Lil Uzi Vert)",
          "Artist Name: Neil Young </br> Song Name: Powderfinger - 2016 Remaster",
          "Artist Name: Blue Öyster Cult </br> Song Name: (Don't Fear) The Reaper",
          "Artist Name: Erykah Badu </br> Song Name: Tyrone - Extended Version",
          "Artist Name: The Beatles </br> Song Name: Help!",
          "Artist Name: Bruce Springsteen </br> Song Name: Rosalita (Come Out Tonight)",
          "Artist Name: T. Rex </br> Song Name: Cosmic Dancer",
          "Artist Name: 50 Cent </br> Song Name: In Da Club",
          "Artist Name: Fall Out Boy </br> Song Name: Sugar, We're Goin Down",
          "Artist Name: Motörhead </br> Song Name: Ace of Spades",
          "Artist Name: Miranda Lambert </br> Song Name: The House That Built Me",
          "Artist Name: Alicia Keys </br> Song Name: If I Ain't Got You",
          "Artist Name: Celia Cruz </br> Song Name: La Vida Es Un Carnaval",
          "Artist Name: Megan Thee Stallion </br> Song Name: Savage Remix (feat. Beyoncé)",
          "Artist Name: Lucinda Williams </br> Song Name: Passionate Kisses",
          "Artist Name: Carly Rae Jepsen </br> Song Name: Call Me Maybe",
          "Artist Name: Rush </br> Song Name: Limelight",
          "Artist Name: Ramones </br> Song Name: Sheena Is a Punk Rocker - 2017 Remaster",
          "Artist Name: Pet Shop Boys </br> Song Name: West End Girls",
          "Artist Name: Eddie Cochran </br> Song Name: Summertime Blues",
          "Artist Name: Prince </br> Song Name: Adore",
          "Artist Name: Pete Rock & C.L. Smooth </br> Song Name: They Reminisce Over You (T.R.O.Y.)",
          "Artist Name: Queen </br> Song Name: Under Pressure - Remastered 2011",
          "Artist Name: Harry Styles </br> Song Name: Sign of the Times",
          "Artist Name: The Sugarhill Gang </br> Song Name: Rapper's Delight - Single Version",
          "Artist Name: Nicki Minaj </br> Song Name: Super Bass",
          "Artist Name: Muddy Waters </br> Song Name: Mannish Boy",
          "Artist Name: Blackstreet </br> Song Name: No Diggity",
          "Artist Name: Fiona Apple </br> Song Name: Criminal",
          "Artist Name: Craig Mack </br> Song Name: Flava in Ya Ear",
          "Artist Name: The Smiths </br> Song Name: How Soon Is Now? - 2011 Remaster",
          "Artist Name: The Mamas & The Papas </br> Song Name: California Dreamin'",
          "Artist Name: Mariah Carey </br> Song Name: Fantasy",
          "Artist Name: Booker T. & the M.G.'s </br> Song Name: Green Onions",
          "Artist Name: Mark Ronson </br> Song Name: Uptown Funk (feat. Bruno Mars)",
          "Artist Name: Pearl Jam </br> Song Name: Alive",
          "Artist Name: Depeche Mode </br> Song Name: Enjoy the Silence",
          "Artist Name: Blondie </br> Song Name: Dreaming",
          "Artist Name: Them </br> Song Name: Gloria",
          "Artist Name: Neneh Cherry </br> Song Name: Buffalo Stance",
          "Artist Name: Wilco </br> Song Name: Heavy Metal Drummer",
          "Artist Name: Allman Brothers Band </br> Song Name: Whipping Post",
          "Artist Name: Foo Fighters </br> Song Name: Everlong",
          "Artist Name: Yusuf / Cat Stevens </br> Song Name: Father And Son",
          "Artist Name: Lynyrd Skynyrd </br> Song Name: Free Bird",
          "Artist Name: Run–D.M.C. </br> Song Name: Sucker M.C.'s",
          "Artist Name: Selena </br> Song Name: Amor Prohibido",
          "Artist Name: KISS </br> Song Name: Rock And Roll All Nite",
          "Artist Name: Rufus </br> Song Name: Ain't Nobody",
          "Artist Name: Bill Withers </br> Song Name: Lovely Day",
          "Artist Name: Fleetwood Mac </br> Song Name: Go Your Own Way - 2004 Remaster",
          "Artist Name: David Bowie </br> Song Name: Station to Station - 2016 Remaster",
          "Artist Name: Sylvester </br> Song Name: You Make Me Feel (Mighty Real)",
          "Artist Name: Duran Duran </br> Song Name: Hungry Like the Wolf - 2009 Remaster",
          "Artist Name: Public Enemy </br> Song Name: Bring The Noise",
          "Artist Name: Elvis Costello </br> Song Name: Alison",
          "Artist Name: Afrika Bambaataa </br> Song Name: Planet Rock",
          "Artist Name: Jeff Buckley </br> Song Name: Grace",
          "Artist Name: James Brown </br> Song Name: Say It Loud - I'm Black And I'm Proud - Pt. 1",
          "Artist Name: Coldplay </br> Song Name: Fix You",
          "Artist Name: Eric Church </br> Song Name: Springsteen",
          "Artist Name: Metallica </br> Song Name: Enter Sandman",
          "Artist Name: Pretenders </br> Song Name: Brass in Pocket - 2006 Remaster",
          "Artist Name: DMX </br> Song Name: Party Up",
          "Artist Name: New York Dolls </br> Song Name: Personality Crisis",
          "Artist Name: The Kinks </br> Song Name: Lola",
          "Artist Name: Diana Ross </br> Song Name: I'm Coming Out",
          "Artist Name: Cardi B </br> Song Name: I Like It",
          "Artist Name: Childish Gambino </br> Song Name: Redbone",
          "Artist Name: Fiona Apple </br> Song Name: Paper Bag",
          "Artist Name: The Slits </br> Song Name: Typical Girls",
          "Artist Name: Fountains Of Wayne </br> Song Name: Radiation Vibe",
          "Artist Name: D'Angelo </br> Song Name: Untitled (How Does It Feel)",
          "Artist Name: The Killers </br> Song Name: Mr. Brightside",
          "Artist Name: The Cure </br> Song Name: Pictures Of You - Remastered",
          "Artist Name: Merle Haggard </br> Song Name: Mama Tried",
          "Artist Name: The Drifters </br> Song Name: Up on the Roof",
          "Artist Name: William DeVaughn </br> Song Name: Be Thankful for What You Got (Pt. 1 & Pt. 2)",
          "Artist Name: Drake </br> Song Name: Hotline Bling",
          "Artist Name: Bonnie Raitt </br> Song Name: I Can't Make You Love Me",
          "Artist Name: Elton John </br> Song Name: Bennie And The Jets - Remastered 2014",
          "Artist Name: Buddy Holly </br> Song Name: Peggy Sue",
          "Artist Name: The Cars </br> Song Name: Just What I Needed",
          "Artist Name: Soundgarden </br> Song Name: Black Hole Sun",
          "Artist Name: Frank Ocean </br> Song Name: Thinkin Bout You",
          "Artist Name: The Crystals </br> Song Name: Da Doo Ron Ron (When He Walked Me Home)",
          "Artist Name: Sex Pistols </br> Song Name: God Save The Queen",
          "Artist Name: Grateful Dead </br> Song Name: Box of Rain - 2013 Remaster",
          "Artist Name: Bob Marley & The Wailers </br> Song Name: Could You Be Loved",
          "Artist Name: Kacey Musgraves </br> Song Name: Merry Go 'Round",
          "Artist Name: Jimmy Cliff </br> Song Name: The Harder They Come",
          "Artist Name: Prince </br> Song Name: Little Red Corvette",
          "Artist Name: Fugees </br> Song Name: Killing Me Softly With His Song",
          "Artist Name: Patti Smith </br> Song Name: Because the Night",
          "Artist Name: Taylor Swift </br> Song Name: Blank Space",
          "Artist Name: Cheap Trick </br> Song Name: Surrender",
          "Artist Name: Thelma Houston </br> Song Name: Don't Leave Me This Way",
          "Artist Name: Michael Jackson </br> Song Name: Rock with You - Single Version",
          "Artist Name: Eurythmics </br> Song Name: Sweet Dreams (Are Made of This) - Remastered",
          "Artist Name: Ice Cube </br> Song Name: It Was A Good Day",
          "Artist Name: Jorge Ben Jor </br> Song Name: Ponta De Lança Africano",
          "Artist Name: John Prine </br> Song Name: Angel from Montgomery",
          "Artist Name: The Zombies </br> Song Name: Time of the Season",
          "Artist Name: Roxy Music </br> Song Name: Virginia Plain",
          "Artist Name: Elvis Presley </br> Song Name: Heartbreak Hotel",
          "Artist Name: BTS </br> Song Name: Dynamite",
          "Artist Name: Carole King </br> Song Name: It's Too Late",
          "Artist Name: Black Sabbath </br> Song Name: Iron Man",
          "Artist Name: The Doobie Brothers </br> Song Name: What a Fool Believes",
          "Artist Name: Chuck Berry </br> Song Name: Promised Land",
          "Artist Name: The Monkees </br> Song Name: I'm a Believer",
          "Artist Name: The Clash </br> Song Name: (White Man) in Hammersmith Palais",
          "Artist Name: Prince </br> Song Name: 1999",
          "Artist Name: Black Sabbath </br> Song Name: Paranoid",
          "Artist Name: Cher </br> Song Name: Believe",
          "Artist Name: Daryl Hall & John Oates </br> Song Name: She's Gone",
          "Artist Name: Marshall Jefferson </br> Song Name: Move Your Body",
          "Artist Name: Grateful Dead </br> Song Name: Ripple - 2020 Remaster",
          "Artist Name: The Temptations </br> Song Name: Papa Was A Rollin' Stone - Single Version",
          "Artist Name: Rihanna </br> Song Name: Umbrella",
          "Artist Name: The Marvelettes </br> Song Name: Please Mr. Postman - Single Version / Mono",
          "Artist Name: The Notorious B.I.G. </br> Song Name: Big Poppa - 2007 Remaster",
          "Artist Name: Bad Bunny </br> Song Name: Safaera",
          "Artist Name: Red Hot Chili Peppers </br> Song Name: Under the Bridge",
          "Artist Name: Mary J. Blige </br> Song Name: Real Love",
          "Artist Name: Rilo Kiley </br> Song Name: Portions for Foxes",
          "Artist Name: Iggy Pop </br> Song Name: Lust For Life",
          "Artist Name: Billy Joel </br> Song Name: Scenes from an Italian Restaurant",
          "Artist Name: The Everly Brothers </br> Song Name: All I Have to Do Is Dream",
          "Artist Name: Neil Young </br> Song Name: After the Gold Rush",
          "Artist Name: U2 </br> Song Name: I Still Haven't Found What I'm Looking For",
          "Artist Name: 2Pac </br> Song Name: California Love - Original Version",
          "Artist Name: Tears For Fears </br> Song Name: Everybody Wants To Rule The World",
          "Artist Name: Big Mama Thornton </br> Song Name: Hound Dog",
          "Artist Name: Bob Dylan </br> Song Name: Visions of Johanna",
          "Artist Name: The Shangri-Las </br> Song Name: Leader Of The Pack",
          "Artist Name: John Coltrane </br> Song Name: A Love Supreme, Pt. I – Acknowledgement",
          "Artist Name: The Stooges </br> Song Name: I Wanna Be Your Dog",
          "Artist Name: Smokey Robinson & The Miracles </br> Song Name: The Tears Of A Clown",
          "Artist Name: Isaac Hayes </br> Song Name: Walk On By",
          "Artist Name: Eagles </br> Song Name: Hotel California - 2013 Remaster",
          "Artist Name: The Doors </br> Song Name: Light My Fire",
          "Artist Name: Bill Withers </br> Song Name: Ain't No Sunshine",
          "Artist Name: Liz Phair </br> Song Name: Divorce Song - Remastered",
          "Artist Name: Gnarls Barkley </br> Song Name: Crazy",
          "Artist Name: Aretha Franklin </br> Song Name: Chain of Fools",
          "Artist Name: The Police </br> Song Name: Every Breath You Take",
          "Artist Name: Kraftwerk </br> Song Name: Trans-Europe Express - 2009 Remaster",
          "Artist Name: TLC </br> Song Name: No Scrubs",
          "Artist Name: Pink Floyd </br> Song Name: Wish You Were Here - 2011 Remaster",
          "Artist Name: Bob Seger </br> Song Name: Night Moves",
          "Artist Name: The B-52's </br> Song Name: Rock Lobster",
          "Artist Name: Screamin' Jay Hawkins </br> Song Name: I Put a Spell On You",
          "Artist Name: Bruce Springsteen </br> Song Name: Jungleland",
          "Artist Name: The Beach Boys </br> Song Name: Wouldn't It Be Nice",
          "Artist Name: Bikini Kill </br> Song Name: Rebel Girl",
          "Artist Name: The Who </br> Song Name: Won't Get Fooled Again - Original Album Version",
          "Artist Name: The Velvet Underground </br> Song Name: Sweet Jane",
          "Artist Name: Alice Cooper </br> Song Name: School's Out",
          "Artist Name: A Tribe Called Quest </br> Song Name: Can I Kick It?",
          "Artist Name: Phil Collins </br> Song Name: In The Air Tonight - 2015 Remastered",
          "Artist Name: Usher </br> Song Name: Yeah! (feat. Lil Jon & Ludacris)",
          "Artist Name: Bruce Springsteen </br> Song Name: Atlantic City",
          "Artist Name: Funky 4 + 1 </br> Song Name: That's the Joint",
          "Artist Name: AC/DC </br> Song Name: You Shook Me All Night Long",
          "Artist Name: ABBA </br> Song Name: Dancing Queen",
          "Artist Name: Destiny's Child </br> Song Name: Say My Name",
          "Artist Name: Leonard Cohen </br> Song Name: Suzanne",
          "Artist Name: Ray Charles </br> Song Name: Georgia on My Mind",
          "Artist Name: INXS </br> Song Name: Never Tear Us Apart",
          "Artist Name: Clipse </br> Song Name: Grindin'",
          "Artist Name: The Beatles </br> Song Name: Penny Lane",
          "Artist Name: Radiohead </br> Song Name: Karma Police",
          "Artist Name: Toots & The Maytals </br> Song Name: Pressure Drop",
          "Artist Name: Bo Diddley </br> Song Name: Bo Diddley",
          "Artist Name: Buzzcocks </br> Song Name: Ever Fallen in Love (With Someone You Shouldn't've?) - 1996 Remastered Version",
          "Artist Name: Randy Newman </br> Song Name: Sail Away - 2002 Remaster",
          "Artist Name: Al Green </br> Song Name: Love and Happiness",
          "Artist Name: Roberta Flack </br> Song Name: Killing Me Softly With His Song",
          "Artist Name: Thin Lizzy </br> Song Name: The Boys Are Back In Town",
          "Artist Name: Procol Harum </br> Song Name: A Whiter Shade of Pale - Original Single Version",
          "Artist Name: Nine Inch Nails </br> Song Name: Closer",
          "Artist Name: The Righteous Brothers </br> Song Name: Unchained Melody",
          "Artist Name: The Isley Brothers </br> Song Name: Shout, Pts. 1 & 2",
          "Artist Name: Drake </br> Song Name: Take Care",
          "Artist Name: King Tubby </br> Song Name: King Tubby Meets Rockers Uptown",
          "Artist Name: The Replacements </br> Song Name: Left of the Dial - 2008 Remaster",
          "Artist Name: Marvin Gaye </br> Song Name: Let's Get It On",
          "Artist Name: Dolly Parton </br> Song Name: Coat of Many Colors",
          "Artist Name: Paul Simon </br> Song Name: American Tune",
          "Artist Name: Curtis Mayfield </br> Song Name: Pusherman",
          "Artist Name: The Wailers </br> Song Name: Get Up, Stand Up",
          "Artist Name: Neil Young </br> Song Name: Heart of Gold - 2009 Remaster",
          "Artist Name: Gil Scott-Heron </br> Song Name: The Revolution Will Not Be Televised",
          "Artist Name: Martha Reeves & The Vandellas </br> Song Name: (Love Is Like A) Heat Wave",
          "Artist Name: Metallica </br> Song Name: Master Of Puppets",
          "Artist Name: Loretta Lynn </br> Song Name: Coal Miner's Daughter - Single Version",
          "Artist Name: The Supremes </br> Song Name: Stop! In The Name Of Love - Single Version",
          "Artist Name: Willie Nelson </br> Song Name: Blue Eyes Crying In the Rain",
          "Artist Name: Parliament </br> Song Name: Flash Light",
          "Artist Name: Gloria Gaynor </br> Song Name: I Will Survive",
          "Artist Name: Jimi Hendrix </br> Song Name: Purple Haze",
          "Artist Name: Joan Jett & the Blackhearts </br> Song Name: Bad Reputation",
          "Artist Name: N.W.A. </br> Song Name: Straight Outta Compton",
          "Artist Name: Joni Mitchell </br> Song Name: River",
          "Artist Name: Faces </br> Song Name: Ooh La La",
          "Artist Name: Beastie Boys </br> Song Name: Sabotage - Remastered 2009",
          "Artist Name: Pavement </br> Song Name: Summer Babe - Winter Version",
          "Artist Name: The Beatles </br> Song Name: Eleanor Rigby",
          "Artist Name: Jerry Lee Lewis </br> Song Name: Great Balls of Fire",
          "Artist Name: Digital Underground </br> Song Name: The Humpty Dance",
          "Artist Name: Backstreet Boys </br> Song Name: I Want It That Way",
          "Artist Name: Big Star </br> Song Name: September Gurls",
          "Artist Name: Aaliyah </br> Song Name: Are You That Somebody",
          "Artist Name: Hank Williams </br> Song Name: Your Cheatin' Heart",
          "Artist Name: Bill Withers </br> Song Name: Lean on Me",
          "Artist Name: New Order </br> Song Name: Blue Monday",
          "Artist Name: The Supremes </br> Song Name: You Keep Me Hangin' On",
          "Artist Name: Deee-Lite </br> Song Name: Groove Is in the Heart",
          "Artist Name: The Who </br> Song Name: My Generation",
          "Artist Name: Whitney Houston </br> Song Name: I Wanna Dance with Somebody (Who Loves Me)",
          "Artist Name: The Byrds </br> Song Name: Mr. Tambourine Man",
          "Artist Name: Woody Guthrie </br> Song Name: This Land is Your Land",
          "Artist Name: Beyoncé </br> Song Name: Single Ladies (Put a Ring on It)",
          "Artist Name: Creedence Clearwater Revival </br> Song Name: Fortunate Son",
          "Artist Name: The Smiths </br> Song Name: There Is a Light That Never Goes Out - 2011 Remaster",
          "Artist Name: Joni Mitchell </br> Song Name: Both Sides Now",
          "Artist Name: Derek & The Dominos </br> Song Name: Layla",
          "Artist Name: Eminem </br> Song Name: Stan",
          "Artist Name: Crosby, Stills & Nash </br> Song Name: Suite: Judy Blue Eyes - 2005 Remaster",
          "Artist Name: Ike & Tina Turner </br> Song Name: River Deep - Mountain High",
          "Artist Name: New Order </br> Song Name: Bizarre Love Triangle '94",
          "Artist Name: Tom Petty </br> Song Name: Free Fallin'",
          "Artist Name: Wilson Pickett </br> Song Name: In the Midnight Hour",
          "Artist Name: Stevie Nicks </br> Song Name: Edge of Seventeen",
          "Artist Name: Elvis Presley </br> Song Name: Jailhouse Rock",
          "Artist Name: Mobb Deep </br> Song Name: Shook Ones, Pt. II",
          "Artist Name: Steely Dan </br> Song Name: Deacon Blues",
          "Artist Name: The Rolling Stones </br> Song Name: Paint It, Black",
          "Artist Name: Boston </br> Song Name: More Than a Feeling",
          "Artist Name: U2 </br> Song Name: With Or Without You",
          "Artist Name: Funkadelic </br> Song Name: One Nation Under a Groove - Album Version - 2015 Remaster",
          "Artist Name: Don Henley </br> Song Name: The Boys Of Summer",
          "Artist Name: Hole </br> Song Name: Doll Parts",
          "Artist Name: Rage Against The Machine </br> Song Name: Killing In The Name",
          "Artist Name: Glen Campbell </br> Song Name: Wichita Lineman - Remastered 2001",
          "Artist Name: Britney Spears </br> Song Name: ...Baby One More Time",
          "Artist Name: David Bowie </br> Song Name: Young Americans - 2016 Remaster",
          "Artist Name: Stevie Wonder </br> Song Name: Signed, Sealed, Delivered (I'm Yours)",
          "Artist Name: Elton John </br> Song Name: Your Song",
          "Artist Name: Johnny Cash </br> Song Name: Ring of Fire",
          "Artist Name: David Bowie </br> Song Name: Changes - 2015 Remaster",
          "Artist Name: Aerosmith </br> Song Name: Dream On",
          "Artist Name: Marvin Gaye </br> Song Name: Sexual Healing",
          "Artist Name: Ann Peebles </br> Song Name: I Can't Stand the Rain",
          "Artist Name: James Brown </br> Song Name: Get Up I Feel Like Being A Sex Machine - Pt. 1 / Single Version",
          "Artist Name: Patsy Cline </br> Song Name: Crazy - Single Version",
          "Artist Name: PJ Harvey </br> Song Name: Rid Of Me",
          "Artist Name: The Rolling Stones </br> Song Name: Wild Horses",
          "Artist Name: Geto Boys </br> Song Name: Mind Playing Tricks on Me",
          "Artist Name: Bobbie Gentry </br> Song Name: Ode To Billie Joe",
          "Artist Name: N.W.A. </br> Song Name: Fuck Tha Police",
          "Artist Name: David Bowie </br> Song Name: Space Oddity - 2015 Remaster",
          "Artist Name: Jimi Hendrix </br> Song Name: Little Wing",
          "Artist Name: Bob Dylan </br> Song Name: Subterranean Homesick Blues",
          "Artist Name: The Staple Singers </br> Song Name: I'll Take You There",
          "Artist Name: Michael Jackson </br> Song Name: Beat It",
          "Artist Name: Sinéad O'Connor </br> Song Name: Nothing Compares 2 U",
          "Artist Name: Stevie Wonder </br> Song Name: You Are The Sunshine Of My Life",
          "Artist Name: Simon & Garfunkel </br> Song Name: The Sounds of Silence",
          "Artist Name: The Byrds </br> Song Name: Eight Miles High",
          "Artist Name: Lou Reed </br> Song Name: Walk On the Wild Side",
          "Artist Name: Pink Floyd </br> Song Name: Comfortably Numb - 2011 Remastered Version",
          "Artist Name: Billie Eilish </br> Song Name: bad guy",
          "Artist Name: Van Halen </br> Song Name: Jump",
          "Artist Name: The Kinks </br> Song Name: You Really Got Me - Remastered",
          "Artist Name: The Flamingos </br> Song Name: I Only Have Eyes for You",
          "Artist Name: R.E.M. </br> Song Name: Radio Free Europe",
          "Artist Name: Television </br> Song Name: Marquee Moon",
          "Artist Name: Nina Simone </br> Song Name: Mississippi Goddam",
          "Artist Name: Louis Armstrong </br> Song Name: What A Wonderful World",
          "Artist Name: The Five Satins </br> Song Name: In The Still of the Night",
          "Artist Name: Tom Petty and the Heartbreakers </br> Song Name: American Girl",
          "Artist Name: Dusty Springfield </br> Song Name: Son Of A Preacher Man",
          "Artist Name: Eminem </br> Song Name: Lose Yourself",
          "Artist Name: Mott The Hoople </br> Song Name: All the Young Dudes",
          "Artist Name: Hank Williams </br> Song Name: I'm So Lonesome I Could Cry - Single Version",
          "Artist Name: Bob Dylan </br> Song Name: Mr. Tambourine Man",
          "Artist Name: Fleetwood Mac </br> Song Name: Landslide",
          "Artist Name: Nick Drake </br> Song Name: Pink Moon",
          "Artist Name: Madonna </br> Song Name: Into the Groove",
          "Artist Name: R.E.M. </br> Song Name: Nightswimming",
          "Artist Name: The Who </br> Song Name: Baba O'Riley",
          "Artist Name: The Meters </br> Song Name: Cissy Strut",
          "Artist Name: Sonic Youth </br> Song Name: Teen Age Riot (Album Version)",
          "Artist Name: The Kingsmen </br> Song Name: Louie Louie",
          "Artist Name: The Strokes </br> Song Name: Last Nite",
          "Artist Name: Howlin' Wolf </br> Song Name: Spoonful",
          "Artist Name: Rick James </br> Song Name: Super Freak",
          "Artist Name: Creedence Clearwater Revival </br> Song Name: Proud Mary",
          "Artist Name: The Shirelles </br> Song Name: Will You Still Love Me Tomorrow",
          "Artist Name: Green Day </br> Song Name: Basket Case",
          "Artist Name: Elton John </br> Song Name: Rocket Man (I Think It's Going To Be A Long, Long Time)",
          "Artist Name: Led Zeppelin </br> Song Name: Kashmir - Remaster",
          "Artist Name: Fats Domino </br> Song Name: Blueberry Hill",
          "Artist Name: James Taylor </br> Song Name: Fire and Rain",
          "Artist Name: Outkast </br> Song Name: Ms. Jackson",
          "Artist Name: The Rolling Stones </br> Song Name: Jumpin' Jack Flash - (Original Single Mono Version)",
          "Artist Name: The Clash </br> Song Name: London Calling",
          "Artist Name: George Jones </br> Song Name: He Stopped Loving Her Today",
          "Artist Name: Rod Stewart </br> Song Name: Maggie May",
          "Artist Name: Bob Marley & The Wailers </br> Song Name: No Woman No Cry",
          "Artist Name: Madonna </br> Song Name: Vogue",
          "Artist Name: Blondie </br> Song Name: Heart Of Glass",
          "Artist Name: Ariana Grande </br> Song Name: thank u, next",
          "Artist Name: Otis Redding </br> Song Name: Try a Little Tenderness",
          "Artist Name: The Beatles </br> Song Name: She Loves You - Remastered 2009",
          "Artist Name: Tina Turner </br> Song Name: What's Love Got to Do with It",
          "Artist Name: Journey </br> Song Name: Don't Stop Believin'",
          "Artist Name: Eric B. & Rakim </br> Song Name: Paid In Full",
          "Artist Name: Ben E. King </br> Song Name: Stand by Me",
          "Artist Name: Martha Reeves & The Vandellas </br> Song Name: Dancing In The Street - Stereo",
          "Artist Name: Drake </br> Song Name: Hold On, We're Going Home",
          "Artist Name: Led Zeppelin </br> Song Name: Whole Lotta Love - 1990 Remaster",
          "Artist Name: TLC </br> Song Name: Waterfalls",
          "Artist Name: George Michael </br> Song Name: Freedom! '90 - Remastered",
          "Artist Name: Sex Pistols </br> Song Name: Anarchy In The UK",
          "Artist Name: Buddy Holly </br> Song Name: That'll Be the Day",
          "Artist Name: Talking Heads </br> Song Name: This Must Be the Place (Naive Melody) - 2005 Remaster",
          "Artist Name: The Impressions </br> Song Name: People Get Ready",
          "Artist Name: The Beatles </br> Song Name: Let It Be - Remastered 2009",
          "Artist Name: X-Ray Spex </br> Song Name: Oh Bondage! Up Yours!",
          "Artist Name: Marvin Gaye </br> Song Name: I Heard It Through The Grapevine",
          "Artist Name: Radiohead </br> Song Name: Creep",
          "Artist Name: Aretha Franklin </br> Song Name: I Say a Little Prayer",
          "Artist Name: Rob Base & DJ EZ Rock </br> Song Name: It Takes Two",
          "Artist Name: Etta James </br> Song Name: At Last",
          "Artist Name: Britney Spears </br> Song Name: Toxic",
          "Artist Name: Stevie Wonder </br> Song Name: Higher Ground",
          "Artist Name: R.E.M. </br> Song Name: Losing My Religion",
          "Artist Name: Bruce Springsteen </br> Song Name: Thunder Road",
          "Artist Name: The Beatles </br> Song Name: Something - Remastered 2015",
          "Artist Name: Sly & The Family Stone </br> Song Name: Everyday People",
          "Artist Name: The Cure </br> Song Name: Just Like Heaven",
          "Artist Name: Wu-Tang Clan </br> Song Name: C.R.E.A.M. (Cash Rules Everything Around Me) (feat. Method Man, Raekwon, Inspectah Deck & Buddha Monk)",
          "Artist Name: The Rolling Stones </br> Song Name: Sympathy For The Devil",
          "Artist Name: David Bowie </br> Song Name: Life on Mars? - 2015 Remaster",
          "Artist Name: The Jackson 5 </br> Song Name: I Want You Back",
          "Artist Name: Alanis Morissette </br> Song Name: You Oughta Know - 2015 Remaster",
          "Artist Name: Chuck Berry </br> Song Name: Maybelline",
          "Artist Name: Yeah Yeah Yeahs </br> Song Name: Maps",
          "Artist Name: Bob Dylan </br> Song Name: Blowin' in the Wind",
          "Artist Name: Bee Gees </br> Song Name: Stayin Alive",
          "Artist Name: The Beatles </br> Song Name: In My Life - Remastered 2009",
          "Artist Name: Patti Smith </br> Song Name: Gloria",
          "Artist Name: JAY-Z </br> Song Name: 99 Problems",
          "Artist Name: Oasis </br> Song Name: Wonderwall",
          "Artist Name: Whitney Houston </br> Song Name: I Will Always Love You",
          "Artist Name: Kelly Clarkson </br> Song Name: Since U Been Gone",
          "Artist Name: Little Richard </br> Song Name: Good Golly Miss Molly",
          "Artist Name: UGK </br> Song Name: Int'l Players Anthem (I Choose You) (feat. Outkast)",
          "Artist Name: Aretha Franklin </br> Song Name: (You Make Me Feel Like) A Natural Woman",
          "Artist Name: The Beatles </br> Song Name: Hey Jude - Remastered 2015",
          "Artist Name: Guns N' Roses </br> Song Name: Sweet Child O' Mine",
          "Artist Name: LCD Soundsystem </br> Song Name: All My Friends",
          "Artist Name: The Rolling Stones </br> Song Name: Tumbling Dice",
          "Artist Name: Prince </br> Song Name: Kiss",
          "Artist Name: Al Green </br> Song Name: Let's Stay Together",
          "Artist Name: Bob Dylan </br> Song Name: Desolation Row",
          "Artist Name: Adele </br> Song Name: Rolling in the Deep",
          "Artist Name: The Velvet Underground </br> Song Name: I'm Waiting For The Man",
          "Artist Name: Ray Charles </br> Song Name: What'd I Say, Pt. 1 & 2",
          "Artist Name: Amy Winehouse </br> Song Name: Back To Black",
          "Artist Name: Four Tops </br> Song Name: Reach Out I'll Be There",
          "Artist Name: The Modern Lovers </br> Song Name: Roadrunner",
          "Artist Name: Johnny Cash </br> Song Name: I Walk the Line",
          "Artist Name: Pulp </br> Song Name: Common People",
          "Artist Name: Leonard Cohen </br> Song Name: Hallelujah",
          "Artist Name: Beyoncé </br> Song Name: Formation",
          "Artist Name: The Beatles </br> Song Name: Yesterday - Remastered 2015",
          "Artist Name: Tracy Chapman </br> Song Name: Fast Car",
          "Artist Name: Elvis Presley </br> Song Name: Suspicious Minds",
          "Artist Name: Taylor Swift </br> Song Name: All Too Well",
          "Artist Name: CHIC </br> Song Name: Good Times",
          "Artist Name: Bob Dylan </br> Song Name: Tangled up in Blue",
          "Artist Name: Simon & Garfunkel </br> Song Name: Bridge Over Troubled Water",
          "Artist Name: Earth, Wind & Fire </br> Song Name: September",
          "Artist Name: Ramones </br> Song Name: Blitzkrieg Bop - 2016 Remaster",
          "Artist Name: Dolly Parton </br> Song Name: Jolene",
          "Artist Name: U2 </br> Song Name: One",
          "Artist Name: Led Zeppelin </br> Song Name: Stairway to Heaven - Remaster",
          "Artist Name: Kate Bush </br> Song Name: Running Up That Hill (A Deal With God)",
          "Artist Name: Grandmaster Flash </br> Song Name: The Message",
          "Artist Name: The Band </br> Song Name: The Weight - Remastered 2000",
          "Artist Name: Sly & The Family Stone </br> Song Name: Family Affair - Single Version",
          "Artist Name: Missy Elliott </br> Song Name: Work It",
          "Artist Name: Madonna </br> Song Name: Like a Prayer",
          "Artist Name: Smokey Robinson & The Miracles </br> Song Name: The Tracks Of My Tears",
          "Artist Name: The Beach Boys </br> Song Name: Good Vibrations",
          "Artist Name: Donna Summer </br> Song Name: I Feel Love",
          "Artist Name: Dionne Warwick </br> Song Name: Walk on By",
          "Artist Name: Daddy Yankee </br> Song Name: Gasolina",
          "Artist Name: Ms. Lauryn Hill </br> Song Name: Doo Wop (That Thing)",
          "Artist Name: Radiohead </br> Song Name: Idioteque",
          "Artist Name: Elton John </br> Song Name: Tiny Dancer",
          "Artist Name: M.I.A. </br> Song Name: Paper Planes",
          "Artist Name: Kendrick Lamar </br> Song Name: Alright",
          "Artist Name: Michael Jackson </br> Song Name: Billie Jean",
          "Artist Name: The Temptations </br> Song Name: My Girl",
          "Artist Name: Bob Marley & The Wailers </br> Song Name: Redemption Song",
          "Artist Name: Joy Division </br> Song Name: Love Will Tear Us Apart - 2020 Remaster",
          "Artist Name: Jimi Hendrix </br> Song Name: All Along the Watchtower",
          "Artist Name: Outkast </br> Song Name: B.O.B. - Bombs Over Baghdad",
          "Artist Name: Otis Redding </br> Song Name: (Sittin' On) the Dock of the Bay",
          "Artist Name: Prince </br> Song Name: When Doves Cry",
          "Artist Name: The White Stripes </br> Song Name: Seven Nation Army",
          "Artist Name: Little Richard </br> Song Name: Tutti Frutti",
          "Artist Name: James Brown </br> Song Name: Papa's Got A Brand New Bag - Pt. 1",
          "Artist Name: Chuck Berry </br> Song Name: Johnny B. Goode",
          "Artist Name: The Notorious B.I.G. </br> Song Name: Juicy",
          "Artist Name: The Rolling Stones </br> Song Name: (I Can't Get No) Satisfaction - Mono Version",
          "Artist Name: Lorde </br> Song Name: Royals",
          "Artist Name: Dr. Dre </br> Song Name: Nuthin' But A \"G\" Thang",
          "Artist Name: Talking Heads </br> Song Name: Once in a Lifetime - 2005 Remaster",
          "Artist Name: Bruce Springsteen </br> Song Name: Born to Run",
          "Artist Name: Joni Mitchell </br> Song Name: A Case of You",
          "Artist Name: Kanye West </br> Song Name: Runaway",
          "Artist Name: The Beatles </br> Song Name: A Day In The Life - Remastered 2009",
          "Artist Name: David Bowie </br> Song Name: Heroes - 2017 Remaster",
          "Artist Name: The Ronettes </br> Song Name: Be My Baby",
          "Artist Name: Billie Holiday </br> Song Name: Strange Fruit",
          "Artist Name: Robyn </br> Song Name: Dancing On My Own",
          "Artist Name: John Lennon </br> Song Name: Imagine - Remastered 2010",
          "Artist Name: Prince </br> Song Name: Purple Rain",
          "Artist Name: Queen </br> Song Name: Bohemian Rhapsody",
          "Artist Name: Beyoncé </br> Song Name: Crazy In Love (feat. Jay-Z)",
          "Artist Name: The Beatles </br> Song Name: I Want To Hold Your Hand - Remastered 2015",
          "Artist Name: The Kinks </br> Song Name: Waterloo Sunset",
          "Artist Name: The Rolling Stones </br> Song Name: Gimme Shelter",
          "Artist Name: Stevie Wonder </br> Song Name: Superstition",
          "Artist Name: The Beach Boys </br> Song Name: God Only Knows - Remastered",
          "Artist Name: Outkast </br> Song Name: Hey Ya!",
          "Artist Name: Fleetwood Mac </br> Song Name: Dreams - 2004 Remaster",
          "Artist Name: Missy Elliott </br> Song Name: Get Ur Freak On",
          "Artist Name: The Beatles </br> Song Name: Strawberry Fields Forever - Remastered 2009",
          "Artist Name: Marvin Gaye </br> Song Name: What's Going On",
          "Artist Name: Nirvana </br> Song Name: Smells Like Teen Spirit",
          "Artist Name: Bob Dylan </br> Song Name: Like a Rolling Stone",
          "Artist Name: Sam Cooke </br> Song Name: A Change Is Gonna Come",
          "Artist Name: Public Enemy </br> Song Name: Fight The Power",
          "Artist Name: Aretha Franklin </br> Song Name: Respect"
         ],
         "type": "scatter",
         "x": [
          10.369553565979004,
          6.097257614135742,
          5.001722812652588,
          8.434467315673828,
          3.9071710109710693,
          8.50428295135498,
          4.909036159515381,
          6.87516975402832,
          4.25201416015625,
          8.29682731628418,
          8.057726860046387,
          8.540719985961914,
          7.561728477478027,
          7.576395511627197,
          10.789827346801758,
          11.690028190612793,
          8.893067359924316,
          8.514537811279297,
          9.124072074890137,
          5.288389205932617,
          10.819356918334961,
          7.693808555603027,
          9.956819534301758,
          8.744634628295898,
          5.717767715454102,
          9.85954761505127,
          7.766045570373535,
          5.315350532531738,
          6.42039155960083,
          7.200170993804932,
          6.257841110229492,
          8.66895580291748,
          6.057661056518555,
          8.621330261230469,
          8.19609260559082,
          8.941339492797852,
          6.613332271575928,
          6.401830196380615,
          6.954956531524658,
          3.7799463272094727,
          11.259712219238281,
          6.455221652984619,
          10.22154426574707,
          9.391068458557129,
          7.675622463226318,
          4.763326168060303,
          6.008076190948486,
          10.804290771484375,
          6.574733734130859,
          11.590909957885742,
          7.170579433441162,
          8.756476402282715,
          10.442862510681152,
          8.270257949829102,
          9.137520790100098,
          9.210451126098633,
          11.640472412109375,
          9.045232772827148,
          9.063557624816895,
          5.164291858673096,
          5.287048816680908,
          7.325704097747803,
          11.66707706451416,
          8.26065444946289,
          9.267865180969238,
          9.211657524108887,
          9.305492401123047,
          8.481042861938477,
          8.564882278442383,
          7.096962928771973,
          10.485211372375488,
          6.494555950164795,
          7.626644611358643,
          10.710225105285645,
          10.732409477233887,
          6.46081018447876,
          10.861061096191406,
          8.511934280395508,
          11.541202545166016,
          9.138859748840332,
          6.347125053405762,
          8.49981689453125,
          7.704038143157959,
          8.188004493713379,
          8.552241325378418,
          8.884807586669922,
          9.011876106262207,
          8.209609031677246,
          9.446470260620117,
          8.551630020141602,
          7.079403400421143,
          8.812810897827148,
          5.578220367431641,
          9.026485443115234,
          11.302919387817383,
          5.654658317565918,
          9.271198272705078,
          8.360488891601562,
          7.93071985244751,
          8.802255630493164,
          8.013752937316895,
          8.636055946350098,
          9.557589530944824,
          10.855019569396973,
          4.1809611320495605,
          9.895258903503418,
          8.658275604248047,
          10.512470245361328,
          4.5600266456604,
          9.521878242492676,
          8.581305503845215,
          8.126811981201172,
          10.773341178894043,
          8.734399795532227,
          7.264557838439941,
          9.549525260925293,
          9.856459617614746,
          7.895398139953613,
          5.419553756713867,
          8.480663299560547,
          8.755887985229492,
          6.994410514831543,
          8.920165061950684,
          8.999238014221191,
          5.507705211639404,
          5.5784759521484375,
          5.678695201873779,
          8.088388442993164,
          4.378124237060547,
          9.784918785095215,
          5.313965797424316,
          8.352426528930664,
          7.585880279541016,
          4.869218349456787,
          6.170030117034912,
          8.954174995422363,
          5.609472751617432,
          7.81955623626709,
          5.381097316741943,
          5.794092178344727,
          10.017068862915039,
          6.694269180297852,
          8.723548889160156,
          9.4248628616333,
          9.892105102539062,
          9.121177673339844,
          8.062458992004395,
          8.70206356048584,
          10.52979850769043,
          10.135028839111328,
          4.837240695953369,
          8.357813835144043,
          7.336474895477295,
          5.259283542633057,
          9.555047988891602,
          6.508068561553955,
          8.92013168334961,
          7.3407440185546875,
          6.14942741394043,
          5.940064907073975,
          8.441890716552734,
          9.493569374084473,
          8.676451683044434,
          8.427539825439453,
          6.390172958374023,
          9.52295207977295,
          7.2041335105896,
          7.147566318511963,
          9.344249725341797,
          5.915943145751953,
          11.651215553283691,
          11.079861640930176,
          6.562668800354004,
          8.483098983764648,
          8.61978816986084,
          8.727636337280273,
          7.2979631423950195,
          5.188502311706543,
          4.511969089508057,
          8.929387092590332,
          8.805644989013672,
          7.458795070648193,
          6.6373724937438965,
          6.627618789672852,
          6.079076766967773,
          6.1158318519592285,
          7.877604007720947,
          8.611273765563965,
          7.062217712402344,
          8.467327117919922,
          6.431489944458008,
          5.772708415985107,
          9.244844436645508,
          9.231796264648438,
          8.217523574829102,
          5.460653781890869,
          8.44820499420166,
          9.37486743927002,
          4.266234874725342,
          6.617511749267578,
          8.474803924560547,
          6.618753433227539,
          7.172842979431152,
          5.867437362670898,
          8.896496772766113,
          6.8737335205078125,
          8.910774230957031,
          7.861695289611816,
          10.839521408081055,
          4.202818393707275,
          8.242955207824707,
          6.311362266540527,
          9.923088073730469,
          8.441089630126953,
          7.572475433349609,
          9.61802864074707,
          4.327881336212158,
          3.9646148681640625,
          7.633209705352783,
          10.270476341247559,
          6.252518177032471,
          7.014835357666016,
          7.039389610290527,
          8.038935661315918,
          9.160354614257812,
          4.288186550140381,
          10.963504791259766,
          4.886165142059326,
          7.930617332458496,
          4.336889743804932,
          8.437868118286133,
          4.625920295715332,
          7.395458698272705,
          10.539794921875,
          8.481237411499023,
          8.899577140808105,
          8.702051162719727,
          4.879673480987549,
          3.7413265705108643,
          8.18917179107666,
          11.661555290222168,
          8.511077880859375,
          6.813351631164551,
          6.03994607925415,
          8.52298355102539,
          5.527432441711426,
          5.0030694007873535,
          4.349884033203125,
          8.061347007751465,
          8.722936630249023,
          8.47412395477295,
          9.283777236938477,
          10.506058692932129,
          3.6886661052703857,
          5.957571506500244,
          9.195599555969238,
          8.488523483276367,
          5.566422462463379,
          7.128652095794678,
          11.539702415466309,
          7.8389997482299805,
          8.819865226745605,
          11.01457691192627,
          5.087449550628662,
          4.047154426574707,
          8.534579277038574,
          8.065017700195312,
          9.359310150146484,
          9.179457664489746,
          8.886427879333496,
          5.935603618621826,
          4.540943622589111,
          10.140531539916992,
          8.668069839477539,
          8.795626640319824,
          3.7822656631469727,
          6.464578628540039,
          10.733458518981934,
          5.767576217651367,
          5.6588335037231445,
          8.484992027282715,
          6.550320148468018,
          7.870473861694336,
          8.742799758911133,
          6.809570789337158,
          11.550226211547852,
          5.509029865264893,
          9.401129722595215,
          7.321507453918457,
          7.623776912689209,
          9.15480899810791,
          6.525155544281006,
          9.074504852294922,
          11.40152645111084,
          4.893172740936279,
          9.791757583618164,
          8.818358421325684,
          8.624308586120605,
          4.530886173248291,
          6.89268159866333,
          4.680849075317383,
          4.355993747711182,
          8.100384712219238,
          8.092096328735352,
          10.988356590270996,
          4.322151184082031,
          6.445244789123535,
          5.170992851257324,
          11.511194229125977,
          5.301702499389648,
          11.62935733795166,
          4.416921615600586,
          6.943880081176758,
          6.0198516845703125,
          8.057604789733887,
          9.34086799621582,
          7.456235885620117,
          5.732309341430664,
          6.553778171539307,
          8.193071365356445,
          4.483265399932861,
          6.177557945251465,
          11.149267196655273,
          9.166024208068848,
          8.696942329406738,
          4.5813493728637695,
          8.867348670959473,
          8.427115440368652,
          6.41804838180542,
          4.200875759124756,
          4.671940326690674,
          6.312033176422119,
          5.647698402404785,
          10.174105644226074,
          7.61643648147583,
          4.801564693450928,
          5.430490970611572,
          4.252728462219238,
          4.954905033111572,
          8.786795616149902,
          5.230559349060059,
          7.517856597900391,
          8.564467430114746,
          9.111627578735352,
          8.723873138427734,
          9.169206619262695,
          5.3481879234313965,
          8.480746269226074,
          8.457395553588867,
          4.516297340393066,
          9.217912673950195,
          6.101683616638184,
          6.092051029205322,
          6.630382537841797,
          5.486782550811768,
          11.006181716918945,
          8.469054222106934,
          9.102245330810547,
          4.797386169433594,
          5.6647539138793945,
          7.831820487976074,
          8.027267456054688,
          8.047316551208496,
          6.983749866485596,
          6.236173629760742,
          8.18740463256836,
          7.900918960571289,
          8.109808921813965,
          11.28513240814209,
          5.804892063140869,
          7.718541622161865,
          7.141285419464111,
          11.423999786376953,
          7.846156597137451,
          8.82533073425293,
          8.933810234069824,
          6.8416008949279785,
          8.04725170135498,
          4.20060920715332,
          4.252421855926514,
          9.0551118850708,
          7.553048610687256,
          7.09604549407959,
          5.952381134033203,
          10.287638664245605,
          5.2997517585754395,
          9.786888122558594,
          8.597747802734375,
          8.698862075805664,
          6.162020206451416,
          4.429145812988281,
          8.296801567077637,
          8.883790969848633,
          11.030767440795898,
          11.360795974731445,
          5.44317102432251,
          6.566640853881836,
          7.97360897064209,
          5.866855144500732,
          8.03226089477539,
          4.2815165519714355,
          8.494258880615234,
          6.122817039489746,
          5.399709224700928,
          11.346535682678223,
          9.071762084960938,
          3.900486946105957,
          8.765960693359375,
          7.1281819343566895,
          10.453507423400879,
          5.01676082611084,
          8.896441459655762,
          8.724050521850586,
          8.44476318359375,
          7.796042442321777,
          8.94045352935791,
          5.552053451538086,
          5.848614692687988,
          8.97827434539795,
          8.487733840942383,
          5.782719135284424,
          6.554412841796875,
          8.480012893676758,
          9.194130897521973,
          5.197608947753906,
          9.138243675231934,
          4.13572359085083,
          10.847535133361816,
          3.749807119369507,
          6.1281819343566895,
          7.2215070724487305,
          7.586740016937256,
          8.1879243850708,
          6.6116623878479,
          3.810039520263672,
          8.544530868530273,
          9.296354293823242,
          5.615432262420654,
          4.350582599639893,
          5.336399555206299,
          5.415913105010986,
          11.382939338684082,
          6.256468772888184,
          5.654294967651367,
          10.848764419555664,
          7.725634574890137,
          5.386460781097412,
          7.582950592041016,
          8.504178047180176,
          5.1094069480896,
          8.059416770935059,
          10.665826797485352,
          10.886375427246094,
          4.387671947479248,
          9.824484825134277,
          11.333396911621094,
          8.615241050720215,
          5.36032247543335,
          5.498915195465088,
          8.526058197021484,
          8.646073341369629,
          8.843589782714844,
          5.079432010650635,
          8.74753475189209,
          7.37075662612915,
          6.100952625274658,
          5.954872131347656,
          6.971900939941406,
          11.482503890991211,
          9.291504859924316,
          6.88586950302124,
          11.591117858886719,
          9.908028602600098,
          9.127724647521973,
          4.979362964630127,
          7.494636535644531,
          6.5277628898620605,
          8.399855613708496,
          8.635007858276367,
          4.216401100158691,
          7.9383625984191895,
          3.722297430038452,
          7.610511302947998,
          4.381832122802734,
          10.936850547790527,
          7.4089202880859375,
          4.991494655609131,
          6.138119697570801,
          8.569610595703125,
          6.325043201446533,
          9.628880500793457,
          8.1033353805542,
          7.499266624450684,
          6.254059314727783,
          6.198114395141602,
          9.249336242675781,
          6.037507057189941,
          5.592467784881592,
          10.490449905395508,
          8.22314453125
         ],
         "y": [
          7.484500408172607,
          9.056002616882324,
          10.477986335754395,
          9.860085487365723,
          8.425885200500488,
          11.264860153198242,
          9.980002403259277,
          8.460247993469238,
          8.694212913513184,
          8.314544677734375,
          10.941256523132324,
          4.459701061248779,
          9.757333755493164,
          7.357931613922119,
          8.292924880981445,
          7.898821830749512,
          6.422791481018066,
          11.871610641479492,
          11.24445629119873,
          6.679404258728027,
          9.514430046081543,
          5.896266460418701,
          7.323436260223389,
          6.117687225341797,
          7.1660685539245605,
          10.823383331298828,
          5.921267986297607,
          6.8352952003479,
          7.0553460121154785,
          8.259468078613281,
          7.1043477058410645,
          11.33961009979248,
          7.496697902679443,
          9.224069595336914,
          11.53324031829834,
          6.68755578994751,
          6.812138557434082,
          5.956122875213623,
          6.749731063842773,
          8.7405424118042,
          7.931373119354248,
          6.088351726531982,
          8.162278175354004,
          10.957330703735352,
          9.759114265441895,
          9.575408935546875,
          9.365884780883789,
          8.000061988830566,
          6.886857032775879,
          7.893311500549316,
          7.461935520172119,
          8.30090045928955,
          9.874646186828613,
          6.952252388000488,
          8.963497161865234,
          10.263385772705078,
          8.138264656066895,
          8.534676551818848,
          9.271336555480957,
          8.15941047668457,
          7.780144691467285,
          11.491947174072266,
          7.880359172821045,
          9.72857666015625,
          6.985108852386475,
          11.140316009521484,
          10.529608726501465,
          9.224435806274414,
          5.915342807769775,
          6.59049129486084,
          9.963282585144043,
          10.282471656799316,
          8.955877304077148,
          9.093706130981445,
          7.566002368927002,
          9.409649848937988,
          9.31519603729248,
          7.398731231689453,
          7.76617431640625,
          8.284096717834473,
          10.35524845123291,
          6.652120113372803,
          5.455282688140869,
          11.825249671936035,
          7.7202606201171875,
          11.377331733703613,
          10.12533187866211,
          9.645669937133789,
          11.499192237854004,
          6.679590702056885,
          7.884145259857178,
          8.161547660827637,
          7.5044331550598145,
          9.890097618103027,
          7.66883659362793,
          6.673654079437256,
          11.350353240966797,
          6.043606758117676,
          6.416321277618408,
          9.028375625610352,
          7.920451641082764,
          5.303136825561523,
          11.13596248626709,
          8.755254745483398,
          9.34890079498291,
          7.475974082946777,
          7.960265636444092,
          9.127681732177734,
          9.791631698608398,
          11.549479484558105,
          8.611817359924316,
          6.2230353355407715,
          7.7550835609436035,
          8.408777236938477,
          5.9338226318359375,
          7.375635147094727,
          7.765091419219971,
          11.01118278503418,
          10.772178649902344,
          5.092665672302246,
          7.735909938812256,
          8.875967025756836,
          9.700173377990723,
          8.235615730285645,
          10.795592308044434,
          6.4353790283203125,
          10.954243659973145,
          10.847951889038086,
          7.8726019859313965,
          11.04185962677002,
          6.573282241821289,
          10.060766220092773,
          8.827735900878906,
          9.835886001586914,
          9.973064422607422,
          8.302244186401367,
          10.286408424377441,
          11.599089622497559,
          8.011635780334473,
          10.761828422546387,
          10.6928129196167,
          8.67430305480957,
          8.013327598571777,
          7.208806991577148,
          10.836196899414062,
          10.90053653717041,
          11.642520904541016,
          11.726936340332031,
          7.575067043304443,
          10.495152473449707,
          9.874527931213379,
          9.418545722961426,
          7.232200622558594,
          6.718963623046875,
          7.210448265075684,
          5.834866523742676,
          8.141448974609375,
          6.188225269317627,
          9.651984214782715,
          10.621870040893555,
          6.330939769744873,
          7.233845233917236,
          9.883241653442383,
          8.811460494995117,
          8.776015281677246,
          9.396272659301758,
          7.299282550811768,
          6.138365745544434,
          10.297333717346191,
          10.841279029846191,
          7.794376373291016,
          8.990291595458984,
          8.342352867126465,
          11.544404983520508,
          9.635363578796387,
          8.022909164428711,
          9.40374755859375,
          8.651955604553223,
          7.944741725921631,
          10.964600563049316,
          6.77300500869751,
          7.38399076461792,
          6.2845635414123535,
          6.945995807647705,
          9.248761177062988,
          8.83651065826416,
          8.914427757263184,
          11.768693923950195,
          8.123895645141602,
          10.190359115600586,
          10.04284381866455,
          8.348175048828125,
          11.212066650390625,
          6.854495525360107,
          6.348553657531738,
          10.787413597106934,
          4.333781719207764,
          7.112204074859619,
          7.890960216522217,
          10.259422302246094,
          7.745362758636475,
          5.860096454620361,
          9.282285690307617,
          9.729249000549316,
          8.188438415527344,
          10.098669052124023,
          11.592026710510254,
          8.853888511657715,
          9.278538703918457,
          9.432449340820312,
          10.953072547912598,
          8.690215110778809,
          10.93649959564209,
          7.100666046142578,
          6.745002269744873,
          7.455372333526611,
          8.049934387207031,
          8.96353816986084,
          9.745264053344727,
          9.566672325134277,
          6.79005765914917,
          8.287090301513672,
          6.0416083335876465,
          11.36894702911377,
          9.279303550720215,
          8.128310203552246,
          8.149136543273926,
          8.059957504272461,
          7.059597969055176,
          9.79432487487793,
          4.975743293762207,
          9.646635055541992,
          6.9053425788879395,
          9.648126602172852,
          4.3591389656066895,
          8.280876159667969,
          10.157790184020996,
          7.546701431274414,
          8.872264862060547,
          6.046925067901611,
          7.824403285980225,
          10.23008918762207,
          5.900704860687256,
          9.814175605773926,
          4.739231586456299,
          6.358691215515137,
          10.061001777648926,
          8.183252334594727,
          6.843502521514893,
          6.565075874328613,
          4.493617057800293,
          8.83273983001709,
          7.582016944885254,
          8.912598609924316,
          10.05675220489502,
          8.78459358215332,
          4.472254753112793,
          8.925642967224121,
          6.511059761047363,
          7.956310749053955,
          7.561899662017822,
          9.285794258117676,
          7.800504684448242,
          10.57739543914795,
          9.128487586975098,
          4.354295253753662,
          6.356696605682373,
          11.453588485717773,
          10.792369842529297,
          11.689285278320312,
          9.312694549560547,
          8.414060592651367,
          9.6579008102417,
          11.125033378601074,
          9.630247116088867,
          8.656847953796387,
          10.191287994384766,
          7.8068132400512695,
          7.411022663116455,
          9.754983901977539,
          5.321321487426758,
          8.218315124511719,
          10.593576431274414,
          11.146367073059082,
          5.924946308135986,
          7.906389236450195,
          10.469894409179688,
          10.180044174194336,
          8.462533950805664,
          9.539012908935547,
          7.251324653625488,
          5.865781784057617,
          8.442092895507812,
          8.426072120666504,
          9.340599060058594,
          11.09777545928955,
          7.1690802574157715,
          7.1032023429870605,
          8.587454795837402,
          6.455487251281738,
          9.791102409362793,
          9.761407852172852,
          11.59311294555664,
          11.546693801879883,
          7.905581474304199,
          7.838371276855469,
          7.036431312561035,
          7.720673084259033,
          7.887555122375488,
          6.678191661834717,
          7.979206085205078,
          9.917962074279785,
          8.229073524475098,
          9.393413543701172,
          11.659358978271484,
          11.566413879394531,
          9.035470008850098,
          6.399818420410156,
          8.06872844696045,
          8.33788776397705,
          9.463343620300293,
          7.488697528839111,
          7.886600494384766,
          11.040398597717285,
          6.111734867095947,
          8.159187316894531,
          10.042119026184082,
          5.019413948059082,
          8.821574211120605,
          8.015544891357422,
          8.047590255737305,
          10.309253692626953,
          9.246271133422852,
          9.65561294555664,
          9.223365783691406,
          8.373886108398438,
          8.889054298400879,
          7.99560022354126,
          8.491044998168945,
          6.048902988433838,
          6.725953102111816,
          9.105146408081055,
          4.359960079193115,
          8.779596328735352,
          11.81004524230957,
          11.133833885192871,
          10.783132553100586,
          6.044754505157471,
          11.187015533447266,
          10.01312255859375,
          10.87566089630127,
          7.076598644256592,
          10.31407642364502,
          6.308859348297119,
          8.168622016906738,
          8.841490745544434,
          4.481086254119873,
          11.263102531433105,
          7.560147762298584,
          10.212589263916016,
          11.458086967468262,
          8.845908164978027,
          9.263915061950684,
          10.290675163269043,
          7.650692462921143,
          7.036244869232178,
          11.591310501098633,
          9.244569778442383,
          8.035189628601074,
          6.692068576812744,
          9.582463264465332,
          8.760522842407227,
          8.306229591369629,
          11.144936561584473,
          7.048564910888672,
          9.760515213012695,
          6.189022541046143,
          6.124256610870361,
          8.940850257873535,
          9.659107208251953,
          10.0641508102417,
          10.72763729095459,
          8.44661808013916,
          6.985446929931641,
          10.119132995605469,
          8.322375297546387,
          7.674492835998535,
          6.363870143890381,
          6.12865686416626,
          9.229227066040039,
          9.898372650146484,
          6.426230430603027,
          8.23438549041748,
          7.5822882652282715,
          7.564237594604492,
          7.450082778930664,
          5.8394036293029785,
          9.07791519165039,
          10.785557746887207,
          8.57370662689209,
          8.632550239562988,
          6.163642406463623,
          7.035007953643799,
          6.93735408782959,
          8.51346206665039,
          9.939384460449219,
          8.460086822509766,
          7.745408535003662,
          5.986804008483887,
          8.306735038757324,
          8.124066352844238,
          8.149223327636719,
          8.707058906555176,
          4.474382400512695,
          5.75434684753418,
          7.068272590637207,
          6.998490333557129,
          9.93863582611084,
          7.262303352355957,
          4.846030235290527,
          10.200559616088867,
          7.863160133361816,
          10.239079475402832,
          10.930254936218262,
          6.818355083465576,
          10.147663116455078,
          9.310185432434082,
          8.347610473632812,
          8.876673698425293,
          8.539607048034668,
          7.500925540924072,
          9.72470474243164,
          11.753585815429688,
          7.218343257904053,
          8.597245216369629,
          6.168297290802002,
          8.458971977233887,
          10.643004417419434,
          9.875469207763672,
          7.550469875335693,
          7.409113883972168,
          7.968671798706055,
          6.9513983726501465,
          10.860651016235352,
          9.263513565063477,
          9.019079208374023,
          6.612273693084717,
          9.693743705749512,
          5.005358695983887,
          8.025642395019531,
          11.581974029541016,
          9.521848678588867,
          9.037278175354004,
          9.875656127929688,
          9.917401313781738,
          8.073629379272461,
          6.054006576538086,
          10.573273658752441,
          6.70681619644165,
          4.431120872497559,
          8.011148452758789,
          6.2529072761535645,
          10.439823150634766,
          6.482537269592285,
          9.158208847045898,
          9.349851608276367,
          10.747977256774902,
          6.014398574829102,
          7.699920654296875,
          11.574864387512207,
          8.28294849395752,
          7.930478096008301,
          10.875596046447754,
          9.12993335723877,
          10.372456550598145,
          9.548818588256836,
          8.870539665222168,
          4.921149253845215,
          9.572006225585938,
          7.94002103805542,
          8.879213333129883,
          8.914462089538574,
          8.289898872375488,
          9.8637113571167,
          9.067713737487793,
          6.451340198516846,
          9.910900115966797,
          10.342264175415039,
          11.763749122619629,
          7.258951663970947,
          11.581415176391602,
          11.595850944519043,
          10.968292236328125,
          7.31380558013916,
          9.67186164855957,
          10.918889045715332,
          10.263608932495117,
          7.286172389984131,
          9.907394409179688,
          11.832857131958008
         ]
        },
        {
         "marker": {
          "color": "lightskyblue",
          "line": {
           "color": "midnightblue",
           "width": 1
          },
          "size": 15,
          "symbol": "star"
         },
         "mode": "markers",
         "showlegend": true,
         "text": [
          "Artist Name: KISS </br> Song Name: Rock And Roll All Nite",
          "Artist Name: Eagles </br> Song Name: Hotel California - 2013 Remaster",
          "Artist Name: AC/DC </br> Song Name: You Shook Me All Night Long",
          "Artist Name: Don Henley </br> Song Name: The Boys Of Summer"
         ],
         "type": "scatter",
         "x": [
          9.271198272705078,
          8.467327117919922,
          8.441089630126953,
          6.525155544281006
         ],
         "y": [
          11.350353240966797,
          10.190359115600586,
          7.100666046142578,
          5.865781784057617
         ]
        }
       ],
       "layout": {
        "height": 400,
        "hoverlabel": {
         "bgcolor": "white",
         "font": {
          "family": "Rockwell",
          "size": 16
         },
         "namelength": -1
        },
        "margin": {
         "b": 20,
         "l": 20,
         "r": 20,
         "t": 30
        },
        "plot_bgcolor": "#ffffff",
        "template": {
         "data": {
          "bar": [
           {
            "error_x": {
             "color": "#2a3f5f"
            },
            "error_y": {
             "color": "#2a3f5f"
            },
            "marker": {
             "line": {
              "color": "#E5ECF6",
              "width": 0.5
             },
             "pattern": {
              "fillmode": "overlay",
              "size": 10,
              "solidity": 0.2
             }
            },
            "type": "bar"
           }
          ],
          "barpolar": [
           {
            "marker": {
             "line": {
              "color": "#E5ECF6",
              "width": 0.5
             },
             "pattern": {
              "fillmode": "overlay",
              "size": 10,
              "solidity": 0.2
             }
            },
            "type": "barpolar"
           }
          ],
          "carpet": [
           {
            "aaxis": {
             "endlinecolor": "#2a3f5f",
             "gridcolor": "white",
             "linecolor": "white",
             "minorgridcolor": "white",
             "startlinecolor": "#2a3f5f"
            },
            "baxis": {
             "endlinecolor": "#2a3f5f",
             "gridcolor": "white",
             "linecolor": "white",
             "minorgridcolor": "white",
             "startlinecolor": "#2a3f5f"
            },
            "type": "carpet"
           }
          ],
          "choropleth": [
           {
            "colorbar": {
             "outlinewidth": 0,
             "ticks": ""
            },
            "type": "choropleth"
           }
          ],
          "contour": [
           {
            "colorbar": {
             "outlinewidth": 0,
             "ticks": ""
            },
            "colorscale": [
             [
              0,
              "#0d0887"
             ],
             [
              0.1111111111111111,
              "#46039f"
             ],
             [
              0.2222222222222222,
              "#7201a8"
             ],
             [
              0.3333333333333333,
              "#9c179e"
             ],
             [
              0.4444444444444444,
              "#bd3786"
             ],
             [
              0.5555555555555556,
              "#d8576b"
             ],
             [
              0.6666666666666666,
              "#ed7953"
             ],
             [
              0.7777777777777778,
              "#fb9f3a"
             ],
             [
              0.8888888888888888,
              "#fdca26"
             ],
             [
              1,
              "#f0f921"
             ]
            ],
            "type": "contour"
           }
          ],
          "contourcarpet": [
           {
            "colorbar": {
             "outlinewidth": 0,
             "ticks": ""
            },
            "type": "contourcarpet"
           }
          ],
          "heatmap": [
           {
            "colorbar": {
             "outlinewidth": 0,
             "ticks": ""
            },
            "colorscale": [
             [
              0,
              "#0d0887"
             ],
             [
              0.1111111111111111,
              "#46039f"
             ],
             [
              0.2222222222222222,
              "#7201a8"
             ],
             [
              0.3333333333333333,
              "#9c179e"
             ],
             [
              0.4444444444444444,
              "#bd3786"
             ],
             [
              0.5555555555555556,
              "#d8576b"
             ],
             [
              0.6666666666666666,
              "#ed7953"
             ],
             [
              0.7777777777777778,
              "#fb9f3a"
             ],
             [
              0.8888888888888888,
              "#fdca26"
             ],
             [
              1,
              "#f0f921"
             ]
            ],
            "type": "heatmap"
           }
          ],
          "heatmapgl": [
           {
            "colorbar": {
             "outlinewidth": 0,
             "ticks": ""
            },
            "colorscale": [
             [
              0,
              "#0d0887"
             ],
             [
              0.1111111111111111,
              "#46039f"
             ],
             [
              0.2222222222222222,
              "#7201a8"
             ],
             [
              0.3333333333333333,
              "#9c179e"
             ],
             [
              0.4444444444444444,
              "#bd3786"
             ],
             [
              0.5555555555555556,
              "#d8576b"
             ],
             [
              0.6666666666666666,
              "#ed7953"
             ],
             [
              0.7777777777777778,
              "#fb9f3a"
             ],
             [
              0.8888888888888888,
              "#fdca26"
             ],
             [
              1,
              "#f0f921"
             ]
            ],
            "type": "heatmapgl"
           }
          ],
          "histogram": [
           {
            "marker": {
             "pattern": {
              "fillmode": "overlay",
              "size": 10,
              "solidity": 0.2
             }
            },
            "type": "histogram"
           }
          ],
          "histogram2d": [
           {
            "colorbar": {
             "outlinewidth": 0,
             "ticks": ""
            },
            "colorscale": [
             [
              0,
              "#0d0887"
             ],
             [
              0.1111111111111111,
              "#46039f"
             ],
             [
              0.2222222222222222,
              "#7201a8"
             ],
             [
              0.3333333333333333,
              "#9c179e"
             ],
             [
              0.4444444444444444,
              "#bd3786"
             ],
             [
              0.5555555555555556,
              "#d8576b"
             ],
             [
              0.6666666666666666,
              "#ed7953"
             ],
             [
              0.7777777777777778,
              "#fb9f3a"
             ],
             [
              0.8888888888888888,
              "#fdca26"
             ],
             [
              1,
              "#f0f921"
             ]
            ],
            "type": "histogram2d"
           }
          ],
          "histogram2dcontour": [
           {
            "colorbar": {
             "outlinewidth": 0,
             "ticks": ""
            },
            "colorscale": [
             [
              0,
              "#0d0887"
             ],
             [
              0.1111111111111111,
              "#46039f"
             ],
             [
              0.2222222222222222,
              "#7201a8"
             ],
             [
              0.3333333333333333,
              "#9c179e"
             ],
             [
              0.4444444444444444,
              "#bd3786"
             ],
             [
              0.5555555555555556,
              "#d8576b"
             ],
             [
              0.6666666666666666,
              "#ed7953"
             ],
             [
              0.7777777777777778,
              "#fb9f3a"
             ],
             [
              0.8888888888888888,
              "#fdca26"
             ],
             [
              1,
              "#f0f921"
             ]
            ],
            "type": "histogram2dcontour"
           }
          ],
          "mesh3d": [
           {
            "colorbar": {
             "outlinewidth": 0,
             "ticks": ""
            },
            "type": "mesh3d"
           }
          ],
          "parcoords": [
           {
            "line": {
             "colorbar": {
              "outlinewidth": 0,
              "ticks": ""
             }
            },
            "type": "parcoords"
           }
          ],
          "pie": [
           {
            "automargin": true,
            "type": "pie"
           }
          ],
          "scatter": [
           {
            "marker": {
             "colorbar": {
              "outlinewidth": 0,
              "ticks": ""
             }
            },
            "type": "scatter"
           }
          ],
          "scatter3d": [
           {
            "line": {
             "colorbar": {
              "outlinewidth": 0,
              "ticks": ""
             }
            },
            "marker": {
             "colorbar": {
              "outlinewidth": 0,
              "ticks": ""
             }
            },
            "type": "scatter3d"
           }
          ],
          "scattercarpet": [
           {
            "marker": {
             "colorbar": {
              "outlinewidth": 0,
              "ticks": ""
             }
            },
            "type": "scattercarpet"
           }
          ],
          "scattergeo": [
           {
            "marker": {
             "colorbar": {
              "outlinewidth": 0,
              "ticks": ""
             }
            },
            "type": "scattergeo"
           }
          ],
          "scattergl": [
           {
            "marker": {
             "colorbar": {
              "outlinewidth": 0,
              "ticks": ""
             }
            },
            "type": "scattergl"
           }
          ],
          "scattermapbox": [
           {
            "marker": {
             "colorbar": {
              "outlinewidth": 0,
              "ticks": ""
             }
            },
            "type": "scattermapbox"
           }
          ],
          "scatterpolar": [
           {
            "marker": {
             "colorbar": {
              "outlinewidth": 0,
              "ticks": ""
             }
            },
            "type": "scatterpolar"
           }
          ],
          "scatterpolargl": [
           {
            "marker": {
             "colorbar": {
              "outlinewidth": 0,
              "ticks": ""
             }
            },
            "type": "scatterpolargl"
           }
          ],
          "scatterternary": [
           {
            "marker": {
             "colorbar": {
              "outlinewidth": 0,
              "ticks": ""
             }
            },
            "type": "scatterternary"
           }
          ],
          "surface": [
           {
            "colorbar": {
             "outlinewidth": 0,
             "ticks": ""
            },
            "colorscale": [
             [
              0,
              "#0d0887"
             ],
             [
              0.1111111111111111,
              "#46039f"
             ],
             [
              0.2222222222222222,
              "#7201a8"
             ],
             [
              0.3333333333333333,
              "#9c179e"
             ],
             [
              0.4444444444444444,
              "#bd3786"
             ],
             [
              0.5555555555555556,
              "#d8576b"
             ],
             [
              0.6666666666666666,
              "#ed7953"
             ],
             [
              0.7777777777777778,
              "#fb9f3a"
             ],
             [
              0.8888888888888888,
              "#fdca26"
             ],
             [
              1,
              "#f0f921"
             ]
            ],
            "type": "surface"
           }
          ],
          "table": [
           {
            "cells": {
             "fill": {
              "color": "#EBF0F8"
             },
             "line": {
              "color": "white"
             }
            },
            "header": {
             "fill": {
              "color": "#C8D4E3"
             },
             "line": {
              "color": "white"
             }
            },
            "type": "table"
           }
          ]
         },
         "layout": {
          "annotationdefaults": {
           "arrowcolor": "#2a3f5f",
           "arrowhead": 0,
           "arrowwidth": 1
          },
          "autotypenumbers": "strict",
          "coloraxis": {
           "colorbar": {
            "outlinewidth": 0,
            "ticks": ""
           }
          },
          "colorscale": {
           "diverging": [
            [
             0,
             "#8e0152"
            ],
            [
             0.1,
             "#c51b7d"
            ],
            [
             0.2,
             "#de77ae"
            ],
            [
             0.3,
             "#f1b6da"
            ],
            [
             0.4,
             "#fde0ef"
            ],
            [
             0.5,
             "#f7f7f7"
            ],
            [
             0.6,
             "#e6f5d0"
            ],
            [
             0.7,
             "#b8e186"
            ],
            [
             0.8,
             "#7fbc41"
            ],
            [
             0.9,
             "#4d9221"
            ],
            [
             1,
             "#276419"
            ]
           ],
           "sequential": [
            [
             0,
             "#0d0887"
            ],
            [
             0.1111111111111111,
             "#46039f"
            ],
            [
             0.2222222222222222,
             "#7201a8"
            ],
            [
             0.3333333333333333,
             "#9c179e"
            ],
            [
             0.4444444444444444,
             "#bd3786"
            ],
            [
             0.5555555555555556,
             "#d8576b"
            ],
            [
             0.6666666666666666,
             "#ed7953"
            ],
            [
             0.7777777777777778,
             "#fb9f3a"
            ],
            [
             0.8888888888888888,
             "#fdca26"
            ],
            [
             1,
             "#f0f921"
            ]
           ],
           "sequentialminus": [
            [
             0,
             "#0d0887"
            ],
            [
             0.1111111111111111,
             "#46039f"
            ],
            [
             0.2222222222222222,
             "#7201a8"
            ],
            [
             0.3333333333333333,
             "#9c179e"
            ],
            [
             0.4444444444444444,
             "#bd3786"
            ],
            [
             0.5555555555555556,
             "#d8576b"
            ],
            [
             0.6666666666666666,
             "#ed7953"
            ],
            [
             0.7777777777777778,
             "#fb9f3a"
            ],
            [
             0.8888888888888888,
             "#fdca26"
            ],
            [
             1,
             "#f0f921"
            ]
           ]
          },
          "colorway": [
           "#636efa",
           "#EF553B",
           "#00cc96",
           "#ab63fa",
           "#FFA15A",
           "#19d3f3",
           "#FF6692",
           "#B6E880",
           "#FF97FF",
           "#FECB52"
          ],
          "font": {
           "color": "#2a3f5f"
          },
          "geo": {
           "bgcolor": "white",
           "lakecolor": "white",
           "landcolor": "#E5ECF6",
           "showlakes": true,
           "showland": true,
           "subunitcolor": "white"
          },
          "hoverlabel": {
           "align": "left"
          },
          "hovermode": "closest",
          "mapbox": {
           "style": "light"
          },
          "paper_bgcolor": "white",
          "plot_bgcolor": "#E5ECF6",
          "polar": {
           "angularaxis": {
            "gridcolor": "white",
            "linecolor": "white",
            "ticks": ""
           },
           "bgcolor": "#E5ECF6",
           "radialaxis": {
            "gridcolor": "white",
            "linecolor": "white",
            "ticks": ""
           }
          },
          "scene": {
           "xaxis": {
            "backgroundcolor": "#E5ECF6",
            "gridcolor": "white",
            "gridwidth": 2,
            "linecolor": "white",
            "showbackground": true,
            "ticks": "",
            "zerolinecolor": "white"
           },
           "yaxis": {
            "backgroundcolor": "#E5ECF6",
            "gridcolor": "white",
            "gridwidth": 2,
            "linecolor": "white",
            "showbackground": true,
            "ticks": "",
            "zerolinecolor": "white"
           },
           "zaxis": {
            "backgroundcolor": "#E5ECF6",
            "gridcolor": "white",
            "gridwidth": 2,
            "linecolor": "white",
            "showbackground": true,
            "ticks": "",
            "zerolinecolor": "white"
           }
          },
          "shapedefaults": {
           "line": {
            "color": "#2a3f5f"
           }
          },
          "ternary": {
           "aaxis": {
            "gridcolor": "white",
            "linecolor": "white",
            "ticks": ""
           },
           "baxis": {
            "gridcolor": "white",
            "linecolor": "white",
            "ticks": ""
           },
           "bgcolor": "#E5ECF6",
           "caxis": {
            "gridcolor": "white",
            "linecolor": "white",
            "ticks": ""
           }
          },
          "title": {
           "x": 0.05
          },
          "xaxis": {
           "automargin": true,
           "gridcolor": "white",
           "linecolor": "white",
           "ticks": "",
           "title": {
            "standoff": 15
           },
           "zerolinecolor": "white",
           "zerolinewidth": 2
          },
          "yaxis": {
           "automargin": true,
           "gridcolor": "white",
           "linecolor": "white",
           "ticks": "",
           "title": {
            "standoff": 15
           },
           "zerolinecolor": "white",
           "zerolinewidth": 2
          }
         }
        },
        "title": {
         "font": {
          "size": 20
         }
        },
        "width": 800,
        "xaxis": {
         "autorange": true,
         "range": [
          3.187214622121365,
          12.191479673761814
         ],
         "type": "linear"
        },
        "yaxis": {
         "autorange": true,
         "range": [
          3.810425964864222,
          12.394966395823033
         ],
         "type": "linear"
        }
       }
      }
     },
     "metadata": {},
     "output_type": "display_data"
    }
   ],
   "source": [
    "plot_embedding(df, umap_embedding, clusters_2d, artist_indexes, outpath=\"images/umap_2d_second_take.png\")\n"
   ]
  },
  {
   "cell_type": "markdown",
   "id": "6ab4f68e",
   "metadata": {},
   "source": [
    "![2d_embed](images/umap_2d_second_take.png)\n",
    "\n",
    "Interestingly, now all of the tracks are pretty far away from each other. Does this make this representation meaningless? I think the answer is no. Looking around the chart on the far left, I found 'Crying' by Roy Orbison next to 'River' by Joni Mitchell and 'Yesterday' by the Beatles. On the far right, I see a bunch of rap songs like 'The Message' by Grandmaster Flash and 'Nuthin But a 'G' Thang' by Dr Dre. These actually kind of track. What looks less good in this group are the actual cluster assignments, which don't seem to contribute much knowledge at all. In a future implementation, I'd like to try this again using Kmeans or HDBSCAN, or maybe just by using the song rank. It would also be nice to see what features have the most influence on the structure of this embedding. I know I could find this if I had used PCA to create my embedding, but I'll leave doing it to another post. In the meantime, let's look at the 3D embedding."
   ]
  },
  {
   "cell_type": "code",
   "execution_count": 87,
   "id": "1b310dd3-55e0-4e67-9918-c093db2dd76a",
   "metadata": {},
   "outputs": [
    {
     "data": {
      "application/vnd.plotly.v1+json": {
       "config": {
        "plotlyServerURL": "https://plot.ly"
       },
       "data": [
        {
         "marker": {
          "color": [
           0,
           1,
           2,
           -1,
           3,
           4,
           5,
           6,
           3,
           12,
           -1,
           7,
           8,
           -1,
           0,
           0,
           10,
           4,
           4,
           9,
           13,
           -1,
           -1,
           10,
           9,
           4,
           10,
           9,
           9,
           6,
           9,
           4,
           9,
           12,
           4,
           10,
           9,
           11,
           9,
           3,
           0,
           11,
           10,
           4,
           8,
           5,
           1,
           0,
           9,
           0,
           -1,
           12,
           13,
           -1,
           12,
           14,
           0,
           12,
           12,
           3,
           9,
           -1,
           0,
           14,
           10,
           4,
           4,
           14,
           10,
           11,
           13,
           15,
           6,
           16,
           0,
           -1,
           16,
           12,
           0,
           12,
           15,
           10,
           10,
           4,
           12,
           4,
           14,
           -1,
           4,
           10,
           6,
           12,
           9,
           17,
           0,
           9,
           4,
           10,
           10,
           -1,
           12,
           7,
           4,
           16,
           5,
           10,
           12,
           16,
           -1,
           4,
           -1,
           10,
           0,
           12,
           11,
           10,
           10,
           4,
           15,
           7,
           12,
           6,
           17,
           12,
           15,
           9,
           15,
           -1,
           3,
           4,
           9,
           14,
           6,
           5,
           15,
           12,
           15,
           4,
           -1,
           15,
           4,
           6,
           12,
           10,
           4,
           4,
           4,
           4,
           -1,
           4,
           5,
           14,
           -1,
           9,
           10,
           11,
           12,
           -1,
           -1,
           -1,
           10,
           10,
           14,
           -1,
           6,
           -1,
           -1,
           11,
           14,
           -1,
           0,
           16,
           6,
           4,
           17,
           12,
           6,
           3,
           3,
           4,
           10,
           -1,
           11,
           9,
           -1,
           -1,
           6,
           4,
           6,
           14,
           15,
           -1,
           4,
           10,
           10,
           15,
           7,
           10,
           3,
           -1,
           12,
           11,
           -1,
           18,
           12,
           -1,
           4,
           6,
           16,
           5,
           -1,
           6,
           4,
           -1,
           -1,
           10,
           3,
           3,
           8,
           -1,
           9,
           6,
           11,
           4,
           12,
           3,
           0,
           3,
           -1,
           5,
           7,
           5,
           11,
           13,
           7,
           12,
           14,
           3,
           3,
           10,
           0,
           14,
           11,
           -1,
           7,
           9,
           5,
           3,
           -1,
           10,
           7,
           12,
           0,
           3,
           18,
           12,
           7,
           3,
           11,
           0,
           -1,
           12,
           0,
           2,
           3,
           7,
           10,
           4,
           4,
           4,
           -1,
           3,
           -1,
           4,
           14,
           3,
           15,
           0,
           9,
           18,
           -1,
           6,
           -1,
           4,
           11,
           0,
           15,
           14,
           6,
           8,
           -1,
           11,
           12,
           0,
           -1,
           4,
           -1,
           -1,
           3,
           11,
           5,
           5,
           4,
           4,
           0,
           3,
           9,
           9,
           0,
           9,
           0,
           5,
           6,
           1,
           4,
           4,
           6,
           9,
           6,
           -1,
           3,
           9,
           0,
           4,
           10,
           3,
           14,
           7,
           -1,
           3,
           3,
           15,
           -1,
           -1,
           6,
           3,
           3,
           3,
           3,
           10,
           9,
           6,
           7,
           12,
           4,
           4,
           15,
           10,
           4,
           5,
           4,
           9,
           15,
           11,
           -1,
           16,
           7,
           4,
           9,
           15,
           4,
           6,
           6,
           -1,
           9,
           -1,
           4,
           6,
           0,
           9,
           8,
           6,
           0,
           4,
           10,
           17,
           11,
           10,
           3,
           5,
           14,
           -1,
           6,
           9,
           13,
           3,
           10,
           10,
           10,
           1,
           5,
           10,
           12,
           0,
           0,
           9,
           11,
           6,
           -1,
           -1,
           3,
           10,
           9,
           9,
           0,
           14,
           3,
           12,
           11,
           -1,
           3,
           12,
           12,
           7,
           10,
           10,
           9,
           18,
           12,
           7,
           18,
           6,
           14,
           4,
           9,
           14,
           5,
           0,
           3,
           -1,
           -1,
           8,
           4,
           9,
           3,
           10,
           12,
           15,
           5,
           9,
           9,
           0,
           9,
           15,
           16,
           6,
           9,
           8,
           7,
           3,
           4,
           13,
           16,
           5,
           -1,
           0,
           10,
           15,
           9,
           7,
           12,
           10,
           2,
           10,
           6,
           1,
           -1,
           11,
           0,
           4,
           6,
           0,
           4,
           12,
           2,
           8,
           -1,
           7,
           14,
           3,
           6,
           3,
           -1,
           5,
           16,
           11,
           5,
           15,
           4,
           9,
           4,
           4,
           4,
           9,
           -1,
           4,
           15,
           9,
           13,
           4
          ],
          "line": {
           "color": "black",
           "width": 1
          },
          "opacity": 0.75,
          "size": 10
         },
         "mode": "markers",
         "text": [
          "Artist Name: Kanye West </br> Song Name: Stronger",
          "Artist Name: The Supremes </br> Song Name: Baby Love",
          "Artist Name: Townes Van Zandt </br> Song Name: Poncho & Lefty",
          "Artist Name: Lizzo </br> Song Name: Truth Hurts",
          "Artist Name: Harry Nilsson </br> Song Name: Without You",
          "Artist Name: Carly Simon </br> Song Name: You're so Vain",
          "Artist Name: Cyndi Lauper </br> Song Name: Time After Time",
          "Artist Name: Pixies </br> Song Name: Where Is My Mind?",
          "Artist Name: Miles Davis </br> Song Name: So What",
          "Artist Name: Guns N' Roses </br> Song Name: Welcome To The Jungle",
          "Artist Name: Lil Nas X </br> Song Name: Old Town Road",
          "Artist Name: The Breeders </br> Song Name: Cannonball",
          "Artist Name: The Weeknd </br> Song Name: House Of Balloons / Glass Table Girls - Original",
          "Artist Name: Solange </br> Song Name: Cranes in the Sky",
          "Artist Name: Lil Wayne </br> Song Name: A Milli",
          "Artist Name: Azealia Banks </br> Song Name: 212",
          "Artist Name: Weezer </br> Song Name: Buddy Holly",
          "Artist Name: Four Tops </br> Song Name: I Can't Help Myself (Sugar Pie, Honey Bunch)",
          "Artist Name: Lady Gaga </br> Song Name: Bad Romance",
          "Artist Name: Robert Johnson </br> Song Name: Cross Road Blues",
          "Artist Name: Biz Markie </br> Song Name: Just a Friend",
          "Artist Name: Santana </br> Song Name: Oye Como Va",
          "Artist Name: JUVENILE </br> Song Name: Back That Azz Up",
          "Artist Name: The Go-Go's </br> Song Name: Our Lips Are Sealed - Single Version",
          "Artist Name: Kris Kristofferson </br> Song Name: Sunday Mornin' Comin' Down",
          "Artist Name: Janet Jackson </br> Song Name: Rhythm Nation",
          "Artist Name: Curtis Mayfield </br> Song Name: Move on Up - Single Edit",
          "Artist Name: Tammy Wynette </br> Song Name: Stand By Your Man",
          "Artist Name: Peter Gabriel </br> Song Name: Solsbury Hill",
          "Artist Name: The Animals </br> Song Name: House of the Rising Sun",
          "Artist Name: Gladys Knight & The Pips </br> Song Name: Midnight Train to Georgia",
          "Artist Name: The Chicks </br> Song Name: Goodbye Earl",
          "Artist Name: Mazzy Star </br> Song Name: Fade Into You",
          "Artist Name: Nirvana </br> Song Name: Come As You Are",
          "Artist Name: Luther Vandross </br> Song Name: Never Too Much",
          "Artist Name: Daft Punk </br> Song Name: Get Lucky (feat. Pharrell Williams & Nile Rodgers) - Radio Edit",
          "Artist Name: Joni Mitchell </br> Song Name: Help Me",
          "Artist Name: John Lee Hooker </br> Song Name: Boom Boom",
          "Artist Name: Van Morrison </br> Song Name: Into the Mystic - 2013 Remaster",
          "Artist Name: Roy Orbison </br> Song Name: Crying",
          "Artist Name: Steel Pulse </br> Song Name: Ku Klux Klan",
          "Artist Name: Sade </br> Song Name: No Ordinary Love",
          "Artist Name: Beck </br> Song Name: Loser",
          "Artist Name: Bon Jovi </br> Song Name: Livin' On A Prayer",
          "Artist Name: Lana Del Rey </br> Song Name: Summertime Sadness",
          "Artist Name: Jefferson Airplane </br> Song Name: White Rabbit",
          "Artist Name: Sister Nancy </br> Song Name: Bam Bam",
          "Artist Name: Missy Elliott </br> Song Name: The Rain (Supa Dupa Fly)",
          "Artist Name: TOTO </br> Song Name: Africa",
          "Artist Name: Migos </br> Song Name: Bad and Boujee (feat. Lil Uzi Vert)",
          "Artist Name: Neil Young </br> Song Name: Powderfinger - 2016 Remaster",
          "Artist Name: Blue Öyster Cult </br> Song Name: (Don't Fear) The Reaper",
          "Artist Name: Erykah Badu </br> Song Name: Tyrone - Extended Version",
          "Artist Name: The Beatles </br> Song Name: Help!",
          "Artist Name: Bruce Springsteen </br> Song Name: Rosalita (Come Out Tonight)",
          "Artist Name: T. Rex </br> Song Name: Cosmic Dancer",
          "Artist Name: 50 Cent </br> Song Name: In Da Club",
          "Artist Name: Fall Out Boy </br> Song Name: Sugar, We're Goin Down",
          "Artist Name: Motörhead </br> Song Name: Ace of Spades",
          "Artist Name: Miranda Lambert </br> Song Name: The House That Built Me",
          "Artist Name: Alicia Keys </br> Song Name: If I Ain't Got You",
          "Artist Name: Celia Cruz </br> Song Name: La Vida Es Un Carnaval",
          "Artist Name: Megan Thee Stallion </br> Song Name: Savage Remix (feat. Beyoncé)",
          "Artist Name: Lucinda Williams </br> Song Name: Passionate Kisses",
          "Artist Name: Carly Rae Jepsen </br> Song Name: Call Me Maybe",
          "Artist Name: Rush </br> Song Name: Limelight",
          "Artist Name: Ramones </br> Song Name: Sheena Is a Punk Rocker - 2017 Remaster",
          "Artist Name: Pet Shop Boys </br> Song Name: West End Girls",
          "Artist Name: Eddie Cochran </br> Song Name: Summertime Blues",
          "Artist Name: Prince </br> Song Name: Adore",
          "Artist Name: Pete Rock & C.L. Smooth </br> Song Name: They Reminisce Over You (T.R.O.Y.)",
          "Artist Name: Queen </br> Song Name: Under Pressure - Remastered 2011",
          "Artist Name: Harry Styles </br> Song Name: Sign of the Times",
          "Artist Name: The Sugarhill Gang </br> Song Name: Rapper's Delight - Single Version",
          "Artist Name: Nicki Minaj </br> Song Name: Super Bass",
          "Artist Name: Muddy Waters </br> Song Name: Mannish Boy",
          "Artist Name: Blackstreet </br> Song Name: No Diggity",
          "Artist Name: Fiona Apple </br> Song Name: Criminal",
          "Artist Name: Craig Mack </br> Song Name: Flava in Ya Ear",
          "Artist Name: The Smiths </br> Song Name: How Soon Is Now? - 2011 Remaster",
          "Artist Name: The Mamas & The Papas </br> Song Name: California Dreamin'",
          "Artist Name: Mariah Carey </br> Song Name: Fantasy",
          "Artist Name: Booker T. & the M.G.'s </br> Song Name: Green Onions",
          "Artist Name: Mark Ronson </br> Song Name: Uptown Funk (feat. Bruno Mars)",
          "Artist Name: Pearl Jam </br> Song Name: Alive",
          "Artist Name: Depeche Mode </br> Song Name: Enjoy the Silence",
          "Artist Name: Blondie </br> Song Name: Dreaming",
          "Artist Name: Them </br> Song Name: Gloria",
          "Artist Name: Neneh Cherry </br> Song Name: Buffalo Stance",
          "Artist Name: Wilco </br> Song Name: Heavy Metal Drummer",
          "Artist Name: Allman Brothers Band </br> Song Name: Whipping Post",
          "Artist Name: Foo Fighters </br> Song Name: Everlong",
          "Artist Name: Yusuf / Cat Stevens </br> Song Name: Father And Son",
          "Artist Name: Lynyrd Skynyrd </br> Song Name: Free Bird",
          "Artist Name: Run–D.M.C. </br> Song Name: Sucker M.C.'s",
          "Artist Name: Selena </br> Song Name: Amor Prohibido",
          "Artist Name: KISS </br> Song Name: Rock And Roll All Nite",
          "Artist Name: Rufus </br> Song Name: Ain't Nobody",
          "Artist Name: Bill Withers </br> Song Name: Lovely Day",
          "Artist Name: Fleetwood Mac </br> Song Name: Go Your Own Way - 2004 Remaster",
          "Artist Name: David Bowie </br> Song Name: Station to Station - 2016 Remaster",
          "Artist Name: Sylvester </br> Song Name: You Make Me Feel (Mighty Real)",
          "Artist Name: Duran Duran </br> Song Name: Hungry Like the Wolf - 2009 Remaster",
          "Artist Name: Public Enemy </br> Song Name: Bring The Noise",
          "Artist Name: Elvis Costello </br> Song Name: Alison",
          "Artist Name: Afrika Bambaataa </br> Song Name: Planet Rock",
          "Artist Name: Jeff Buckley </br> Song Name: Grace",
          "Artist Name: James Brown </br> Song Name: Say It Loud - I'm Black And I'm Proud - Pt. 1",
          "Artist Name: Coldplay </br> Song Name: Fix You",
          "Artist Name: Eric Church </br> Song Name: Springsteen",
          "Artist Name: Metallica </br> Song Name: Enter Sandman",
          "Artist Name: Pretenders </br> Song Name: Brass in Pocket - 2006 Remaster",
          "Artist Name: DMX </br> Song Name: Party Up",
          "Artist Name: New York Dolls </br> Song Name: Personality Crisis",
          "Artist Name: The Kinks </br> Song Name: Lola",
          "Artist Name: Diana Ross </br> Song Name: I'm Coming Out",
          "Artist Name: Cardi B </br> Song Name: I Like It",
          "Artist Name: Childish Gambino </br> Song Name: Redbone",
          "Artist Name: Fiona Apple </br> Song Name: Paper Bag",
          "Artist Name: The Slits </br> Song Name: Typical Girls",
          "Artist Name: Fountains Of Wayne </br> Song Name: Radiation Vibe",
          "Artist Name: D'Angelo </br> Song Name: Untitled (How Does It Feel)",
          "Artist Name: The Killers </br> Song Name: Mr. Brightside",
          "Artist Name: The Cure </br> Song Name: Pictures Of You - Remastered",
          "Artist Name: Merle Haggard </br> Song Name: Mama Tried",
          "Artist Name: The Drifters </br> Song Name: Up on the Roof",
          "Artist Name: William DeVaughn </br> Song Name: Be Thankful for What You Got (Pt. 1 & Pt. 2)",
          "Artist Name: Drake </br> Song Name: Hotline Bling",
          "Artist Name: Bonnie Raitt </br> Song Name: I Can't Make You Love Me",
          "Artist Name: Elton John </br> Song Name: Bennie And The Jets - Remastered 2014",
          "Artist Name: Buddy Holly </br> Song Name: Peggy Sue",
          "Artist Name: The Cars </br> Song Name: Just What I Needed",
          "Artist Name: Soundgarden </br> Song Name: Black Hole Sun",
          "Artist Name: Frank Ocean </br> Song Name: Thinkin Bout You",
          "Artist Name: The Crystals </br> Song Name: Da Doo Ron Ron (When He Walked Me Home)",
          "Artist Name: Sex Pistols </br> Song Name: God Save The Queen",
          "Artist Name: Grateful Dead </br> Song Name: Box of Rain - 2013 Remaster",
          "Artist Name: Bob Marley & The Wailers </br> Song Name: Could You Be Loved",
          "Artist Name: Kacey Musgraves </br> Song Name: Merry Go 'Round",
          "Artist Name: Jimmy Cliff </br> Song Name: The Harder They Come",
          "Artist Name: Prince </br> Song Name: Little Red Corvette",
          "Artist Name: Fugees </br> Song Name: Killing Me Softly With His Song",
          "Artist Name: Patti Smith </br> Song Name: Because the Night",
          "Artist Name: Taylor Swift </br> Song Name: Blank Space",
          "Artist Name: Cheap Trick </br> Song Name: Surrender",
          "Artist Name: Thelma Houston </br> Song Name: Don't Leave Me This Way",
          "Artist Name: Michael Jackson </br> Song Name: Rock with You - Single Version",
          "Artist Name: Eurythmics </br> Song Name: Sweet Dreams (Are Made of This) - Remastered",
          "Artist Name: Ice Cube </br> Song Name: It Was A Good Day",
          "Artist Name: Jorge Ben Jor </br> Song Name: Ponta De Lança Africano",
          "Artist Name: John Prine </br> Song Name: Angel from Montgomery",
          "Artist Name: The Zombies </br> Song Name: Time of the Season",
          "Artist Name: Roxy Music </br> Song Name: Virginia Plain",
          "Artist Name: Elvis Presley </br> Song Name: Heartbreak Hotel",
          "Artist Name: BTS </br> Song Name: Dynamite",
          "Artist Name: Carole King </br> Song Name: It's Too Late",
          "Artist Name: Black Sabbath </br> Song Name: Iron Man",
          "Artist Name: The Doobie Brothers </br> Song Name: What a Fool Believes",
          "Artist Name: Chuck Berry </br> Song Name: Promised Land",
          "Artist Name: The Monkees </br> Song Name: I'm a Believer",
          "Artist Name: The Clash </br> Song Name: (White Man) in Hammersmith Palais",
          "Artist Name: Prince </br> Song Name: 1999",
          "Artist Name: Black Sabbath </br> Song Name: Paranoid",
          "Artist Name: Cher </br> Song Name: Believe",
          "Artist Name: Daryl Hall & John Oates </br> Song Name: She's Gone",
          "Artist Name: Marshall Jefferson </br> Song Name: Move Your Body",
          "Artist Name: Grateful Dead </br> Song Name: Ripple - 2020 Remaster",
          "Artist Name: The Temptations </br> Song Name: Papa Was A Rollin' Stone - Single Version",
          "Artist Name: Rihanna </br> Song Name: Umbrella",
          "Artist Name: The Marvelettes </br> Song Name: Please Mr. Postman - Single Version / Mono",
          "Artist Name: The Notorious B.I.G. </br> Song Name: Big Poppa - 2007 Remaster",
          "Artist Name: Bad Bunny </br> Song Name: Safaera",
          "Artist Name: Red Hot Chili Peppers </br> Song Name: Under the Bridge",
          "Artist Name: Mary J. Blige </br> Song Name: Real Love",
          "Artist Name: Rilo Kiley </br> Song Name: Portions for Foxes",
          "Artist Name: Iggy Pop </br> Song Name: Lust For Life",
          "Artist Name: Billy Joel </br> Song Name: Scenes from an Italian Restaurant",
          "Artist Name: The Everly Brothers </br> Song Name: All I Have to Do Is Dream",
          "Artist Name: Neil Young </br> Song Name: After the Gold Rush",
          "Artist Name: U2 </br> Song Name: I Still Haven't Found What I'm Looking For",
          "Artist Name: 2Pac </br> Song Name: California Love - Original Version",
          "Artist Name: Tears For Fears </br> Song Name: Everybody Wants To Rule The World",
          "Artist Name: Big Mama Thornton </br> Song Name: Hound Dog",
          "Artist Name: Bob Dylan </br> Song Name: Visions of Johanna",
          "Artist Name: The Shangri-Las </br> Song Name: Leader Of The Pack",
          "Artist Name: John Coltrane </br> Song Name: A Love Supreme, Pt. I – Acknowledgement",
          "Artist Name: The Stooges </br> Song Name: I Wanna Be Your Dog",
          "Artist Name: Smokey Robinson & The Miracles </br> Song Name: The Tears Of A Clown",
          "Artist Name: Isaac Hayes </br> Song Name: Walk On By",
          "Artist Name: Eagles </br> Song Name: Hotel California - 2013 Remaster",
          "Artist Name: The Doors </br> Song Name: Light My Fire",
          "Artist Name: Bill Withers </br> Song Name: Ain't No Sunshine",
          "Artist Name: Liz Phair </br> Song Name: Divorce Song - Remastered",
          "Artist Name: Gnarls Barkley </br> Song Name: Crazy",
          "Artist Name: Aretha Franklin </br> Song Name: Chain of Fools",
          "Artist Name: The Police </br> Song Name: Every Breath You Take",
          "Artist Name: Kraftwerk </br> Song Name: Trans-Europe Express - 2009 Remaster",
          "Artist Name: TLC </br> Song Name: No Scrubs",
          "Artist Name: Pink Floyd </br> Song Name: Wish You Were Here - 2011 Remaster",
          "Artist Name: Bob Seger </br> Song Name: Night Moves",
          "Artist Name: The B-52's </br> Song Name: Rock Lobster",
          "Artist Name: Screamin' Jay Hawkins </br> Song Name: I Put a Spell On You",
          "Artist Name: Bruce Springsteen </br> Song Name: Jungleland",
          "Artist Name: The Beach Boys </br> Song Name: Wouldn't It Be Nice",
          "Artist Name: Bikini Kill </br> Song Name: Rebel Girl",
          "Artist Name: The Who </br> Song Name: Won't Get Fooled Again - Original Album Version",
          "Artist Name: The Velvet Underground </br> Song Name: Sweet Jane",
          "Artist Name: Alice Cooper </br> Song Name: School's Out",
          "Artist Name: A Tribe Called Quest </br> Song Name: Can I Kick It?",
          "Artist Name: Phil Collins </br> Song Name: In The Air Tonight - 2015 Remastered",
          "Artist Name: Usher </br> Song Name: Yeah! (feat. Lil Jon & Ludacris)",
          "Artist Name: Bruce Springsteen </br> Song Name: Atlantic City",
          "Artist Name: Funky 4 + 1 </br> Song Name: That's the Joint",
          "Artist Name: AC/DC </br> Song Name: You Shook Me All Night Long",
          "Artist Name: ABBA </br> Song Name: Dancing Queen",
          "Artist Name: Destiny's Child </br> Song Name: Say My Name",
          "Artist Name: Leonard Cohen </br> Song Name: Suzanne",
          "Artist Name: Ray Charles </br> Song Name: Georgia on My Mind",
          "Artist Name: INXS </br> Song Name: Never Tear Us Apart",
          "Artist Name: Clipse </br> Song Name: Grindin'",
          "Artist Name: The Beatles </br> Song Name: Penny Lane",
          "Artist Name: Radiohead </br> Song Name: Karma Police",
          "Artist Name: Toots & The Maytals </br> Song Name: Pressure Drop",
          "Artist Name: Bo Diddley </br> Song Name: Bo Diddley",
          "Artist Name: Buzzcocks </br> Song Name: Ever Fallen in Love (With Someone You Shouldn't've?) - 1996 Remastered Version",
          "Artist Name: Randy Newman </br> Song Name: Sail Away - 2002 Remaster",
          "Artist Name: Al Green </br> Song Name: Love and Happiness",
          "Artist Name: Roberta Flack </br> Song Name: Killing Me Softly With His Song",
          "Artist Name: Thin Lizzy </br> Song Name: The Boys Are Back In Town",
          "Artist Name: Procol Harum </br> Song Name: A Whiter Shade of Pale - Original Single Version",
          "Artist Name: Nine Inch Nails </br> Song Name: Closer",
          "Artist Name: The Righteous Brothers </br> Song Name: Unchained Melody",
          "Artist Name: The Isley Brothers </br> Song Name: Shout, Pts. 1 & 2",
          "Artist Name: Drake </br> Song Name: Take Care",
          "Artist Name: King Tubby </br> Song Name: King Tubby Meets Rockers Uptown",
          "Artist Name: The Replacements </br> Song Name: Left of the Dial - 2008 Remaster",
          "Artist Name: Marvin Gaye </br> Song Name: Let's Get It On",
          "Artist Name: Dolly Parton </br> Song Name: Coat of Many Colors",
          "Artist Name: Paul Simon </br> Song Name: American Tune",
          "Artist Name: Curtis Mayfield </br> Song Name: Pusherman",
          "Artist Name: The Wailers </br> Song Name: Get Up, Stand Up",
          "Artist Name: Neil Young </br> Song Name: Heart of Gold - 2009 Remaster",
          "Artist Name: Gil Scott-Heron </br> Song Name: The Revolution Will Not Be Televised",
          "Artist Name: Martha Reeves & The Vandellas </br> Song Name: (Love Is Like A) Heat Wave",
          "Artist Name: Metallica </br> Song Name: Master Of Puppets",
          "Artist Name: Loretta Lynn </br> Song Name: Coal Miner's Daughter - Single Version",
          "Artist Name: The Supremes </br> Song Name: Stop! In The Name Of Love - Single Version",
          "Artist Name: Willie Nelson </br> Song Name: Blue Eyes Crying In the Rain",
          "Artist Name: Parliament </br> Song Name: Flash Light",
          "Artist Name: Gloria Gaynor </br> Song Name: I Will Survive",
          "Artist Name: Jimi Hendrix </br> Song Name: Purple Haze",
          "Artist Name: Joan Jett & the Blackhearts </br> Song Name: Bad Reputation",
          "Artist Name: N.W.A. </br> Song Name: Straight Outta Compton",
          "Artist Name: Joni Mitchell </br> Song Name: River",
          "Artist Name: Faces </br> Song Name: Ooh La La",
          "Artist Name: Beastie Boys </br> Song Name: Sabotage - Remastered 2009",
          "Artist Name: Pavement </br> Song Name: Summer Babe - Winter Version",
          "Artist Name: The Beatles </br> Song Name: Eleanor Rigby",
          "Artist Name: Jerry Lee Lewis </br> Song Name: Great Balls of Fire",
          "Artist Name: Digital Underground </br> Song Name: The Humpty Dance",
          "Artist Name: Backstreet Boys </br> Song Name: I Want It That Way",
          "Artist Name: Big Star </br> Song Name: September Gurls",
          "Artist Name: Aaliyah </br> Song Name: Are You That Somebody",
          "Artist Name: Hank Williams </br> Song Name: Your Cheatin' Heart",
          "Artist Name: Bill Withers </br> Song Name: Lean on Me",
          "Artist Name: New Order </br> Song Name: Blue Monday",
          "Artist Name: The Supremes </br> Song Name: You Keep Me Hangin' On",
          "Artist Name: Deee-Lite </br> Song Name: Groove Is in the Heart",
          "Artist Name: The Who </br> Song Name: My Generation",
          "Artist Name: Whitney Houston </br> Song Name: I Wanna Dance with Somebody (Who Loves Me)",
          "Artist Name: The Byrds </br> Song Name: Mr. Tambourine Man",
          "Artist Name: Woody Guthrie </br> Song Name: This Land is Your Land",
          "Artist Name: Beyoncé </br> Song Name: Single Ladies (Put a Ring on It)",
          "Artist Name: Creedence Clearwater Revival </br> Song Name: Fortunate Son",
          "Artist Name: The Smiths </br> Song Name: There Is a Light That Never Goes Out - 2011 Remaster",
          "Artist Name: Joni Mitchell </br> Song Name: Both Sides Now",
          "Artist Name: Derek & The Dominos </br> Song Name: Layla",
          "Artist Name: Eminem </br> Song Name: Stan",
          "Artist Name: Crosby, Stills & Nash </br> Song Name: Suite: Judy Blue Eyes - 2005 Remaster",
          "Artist Name: Ike & Tina Turner </br> Song Name: River Deep - Mountain High",
          "Artist Name: New Order </br> Song Name: Bizarre Love Triangle '94",
          "Artist Name: Tom Petty </br> Song Name: Free Fallin'",
          "Artist Name: Wilson Pickett </br> Song Name: In the Midnight Hour",
          "Artist Name: Stevie Nicks </br> Song Name: Edge of Seventeen",
          "Artist Name: Elvis Presley </br> Song Name: Jailhouse Rock",
          "Artist Name: Mobb Deep </br> Song Name: Shook Ones, Pt. II",
          "Artist Name: Steely Dan </br> Song Name: Deacon Blues",
          "Artist Name: The Rolling Stones </br> Song Name: Paint It, Black",
          "Artist Name: Boston </br> Song Name: More Than a Feeling",
          "Artist Name: U2 </br> Song Name: With Or Without You",
          "Artist Name: Funkadelic </br> Song Name: One Nation Under a Groove - Album Version - 2015 Remaster",
          "Artist Name: Don Henley </br> Song Name: The Boys Of Summer",
          "Artist Name: Hole </br> Song Name: Doll Parts",
          "Artist Name: Rage Against The Machine </br> Song Name: Killing In The Name",
          "Artist Name: Glen Campbell </br> Song Name: Wichita Lineman - Remastered 2001",
          "Artist Name: Britney Spears </br> Song Name: ...Baby One More Time",
          "Artist Name: David Bowie </br> Song Name: Young Americans - 2016 Remaster",
          "Artist Name: Stevie Wonder </br> Song Name: Signed, Sealed, Delivered (I'm Yours)",
          "Artist Name: Elton John </br> Song Name: Your Song",
          "Artist Name: Johnny Cash </br> Song Name: Ring of Fire",
          "Artist Name: David Bowie </br> Song Name: Changes - 2015 Remaster",
          "Artist Name: Aerosmith </br> Song Name: Dream On",
          "Artist Name: Marvin Gaye </br> Song Name: Sexual Healing",
          "Artist Name: Ann Peebles </br> Song Name: I Can't Stand the Rain",
          "Artist Name: James Brown </br> Song Name: Get Up I Feel Like Being A Sex Machine - Pt. 1 / Single Version",
          "Artist Name: Patsy Cline </br> Song Name: Crazy - Single Version",
          "Artist Name: PJ Harvey </br> Song Name: Rid Of Me",
          "Artist Name: The Rolling Stones </br> Song Name: Wild Horses",
          "Artist Name: Geto Boys </br> Song Name: Mind Playing Tricks on Me",
          "Artist Name: Bobbie Gentry </br> Song Name: Ode To Billie Joe",
          "Artist Name: N.W.A. </br> Song Name: Fuck Tha Police",
          "Artist Name: David Bowie </br> Song Name: Space Oddity - 2015 Remaster",
          "Artist Name: Jimi Hendrix </br> Song Name: Little Wing",
          "Artist Name: Bob Dylan </br> Song Name: Subterranean Homesick Blues",
          "Artist Name: The Staple Singers </br> Song Name: I'll Take You There",
          "Artist Name: Michael Jackson </br> Song Name: Beat It",
          "Artist Name: Sinéad O'Connor </br> Song Name: Nothing Compares 2 U",
          "Artist Name: Stevie Wonder </br> Song Name: You Are The Sunshine Of My Life",
          "Artist Name: Simon & Garfunkel </br> Song Name: The Sounds of Silence",
          "Artist Name: The Byrds </br> Song Name: Eight Miles High",
          "Artist Name: Lou Reed </br> Song Name: Walk On the Wild Side",
          "Artist Name: Pink Floyd </br> Song Name: Comfortably Numb - 2011 Remastered Version",
          "Artist Name: Billie Eilish </br> Song Name: bad guy",
          "Artist Name: Van Halen </br> Song Name: Jump",
          "Artist Name: The Kinks </br> Song Name: You Really Got Me - Remastered",
          "Artist Name: The Flamingos </br> Song Name: I Only Have Eyes for You",
          "Artist Name: R.E.M. </br> Song Name: Radio Free Europe",
          "Artist Name: Television </br> Song Name: Marquee Moon",
          "Artist Name: Nina Simone </br> Song Name: Mississippi Goddam",
          "Artist Name: Louis Armstrong </br> Song Name: What A Wonderful World",
          "Artist Name: The Five Satins </br> Song Name: In The Still of the Night",
          "Artist Name: Tom Petty and the Heartbreakers </br> Song Name: American Girl",
          "Artist Name: Dusty Springfield </br> Song Name: Son Of A Preacher Man",
          "Artist Name: Eminem </br> Song Name: Lose Yourself",
          "Artist Name: Mott The Hoople </br> Song Name: All the Young Dudes",
          "Artist Name: Hank Williams </br> Song Name: I'm So Lonesome I Could Cry - Single Version",
          "Artist Name: Bob Dylan </br> Song Name: Mr. Tambourine Man",
          "Artist Name: Fleetwood Mac </br> Song Name: Landslide",
          "Artist Name: Nick Drake </br> Song Name: Pink Moon",
          "Artist Name: Madonna </br> Song Name: Into the Groove",
          "Artist Name: R.E.M. </br> Song Name: Nightswimming",
          "Artist Name: The Who </br> Song Name: Baba O'Riley",
          "Artist Name: The Meters </br> Song Name: Cissy Strut",
          "Artist Name: Sonic Youth </br> Song Name: Teen Age Riot (Album Version)",
          "Artist Name: The Kingsmen </br> Song Name: Louie Louie",
          "Artist Name: The Strokes </br> Song Name: Last Nite",
          "Artist Name: Howlin' Wolf </br> Song Name: Spoonful",
          "Artist Name: Rick James </br> Song Name: Super Freak",
          "Artist Name: Creedence Clearwater Revival </br> Song Name: Proud Mary",
          "Artist Name: The Shirelles </br> Song Name: Will You Still Love Me Tomorrow",
          "Artist Name: Green Day </br> Song Name: Basket Case",
          "Artist Name: Elton John </br> Song Name: Rocket Man (I Think It's Going To Be A Long, Long Time)",
          "Artist Name: Led Zeppelin </br> Song Name: Kashmir - Remaster",
          "Artist Name: Fats Domino </br> Song Name: Blueberry Hill",
          "Artist Name: James Taylor </br> Song Name: Fire and Rain",
          "Artist Name: Outkast </br> Song Name: Ms. Jackson",
          "Artist Name: The Rolling Stones </br> Song Name: Jumpin' Jack Flash - (Original Single Mono Version)",
          "Artist Name: The Clash </br> Song Name: London Calling",
          "Artist Name: George Jones </br> Song Name: He Stopped Loving Her Today",
          "Artist Name: Rod Stewart </br> Song Name: Maggie May",
          "Artist Name: Bob Marley & The Wailers </br> Song Name: No Woman No Cry",
          "Artist Name: Madonna </br> Song Name: Vogue",
          "Artist Name: Blondie </br> Song Name: Heart Of Glass",
          "Artist Name: Ariana Grande </br> Song Name: thank u, next",
          "Artist Name: Otis Redding </br> Song Name: Try a Little Tenderness",
          "Artist Name: The Beatles </br> Song Name: She Loves You - Remastered 2009",
          "Artist Name: Tina Turner </br> Song Name: What's Love Got to Do with It",
          "Artist Name: Journey </br> Song Name: Don't Stop Believin'",
          "Artist Name: Eric B. & Rakim </br> Song Name: Paid In Full",
          "Artist Name: Ben E. King </br> Song Name: Stand by Me",
          "Artist Name: Martha Reeves & The Vandellas </br> Song Name: Dancing In The Street - Stereo",
          "Artist Name: Drake </br> Song Name: Hold On, We're Going Home",
          "Artist Name: Led Zeppelin </br> Song Name: Whole Lotta Love - 1990 Remaster",
          "Artist Name: TLC </br> Song Name: Waterfalls",
          "Artist Name: George Michael </br> Song Name: Freedom! '90 - Remastered",
          "Artist Name: Sex Pistols </br> Song Name: Anarchy In The UK",
          "Artist Name: Buddy Holly </br> Song Name: That'll Be the Day",
          "Artist Name: Talking Heads </br> Song Name: This Must Be the Place (Naive Melody) - 2005 Remaster",
          "Artist Name: The Impressions </br> Song Name: People Get Ready",
          "Artist Name: The Beatles </br> Song Name: Let It Be - Remastered 2009",
          "Artist Name: X-Ray Spex </br> Song Name: Oh Bondage! Up Yours!",
          "Artist Name: Marvin Gaye </br> Song Name: I Heard It Through The Grapevine",
          "Artist Name: Radiohead </br> Song Name: Creep",
          "Artist Name: Aretha Franklin </br> Song Name: I Say a Little Prayer",
          "Artist Name: Rob Base & DJ EZ Rock </br> Song Name: It Takes Two",
          "Artist Name: Etta James </br> Song Name: At Last",
          "Artist Name: Britney Spears </br> Song Name: Toxic",
          "Artist Name: Stevie Wonder </br> Song Name: Higher Ground",
          "Artist Name: R.E.M. </br> Song Name: Losing My Religion",
          "Artist Name: Bruce Springsteen </br> Song Name: Thunder Road",
          "Artist Name: The Beatles </br> Song Name: Something - Remastered 2015",
          "Artist Name: Sly & The Family Stone </br> Song Name: Everyday People",
          "Artist Name: The Cure </br> Song Name: Just Like Heaven",
          "Artist Name: Wu-Tang Clan </br> Song Name: C.R.E.A.M. (Cash Rules Everything Around Me) (feat. Method Man, Raekwon, Inspectah Deck & Buddha Monk)",
          "Artist Name: The Rolling Stones </br> Song Name: Sympathy For The Devil",
          "Artist Name: David Bowie </br> Song Name: Life on Mars? - 2015 Remaster",
          "Artist Name: The Jackson 5 </br> Song Name: I Want You Back",
          "Artist Name: Alanis Morissette </br> Song Name: You Oughta Know - 2015 Remaster",
          "Artist Name: Chuck Berry </br> Song Name: Maybelline",
          "Artist Name: Yeah Yeah Yeahs </br> Song Name: Maps",
          "Artist Name: Bob Dylan </br> Song Name: Blowin' in the Wind",
          "Artist Name: Bee Gees </br> Song Name: Stayin Alive",
          "Artist Name: The Beatles </br> Song Name: In My Life - Remastered 2009",
          "Artist Name: Patti Smith </br> Song Name: Gloria",
          "Artist Name: JAY-Z </br> Song Name: 99 Problems",
          "Artist Name: Oasis </br> Song Name: Wonderwall",
          "Artist Name: Whitney Houston </br> Song Name: I Will Always Love You",
          "Artist Name: Kelly Clarkson </br> Song Name: Since U Been Gone",
          "Artist Name: Little Richard </br> Song Name: Good Golly Miss Molly",
          "Artist Name: UGK </br> Song Name: Int'l Players Anthem (I Choose You) (feat. Outkast)",
          "Artist Name: Aretha Franklin </br> Song Name: (You Make Me Feel Like) A Natural Woman",
          "Artist Name: The Beatles </br> Song Name: Hey Jude - Remastered 2015",
          "Artist Name: Guns N' Roses </br> Song Name: Sweet Child O' Mine",
          "Artist Name: LCD Soundsystem </br> Song Name: All My Friends",
          "Artist Name: The Rolling Stones </br> Song Name: Tumbling Dice",
          "Artist Name: Prince </br> Song Name: Kiss",
          "Artist Name: Al Green </br> Song Name: Let's Stay Together",
          "Artist Name: Bob Dylan </br> Song Name: Desolation Row",
          "Artist Name: Adele </br> Song Name: Rolling in the Deep",
          "Artist Name: The Velvet Underground </br> Song Name: I'm Waiting For The Man",
          "Artist Name: Ray Charles </br> Song Name: What'd I Say, Pt. 1 & 2",
          "Artist Name: Amy Winehouse </br> Song Name: Back To Black",
          "Artist Name: Four Tops </br> Song Name: Reach Out I'll Be There",
          "Artist Name: The Modern Lovers </br> Song Name: Roadrunner",
          "Artist Name: Johnny Cash </br> Song Name: I Walk the Line",
          "Artist Name: Pulp </br> Song Name: Common People",
          "Artist Name: Leonard Cohen </br> Song Name: Hallelujah",
          "Artist Name: Beyoncé </br> Song Name: Formation",
          "Artist Name: The Beatles </br> Song Name: Yesterday - Remastered 2015",
          "Artist Name: Tracy Chapman </br> Song Name: Fast Car",
          "Artist Name: Elvis Presley </br> Song Name: Suspicious Minds",
          "Artist Name: Taylor Swift </br> Song Name: All Too Well",
          "Artist Name: CHIC </br> Song Name: Good Times",
          "Artist Name: Bob Dylan </br> Song Name: Tangled up in Blue",
          "Artist Name: Simon & Garfunkel </br> Song Name: Bridge Over Troubled Water",
          "Artist Name: Earth, Wind & Fire </br> Song Name: September",
          "Artist Name: Ramones </br> Song Name: Blitzkrieg Bop - 2016 Remaster",
          "Artist Name: Dolly Parton </br> Song Name: Jolene",
          "Artist Name: U2 </br> Song Name: One",
          "Artist Name: Led Zeppelin </br> Song Name: Stairway to Heaven - Remaster",
          "Artist Name: Kate Bush </br> Song Name: Running Up That Hill (A Deal With God)",
          "Artist Name: Grandmaster Flash </br> Song Name: The Message",
          "Artist Name: The Band </br> Song Name: The Weight - Remastered 2000",
          "Artist Name: Sly & The Family Stone </br> Song Name: Family Affair - Single Version",
          "Artist Name: Missy Elliott </br> Song Name: Work It",
          "Artist Name: Madonna </br> Song Name: Like a Prayer",
          "Artist Name: Smokey Robinson & The Miracles </br> Song Name: The Tracks Of My Tears",
          "Artist Name: The Beach Boys </br> Song Name: Good Vibrations",
          "Artist Name: Donna Summer </br> Song Name: I Feel Love",
          "Artist Name: Dionne Warwick </br> Song Name: Walk on By",
          "Artist Name: Daddy Yankee </br> Song Name: Gasolina",
          "Artist Name: Ms. Lauryn Hill </br> Song Name: Doo Wop (That Thing)",
          "Artist Name: Radiohead </br> Song Name: Idioteque",
          "Artist Name: Elton John </br> Song Name: Tiny Dancer",
          "Artist Name: M.I.A. </br> Song Name: Paper Planes",
          "Artist Name: Kendrick Lamar </br> Song Name: Alright",
          "Artist Name: Michael Jackson </br> Song Name: Billie Jean",
          "Artist Name: The Temptations </br> Song Name: My Girl",
          "Artist Name: Bob Marley & The Wailers </br> Song Name: Redemption Song",
          "Artist Name: Joy Division </br> Song Name: Love Will Tear Us Apart - 2020 Remaster",
          "Artist Name: Jimi Hendrix </br> Song Name: All Along the Watchtower",
          "Artist Name: Outkast </br> Song Name: B.O.B. - Bombs Over Baghdad",
          "Artist Name: Otis Redding </br> Song Name: (Sittin' On) the Dock of the Bay",
          "Artist Name: Prince </br> Song Name: When Doves Cry",
          "Artist Name: The White Stripes </br> Song Name: Seven Nation Army",
          "Artist Name: Little Richard </br> Song Name: Tutti Frutti",
          "Artist Name: James Brown </br> Song Name: Papa's Got A Brand New Bag - Pt. 1",
          "Artist Name: Chuck Berry </br> Song Name: Johnny B. Goode",
          "Artist Name: The Notorious B.I.G. </br> Song Name: Juicy",
          "Artist Name: The Rolling Stones </br> Song Name: (I Can't Get No) Satisfaction - Mono Version",
          "Artist Name: Lorde </br> Song Name: Royals",
          "Artist Name: Dr. Dre </br> Song Name: Nuthin' But A \"G\" Thang",
          "Artist Name: Talking Heads </br> Song Name: Once in a Lifetime - 2005 Remaster",
          "Artist Name: Bruce Springsteen </br> Song Name: Born to Run",
          "Artist Name: Joni Mitchell </br> Song Name: A Case of You",
          "Artist Name: Kanye West </br> Song Name: Runaway",
          "Artist Name: The Beatles </br> Song Name: A Day In The Life - Remastered 2009",
          "Artist Name: David Bowie </br> Song Name: Heroes - 2017 Remaster",
          "Artist Name: The Ronettes </br> Song Name: Be My Baby",
          "Artist Name: Billie Holiday </br> Song Name: Strange Fruit",
          "Artist Name: Robyn </br> Song Name: Dancing On My Own",
          "Artist Name: John Lennon </br> Song Name: Imagine - Remastered 2010",
          "Artist Name: Prince </br> Song Name: Purple Rain",
          "Artist Name: Queen </br> Song Name: Bohemian Rhapsody",
          "Artist Name: Beyoncé </br> Song Name: Crazy In Love (feat. Jay-Z)",
          "Artist Name: The Beatles </br> Song Name: I Want To Hold Your Hand - Remastered 2015",
          "Artist Name: The Kinks </br> Song Name: Waterloo Sunset",
          "Artist Name: The Rolling Stones </br> Song Name: Gimme Shelter",
          "Artist Name: Stevie Wonder </br> Song Name: Superstition",
          "Artist Name: The Beach Boys </br> Song Name: God Only Knows - Remastered",
          "Artist Name: Outkast </br> Song Name: Hey Ya!",
          "Artist Name: Fleetwood Mac </br> Song Name: Dreams - 2004 Remaster",
          "Artist Name: Missy Elliott </br> Song Name: Get Ur Freak On",
          "Artist Name: The Beatles </br> Song Name: Strawberry Fields Forever - Remastered 2009",
          "Artist Name: Marvin Gaye </br> Song Name: What's Going On",
          "Artist Name: Nirvana </br> Song Name: Smells Like Teen Spirit",
          "Artist Name: Bob Dylan </br> Song Name: Like a Rolling Stone",
          "Artist Name: Sam Cooke </br> Song Name: A Change Is Gonna Come",
          "Artist Name: Public Enemy </br> Song Name: Fight The Power",
          "Artist Name: Aretha Franklin </br> Song Name: Respect"
         ],
         "type": "scatter3d",
         "x": [
          8.34154987335205,
          4.99586820602417,
          3.3920395374298096,
          7.089348793029785,
          2.684331178665161,
          6.019811153411865,
          3.251049280166626,
          5.20251989364624,
          2.848137140274048,
          6.866745471954346,
          6.36082124710083,
          7.769146919250488,
          5.511650085449219,
          6.002439022064209,
          8.1085205078125,
          8.829610824584961,
          7.452535629272461,
          6.146871089935303,
          6.600882530212402,
          3.9090895652770996,
          7.471543788909912,
          6.265506267547607,
          8.02260684967041,
          7.4404296875,
          4.28458833694458,
          6.974461555480957,
          6.416661739349365,
          3.9421615600585938,
          5.0563130378723145,
          5.512136459350586,
          4.941715717315674,
          6.2318902015686035,
          4.561666011810303,
          6.905844688415527,
          6.277818202972412,
          7.237416744232178,
          5.335188388824463,
          5.210536479949951,
          5.8106465339660645,
          2.5654613971710205,
          8.329115867614746,
          5.206707000732422,
          7.750190258026123,
          6.618926525115967,
          5.621837139129639,
          3.1632778644561768,
          4.773301601409912,
          8.083090782165527,
          5.472499847412109,
          8.955161094665527,
          5.7519426345825195,
          7.33436918258667,
          7.3097944259643555,
          6.788112163543701,
          7.438036918640137,
          6.770486831665039,
          8.518136024475098,
          7.566851615905762,
          7.185061454772949,
          3.7137820720672607,
          3.8604917526245117,
          5.575438976287842,
          8.838905334472656,
          6.63645601272583,
          7.39678955078125,
          6.642616271972656,
          6.654733180999756,
          6.637925148010254,
          7.286169052124023,
          5.453948497772217,
          7.278839111328125,
          4.493978977203369,
          5.776719093322754,
          7.546267986297607,
          8.361977577209473,
          5.385493755340576,
          7.72772216796875,
          7.141151428222656,
          8.49464225769043,
          7.6746392250061035,
          4.474924087524414,
          7.097907066345215,
          6.430099964141846,
          6.142143249511719,
          7.342897415161133,
          6.321877956390381,
          6.905129909515381,
          6.328676223754883,
          6.592476844787598,
          7.134060382843018,
          5.6755900382995605,
          7.460146903991699,
          3.937650680541992,
          6.561690807342529,
          8.579691886901855,
          4.253064155578613,
          6.756996154785156,
          7.014424800872803,
          6.633432865142822,
          7.165674686431885,
          6.873580455780029,
          7.5758748054504395,
          6.6707892417907715,
          7.793871879577637,
          2.923785924911499,
          7.705917835235596,
          7.39310884475708,
          7.342266082763672,
          3.787543773651123,
          6.846343040466309,
          7.02600622177124,
          6.879146099090576,
          8.367351531982422,
          7.395805358886719,
          5.888540744781494,
          7.342673301696777,
          7.495863914489746,
          6.062933921813965,
          3.6966145038604736,
          7.559514999389648,
          7.287682056427002,
          5.1974663734436035,
          6.612020492553711,
          7.59912633895874,
          3.8378474712371826,
          4.221699237823486,
          3.934096097946167,
          6.395099639892578,
          2.9548110961914062,
          6.657107353210449,
          4.164860248565674,
          6.610477924346924,
          5.832498550415039,
          3.2353739738464355,
          4.5508904457092285,
          7.442316055297852,
          3.8742568492889404,
          5.803221702575684,
          3.936366081237793,
          4.030578136444092,
          6.881529808044434,
          5.382298469543457,
          7.394104480743408,
          7.365848541259766,
          6.9661149978637695,
          6.382516860961914,
          6.059333324432373,
          6.274458885192871,
          7.902684688568115,
          7.123170852661133,
          3.254603862762451,
          6.517394542694092,
          5.737146377563477,
          3.898859977722168,
          7.488002777099609,
          5.2283549308776855,
          7.407869338989258,
          6.018464088439941,
          4.868579864501953,
          4.304161548614502,
          7.084011554718018,
          7.433605670928955,
          6.647589683532715,
          6.899812698364258,
          5.095084190368652,
          7.0533037185668945,
          5.56649112701416,
          5.731312274932861,
          6.8410325050354,
          4.322448253631592,
          8.531224250793457,
          8.108397483825684,
          5.087558746337891,
          6.349762439727783,
          6.480672359466553,
          7.355222225189209,
          5.580872535705566,
          3.6819653511047363,
          3.1875205039978027,
          6.422779083251953,
          7.3695783615112305,
          6.076373100280762,
          5.290926933288574,
          5.304178237915039,
          4.7928361892700195,
          4.903112888336182,
          6.150528430938721,
          6.289834976196289,
          5.5315961837768555,
          6.604333877563477,
          4.6200127601623535,
          4.164275646209717,
          6.534747123718262,
          7.4651336669921875,
          6.965233325958252,
          3.749751091003418,
          7.75911283493042,
          7.5816731452941895,
          2.9219906330108643,
          4.629552364349365,
          7.148865222930908,
          5.309039115905762,
          4.8667731285095215,
          4.3415961265563965,
          7.538297176361084,
          4.963515758514404,
          6.491924285888672,
          6.169839859008789,
          7.697455406188965,
          3.008293628692627,
          6.439795017242432,
          5.039050102233887,
          6.938781261444092,
          7.205152988433838,
          6.166642189025879,
          7.381383895874023,
          2.9229631423950195,
          2.6966233253479004,
          5.554183006286621,
          7.735358238220215,
          4.876495838165283,
          5.463017463684082,
          5.571289539337158,
          5.961088180541992,
          7.31296968460083,
          3.0098495483398438,
          8.255948066711426,
          3.4931089878082275,
          6.402346611022949,
          3.461073398590088,
          7.556114196777344,
          3.0563852787017822,
          5.75462007522583,
          7.573921203613281,
          7.821127414703369,
          7.386567115783691,
          6.736411094665527,
          3.5104620456695557,
          2.4726600646972656,
          7.0380635261535645,
          8.677286148071289,
          6.724844455718994,
          5.465419769287109,
          4.692623615264893,
          7.632257461547852,
          4.2202982902526855,
          3.3814589977264404,
          3.014370918273926,
          6.638408660888672,
          7.392299175262451,
          7.9088006019592285,
          7.674454212188721,
          8.276557922363281,
          2.3440864086151123,
          4.437721252441406,
          7.513584613800049,
          7.768730163574219,
          4.2281107902526855,
          5.714906215667725,
          8.818042755126953,
          6.365179538726807,
          7.0221638679504395,
          8.267549514770508,
          3.4589929580688477,
          2.561099052429199,
          7.773157119750977,
          6.854869365692139,
          6.84181022644043,
          6.4281134605407715,
          6.465395927429199,
          4.628678321838379,
          3.1559112071990967,
          7.644120216369629,
          6.106761455535889,
          6.984648704528809,
          2.4993300437927246,
          4.613162994384766,
          8.304285049438477,
          4.259746551513672,
          4.179912090301514,
          7.45749044418335,
          4.94804048538208,
          6.337124347686768,
          6.048340320587158,
          5.3912153244018555,
          8.877877235412598,
          3.8147265911102295,
          6.839076519012451,
          5.626009941101074,
          5.637905120849609,
          6.949141025543213,
          5.2068963050842285,
          7.3351569175720215,
          8.535127639770508,
          3.884880781173706,
          6.680080890655518,
          6.88551664352417,
          6.610470294952393,
          3.1037137508392334,
          5.323435306549072,
          3.1111342906951904,
          3.5370261669158936,
          6.092321395874023,
          6.055826187133789,
          8.263077735900879,
          2.9164865016937256,
          5.181612491607666,
          3.7661097049713135,
          8.793657302856445,
          3.944739818572998,
          8.70212173461914,
          3.4494004249572754,
          5.303250312805176,
          4.762763500213623,
          6.078789710998535,
          7.020426273345947,
          5.682565212249756,
          4.523155689239502,
          5.160482406616211,
          6.732063293457031,
          2.908839702606201,
          4.748005390167236,
          8.28699779510498,
          6.456452369689941,
          7.388635158538818,
          3.2834463119506836,
          6.88297700881958,
          7.51096248626709,
          5.3614654541015625,
          3.0423026084899902,
          3.376033067703247,
          4.695454120635986,
          4.598198890686035,
          7.640695095062256,
          5.8346757888793945,
          3.3651232719421387,
          4.251523971557617,
          2.9328060150146484,
          3.4643962383270264,
          7.423239707946777,
          3.8856008052825928,
          5.885282516479492,
          7.776983261108398,
          7.427148818969727,
          6.351404190063477,
          6.537223815917969,
          3.683558940887451,
          7.178847789764404,
          6.161360740661621,
          3.546520471572876,
          6.610357284545898,
          4.675914764404297,
          4.280568599700928,
          5.257571220397949,
          4.018985271453857,
          8.078539848327637,
          7.713558673858643,
          6.474459648132324,
          3.4308292865753174,
          4.025984287261963,
          5.914226531982422,
          6.395322322845459,
          6.493521690368652,
          4.900036334991455,
          4.759725570678711,
          6.705835819244385,
          5.857002258300781,
          6.1977152824401855,
          8.723597526550293,
          4.4672160148620605,
          5.678239822387695,
          5.339349746704102,
          8.627862930297852,
          5.936640739440918,
          6.865626335144043,
          6.511956214904785,
          5.4399800300598145,
          6.9163737297058105,
          2.8264119625091553,
          3.147233009338379,
          6.848874568939209,
          5.6165452003479,
          5.387571334838867,
          4.618336200714111,
          7.172249794006348,
          3.6503849029541016,
          7.490212440490723,
          7.356800556182861,
          7.333256244659424,
          5.01358699798584,
          3.340771436691284,
          6.9868574142456055,
          7.46199893951416,
          8.142624855041504,
          8.446332931518555,
          4.060151100158691,
          5.292998790740967,
          6.226948261260986,
          4.169027805328369,
          6.388298034667969,
          2.8896703720092773,
          7.256590843200684,
          4.71727180480957,
          4.2169694900512695,
          8.508748054504395,
          6.749979496002197,
          2.605491876602173,
          7.271059989929199,
          5.596842288970947,
          7.890251636505127,
          3.623699426651001,
          7.424342632293701,
          7.184389591217041,
          7.707230567932129,
          6.528512477874756,
          6.864155292510986,
          4.187126159667969,
          4.275405406951904,
          7.218994617462158,
          7.6672444343566895,
          4.199587345123291,
          5.086945056915283,
          6.521032333374023,
          6.5628814697265625,
          3.968557834625244,
          6.706459045410156,
          2.864253044128418,
          8.039362907409668,
          2.457653522491455,
          4.443934917449951,
          5.747026443481445,
          5.562912464141846,
          6.11199426651001,
          5.399958610534668,
          2.5088233947753906,
          7.263893127441406,
          7.774219036102295,
          3.8099935054779053,
          3.330963373184204,
          3.9621775150299072,
          4.059406280517578,
          8.724695205688477,
          4.882349491119385,
          3.9282851219177246,
          7.818084239959717,
          5.98711633682251,
          4.053514003753662,
          5.596224784851074,
          7.610424041748047,
          3.764190912246704,
          5.934014797210693,
          7.65861701965332,
          7.952626705169678,
          3.322265625,
          7.437144756317139,
          8.603311538696289,
          7.309309482574463,
          3.687978506088257,
          4.129909515380859,
          7.771950721740723,
          7.2631425857543945,
          7.4530134201049805,
          3.4576141834259033,
          7.409289360046387,
          5.466070175170898,
          4.8307905197143555,
          4.521716117858887,
          5.54368782043457,
          8.567371368408203,
          6.872513771057129,
          5.234800815582275,
          8.777349472045898,
          6.9418487548828125,
          7.340643405914307,
          3.3998003005981445,
          5.611709117889404,
          5.4789628982543945,
          7.551821231842041,
          6.8646416664123535,
          2.8648509979248047,
          6.474565505981445,
          2.4313547611236572,
          5.899236679077148,
          3.3500924110412598,
          7.892648696899414,
          5.875256538391113,
          3.4241983890533447,
          4.230071067810059,
          6.341085910797119,
          4.949566841125488,
          7.0719122886657715,
          6.012659549713135,
          5.82833194732666,
          4.934232234954834,
          4.778575420379639,
          6.55975866317749,
          4.2141804695129395,
          4.257426738739014,
          7.326324462890625,
          6.126025676727295
         ],
         "y": [
          9.044864654541016,
          8.637747764587402,
          8.338376998901367,
          7.564150333404541,
          7.75062370300293,
          7.03954553604126,
          7.38749885559082,
          6.994901180267334,
          7.908078193664551,
          6.699489116668701,
          8.049710273742676,
          7.35033655166626,
          6.17656135559082,
          7.994863033294678,
          9.21900463104248,
          9.722783088684082,
          8.320289611816406,
          7.335021018981934,
          6.697086811065674,
          9.194643020629883,
          8.742757797241211,
          8.83508014678955,
          8.790459632873535,
          8.613006591796875,
          8.430394172668457,
          7.485744476318359,
          9.237503051757812,
          8.926732063293457,
          8.450639724731445,
          6.859681129455566,
          8.319733619689941,
          6.979421138763428,
          7.992292881011963,
          6.752695083618164,
          7.902930736541748,
          8.561041831970215,
          8.687642097473145,
          9.51861572265625,
          8.666177749633789,
          7.632402420043945,
          9.663681983947754,
          9.33738899230957,
          8.843687057495117,
          6.687093257904053,
          6.142097473144531,
          7.4787917137146,
          8.763867378234863,
          9.388813972473145,
          8.549816131591797,
          9.558354377746582,
          7.848384380340576,
          6.608093738555908,
          8.22485065460205,
          8.601699829101562,
          6.433027267456055,
          6.341616630554199,
          9.886445045471191,
          6.581313133239746,
          6.396059036254883,
          7.87835168838501,
          8.180545806884766,
          7.7649970054626465,
          9.704977989196777,
          7.092443943023682,
          8.483960151672363,
          6.5618791580200195,
          6.434725284576416,
          7.1720194816589355,
          8.800517082214355,
          8.946063995361328,
          8.341714859008789,
          7.191294193267822,
          6.465381622314453,
          8.948477745056152,
          9.451181411743164,
          7.779090881347656,
          8.946059226989746,
          7.716395854949951,
          10.004279136657715,
          6.553697109222412,
          7.494915008544922,
          8.694022178649902,
          8.858047485351562,
          7.574349880218506,
          7.203348636627197,
          6.85634183883667,
          6.5612030029296875,
          7.070990085601807,
          7.597007751464844,
          8.520942687988281,
          7.239037036895752,
          6.6443328857421875,
          8.21450138092041,
          6.089040279388428,
          9.765637397766113,
          9.074779510498047,
          6.658257961273193,
          9.055657386779785,
          8.888713836669922,
          7.32351541519165,
          7.275951385498047,
          7.641659736633301,
          7.101017951965332,
          9.060479164123535,
          7.503410816192627,
          8.669744491577148,
          6.857490539550781,
          8.930214881896973,
          6.8168134689331055,
          7.099383354187012,
          7.108947277069092,
          9.047332763671875,
          9.411225318908691,
          6.605701923370361,
          9.311816215515137,
          8.345187187194824,
          8.40676498413086,
          7.915484428405762,
          8.323535919189453,
          7.485036849975586,
          7.371551513671875,
          6.670796871185303,
          6.098718643188477,
          6.457972049713135,
          8.265565872192383,
          9.120877265930176,
          8.192853927612305,
          7.9992852210998535,
          8.28300952911377,
          7.45380163192749,
          9.09973430633545,
          7.399935722351074,
          6.556999206542969,
          7.315373420715332,
          7.8097028732299805,
          6.493709564208984,
          7.784917831420898,
          7.776890277862549,
          8.04602336883545,
          8.142439842224121,
          7.736248016357422,
          7.599966526031494,
          6.882674694061279,
          8.284542083740234,
          7.396252155303955,
          6.487720489501953,
          7.683820724487305,
          7.159827709197998,
          9.34671688079834,
          7.908316612243652,
          7.492295265197754,
          7.222355365753174,
          8.461932182312012,
          9.205276489257812,
          8.482832908630371,
          9.556465148925781,
          6.501397609710693,
          8.833959579467773,
          8.39413070678711,
          7.986850738525391,
          8.930476188659668,
          8.46419906616211,
          6.434798717498779,
          7.00378942489624,
          7.487061977386475,
          7.831259250640869,
          8.257493019104004,
          9.020736694335938,
          6.520780086517334,
          8.410055160522461,
          9.980097770690918,
          8.973265647888184,
          7.2053351402282715,
          7.3366780281066895,
          6.191744804382324,
          7.096676349639893,
          6.9357523918151855,
          8.393776893615723,
          8.31750774383545,
          6.622744083404541,
          8.319581985473633,
          7.973433017730713,
          9.176673889160156,
          8.566306114196777,
          7.698885917663574,
          7.869197845458984,
          6.695353984832764,
          7.202749729156494,
          7.099806785583496,
          6.926928997039795,
          7.264917850494385,
          7.67316198348999,
          6.785469055175781,
          8.481551170349121,
          8.802273750305176,
          8.157278060913086,
          7.343222141265869,
          8.408068656921387,
          8.266472816467285,
          7.089208126068115,
          7.422898292541504,
          9.473075866699219,
          6.767292499542236,
          8.129400253295898,
          6.729895114898682,
          6.907242774963379,
          7.503242015838623,
          6.9775166511535645,
          8.876991271972656,
          7.30947732925415,
          8.063218116760254,
          7.476425647735596,
          7.572030067443848,
          8.19778060913086,
          8.735566139221191,
          8.376729965209961,
          8.197991371154785,
          7.5867838859558105,
          6.124463081359863,
          8.129242897033691,
          8.635025024414062,
          6.890842437744141,
          9.324413299560547,
          7.737033843994141,
          6.43516206741333,
          8.033025741577148,
          9.637925148010254,
          8.220230102539062,
          8.386757850646973,
          7.160200119018555,
          7.489141464233398,
          7.383692264556885,
          8.6947603225708,
          8.381757736206055,
          7.298614501953125,
          6.538975238800049,
          6.754966735839844,
          8.786359786987305,
          7.604602336883545,
          9.024260520935059,
          10.061814308166504,
          6.902438640594482,
          9.592998504638672,
          8.306572914123535,
          7.3266167640686035,
          9.079630851745605,
          7.594419479370117,
          8.359418869018555,
          8.452028274536133,
          8.513750076293945,
          7.162928104400635,
          6.495370864868164,
          9.011013984680176,
          7.655328750610352,
          8.262589454650879,
          6.423246383666992,
          7.313158988952637,
          8.477224349975586,
          8.902801513671875,
          9.71412467956543,
          7.732303619384766,
          6.562141418457031,
          9.591474533081055,
          8.362507820129395,
          7.634209156036377,
          7.343633651733398,
          8.959446907043457,
          6.897339820861816,
          6.345743656158447,
          7.068510055541992,
          7.8715972900390625,
          8.48805046081543,
          7.935803413391113,
          7.034113883972168,
          7.180384159088135,
          7.697751998901367,
          7.308022499084473,
          9.224992752075195,
          8.211368560791016,
          7.772601127624512,
          8.082598686218262,
          7.380588531494141,
          7.832661151885986,
          6.762024879455566,
          9.476567268371582,
          9.662809371948242,
          7.679040431976318,
          6.517354965209961,
          6.712029457092285,
          6.172893524169922,
          8.350200653076172,
          9.517824172973633,
          6.417797565460205,
          9.330330848693848,
          6.864252090454102,
          7.406359672546387,
          8.401972770690918,
          7.870481967926025,
          8.047492980957031,
          8.974222183227539,
          7.426288604736328,
          6.936351299285889,
          7.740150451660156,
          7.5841803550720215,
          9.584759712219238,
          8.281834602355957,
          8.186012268066406,
          8.208922386169434,
          9.769826889038086,
          8.971320152282715,
          9.695724487304688,
          7.001286506652832,
          7.056244850158691,
          8.704352378845215,
          7.58772611618042,
          7.025615215301514,
          6.518019676208496,
          9.1917085647583,
          7.5500335693359375,
          6.747476100921631,
          7.534341812133789,
          7.8938679695129395,
          9.8228759765625,
          6.54879093170166,
          8.6481351852417,
          8.263838768005371,
          6.766433238983154,
          7.5051069259643555,
          8.06768798828125,
          8.090258598327637,
          8.256333351135254,
          7.811034679412842,
          8.554723739624023,
          7.959573268890381,
          7.024572372436523,
          8.56168270111084,
          8.50232219696045,
          8.221842765808105,
          8.3595609664917,
          8.760887145996094,
          8.903668403625488,
          6.745619773864746,
          7.3417558670043945,
          6.499016284942627,
          7.176321029663086,
          6.592278480529785,
          8.30357837677002,
          8.981888771057129,
          7.253506183624268,
          7.275293350219727,
          6.475852012634277,
          8.245295524597168,
          7.627559661865234,
          9.204716682434082,
          7.774012565612793,
          9.087206840515137,
          7.312618255615234,
          6.776217937469482,
          8.252596855163574,
          7.5160627365112305,
          7.829917907714844,
          7.066427230834961,
          6.951972961425781,
          6.937076091766357,
          7.826081275939941,
          8.518400192260742,
          7.85994815826416,
          7.145096302032471,
          9.342809677124023,
          8.869047164916992,
          6.246328353881836,
          6.679018020629883,
          9.313179016113281,
          7.903432846069336,
          8.46574878692627,
          6.1356587409973145,
          9.164918899536133,
          9.01898193359375,
          7.733976364135742,
          7.256524085998535,
          6.50495719909668,
          7.785946846008301,
          6.8083977699279785,
          8.468697547912598,
          8.163687705993652,
          7.861301898956299,
          8.356771469116211,
          8.652674674987793,
          8.758391380310059,
          8.47769546508789,
          7.134950637817383,
          8.876564979553223,
          6.603199481964111,
          9.942215919494629,
          10.004861831665039,
          8.251791000366211,
          9.564679145812988,
          7.139562606811523,
          8.354016304016113,
          6.710269451141357,
          8.020514488220215,
          8.831920623779297,
          8.444563865661621,
          8.867796897888184,
          9.25718879699707,
          6.2543487548828125,
          7.752488136291504,
          7.219623565673828,
          9.320107460021973,
          8.943465232849121,
          8.31912612915039,
          6.5703558921813965,
          6.8890604972839355,
          7.44301176071167,
          8.936080932617188,
          8.50811767578125,
          8.746764183044434,
          7.968289375305176,
          7.899903297424316,
          7.468915939331055,
          8.11075496673584,
          7.5586090087890625,
          7.270990371704102,
          6.454270362854004,
          9.045549392700195,
          6.22720193862915,
          7.48924446105957,
          9.272156715393066,
          7.629948139190674,
          7.251986503601074,
          8.053051948547363,
          6.126330852508545,
          7.578922271728516,
          8.235376358032227,
          7.749999046325684,
          8.704166412353516,
          6.620461940765381,
          8.145062446594238,
          6.990070819854736,
          8.188135147094727,
          8.247689247131348,
          9.692341804504395,
          8.46338176727295,
          8.285202026367188,
          8.913107872009277,
          6.823507785797119,
          9.034695625305176,
          6.171650409698486,
          7.55169153213501,
          8.586771011352539,
          7.59534215927124,
          8.501813888549805,
          8.74548625946045,
          7.086525917053223,
          7.686553955078125,
          9.420357704162598,
          8.939274787902832,
          8.057711601257324,
          8.953938484191895,
          7.345306873321533,
          7.052525043487549,
          8.63383674621582,
          8.237773895263672,
          8.523082733154297,
          6.450869560241699,
          8.791873931884766,
          8.472846984863281,
          9.367533683776855,
          9.932316780090332,
          6.9714579582214355,
          6.99232292175293,
          9.711572647094727,
          7.476578235626221,
          6.411897659301758,
          8.391024589538574,
          6.5037031173706055,
          7.399564266204834,
          7.399026393890381,
          7.342044353485107,
          8.184529304504395,
          6.855034351348877,
          7.614009857177734,
          7.0353264808654785,
          7.013500213623047,
          8.832147598266602,
          9.019275665283203,
          7.514505863189697,
          7.309415817260742,
          7.418618202209473,
          8.18855094909668,
          7.17045259475708,
          7.704612731933594,
          8.229968070983887,
          8.139817237854004,
          8.311893463134766,
          6.487229824066162,
          7.676541805267334,
          8.487811088562012,
          8.328909873962402,
          7.505783557891846
         ],
         "z": [
          9.835262298583984,
          9.724766731262207,
          10.445426940917969,
          10.563112258911133,
          8.731090545654297,
          11.960094451904297,
          10.46432876586914,
          8.831696510314941,
          9.131661415100098,
          8.680655479431152,
          11.807587623596191,
          6.965379238128662,
          9.866764068603516,
          9.03873062133789,
          10.541413307189941,
          10.463109970092773,
          8.56942367553711,
          12.418445587158203,
          12.213528633117676,
          8.286476135253906,
          11.551015853881836,
          8.242256164550781,
          9.826151847839355,
          8.468411445617676,
          8.013551712036133,
          11.515024185180664,
          8.488541603088379,
          8.311948776245117,
          8.077669143676758,
          8.539959907531738,
          8.045260429382324,
          12.083319664001465,
          7.998242378234863,
          9.829412460327148,
          12.17659854888916,
          9.539191246032715,
          8.28257942199707,
          8.500320434570312,
          8.331000328063965,
          8.889735221862793,
          10.451754570007324,
          8.29830265045166,
          10.22863483428955,
          11.926426887512207,
          9.863908767700195,
          10.138790130615234,
          10.148621559143066,
          10.484811782836914,
          8.043978691101074,
          10.483003616333008,
          8.592999458312988,
          8.893935203552246,
          11.385244369506836,
          9.519502639770508,
          9.676864624023438,
          11.049052238464355,
          10.599202156066895,
          9.169861793518066,
          9.848639488220215,
          8.80713939666748,
          8.316247940063477,
          12.028497695922852,
          10.597046852111816,
          10.228898048400879,
          9.386551856994629,
          11.930878639221191,
          11.623475074768066,
          10.0152006149292,
          8.274639129638672,
          9.136992454528809,
          11.540019989013672,
          10.708535194396973,
          9.275619506835938,
          11.303144454956055,
          9.967366218566895,
          10.25638484954834,
          11.374382972717285,
          9.080249786376953,
          10.49718952178955,
          8.976066589355469,
          10.709673881530762,
          9.194700241088867,
          7.988033294677734,
          12.615610122680664,
          8.94750690460205,
          12.199016571044922,
          10.655420303344727,
          10.326740264892578,
          11.893218994140625,
          9.108529090881348,
          8.510507583618164,
          8.775165557861328,
          8.246134757995605,
          10.478557586669922,
          10.217267990112305,
          8.583829879760742,
          12.135870933532715,
          8.487135887145996,
          8.612619400024414,
          10.026532173156738,
          9.081735610961914,
          7.562366962432861,
          11.819221496582031,
          11.004039764404297,
          9.606474876403809,
          10.034811019897461,
          8.810352325439453,
          11.234753608703613,
          10.010753631591797,
          12.155973434448242,
          9.526707649230957,
          8.655800819396973,
          9.997466087341309,
          9.145452499389648,
          8.702973365783691,
          9.843768119812012,
          10.287930488586426,
          11.518190383911133,
          10.811967849731445,
          7.43922233581543,
          9.003005027770996,
          9.182722091674805,
          10.438275337219238,
          8.846614837646484,
          10.99660873413086,
          8.465736389160156,
          11.232051849365234,
          11.757879257202148,
          8.520660400390625,
          11.611605644226074,
          8.20460319519043,
          10.52100658416748,
          9.032553672790527,
          10.339116096496582,
          10.567208290100098,
          8.961267471313477,
          10.740565299987793,
          12.234728813171387,
          8.664496421813965,
          10.925088882446289,
          11.472135543823242,
          9.410539627075195,
          8.863431930541992,
          9.686781883239746,
          11.522489547729492,
          11.855522155761719,
          12.341279029846191,
          12.308829307556152,
          10.082101821899414,
          11.634468078613281,
          10.40179443359375,
          10.195242881774902,
          9.204363822937012,
          8.349284172058105,
          9.695367813110352,
          8.546414375305176,
          8.852630615234375,
          8.215428352355957,
          10.35494327545166,
          10.852015495300293,
          8.810433387756348,
          9.931802749633789,
          10.389863014221191,
          9.450078010559082,
          9.280585289001465,
          10.733272552490234,
          9.201169967651367,
          8.166117668151855,
          11.19960880279541,
          10.984122276306152,
          10.486037254333496,
          11.175816535949707,
          8.82669734954834,
          12.332222938537598,
          10.244400978088379,
          9.02492618560791,
          9.719286918640137,
          9.322097778320312,
          8.637683868408203,
          11.851936340332031,
          8.931859016418457,
          8.803905487060547,
          8.912144660949707,
          8.170218467712402,
          10.033316612243652,
          9.524867057800293,
          9.332138061523438,
          12.252197265625,
          8.582622528076172,
          10.64079475402832,
          10.420804023742676,
          9.004609107971191,
          12.011238098144531,
          9.255948066711426,
          8.600564956665039,
          10.992918968200684,
          6.893895149230957,
          9.466035842895508,
          8.493223190307617,
          10.707741737365723,
          9.02783203125,
          8.348292350769043,
          9.6824312210083,
          10.188993453979492,
          9.187498092651367,
          10.477498054504395,
          11.947787284851074,
          9.353169441223145,
          11.393864631652832,
          9.712509155273438,
          11.760406494140625,
          9.266791343688965,
          11.921039581298828,
          8.997121810913086,
          9.107708930969238,
          10.11239242553711,
          8.610189437866211,
          9.277426719665527,
          9.86913776397705,
          11.210919380187988,
          8.09103012084961,
          8.63078498840332,
          8.839498519897461,
          12.272689819335938,
          9.939374923706055,
          8.625856399536133,
          10.557597160339355,
          8.741544723510742,
          8.942217826843262,
          10.148655891418457,
          7.4073076248168945,
          10.127553939819336,
          9.306771278381348,
          11.37597942352295,
          6.913209438323975,
          8.924249649047852,
          10.639312744140625,
          8.99248218536377,
          9.174835205078125,
          8.433944702148438,
          10.639291763305664,
          10.675164222717285,
          8.540727615356445,
          10.446269035339355,
          7.177388668060303,
          8.235824584960938,
          10.49923324584961,
          8.996527671813965,
          9.013440132141113,
          8.817522048950195,
          6.842620849609375,
          9.445391654968262,
          9.990673065185547,
          9.076231002807617,
          10.558328628540039,
          9.532160758972168,
          6.983489513397217,
          9.607117652893066,
          8.863983154296875,
          10.543366432189941,
          9.156845092773438,
          9.869343757629395,
          10.247787475585938,
          10.59439468383789,
          9.537247657775879,
          6.998627662658691,
          8.818648338317871,
          12.182714462280273,
          11.755622863769531,
          12.30225944519043,
          10.010383605957031,
          9.27492904663086,
          11.188630104064941,
          11.959829330444336,
          10.452770233154297,
          8.913561820983887,
          10.600127220153809,
          10.223384857177734,
          8.050715446472168,
          10.11924934387207,
          7.79561185836792,
          8.850934028625488,
          10.669535636901855,
          11.907099723815918,
          8.438974380493164,
          10.576693534851074,
          10.891396522521973,
          10.995393753051758,
          8.775203704833984,
          9.749075889587402,
          10.188386917114258,
          8.79310131072998,
          8.796141624450684,
          10.882952690124512,
          9.851332664489746,
          11.810399055480957,
          10.128246307373047,
          10.263104438781738,
          9.121652603149414,
          9.032317161560059,
          10.201552391052246,
          9.98578929901123,
          12.351325035095215,
          12.091357231140137,
          10.515565872192383,
          8.492095947265625,
          8.115541458129883,
          8.317672729492188,
          10.545205116271973,
          8.502626419067383,
          10.545262336730957,
          10.271031379699707,
          8.724323272705078,
          10.100798606872559,
          12.443775177001953,
          12.067111015319824,
          9.229933738708496,
          8.357979774475098,
          8.835593223571777,
          8.87044620513916,
          10.003132820129395,
          8.0374755859375,
          10.457698822021484,
          11.98981761932373,
          8.511061668395996,
          8.841069221496582,
          10.549453735351562,
          7.479092597961426,
          9.474332809448242,
          8.559582710266113,
          8.67956256866455,
          10.741751670837402,
          10.02274227142334,
          11.199528694152832,
          9.665708541870117,
          9.290315628051758,
          9.575173377990723,
          8.662690162658691,
          9.239702224731445,
          8.527676582336426,
          8.509485244750977,
          9.432428359985352,
          6.9735612869262695,
          9.544829368591309,
          12.258119583129883,
          12.10433292388916,
          10.904006004333496,
          8.450421333312988,
          11.765230178833008,
          10.323742866516113,
          11.766704559326172,
          7.961147308349609,
          10.537400245666504,
          8.71259593963623,
          8.863487243652344,
          11.12347412109375,
          7.05293083190918,
          12.08352279663086,
          8.239046096801758,
          10.702859878540039,
          12.22951602935791,
          9.49463939666748,
          9.797611236572266,
          10.695595741271973,
          8.102483749389648,
          9.308052062988281,
          12.240533828735352,
          9.815903663635254,
          10.431367874145508,
          8.263007164001465,
          9.777098655700684,
          9.097192764282227,
          10.857271194458008,
          11.633427619934082,
          9.831783294677734,
          10.383721351623535,
          8.916474342346191,
          8.50579833984375,
          9.265607833862305,
          10.008569717407227,
          10.774171829223633,
          10.987950325012207,
          8.79549789428711,
          8.058098793029785,
          11.47045612335205,
          8.85987377166748,
          10.251029968261719,
          8.682021141052246,
          8.533182144165039,
          9.85411262512207,
          10.237530708312988,
          9.005885124206543,
          9.017200469970703,
          10.23729419708252,
          10.398115158081055,
          8.077417373657227,
          8.678046226501465,
          9.645726203918457,
          11.024497985839844,
          9.137533187866211,
          9.044490814208984,
          8.501520156860352,
          8.096956253051758,
          8.187615394592285,
          10.949633598327637,
          10.551953315734863,
          8.811538696289062,
          8.949382781982422,
          8.945622444152832,
          10.602900505065918,
          8.900973320007324,
          8.802584648132324,
          9.486190795898438,
          6.906746864318848,
          8.162182807922363,
          9.635930061340332,
          8.49189281463623,
          10.288328170776367,
          9.19853687286377,
          7.189096450805664,
          10.440692901611328,
          8.429762840270996,
          10.599310874938965,
          11.797517776489258,
          8.405157089233398,
          10.745195388793945,
          9.51332950592041,
          10.647024154663086,
          9.160806655883789,
          9.088537216186523,
          9.127447128295898,
          9.918095588684082,
          12.441461563110352,
          8.27547836303711,
          8.934341430664062,
          8.464609146118164,
          9.14836597442627,
          10.899384498596191,
          10.10537052154541,
          8.130582809448242,
          8.11219596862793,
          10.485575675964355,
          8.03954029083252,
          11.046770095825195,
          11.352825164794922,
          9.4232759475708,
          8.466139793395996,
          9.852248191833496,
          7.333962440490723,
          8.915142059326172,
          12.258925437927246,
          11.375656127929688,
          11.150057792663574,
          10.144118309020996,
          11.18851089477539,
          10.516985893249512,
          8.61325454711914,
          10.763289451599121,
          8.520614624023438,
          7.027436256408691,
          9.09414005279541,
          8.520442962646484,
          10.402573585510254,
          8.797832489013672,
          9.432897567749023,
          10.073905944824219,
          10.871233940124512,
          8.858353614807129,
          10.474872589111328,
          12.207331657409668,
          8.830742835998535,
          10.568520545959473,
          11.540513038635254,
          9.810646057128906,
          10.337496757507324,
          9.811968803405762,
          9.463797569274902,
          7.386804580688477,
          10.360328674316406,
          8.525433540344238,
          9.355417251586914,
          9.194876670837402,
          8.829096794128418,
          10.092968940734863,
          11.236045837402344,
          9.061488151550293,
          10.43524169921875,
          10.686199188232422,
          12.231234550476074,
          8.080897331237793,
          11.759544372558594,
          12.3311128616333,
          11.41250228881836,
          8.093364715576172,
          10.3551025390625,
          11.899216651916504,
          10.496549606323242,
          8.142136573791504,
          11.453874588012695,
          12.456652641296387
         ]
        },
        {
         "marker": {
          "color": "lightskyblue",
          "line": {
           "color": "midnightblue",
           "width": 1
          },
          "size": 12,
          "symbol": "diamond"
         },
         "mode": "markers",
         "showlegend": true,
         "text": [
          "Artist Name: KISS </br> Song Name: Rock And Roll All Nite",
          "Artist Name: Eagles </br> Song Name: Hotel California - 2013 Remaster",
          "Artist Name: AC/DC </br> Song Name: You Shook Me All Night Long",
          "Artist Name: Don Henley </br> Song Name: The Boys Of Summer"
         ],
         "type": "scatter3d",
         "x": [
          6.756996154785156,
          6.604333877563477,
          7.205152988433838,
          5.2068963050842285
         ],
         "y": [
          6.658257961273193,
          6.926928997039795,
          8.19778060913086,
          9.517824172973633
         ],
         "z": [
          12.135870933532715,
          10.64079475402832,
          8.997121810913086,
          8.79310131072998
         ]
        }
       ],
       "layout": {
        "height": 400,
        "hoverlabel": {
         "bgcolor": "white",
         "font": {
          "family": "Rockwell",
          "size": 16
         },
         "namelength": -1
        },
        "margin": {
         "b": 20,
         "l": 20,
         "r": 20,
         "t": 30
        },
        "plot_bgcolor": "#ffffff",
        "scene": {
         "aspectmode": "auto",
         "aspectratio": {
          "x": 1.2397948778797618,
          "y": 0.745026357400804,
          "z": 1.0826261796604386
         }
        },
        "template": {
         "data": {
          "bar": [
           {
            "error_x": {
             "color": "#2a3f5f"
            },
            "error_y": {
             "color": "#2a3f5f"
            },
            "marker": {
             "line": {
              "color": "#E5ECF6",
              "width": 0.5
             },
             "pattern": {
              "fillmode": "overlay",
              "size": 10,
              "solidity": 0.2
             }
            },
            "type": "bar"
           }
          ],
          "barpolar": [
           {
            "marker": {
             "line": {
              "color": "#E5ECF6",
              "width": 0.5
             },
             "pattern": {
              "fillmode": "overlay",
              "size": 10,
              "solidity": 0.2
             }
            },
            "type": "barpolar"
           }
          ],
          "carpet": [
           {
            "aaxis": {
             "endlinecolor": "#2a3f5f",
             "gridcolor": "white",
             "linecolor": "white",
             "minorgridcolor": "white",
             "startlinecolor": "#2a3f5f"
            },
            "baxis": {
             "endlinecolor": "#2a3f5f",
             "gridcolor": "white",
             "linecolor": "white",
             "minorgridcolor": "white",
             "startlinecolor": "#2a3f5f"
            },
            "type": "carpet"
           }
          ],
          "choropleth": [
           {
            "colorbar": {
             "outlinewidth": 0,
             "ticks": ""
            },
            "type": "choropleth"
           }
          ],
          "contour": [
           {
            "colorbar": {
             "outlinewidth": 0,
             "ticks": ""
            },
            "colorscale": [
             [
              0,
              "#0d0887"
             ],
             [
              0.1111111111111111,
              "#46039f"
             ],
             [
              0.2222222222222222,
              "#7201a8"
             ],
             [
              0.3333333333333333,
              "#9c179e"
             ],
             [
              0.4444444444444444,
              "#bd3786"
             ],
             [
              0.5555555555555556,
              "#d8576b"
             ],
             [
              0.6666666666666666,
              "#ed7953"
             ],
             [
              0.7777777777777778,
              "#fb9f3a"
             ],
             [
              0.8888888888888888,
              "#fdca26"
             ],
             [
              1,
              "#f0f921"
             ]
            ],
            "type": "contour"
           }
          ],
          "contourcarpet": [
           {
            "colorbar": {
             "outlinewidth": 0,
             "ticks": ""
            },
            "type": "contourcarpet"
           }
          ],
          "heatmap": [
           {
            "colorbar": {
             "outlinewidth": 0,
             "ticks": ""
            },
            "colorscale": [
             [
              0,
              "#0d0887"
             ],
             [
              0.1111111111111111,
              "#46039f"
             ],
             [
              0.2222222222222222,
              "#7201a8"
             ],
             [
              0.3333333333333333,
              "#9c179e"
             ],
             [
              0.4444444444444444,
              "#bd3786"
             ],
             [
              0.5555555555555556,
              "#d8576b"
             ],
             [
              0.6666666666666666,
              "#ed7953"
             ],
             [
              0.7777777777777778,
              "#fb9f3a"
             ],
             [
              0.8888888888888888,
              "#fdca26"
             ],
             [
              1,
              "#f0f921"
             ]
            ],
            "type": "heatmap"
           }
          ],
          "heatmapgl": [
           {
            "colorbar": {
             "outlinewidth": 0,
             "ticks": ""
            },
            "colorscale": [
             [
              0,
              "#0d0887"
             ],
             [
              0.1111111111111111,
              "#46039f"
             ],
             [
              0.2222222222222222,
              "#7201a8"
             ],
             [
              0.3333333333333333,
              "#9c179e"
             ],
             [
              0.4444444444444444,
              "#bd3786"
             ],
             [
              0.5555555555555556,
              "#d8576b"
             ],
             [
              0.6666666666666666,
              "#ed7953"
             ],
             [
              0.7777777777777778,
              "#fb9f3a"
             ],
             [
              0.8888888888888888,
              "#fdca26"
             ],
             [
              1,
              "#f0f921"
             ]
            ],
            "type": "heatmapgl"
           }
          ],
          "histogram": [
           {
            "marker": {
             "pattern": {
              "fillmode": "overlay",
              "size": 10,
              "solidity": 0.2
             }
            },
            "type": "histogram"
           }
          ],
          "histogram2d": [
           {
            "colorbar": {
             "outlinewidth": 0,
             "ticks": ""
            },
            "colorscale": [
             [
              0,
              "#0d0887"
             ],
             [
              0.1111111111111111,
              "#46039f"
             ],
             [
              0.2222222222222222,
              "#7201a8"
             ],
             [
              0.3333333333333333,
              "#9c179e"
             ],
             [
              0.4444444444444444,
              "#bd3786"
             ],
             [
              0.5555555555555556,
              "#d8576b"
             ],
             [
              0.6666666666666666,
              "#ed7953"
             ],
             [
              0.7777777777777778,
              "#fb9f3a"
             ],
             [
              0.8888888888888888,
              "#fdca26"
             ],
             [
              1,
              "#f0f921"
             ]
            ],
            "type": "histogram2d"
           }
          ],
          "histogram2dcontour": [
           {
            "colorbar": {
             "outlinewidth": 0,
             "ticks": ""
            },
            "colorscale": [
             [
              0,
              "#0d0887"
             ],
             [
              0.1111111111111111,
              "#46039f"
             ],
             [
              0.2222222222222222,
              "#7201a8"
             ],
             [
              0.3333333333333333,
              "#9c179e"
             ],
             [
              0.4444444444444444,
              "#bd3786"
             ],
             [
              0.5555555555555556,
              "#d8576b"
             ],
             [
              0.6666666666666666,
              "#ed7953"
             ],
             [
              0.7777777777777778,
              "#fb9f3a"
             ],
             [
              0.8888888888888888,
              "#fdca26"
             ],
             [
              1,
              "#f0f921"
             ]
            ],
            "type": "histogram2dcontour"
           }
          ],
          "mesh3d": [
           {
            "colorbar": {
             "outlinewidth": 0,
             "ticks": ""
            },
            "type": "mesh3d"
           }
          ],
          "parcoords": [
           {
            "line": {
             "colorbar": {
              "outlinewidth": 0,
              "ticks": ""
             }
            },
            "type": "parcoords"
           }
          ],
          "pie": [
           {
            "automargin": true,
            "type": "pie"
           }
          ],
          "scatter": [
           {
            "marker": {
             "colorbar": {
              "outlinewidth": 0,
              "ticks": ""
             }
            },
            "type": "scatter"
           }
          ],
          "scatter3d": [
           {
            "line": {
             "colorbar": {
              "outlinewidth": 0,
              "ticks": ""
             }
            },
            "marker": {
             "colorbar": {
              "outlinewidth": 0,
              "ticks": ""
             }
            },
            "type": "scatter3d"
           }
          ],
          "scattercarpet": [
           {
            "marker": {
             "colorbar": {
              "outlinewidth": 0,
              "ticks": ""
             }
            },
            "type": "scattercarpet"
           }
          ],
          "scattergeo": [
           {
            "marker": {
             "colorbar": {
              "outlinewidth": 0,
              "ticks": ""
             }
            },
            "type": "scattergeo"
           }
          ],
          "scattergl": [
           {
            "marker": {
             "colorbar": {
              "outlinewidth": 0,
              "ticks": ""
             }
            },
            "type": "scattergl"
           }
          ],
          "scattermapbox": [
           {
            "marker": {
             "colorbar": {
              "outlinewidth": 0,
              "ticks": ""
             }
            },
            "type": "scattermapbox"
           }
          ],
          "scatterpolar": [
           {
            "marker": {
             "colorbar": {
              "outlinewidth": 0,
              "ticks": ""
             }
            },
            "type": "scatterpolar"
           }
          ],
          "scatterpolargl": [
           {
            "marker": {
             "colorbar": {
              "outlinewidth": 0,
              "ticks": ""
             }
            },
            "type": "scatterpolargl"
           }
          ],
          "scatterternary": [
           {
            "marker": {
             "colorbar": {
              "outlinewidth": 0,
              "ticks": ""
             }
            },
            "type": "scatterternary"
           }
          ],
          "surface": [
           {
            "colorbar": {
             "outlinewidth": 0,
             "ticks": ""
            },
            "colorscale": [
             [
              0,
              "#0d0887"
             ],
             [
              0.1111111111111111,
              "#46039f"
             ],
             [
              0.2222222222222222,
              "#7201a8"
             ],
             [
              0.3333333333333333,
              "#9c179e"
             ],
             [
              0.4444444444444444,
              "#bd3786"
             ],
             [
              0.5555555555555556,
              "#d8576b"
             ],
             [
              0.6666666666666666,
              "#ed7953"
             ],
             [
              0.7777777777777778,
              "#fb9f3a"
             ],
             [
              0.8888888888888888,
              "#fdca26"
             ],
             [
              1,
              "#f0f921"
             ]
            ],
            "type": "surface"
           }
          ],
          "table": [
           {
            "cells": {
             "fill": {
              "color": "#EBF0F8"
             },
             "line": {
              "color": "white"
             }
            },
            "header": {
             "fill": {
              "color": "#C8D4E3"
             },
             "line": {
              "color": "white"
             }
            },
            "type": "table"
           }
          ]
         },
         "layout": {
          "annotationdefaults": {
           "arrowcolor": "#2a3f5f",
           "arrowhead": 0,
           "arrowwidth": 1
          },
          "autotypenumbers": "strict",
          "coloraxis": {
           "colorbar": {
            "outlinewidth": 0,
            "ticks": ""
           }
          },
          "colorscale": {
           "diverging": [
            [
             0,
             "#8e0152"
            ],
            [
             0.1,
             "#c51b7d"
            ],
            [
             0.2,
             "#de77ae"
            ],
            [
             0.3,
             "#f1b6da"
            ],
            [
             0.4,
             "#fde0ef"
            ],
            [
             0.5,
             "#f7f7f7"
            ],
            [
             0.6,
             "#e6f5d0"
            ],
            [
             0.7,
             "#b8e186"
            ],
            [
             0.8,
             "#7fbc41"
            ],
            [
             0.9,
             "#4d9221"
            ],
            [
             1,
             "#276419"
            ]
           ],
           "sequential": [
            [
             0,
             "#0d0887"
            ],
            [
             0.1111111111111111,
             "#46039f"
            ],
            [
             0.2222222222222222,
             "#7201a8"
            ],
            [
             0.3333333333333333,
             "#9c179e"
            ],
            [
             0.4444444444444444,
             "#bd3786"
            ],
            [
             0.5555555555555556,
             "#d8576b"
            ],
            [
             0.6666666666666666,
             "#ed7953"
            ],
            [
             0.7777777777777778,
             "#fb9f3a"
            ],
            [
             0.8888888888888888,
             "#fdca26"
            ],
            [
             1,
             "#f0f921"
            ]
           ],
           "sequentialminus": [
            [
             0,
             "#0d0887"
            ],
            [
             0.1111111111111111,
             "#46039f"
            ],
            [
             0.2222222222222222,
             "#7201a8"
            ],
            [
             0.3333333333333333,
             "#9c179e"
            ],
            [
             0.4444444444444444,
             "#bd3786"
            ],
            [
             0.5555555555555556,
             "#d8576b"
            ],
            [
             0.6666666666666666,
             "#ed7953"
            ],
            [
             0.7777777777777778,
             "#fb9f3a"
            ],
            [
             0.8888888888888888,
             "#fdca26"
            ],
            [
             1,
             "#f0f921"
            ]
           ]
          },
          "colorway": [
           "#636efa",
           "#EF553B",
           "#00cc96",
           "#ab63fa",
           "#FFA15A",
           "#19d3f3",
           "#FF6692",
           "#B6E880",
           "#FF97FF",
           "#FECB52"
          ],
          "font": {
           "color": "#2a3f5f"
          },
          "geo": {
           "bgcolor": "white",
           "lakecolor": "white",
           "landcolor": "#E5ECF6",
           "showlakes": true,
           "showland": true,
           "subunitcolor": "white"
          },
          "hoverlabel": {
           "align": "left"
          },
          "hovermode": "closest",
          "mapbox": {
           "style": "light"
          },
          "paper_bgcolor": "white",
          "plot_bgcolor": "#E5ECF6",
          "polar": {
           "angularaxis": {
            "gridcolor": "white",
            "linecolor": "white",
            "ticks": ""
           },
           "bgcolor": "#E5ECF6",
           "radialaxis": {
            "gridcolor": "white",
            "linecolor": "white",
            "ticks": ""
           }
          },
          "scene": {
           "xaxis": {
            "backgroundcolor": "#E5ECF6",
            "gridcolor": "white",
            "gridwidth": 2,
            "linecolor": "white",
            "showbackground": true,
            "ticks": "",
            "zerolinecolor": "white"
           },
           "yaxis": {
            "backgroundcolor": "#E5ECF6",
            "gridcolor": "white",
            "gridwidth": 2,
            "linecolor": "white",
            "showbackground": true,
            "ticks": "",
            "zerolinecolor": "white"
           },
           "zaxis": {
            "backgroundcolor": "#E5ECF6",
            "gridcolor": "white",
            "gridwidth": 2,
            "linecolor": "white",
            "showbackground": true,
            "ticks": "",
            "zerolinecolor": "white"
           }
          },
          "shapedefaults": {
           "line": {
            "color": "#2a3f5f"
           }
          },
          "ternary": {
           "aaxis": {
            "gridcolor": "white",
            "linecolor": "white",
            "ticks": ""
           },
           "baxis": {
            "gridcolor": "white",
            "linecolor": "white",
            "ticks": ""
           },
           "bgcolor": "#E5ECF6",
           "caxis": {
            "gridcolor": "white",
            "linecolor": "white",
            "ticks": ""
           }
          },
          "title": {
           "x": 0.05
          },
          "xaxis": {
           "automargin": true,
           "gridcolor": "white",
           "linecolor": "white",
           "ticks": "",
           "title": {
            "standoff": 15
           },
           "zerolinecolor": "white",
           "zerolinewidth": 2
          },
          "yaxis": {
           "automargin": true,
           "gridcolor": "white",
           "linecolor": "white",
           "ticks": "",
           "title": {
            "standoff": 15
           },
           "zerolinecolor": "white",
           "zerolinewidth": 2
          }
         }
        },
        "title": {
         "font": {
          "size": 20
         }
        },
        "width": 800
       }
      }
     },
     "metadata": {},
     "output_type": "display_data"
    }
   ],
   "source": [
    "plot_embedding(df, umap_embedding_3d, clusters_3d, artist_indexes, outpath=\"images/umap_3d_second_take.png\")"
   ]
  },
  {
   "cell_type": "markdown",
   "id": "007c6b62-2b6f-474e-a872-edb7453429ce",
   "metadata": {},
   "source": [
    "![2d_embed](images/umap_3d_second_take.png)\n",
    "\n",
    "\n",
    "Welp, it's a mess but it's my mess. There are a few conclusions I can draw from this exercise.\n",
    "- The features you include in dimensionality reductions are important, and without proper handling they will have outsized influence if they are categorical or especially text. One way we could potentially handle this is by running SVD earlier on in the pipeline, exclusively on the categorical and text variables.\n",
    "- Be careful with your clustering methodology. As we see from the chart above, the cluster assignments created from running DBSCAN on one set of parameters are not great.\n",
    "- Unsupervised learning can be a great way to find patterns in high dimensional data but it can also be like reading signs from chicken scratch. We can drastically impact cluster assignments and embeddings by varying features to include as well as parameters for UMAP and DBSCAN.\n",
    "\n",
    "Of course, this wouldn't be complete if I did not allow you as a reader to play around with this data yourself. As with many other projects I've played around with, I built an accompanying Streamlit application to further explore my data and play around with cluster assignments. Try it out [here](https://mpkrass7-redesigned-octo-disco-streamlit-bigger-appapp-bd2mgm.streamlitapp.com/). You can also download the dataset [here](data/spotify_music_output.csv) for your own use.\n",
    "\n",
    "If you are interested in learning more or talking to me about this subject, feel free to look me up on [Github](https://github.com/mpkrass7) or add me on [Linkedin](https://www.linkedin.com/in/marshall-krassenstein/)! The greatest reward I have from doing any of this is hearing from people who took something away from my post.\n"
   ]
  },
  {
   "cell_type": "markdown",
   "id": "05c4284e",
   "metadata": {},
   "source": [
    "\n",
    "\n",
    "## References\n",
    "- “2.3. Clustering.” Scikit-Learn, https://scikit-learn/stable/modules/clustering.html. Accessed 9 July 2022.\n",
    "- “6.1. Pipelines and Composite Estimators.” Scikit-Learn, https://scikit-learn/stable/modules/compose.html. Accessed 9 July 2022.\n",
    "- 500 Best Songs of All Time - Rolling Stone. https://www.rollingstone.com/music/music-lists/best-songs-of-all-time-1224767/. Accessed 9 July 2022.\n",
    "\n",
    "None of this has anything to do with DataRobot, the company I work at. Nonetheless, I thank all of my coworkers who came to that one deep dive session on Streamlit I did a couple weeks ago because it inspired me to build my app and make this post.  "
   ]
  },
  {
   "cell_type": "markdown",
   "id": "264c3a2e",
   "metadata": {},
   "source": []
  }
 ],
 "metadata": {
  "kernelspec": {
   "display_name": "Python 3 (ipykernel)",
   "language": "python",
   "name": "python3"
  },
  "language_info": {
   "codemirror_mode": {
    "name": "ipython",
    "version": 3
   },
   "file_extension": ".py",
   "mimetype": "text/x-python",
   "name": "python",
   "nbconvert_exporter": "python",
   "pygments_lexer": "ipython3",
   "version": "3.9.10"
  },
  "vscode": {
   "interpreter": {
    "hash": "8e3b4a50d1b6ed9388068cfd2a8c4086e3bcbda815bab5b314146d4000c40dfc"
   }
  }
 },
 "nbformat": 4,
 "nbformat_minor": 5
}
