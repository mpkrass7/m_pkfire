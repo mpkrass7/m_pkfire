{
 "cells": [
  {
   "cell_type": "code",
   "execution_count": 1,
   "id": "ff5325ca-2335-40f8-a64a-b2156c83661d",
   "metadata": {
    "tags": []
   },
   "outputs": [
    {
     "name": "stderr",
     "output_type": "stream",
     "text": [
      "2023-09-21 20:36:16.778067: I tensorflow/core/platform/cpu_feature_guard.cc:182] This TensorFlow binary is optimized to use available CPU instructions in performance-critical operations.\n",
      "To enable the following instructions: AVX2 AVX512F AVX512_VNNI FMA, in other operations, rebuild TensorFlow with the appropriate compiler flags.\n"
     ]
    }
   ],
   "source": [
    "from functools import wraps\n",
    "import json\n",
    "import os\n",
    "import time\n",
    "\n",
    "import datarobot as dr\n",
    "from datarobot_bp_workshop import Visualize\n",
    "import datarobotx as drx\n",
    "from logzero import logger\n",
    "import matplotlib.pyplot as plt\n",
    "import numpy as np\n",
    "import openai\n",
    "import pandas as pd\n",
    "import requests\n",
    "from sklearn.metrics import log_loss\n",
    "from transformers import AutoModelForSequenceClassification, AutoTokenizer, pipeline\n",
    "\n",
    "def timeit(func):\n",
    "    @wraps(func)\n",
    "    def timeit_wrapper(*args, **kwargs):\n",
    "        start_time = time.perf_counter()\n",
    "        result = func(*args, **kwargs)\n",
    "        end_time = time.perf_counter()\n",
    "        total_time = end_time - start_time\n",
    "        print(f'Function {func.__name__} Took {total_time:.4f} seconds')\n",
    "        return result\n",
    "    return timeit_wrapper"
   ]
  },
  {
   "cell_type": "markdown",
   "id": "30d0768c-0547-44b0-b9ce-34ba705d64e4",
   "metadata": {},
   "source": [
    "# Semi Supervised Learning with Hugging Face LLMs and DataRobot\n"
   ]
  },
  {
   "cell_type": "markdown",
   "id": "bdc01939-50d9-4556-9a57-c3aaafdfa4c5",
   "metadata": {},
   "source": [
    "## TL/DR\n",
    "In this post, I show a few approaches for handling text classification problems both with and without training labels. "
   ]
  },
  {
   "cell_type": "markdown",
   "id": "ca0af717-01b3-4873-b65f-d04f16ecbae6",
   "metadata": {
    "tags": []
   },
   "source": [
    "## Goal\n",
    "\n",
    "In all of the buzz with generative AI or 'foundation models', many people take at face value that LLMs like GPT, Roberta and others can be used to superior effect on virtually any task, especially in one involving text or image data. \n",
    "\n",
    "My goal in this notebook is to make a rough empirical test for this claim. I will then provide methods for using LLMs in tandem with traditional Machine Learning models in order to appropriately solve a problem. The scenario will be as follows:\n",
    "\n",
    "I am a bank (Without any more detail, are you already bored by this scenario? I don't care. I worked at a bank. Bear with me. My blog, my way.) I have a bunch of emails I want to classify to be in one of four channels so that I can route it somewhere. Ideally, a machine would do this for me because:\n",
    "\n",
    "1. Routing emails is boring.\n",
    "2. These emails are all customer complaints so it's depressing in addition to boring.\n",
    "3. I don't know anything about the domain and don't know how to decide where to send any of these.\n",
    "4. Some of these emails are in Spanish, which I don't speak fluently. Some are in French which I don't speak at all.\n",
    "\n",
    "How might we approach this problem? I'll highlight four ways here and highlight code for each one.\n",
    "- Traditional Supervised Learning\n",
    "- Zero Shot Inference\n",
    "- Fine Tuning (Supervised Learning for LLMs)\n",
    "- A combination of Zeroshot Learning and Supervised Learning\n",
    "\n",
    "Of course for any of these problems, we need some kind of data to make predictions on. And so I pull up an email triage dataset below. "
   ]
  },
  {
   "cell_type": "markdown",
   "id": "493f0926-02d7-4e5e-8fa5-1c10566d2f1f",
   "metadata": {},
   "source": [
    "## Our Dataset"
   ]
  },
  {
   "cell_type": "code",
   "execution_count": 2,
   "id": "29e266a6-006c-4613-b881-748b7c603515",
   "metadata": {
    "tags": []
   },
   "outputs": [
    {
     "name": "stdout",
     "output_type": "stream",
     "text": [
      "(12290, 8)\n"
     ]
    },
    {
     "data": {
      "text/html": [
       "<div>\n",
       "<style scoped>\n",
       "    .dataframe tbody tr th:only-of-type {\n",
       "        vertical-align: middle;\n",
       "    }\n",
       "\n",
       "    .dataframe tbody tr th {\n",
       "        vertical-align: top;\n",
       "    }\n",
       "\n",
       "    .dataframe thead th {\n",
       "        text-align: right;\n",
       "    }\n",
       "</style>\n",
       "<table border=\"1\" class=\"dataframe\">\n",
       "  <thead>\n",
       "    <tr style=\"text-align: right;\">\n",
       "      <th></th>\n",
       "      <th>Date_received</th>\n",
       "      <th>Transaction_Type</th>\n",
       "      <th>Company_response</th>\n",
       "      <th>Date_sent_to_company</th>\n",
       "      <th>Consumer_disputes</th>\n",
       "      <th>Consumer_complaint_summary</th>\n",
       "      <th>summary_length</th>\n",
       "      <th>summary_words</th>\n",
       "    </tr>\n",
       "  </thead>\n",
       "  <tbody>\n",
       "    <tr>\n",
       "      <th>0</th>\n",
       "      <td>5/7/2015</td>\n",
       "      <td>Bank account or service</td>\n",
       "      <td>NaN</td>\n",
       "      <td>5/7/2015</td>\n",
       "      <td>No</td>\n",
       "      <td>El XXXX / XXXX / 15, estaba preparando el vuel...</td>\n",
       "      <td>3853</td>\n",
       "      <td>720</td>\n",
       "    </tr>\n",
       "    <tr>\n",
       "      <th>1</th>\n",
       "      <td>9/29/2016</td>\n",
       "      <td>Credit card</td>\n",
       "      <td>Company has responded to the consumer and the ...</td>\n",
       "      <td>9/29/2016</td>\n",
       "      <td>No</td>\n",
       "      <td>J'ai obtenu un compte de crédit de soins pour ...</td>\n",
       "      <td>1013</td>\n",
       "      <td>185</td>\n",
       "    </tr>\n",
       "    <tr>\n",
       "      <th>2</th>\n",
       "      <td>10/15/2016</td>\n",
       "      <td>Bank account or service</td>\n",
       "      <td>Company has responded to the consumer and the ...</td>\n",
       "      <td>10/15/2016</td>\n",
       "      <td>No</td>\n",
       "      <td>Je suis en train de faire faillite et, par con...</td>\n",
       "      <td>1018</td>\n",
       "      <td>172</td>\n",
       "    </tr>\n",
       "    <tr>\n",
       "      <th>3</th>\n",
       "      <td>3/5/2016</td>\n",
       "      <td>Credit card</td>\n",
       "      <td>NaN</td>\n",
       "      <td>3/5/2016</td>\n",
       "      <td>No</td>\n",
       "      <td>My boyfriend and I bought a XXXX sofa and we h...</td>\n",
       "      <td>1147</td>\n",
       "      <td>215</td>\n",
       "    </tr>\n",
       "    <tr>\n",
       "      <th>4</th>\n",
       "      <td>12/28/2016</td>\n",
       "      <td>Consumer Loan</td>\n",
       "      <td>NaN</td>\n",
       "      <td>12/28/2016</td>\n",
       "      <td>No</td>\n",
       "      <td>In XX / XX / XXXX we open a lease with XXXX DB...</td>\n",
       "      <td>1573</td>\n",
       "      <td>303</td>\n",
       "    </tr>\n",
       "  </tbody>\n",
       "</table>\n",
       "</div>"
      ],
      "text/plain": [
       "  Date_received         Transaction_Type  \\\n",
       "0      5/7/2015  Bank account or service   \n",
       "1     9/29/2016              Credit card   \n",
       "2    10/15/2016  Bank account or service   \n",
       "3      3/5/2016              Credit card   \n",
       "4    12/28/2016            Consumer Loan   \n",
       "\n",
       "                                    Company_response Date_sent_to_company  \\\n",
       "0                                                NaN             5/7/2015   \n",
       "1  Company has responded to the consumer and the ...            9/29/2016   \n",
       "2  Company has responded to the consumer and the ...           10/15/2016   \n",
       "3                                                NaN             3/5/2016   \n",
       "4                                                NaN           12/28/2016   \n",
       "\n",
       "  Consumer_disputes                         Consumer_complaint_summary  \\\n",
       "0                No  El XXXX / XXXX / 15, estaba preparando el vuel...   \n",
       "1                No  J'ai obtenu un compte de crédit de soins pour ...   \n",
       "2                No  Je suis en train de faire faillite et, par con...   \n",
       "3                No  My boyfriend and I bought a XXXX sofa and we h...   \n",
       "4                No  In XX / XX / XXXX we open a lease with XXXX DB...   \n",
       "\n",
       "   summary_length  summary_words  \n",
       "0            3853            720  \n",
       "1            1013            185  \n",
       "2            1018            172  \n",
       "3            1147            215  \n",
       "4            1573            303  "
      ]
     },
     "execution_count": 2,
     "metadata": {},
     "output_type": "execute_result"
    }
   ],
   "source": [
    "df = pd.read_csv('https://s3.amazonaws.com/datarobot_public/drx/email_training_dataset.csv').drop(columns='Unnamed: 0')\n",
    "target = 'Transaction_Type'\n",
    "primary_feature = 'Consumer_complaint_summary'\n",
    "print(df.shape)\n",
    "df.head()"
   ]
  },
  {
   "cell_type": "markdown",
   "id": "dc06ad37-9127-43dc-a5f1-174821392ba2",
   "metadata": {},
   "source": [
    "In this dataset the goal is to predict the \"Transaction_Type\" that a customer is sending a complaint about. There are four transaction types an email can reference: Consumer Loan, Student Loan, Bank Account or Service, and Credit Card."
   ]
  },
  {
   "cell_type": "code",
   "execution_count": 3,
   "id": "d7190fb1-6a18-4ffc-b977-505d1b72f979",
   "metadata": {
    "tags": []
   },
   "outputs": [
    {
     "data": {
      "text/plain": [
       "<Axes: title={'center': 'Distribution of our Classes of Emails\\n (we want to predict this)'}>"
      ]
     },
     "execution_count": 3,
     "metadata": {},
     "output_type": "execute_result"
    },
    {
     "data": {
      "image/png": "[encoded data removed]",
      "text/plain": [
       "<Figure size 640x480 with 1 Axes>"
      ]
     },
     "metadata": {},
     "output_type": "display_data"
    }
   ],
   "source": [
    "# Show class distribution\n",
    "(df[target]\n",
    " .value_counts()\n",
    " .plot(kind='barh', title='Distribution of our Classes of Emails\\n (we want to predict this)')\n",
    ")\n"
   ]
  },
  {
   "cell_type": "markdown",
   "id": "4618f06d-3716-4bf4-bfc1-30868f971364",
   "metadata": {},
   "source": [
    "There are multiple fields in this dataset that could be correlated with the transaction type but the primary field that will tell us is simply the body of the email, which is listed in `Consumer_complaint_summary`. Below I show an email about canceling a credit card from Bank of America. Apparently, Bank of America did not make this an easy process for their customers when this dataset was created. The transaction type is marked as 'Credit Card', which makes sense given the content of the email. "
   ]
  },
  {
   "cell_type": "code",
   "execution_count": 5,
   "id": "5c0651b6-62c1-4b87-99df-0abdb9174704",
   "metadata": {
    "tags": []
   },
   "outputs": [
    {
     "name": "stdout",
     "output_type": "stream",
     "text": [
      "Complaint Summary:\n",
      "\n",
      "I have been trying to cancel a Bank of America XXXX credit card and request reimbursement of the annual fee. When I first called, the Bank of America associate assured me that my card would be canceled and that the annual fee charged recently will be refunded.\n",
      "\n",
      "The card seems to be canceled, however, the balance of the annual fee still appears on my statement.\n",
      "\n",
      "I already tried to call twice, and both times the wait time exceeded 40 minutes. I tried to send the request online, but I received a message that these types of requests must be answered by phone. I'm calling again today, still waiting.\n",
      "----------------------------------------------------------------------------------------------------\n",
      "Transaction_Type: Credit card\n"
     ]
    }
   ],
   "source": [
    "print(f\"Complaint Summary:\\n\\n{df.Consumer_complaint_summary[10]}\\n{'-'*100}\\nTransaction_Type: {df.Transaction_Type[10]}\")"
   ]
  },
  {
   "cell_type": "markdown",
   "id": "e1d08bf1-4ff1-40e3-987a-f9d4d4499a54",
   "metadata": {},
   "source": [
    "I mentioned above that other fields might be correlated with the transaction type in some way. In this project, I only use the `Consumer_complaint_summary` as a feature. I need to do this because LLMs don't have a way to use other features to generate their inference unless the user does some very clever preprocessing to stuff all of the relevant information into one big text feature. Score one for our first approach, supervised machine learning that don't involve LLMs!"
   ]
  },
  {
   "cell_type": "code",
   "execution_count": 6,
   "id": "7adf8d1b-354f-4f09-ab21-b0fd373cda71",
   "metadata": {
    "tags": []
   },
   "outputs": [
    {
     "data": {
      "text/html": [
       "<div>\n",
       "<style scoped>\n",
       "    .dataframe tbody tr th:only-of-type {\n",
       "        vertical-align: middle;\n",
       "    }\n",
       "\n",
       "    .dataframe tbody tr th {\n",
       "        vertical-align: top;\n",
       "    }\n",
       "\n",
       "    .dataframe thead th {\n",
       "        text-align: right;\n",
       "    }\n",
       "</style>\n",
       "<table border=\"1\" class=\"dataframe\">\n",
       "  <thead>\n",
       "    <tr style=\"text-align: right;\">\n",
       "      <th></th>\n",
       "      <th>Transaction_Type</th>\n",
       "      <th>Consumer_complaint_summary</th>\n",
       "    </tr>\n",
       "  </thead>\n",
       "  <tbody>\n",
       "    <tr>\n",
       "      <th>0</th>\n",
       "      <td>Bank account or service</td>\n",
       "      <td>El XXXX / XXXX / 15, estaba preparando el vuel...</td>\n",
       "    </tr>\n",
       "    <tr>\n",
       "      <th>1</th>\n",
       "      <td>Credit card</td>\n",
       "      <td>J'ai obtenu un compte de crédit de soins pour ...</td>\n",
       "    </tr>\n",
       "    <tr>\n",
       "      <th>2</th>\n",
       "      <td>Bank account or service</td>\n",
       "      <td>Je suis en train de faire faillite et, par con...</td>\n",
       "    </tr>\n",
       "    <tr>\n",
       "      <th>3</th>\n",
       "      <td>Credit card</td>\n",
       "      <td>My boyfriend and I bought a XXXX sofa and we h...</td>\n",
       "    </tr>\n",
       "    <tr>\n",
       "      <th>4</th>\n",
       "      <td>Consumer Loan</td>\n",
       "      <td>In XX / XX / XXXX we open a lease with XXXX DB...</td>\n",
       "    </tr>\n",
       "  </tbody>\n",
       "</table>\n",
       "</div>"
      ],
      "text/plain": [
       "          Transaction_Type                         Consumer_complaint_summary\n",
       "0  Bank account or service  El XXXX / XXXX / 15, estaba preparando el vuel...\n",
       "1              Credit card  J'ai obtenu un compte de crédit de soins pour ...\n",
       "2  Bank account or service  Je suis en train de faire faillite et, par con...\n",
       "3              Credit card  My boyfriend and I bought a XXXX sofa and we h...\n",
       "4            Consumer Loan  In XX / XX / XXXX we open a lease with XXXX DB..."
      ]
     },
     "execution_count": 6,
     "metadata": {},
     "output_type": "execute_result"
    }
   ],
   "source": [
    "df = df[[target, primary_feature]]\n",
    "df.head()"
   ]
  },
  {
   "cell_type": "markdown",
   "id": "cdea02cb-efed-4a94-8da9-3cb69fdff093",
   "metadata": {},
   "source": [
    "### Approach 1: Supervised Machine Learning"
   ]
  },
  {
   "cell_type": "markdown",
   "id": "cb6faaf7-b491-403c-a586-a367b7f463dc",
   "metadata": {
    "tags": []
   },
   "source": [
    "Given we have a training dataset, the actual Machine Learning process in this approach is easy or at least routine. We just need to do some NLP to featurize our text data and fit a model. If we do a good job with all of the standard ML workflow stuff (properly partitioning, feature engineering, hyper parameter tuning, model selection etc..) we end up with a model that generalizes well to unseen data. Yay! Some tools can do part or even all of the work in this process. Yay! DataRobot is one of them and I work there. \n",
    "\n",
    "What? You want open source **and** you want to follow along? Tough luck, friend. I'm here to solve a problem, not implement a pipeline many people have already implemented. So, DataRobot. Or whatever you want I guess. I'm not going to hunt you down if you don't follow along or if you decide to use scikit-learn, keras, or even a competitor like h20 or (*barf*) Dataiku."
   ]
  },
  {
   "cell_type": "code",
   "execution_count": 7,
   "id": "e586ef78-7658-4bb8-828e-cce70418af2c",
   "metadata": {
    "tags": []
   },
   "outputs": [
    {
     "name": "stdout",
     "output_type": "stream",
     "text": [
      "(10000, 2) (2290, 2)\n"
     ]
    }
   ],
   "source": [
    "# Hold out some data to evaluate later\n",
    "X_train, X_test = df[:10000], df[10000:].reset_index(drop=True)\n",
    "print(X_train.shape, X_test.shape)"
   ]
  },
  {
   "cell_type": "code",
   "execution_count": 8,
   "id": "3971fffe-2f73-42bc-8215-eaa14004e2ad",
   "metadata": {
    "tags": []
   },
   "outputs": [
    {
     "data": {
      "application/vnd.jupyter.widget-view+json": {
       "model_id": "4d4a2b708f89430c852c23c73d757f10",
       "version_major": 2,
       "version_minor": 0
      },
      "text/plain": [
       "VBox()"
      ]
     },
     "metadata": {},
     "output_type": "display_data"
    }
   ],
   "source": [
    "# Shove some data into DataRobot\n",
    "email_classifier_model = drx.AutoMLModel(name=\"Email Classifier\").fit(X_train, target=target)"
   ]
  },
  {
   "cell_type": "markdown",
   "id": "5fd15f2c-62f3-434b-837c-6aa4bac29ee1",
   "metadata": {},
   "source": [
    "Small aside here, but yes, the one liner above is genuinely all you need to do to perform machine learning on a multiclass and mulitlingual text problem. I'm not sure if this is a testament to DataRobot specifically or the progression of the field in general. Probably more the latter but I do take some pride in my company's software. "
   ]
  },
  {
   "cell_type": "code",
   "execution_count": 11,
   "id": "f477d79c-2156-41e9-ae94-c83685b5dbdc",
   "metadata": {
    "tags": []
   },
   "outputs": [
    {
     "data": {
      "application/vnd.jupyter.widget-view+json": {
       "model_id": "c2ad459f40bd43ea84ab63dfc8e158f0",
       "version_major": 2,
       "version_minor": 0
      },
      "text/plain": [
       "VBox()"
      ]
     },
     "metadata": {},
     "output_type": "display_data"
    },
    {
     "data": {
      "application/vnd.jupyter.widget-view+json": {
       "model_id": "7a66ace3cc224e03a8a6d196b1b6c74b",
       "version_major": 2,
       "version_minor": 0
      },
      "text/plain": [
       "VBox()"
      ]
     },
     "metadata": {},
     "output_type": "display_data"
    }
   ],
   "source": [
    "email_classifier_model._best_model"
   ]
  },
  {
   "cell_type": "markdown",
   "id": "4afb5f06-fd5e-4aac-95a3-8652e67a59b7",
   "metadata": {},
   "source": [
    "In the project, I see that most models tried after preprocessing were [Stochastic Gradient Descent Classifiers](http://scikit-learn.org/stable/modules/sgd.html#sgd). Given I gave the project just one feature to use, I can't imagine the preprocessing done for any of these was incredibly complicated. I confirm that our best model just ran [tfidf](https://scikit-learn.org/stable/modules/generated/sklearn.feature_extraction.text.TfidfVectorizer.html) on the ngrams value of our text columns before fitting into our model. "
   ]
  },
  {
   "cell_type": "code",
   "execution_count": 403,
   "id": "d26f5417-b37d-41d4-bf62-17e501c734d0",
   "metadata": {
    "tags": []
   },
   "outputs": [
    {
     "data": {
      "image/png": "[encoded data removed]",
      "text/plain": [
       "<IPython.core.display.Image object>"
      ]
     },
     "metadata": {},
     "output_type": "display_data"
    }
   ],
   "source": [
    "project_id = email_classifier_model._project_id\n",
    "project = dr.Project.get(project_id)\n",
    "top_model = project.get_top_model()\n",
    "bp_chart = dr.Blueprint.get(project_id, top_model.blueprint_id)\n",
    "\n",
    "Visualize.show_dr_blueprint(bp_chart)"
   ]
  },
  {
   "cell_type": "markdown",
   "id": "444a2cca-6f21-4a95-8a81-dc9191327f86",
   "metadata": {},
   "source": [
    "### Evaluate"
   ]
  },
  {
   "cell_type": "markdown",
   "id": "e2c22f50-63a9-4e93-86db-077853cdd103",
   "metadata": {},
   "source": [
    "Our leaderboard suggests this model is pretty accurate. It's AUC is 0.97 and its [balanced accuracy](https://docs.datarobot.com/en/docs/modeling/reference/model-detail/opt-metric.html#accuracybalanced-accuracy) is 86%. But who trusts enterprise software these days? Lets see how it predicts on my held out dataset."
   ]
  },
  {
   "cell_type": "code",
   "execution_count": 404,
   "id": "67450cd5-2d40-4268-b9f5-ed38891504e5",
   "metadata": {
    "tags": []
   },
   "outputs": [
    {
     "data": {
      "application/vnd.jupyter.widget-view+json": {
       "model_id": "ee50fc0b0cb74807ba31a391926959fc",
       "version_major": 2,
       "version_minor": 0
      },
      "text/plain": [
       "VBox()"
      ]
     },
     "metadata": {},
     "output_type": "display_data"
    },
    {
     "data": {
      "application/vnd.jupyter.widget-view+json": {
       "model_id": "266b093133b145a89463634b29813c3e",
       "version_major": 2,
       "version_minor": 0
      },
      "text/plain": [
       "VBox()"
      ]
     },
     "metadata": {},
     "output_type": "display_data"
    }
   ],
   "source": [
    "pred_probas = email_classifier_model.predict_proba(X_test)\n",
    "preds = email_classifier_model.predict(X_test)"
   ]
  },
  {
   "cell_type": "code",
   "execution_count": 407,
   "id": "e5f565f9-5699-4f65-848e-7096e408b01c",
   "metadata": {
    "tags": []
   },
   "outputs": [
    {
     "data": {
      "text/html": [
       "<div>\n",
       "<style scoped>\n",
       "    .dataframe tbody tr th:only-of-type {\n",
       "        vertical-align: middle;\n",
       "    }\n",
       "\n",
       "    .dataframe tbody tr th {\n",
       "        vertical-align: top;\n",
       "    }\n",
       "\n",
       "    .dataframe thead th {\n",
       "        text-align: right;\n",
       "    }\n",
       "</style>\n",
       "<table border=\"1\" class=\"dataframe\">\n",
       "  <thead>\n",
       "    <tr style=\"text-align: right;\">\n",
       "      <th></th>\n",
       "      <th>Transaction_Type</th>\n",
       "      <th>Consumer_complaint_summary</th>\n",
       "      <th>prediction</th>\n",
       "      <th>class_Bank account or service</th>\n",
       "      <th>class_Consumer Loan</th>\n",
       "      <th>class_Credit card</th>\n",
       "      <th>class_Student loan</th>\n",
       "    </tr>\n",
       "  </thead>\n",
       "  <tbody>\n",
       "    <tr>\n",
       "      <th>0</th>\n",
       "      <td>Credit card</td>\n",
       "      <td>I have had this Bank of America credit card si...</td>\n",
       "      <td>Credit card</td>\n",
       "      <td>0.015389</td>\n",
       "      <td>0.000723</td>\n",
       "      <td>0.972247</td>\n",
       "      <td>0.011640</td>\n",
       "    </tr>\n",
       "    <tr>\n",
       "      <th>1</th>\n",
       "      <td>Consumer Loan</td>\n",
       "      <td>mi pago fue devuelto por la razón dada ... pag...</td>\n",
       "      <td>Consumer Loan</td>\n",
       "      <td>0.186634</td>\n",
       "      <td>0.301319</td>\n",
       "      <td>0.254186</td>\n",
       "      <td>0.257861</td>\n",
       "    </tr>\n",
       "    <tr>\n",
       "      <th>2</th>\n",
       "      <td>Bank account or service</td>\n",
       "      <td>I was trying to use my debit card XXXX / XXXX ...</td>\n",
       "      <td>Bank account or service</td>\n",
       "      <td>0.997043</td>\n",
       "      <td>0.001156</td>\n",
       "      <td>0.001622</td>\n",
       "      <td>0.000178</td>\n",
       "    </tr>\n",
       "    <tr>\n",
       "      <th>3</th>\n",
       "      <td>Bank account or service</td>\n",
       "      <td>Mes deux parents sont décédés, me laissant com...</td>\n",
       "      <td>Bank account or service</td>\n",
       "      <td>0.865719</td>\n",
       "      <td>0.041147</td>\n",
       "      <td>0.044492</td>\n",
       "      <td>0.048642</td>\n",
       "    </tr>\n",
       "    <tr>\n",
       "      <th>4</th>\n",
       "      <td>Consumer Loan</td>\n",
       "      <td>The ACE CASH services have threatened to take ...</td>\n",
       "      <td>Consumer Loan</td>\n",
       "      <td>0.004686</td>\n",
       "      <td>0.737329</td>\n",
       "      <td>0.021331</td>\n",
       "      <td>0.236654</td>\n",
       "    </tr>\n",
       "  </tbody>\n",
       "</table>\n",
       "</div>"
      ],
      "text/plain": [
       "          Transaction_Type                         Consumer_complaint_summary  \\\n",
       "0              Credit card  I have had this Bank of America credit card si...   \n",
       "1            Consumer Loan  mi pago fue devuelto por la razón dada ... pag...   \n",
       "2  Bank account or service  I was trying to use my debit card XXXX / XXXX ...   \n",
       "3  Bank account or service  Mes deux parents sont décédés, me laissant com...   \n",
       "4            Consumer Loan  The ACE CASH services have threatened to take ...   \n",
       "\n",
       "                prediction  class_Bank account or service  \\\n",
       "0              Credit card                       0.015389   \n",
       "1            Consumer Loan                       0.186634   \n",
       "2  Bank account or service                       0.997043   \n",
       "3  Bank account or service                       0.865719   \n",
       "4            Consumer Loan                       0.004686   \n",
       "\n",
       "   class_Consumer Loan  class_Credit card  class_Student loan  \n",
       "0             0.000723           0.972247            0.011640  \n",
       "1             0.301319           0.254186            0.257861  \n",
       "2             0.001156           0.001622            0.000178  \n",
       "3             0.041147           0.044492            0.048642  \n",
       "4             0.737329           0.021331            0.236654  "
      ]
     },
     "execution_count": 407,
     "metadata": {},
     "output_type": "execute_result"
    }
   ],
   "source": [
    "X_eval = pd.concat((X_test.reset_index(drop=True), preds, pred_probas),axis=1)\n",
    "X_eval.head()"
   ]
  },
  {
   "cell_type": "code",
   "execution_count": 406,
   "id": "3b6ce8a3-64d5-4fd9-b0a9-1b147384bc24",
   "metadata": {
    "tags": []
   },
   "outputs": [
    {
     "name": "stdout",
     "output_type": "stream",
     "text": [
      "Accuracy 87.60%\n",
      "LogLoss 0.35\n"
     ]
    }
   ],
   "source": [
    "accuracy = (X_eval[target]==X_eval['prediction']).sum() / len(X_test)\n",
    "prediction_probabilities = pred_probas.values\n",
    "logloss = log_loss(X_eval[target], prediction_probabilities, labels=[i.replace('class_', \"\") for i in pred_probas.columns.to_list()])\n",
    "\n",
    "print(\"Accuracy {:.2%}\".format(accuracy))\n",
    "print(\"LogLoss {:.2}\".format(logloss))"
   ]
  },
  {
   "cell_type": "markdown",
   "id": "121f1f97-08e1-4aa7-8afd-5f98142cd7cc",
   "metadata": {},
   "source": [
    "Yup pretty much aligns with what the leaderboard reported, which shouldn't be suprising but it's always nice to verify."
   ]
  },
  {
   "cell_type": "markdown",
   "id": "d87830bd-f81e-4d08-a245-1e9febd636fb",
   "metadata": {
    "jp-MarkdownHeadingCollapsed": true,
    "tags": []
   },
   "source": [
    "### Perks and drawbacks of this approach\n",
    "\n",
    "On problems involving natural language processing and really, any problems containing features with signal, the \"traditional ML\" approach is nice here for a couple of reasons.\n",
    "\n",
    "Stengths:\n",
    "- Training is reasonably fast\n",
    "- Inference time is fast\n",
    "- Accuracy is good\n",
    "- It can use features that aren't text to predict an outcome (although we didn't for the sake of comparison)\n",
    "\n",
    "Weaknesses:\n",
    "- You need a training dataset\n",
    "- A fancy implementation of a logistic regression is not as fancy as a 'Deep Neural Network'"
   ]
  },
  {
   "cell_type": "markdown",
   "id": "e6d5216e-8ee7-4a28-9a4b-20af35b53334",
   "metadata": {},
   "source": [
    "## Approach 2: Zeroshot Inference with LLMs\n",
    "\n",
    "While traditional machine learning works for this problem and most other problems where the goal is to compute a continuous or categorical outcome, it assumes the user comes ready with a **labeled** training dataset. In practice this is not always true. Part of my job is helping our sales people sell our product. I do this by showing customers cool things they can build with machine learning. Customers often respond with enthusiasm when they think of all of the problems they can solve at their company with machine learning. Yet many a sale has died when the prospect discovers in practice that they don't have any labeled training data.\n",
    "\n",
    "### Concept\n",
    "\n",
    "One idea many people have for LLMs is to apply them on datasets with this exact problem. Generally, the method for handling this problem goes something like this:\n",
    "1. Come up with potential labels for your dataset. In our case, that's still one of Consumer Loan, Student Loan, Bank Account or Service, and Credit Card.\n",
    "2. Feed each label into an LLM and extract its [embedding](https://huggingface.co/blog/getting-started-with-embeddings), which is a fancy phrase for a vector of numbers representing an LLMs numeric representation of the label.\n",
    "3. Repeat for all records:\n",
    "    - Feed text feature into LLM and extract its embedding\n",
    "    - Set record label as $ c = \\underset{c}{\\mathrm{argmax}} \\space​ cos(Φ(x),Φ(c))$ where $Φ(x)$ represents the the encoding from the text and $Φ(c)$ represents the encoding from the labels.\n",
    "        - [Cosine similarity](https://scikit-learn.org/stable/modules/generated/sklearn.metrics.pairwise.cosine_similarity.html) is a common distance measure used to do this\n",
    "\n",
    "And then you're done! In theory, no hand labeled data needed. I diagram this process below.\n",
    "![How zero-shot classification works](images/zero-shot-diagram.jpg)"
   ]
  },
  {
   "cell_type": "markdown",
   "id": "c4220499-fe63-4864-9c3e-c6c3738289eb",
   "metadata": {},
   "source": [
    "### Implementation"
   ]
  },
  {
   "cell_type": "markdown",
   "id": "15caa022-3e3a-445e-b2b0-9c67b54413be",
   "metadata": {},
   "source": [
    "So let's see if it works. I'll use the `transformers` library from Huggingface to run zero shot learning on the dataset. Of course, Huggingface actually has 119 models hosted for the exact purpose of zero-shot learning and we would ideally find a way to intelligently choose which model to use for this problem. Besides taking a very long time to compute predictions on a bunch of LLMs, performing model selection also requires some form of validation data, which we're not supposed to have in this scenario. In this case I opted to use [bart-large-mnli](https://huggingface.co/facebook/bart-large-mnli). I chose this model because it had the most downloads and upvotes of any model at the time of writing. "
   ]
  },
  {
   "cell_type": "code",
   "execution_count": 49,
   "id": "72c20a41-8122-461d-a7df-6537635f9996",
   "metadata": {
    "tags": []
   },
   "outputs": [],
   "source": [
    "model = \"facebook/bart-large-mnli\"\n",
    "input_dir = 'local-checkpoint'\n",
    "\n",
    "tokenizer = AutoTokenizer.from_pretrained(model)\n",
    "nli_model = AutoModelForSequenceClassification.from_pretrained(model)"
   ]
  },
  {
   "cell_type": "code",
   "execution_count": 50,
   "id": "03580a79-0a0a-4da9-88e3-281b0757bce6",
   "metadata": {
    "tags": []
   },
   "outputs": [
    {
     "data": {
      "text/plain": [
       "('local-checkpoint/tokenizer_config.json',\n",
       " 'local-checkpoint/special_tokens_map.json',\n",
       " 'local-checkpoint/vocab.json',\n",
       " 'local-checkpoint/merges.txt',\n",
       " 'local-checkpoint/added_tokens.json',\n",
       " 'local-checkpoint/tokenizer.json')"
      ]
     },
     "execution_count": 50,
     "metadata": {},
     "output_type": "execute_result"
    }
   ],
   "source": [
    "text_classifier = pipeline(\"zero-shot-classification\", model=nli_model, tokenizer=tokenizer)\n",
    "# Save if you don't want to download again\n",
    "nli_model.save_pretrained(input_dir)\n",
    "tokenizer.save_pretrained(input_dir)"
   ]
  },
  {
   "cell_type": "markdown",
   "id": "0c1b78a1-9153-49c3-b839-8fce5b1ed373",
   "metadata": {},
   "source": [
    "### Make inferences"
   ]
  },
  {
   "cell_type": "markdown",
   "id": "fbbff740-4b4b-4b52-964f-66308010c06b",
   "metadata": {},
   "source": [
    "Unfortunately, it takes it about 8 seconds to score each record using this model on my MacBook Pro CPU, so I had to downsample my evaluation set. Not to give undo props to DataRobot, but if we're scoring Zero-Shot Inference against AutoML, it turns out it is far faster for an end user to train, evaluate then get predictions from about 20 models for this problem than it is to make predictions from this single LLM."
   ]
  },
  {
   "cell_type": "code",
   "execution_count": 275,
   "id": "b4aefbf1-a080-4f22-9852-ccd56b0152a5",
   "metadata": {
    "tags": []
   },
   "outputs": [
    {
     "name": "stderr",
     "output_type": "stream",
     "text": [
      "[I 230508 09:41:12 694847491:31] Running Zero Shot Inference on group 1\n",
      "[I 230508 11:17:33 694847491:31] Running Zero Shot Inference on group 2\n",
      "[I 230508 12:42:10 694847491:31] Running Zero Shot Inference on group 3\n",
      "[I 230508 13:55:34 694847491:31] Running Zero Shot Inference on group 4\n",
      "[I 230508 15:35:36 694847491:31] Running Zero Shot Inference on group 5\n",
      "[I 230508 16:53:32 694847491:31] Running Zero Shot Inference on group 6\n",
      "[I 230508 18:22:16 694847491:31] Running Zero Shot Inference on group 7\n",
      "[I 230508 19:25:03 694847491:31] Running Zero Shot Inference on group 8\n",
      "[I 230509 07:34:33 694847491:31] Running Zero Shot Inference on group 9\n",
      "[I 230509 08:43:34 694847491:31] Running Zero Shot Inference on group 10\n",
      "[I 230509 11:02:46 694847491:31] Running Zero Shot Inference on group 11\n",
      "[I 230509 12:26:30 694847491:31] Running Zero Shot Inference on group 12\n",
      "[I 230509 15:08:42 694847491:31] Running Zero Shot Inference on group 13\n",
      "[I 230509 16:22:19 694847491:31] Running Zero Shot Inference on group 14\n",
      "[I 230509 17:38:20 694847491:31] Running Zero Shot Inference on group 15\n",
      "[I 230509 18:44:20 694847491:31] Running Zero Shot Inference on group 16\n",
      "[I 230509 19:49:49 694847491:31] Running Zero Shot Inference on group 17\n",
      "[I 230509 20:47:40 694847491:31] Running Zero Shot Inference on group 18\n",
      "[I 230509 21:44:20 694847491:31] Running Zero Shot Inference on group 19\n",
      "[I 230510 00:28:44 694847491:31] Running Zero Shot Inference on group 20\n",
      "[I 230510 08:42:24 694847491:31] Running Zero Shot Inference on group 21\n",
      "[I 230510 09:52:56 694847491:31] Running Zero Shot Inference on group 22\n",
      "[I 230510 11:12:53 694847491:31] Running Zero Shot Inference on group 23\n",
      "[I 230510 12:33:55 694847491:31] Running Zero Shot Inference on group 24\n",
      "[I 230510 13:54:32 694847491:31] Running Zero Shot Inference on group 25\n"
     ]
    }
   ],
   "source": [
    "np.random.seed(42)\n",
    "# X_test_down_sample = df\n",
    "candidate_labels = df['Transaction_Type'].unique().tolist()\n",
    "consumer_complaints = df['Consumer_complaint_summary'].tolist()\n",
    "\n",
    "def run_zeroshot_inference(classifier, text, candidate_labels, log_every=100, clear_output=False):\n",
    "    \"Make zero shot predicitons\"\n",
    "    \n",
    "    def divide_chunks(l, n=100):\n",
    "        for i in range(0, len(l), n):\n",
    "            yield l[i:i + n]\n",
    "    def write_output(predictions, path, overwrite=False):\n",
    "        with open(path, 'r') as f:\n",
    "            data = json.load(f)\n",
    "        if overwrite:\n",
    "            data['data'] = predictions\n",
    "        else:\n",
    "            data['data'] += predictions\n",
    "        with open(path, 'w') as f:\n",
    "            json.dump(data, f)\n",
    "            \n",
    "    outpath = \"data/zero_shot_predictions.json\"\n",
    "    if clear_output:\n",
    "        write_output([], outpath, clear_output)\n",
    "    else:\n",
    "        with open(outpath, 'r') as f:\n",
    "            d = json.load(f)\n",
    "            text = text[len(d['data']):]\n",
    "        \n",
    "    text_chunks = list(divide_chunks(text, n=log_every))\n",
    "    for i, group in enumerate(text_chunks):\n",
    "        logger.info(f\"Running Zero Shot Inference on group {i+1}\")\n",
    "        group_predictions = [classifier(record, candidate_labels) for record in group]\n",
    "        inference_out = [{'labels': i['labels'], 'scores': i['scores']} for i in group_predictions]\n",
    "        write_output(inference_out, outpath)\n",
    "    return outpath\n",
    "\n",
    "run_zeroshot_inference(text_classifier, consumer_complaints, candidate_labels, log_every=500, clear_output=False)"
   ]
  },
  {
   "cell_type": "code",
   "execution_count": 390,
   "id": "3a3fe6ee-fac8-45c7-b1a6-167616bd5728",
   "metadata": {
    "tags": []
   },
   "outputs": [],
   "source": [
    "# json_preds"
   ]
  },
  {
   "cell_type": "code",
   "execution_count": 396,
   "id": "f63ccc3b-e616-43db-8329-584a229ae5a5",
   "metadata": {
    "tags": []
   },
   "outputs": [
    {
     "data": {
      "text/html": [
       "<div>\n",
       "<style scoped>\n",
       "    .dataframe tbody tr th:only-of-type {\n",
       "        vertical-align: middle;\n",
       "    }\n",
       "\n",
       "    .dataframe tbody tr th {\n",
       "        vertical-align: top;\n",
       "    }\n",
       "\n",
       "    .dataframe thead th {\n",
       "        text-align: right;\n",
       "    }\n",
       "</style>\n",
       "<table border=\"1\" class=\"dataframe\">\n",
       "  <thead>\n",
       "    <tr style=\"text-align: right;\">\n",
       "      <th></th>\n",
       "      <th>prediction</th>\n",
       "      <th>scaled_similarity</th>\n",
       "      <th>Consumer Loan</th>\n",
       "      <th>Bank account or service</th>\n",
       "      <th>Credit card</th>\n",
       "      <th>Student loan</th>\n",
       "    </tr>\n",
       "  </thead>\n",
       "  <tbody>\n",
       "    <tr>\n",
       "      <th>0</th>\n",
       "      <td>Bank account or service</td>\n",
       "      <td>0.331196</td>\n",
       "      <td>0.290377</td>\n",
       "      <td>0.331196</td>\n",
       "      <td>0.244425</td>\n",
       "      <td>0.134003</td>\n",
       "    </tr>\n",
       "    <tr>\n",
       "      <th>1</th>\n",
       "      <td>Bank account or service</td>\n",
       "      <td>0.391387</td>\n",
       "      <td>0.193196</td>\n",
       "      <td>0.391387</td>\n",
       "      <td>0.334984</td>\n",
       "      <td>0.080433</td>\n",
       "    </tr>\n",
       "    <tr>\n",
       "      <th>2</th>\n",
       "      <td>Bank account or service</td>\n",
       "      <td>0.464648</td>\n",
       "      <td>0.099698</td>\n",
       "      <td>0.464648</td>\n",
       "      <td>0.375043</td>\n",
       "      <td>0.060611</td>\n",
       "    </tr>\n",
       "    <tr>\n",
       "      <th>3</th>\n",
       "      <td>Bank account or service</td>\n",
       "      <td>0.609222</td>\n",
       "      <td>0.105634</td>\n",
       "      <td>0.609222</td>\n",
       "      <td>0.264156</td>\n",
       "      <td>0.020988</td>\n",
       "    </tr>\n",
       "    <tr>\n",
       "      <th>4</th>\n",
       "      <td>Bank account or service</td>\n",
       "      <td>0.433630</td>\n",
       "      <td>0.202371</td>\n",
       "      <td>0.433630</td>\n",
       "      <td>0.298585</td>\n",
       "      <td>0.065413</td>\n",
       "    </tr>\n",
       "    <tr>\n",
       "      <th>...</th>\n",
       "      <td>...</td>\n",
       "      <td>...</td>\n",
       "      <td>...</td>\n",
       "      <td>...</td>\n",
       "      <td>...</td>\n",
       "      <td>...</td>\n",
       "    </tr>\n",
       "    <tr>\n",
       "      <th>12285</th>\n",
       "      <td>Consumer Loan</td>\n",
       "      <td>0.797441</td>\n",
       "      <td>0.797441</td>\n",
       "      <td>0.091895</td>\n",
       "      <td>0.096323</td>\n",
       "      <td>0.014340</td>\n",
       "    </tr>\n",
       "    <tr>\n",
       "      <th>12286</th>\n",
       "      <td>Bank account or service</td>\n",
       "      <td>0.565619</td>\n",
       "      <td>0.027464</td>\n",
       "      <td>0.565619</td>\n",
       "      <td>0.396140</td>\n",
       "      <td>0.010777</td>\n",
       "    </tr>\n",
       "    <tr>\n",
       "      <th>12287</th>\n",
       "      <td>Bank account or service</td>\n",
       "      <td>0.804746</td>\n",
       "      <td>0.063040</td>\n",
       "      <td>0.804746</td>\n",
       "      <td>0.097282</td>\n",
       "      <td>0.034933</td>\n",
       "    </tr>\n",
       "    <tr>\n",
       "      <th>12288</th>\n",
       "      <td>Credit card</td>\n",
       "      <td>0.861674</td>\n",
       "      <td>0.045540</td>\n",
       "      <td>0.083127</td>\n",
       "      <td>0.861674</td>\n",
       "      <td>0.009659</td>\n",
       "    </tr>\n",
       "    <tr>\n",
       "      <th>12289</th>\n",
       "      <td>Bank account or service</td>\n",
       "      <td>0.653922</td>\n",
       "      <td>0.133848</td>\n",
       "      <td>0.653922</td>\n",
       "      <td>0.160176</td>\n",
       "      <td>0.052054</td>\n",
       "    </tr>\n",
       "  </tbody>\n",
       "</table>\n",
       "<p>12290 rows × 6 columns</p>\n",
       "</div>"
      ],
      "text/plain": [
       "                    prediction  scaled_similarity  Consumer Loan  \\\n",
       "0      Bank account or service           0.331196       0.290377   \n",
       "1      Bank account or service           0.391387       0.193196   \n",
       "2      Bank account or service           0.464648       0.099698   \n",
       "3      Bank account or service           0.609222       0.105634   \n",
       "4      Bank account or service           0.433630       0.202371   \n",
       "...                        ...                ...            ...   \n",
       "12285            Consumer Loan           0.797441       0.797441   \n",
       "12286  Bank account or service           0.565619       0.027464   \n",
       "12287  Bank account or service           0.804746       0.063040   \n",
       "12288              Credit card           0.861674       0.045540   \n",
       "12289  Bank account or service           0.653922       0.133848   \n",
       "\n",
       "       Bank account or service  Credit card  Student loan  \n",
       "0                     0.331196     0.244425      0.134003  \n",
       "1                     0.391387     0.334984      0.080433  \n",
       "2                     0.464648     0.375043      0.060611  \n",
       "3                     0.609222     0.264156      0.020988  \n",
       "4                     0.433630     0.298585      0.065413  \n",
       "...                        ...          ...           ...  \n",
       "12285                 0.091895     0.096323      0.014340  \n",
       "12286                 0.565619     0.396140      0.010777  \n",
       "12287                 0.804746     0.097282      0.034933  \n",
       "12288                 0.083127     0.861674      0.009659  \n",
       "12289                 0.653922     0.160176      0.052054  \n",
       "\n",
       "[12290 rows x 6 columns]"
      ]
     },
     "execution_count": 396,
     "metadata": {},
     "output_type": "execute_result"
    }
   ],
   "source": [
    "with open('data/zero_shot_predictions.json', 'r') as f:\n",
    "    json_preds = json.load(f)['data']\n",
    "    zero_shot_predictions = pd.DataFrame(dict(prediction = [i['labels'][0] for i in json_preds], scaled_similarity = [i['scores'][0] for i in json_preds]))\n",
    "    for transaction_type in ['Consumer Loan', 'Bank account or service', 'Credit card', 'Student loan']:\n",
    "        zero_shot_predictions[transaction_type] = [i['scores'][i['labels'].index(transaction_type)] for i in json_preds]\n",
    "\n",
    "zero_shot_predictions"
   ]
  },
  {
   "cell_type": "markdown",
   "id": "5661e0bd-2ebe-4b61-945d-6c928bed8fc1",
   "metadata": {
    "tags": []
   },
   "source": [
    "### Evaluate"
   ]
  },
  {
   "cell_type": "markdown",
   "id": "e541da39-8d17-43bb-9af0-01d7d60c813f",
   "metadata": {},
   "source": [
    "Now I can take our last 2290 predictions and compare them to the held out dataset to figure out a measure of accuracy. "
   ]
  },
  {
   "cell_type": "code",
   "execution_count": 393,
   "id": "6b6520df-24e0-417e-84c5-5fbfd32da578",
   "metadata": {
    "tags": []
   },
   "outputs": [
    {
     "data": {
      "text/plain": [
       "<Axes: title={'center': 'Distribution of Actual Labels'}>"
      ]
     },
     "execution_count": 393,
     "metadata": {},
     "output_type": "execute_result"
    },
    {
     "data": {
      "image/png": "[encoded data removed]",
      "text/plain": [
       "<Figure size 1600x600 with 2 Axes>"
      ]
     },
     "metadata": {},
     "output_type": "display_data"
    }
   ],
   "source": [
    "zero_shot_evaluate_predictions = zero_shot_predictions[10000:].reset_index(drop=True)\n",
    "\n",
    "fig, ax = plt.subplots(1,2, figsize=(16,6))\n",
    "(zero_shot_evaluate_predictions\n",
    " .assign(prediction = lambda x: np.where(x.prediction == 'Bank account or service', 'Bank account\\nor service', x.prediction))['prediction']\n",
    " .value_counts()\n",
    " .plot(kind='barh', title='Distribution of Predicted Labels', ax=ax[0], xlim=[0, 1500], rot=45)\n",
    ")\n",
    "(X_test\n",
    " .assign(Transaction_Type = lambda x: np.where(x.Transaction_Type == 'Bank account or service', 'Bank account\\nor service', x.Transaction_Type))['Transaction_Type']\n",
    " .value_counts()\n",
    " .plot(kind='barh', title='Distribution of Actual Labels', ax=ax[1], xlim=[0, 1500], rot=45)\n",
    ")"
   ]
  },
  {
   "cell_type": "markdown",
   "id": "4a6a279f-1c6d-4d2b-9695-67fdb4bc20e4",
   "metadata": {},
   "source": [
    "Already we can see the distribution of the labels is different from the original training dataset. The phrase 'Bank account or service' seems to dominate the results. It's possible that the embedding for 'Bank Account or Service' matches is getting higher match scores because the name is longer. An important issue to note with zero shot inference is that the labels you choose, whether for NLP problems or visual classification problems, matter a lot. Below, I also show that the model is not very accurate. Using this, there is a little better than a coin flip's chance of being right. Still, being right over half the time is better than being right a quarter of the time, which is where we would stand with a random guess."
   ]
  },
  {
   "cell_type": "code",
   "execution_count": 423,
   "id": "711ff4e6-93f1-46b1-a04d-cc64a6c9d636",
   "metadata": {
    "tags": []
   },
   "outputs": [
    {
     "name": "stdout",
     "output_type": "stream",
     "text": [
      "Accuracy 55.07%\n",
      "LogLoss 1.5\n"
     ]
    }
   ],
   "source": [
    "accuracy = (zero_shot_evaluate_predictions['prediction']==X_test[target]).sum() / len(X_test)\n",
    "prediction_probabilities = zero_shot_evaluate_predictions.scaled_similarity\n",
    "logloss = log_loss(X_test[target], zero_shot_evaluate_predictions.iloc[:,-4:], labels=zero_shot_evaluate_predictions.iloc[:, -4:].columns.to_list())\n",
    "\n",
    "print(\"Accuracy {:.2%}\".format(accuracy))\n",
    "print(\"LogLoss {:.2}\".format(logloss))"
   ]
  },
  {
   "cell_type": "markdown",
   "id": "f89f8bb7-7ebc-490b-aa00-36f889a1ea8c",
   "metadata": {
    "tags": []
   },
   "source": [
    "### Perks and drawbacks of this approach\n",
    "\n",
    "Stengths:\n",
    "- You don't need to hand label anything!\n",
    "- There is no overhead for training. Just ping something that exists and get a result\n",
    "- You get to use LLMs\n",
    "- Zero-shot inference sounds cool\n",
    "\n",
    "Weaknesses:\n",
    "- Inference takes a very long time\n",
    "- The model was not as accurate as other methods\n",
    "- Writing poor candidate labels can destroy your predictions\n",
    "- You can only use one feature which must be freeform text or an image\n",
    "- Your stuck with classification problems. Continuous outcomes cannot be predicted with this method"
   ]
  },
  {
   "cell_type": "markdown",
   "id": "858fe6b8-f8a8-410d-92e7-194f6aaa3197",
   "metadata": {
    "tags": []
   },
   "source": [
    "## Approach 3: Finetuning with fancier LLMs\n",
    "\n",
    "The prohibitively long inference time and lack of accuracy in a fairly run of the mill text classification problem likely disqualify zero-shot inference as a substitute for most practical NLP problems. But to be fair on the accuracy side, we took an LLM specialized for one task and forced it to do another without any form of training. If we're willing to acknowledge the need for training data, we could instead opt to [Fine Tune](https://platform.openai.com/docs/guides/fine-tuning) our LLMs for the task at hand.\n",
    "\n",
    "From the Open AI Docs:\n",
    "\n",
    "*\"Fine-tuning lets you get more out of the models available through the API by providing:*\n",
    "\n",
    "1. *Higher quality results than prompt design*\n",
    "2. *Ability to train on more examples than can fit in a prompt*\n",
    "3. *Token savings due to shorter prompts*\n",
    "4. *Lower latency requests*\n",
    "\n",
    "*GPT-3 has been pre-trained on a vast amount of text from the open internet. When given a prompt with just a few examples, it can often intuit what task you are trying to perform and generate a plausible completion. This is often called \"few-shot learning.\"*\n",
    "\n",
    "*Fine-tuning improves on few-shot learning by training on many more examples than can fit in the prompt, letting you achieve better results on a wide number of tasks. Once a model has been fine-tuned, you won't need to provide examples in the prompt anymore. This saves costs and enables lower-latency requests.\"*\n",
    "\n",
    "Sounds great to me, specifically for the high quality responses and low latency requests. For most of this, I followed along the guide in the [OpenAI cookbook](https://github.com/openai/openai-cookbook/blob/main/examples/Fine-tuned_classification.ipynb).\n",
    "\n",
    "Even more helpfully, OpenAI has a data preparation CLI. Neat! "
   ]
  },
  {
   "cell_type": "code",
   "execution_count": 132,
   "id": "2da3e421-9d23-4844-9bf6-e3078f885c56",
   "metadata": {
    "tags": []
   },
   "outputs": [
    {
     "data": {
      "text/plain": [
       "['Bank account or service', 'Credit card', 'Consumer Loan', 'Student loan']"
      ]
     },
     "execution_count": 132,
     "metadata": {},
     "output_type": "execute_result"
    }
   ],
   "source": [
    "candidate_labels"
   ]
  },
  {
   "cell_type": "code",
   "execution_count": 63,
   "id": "eb430d2c-2371-4dfe-9055-8a72722e15ae",
   "metadata": {
    "tags": []
   },
   "outputs": [],
   "source": [
    "X_finetune = X_train.rename(columns={'Transaction_Type':'completion', 'Consumer_complaint_summary': 'prompt'})\n",
    "\n",
    "\n",
    "X_finetune.to_json(\"data/x_train-finetune.jsonl\", orient='records', lines=True)\n"
   ]
  },
  {
   "cell_type": "code",
   "execution_count": 68,
   "id": "375f6c80-d885-4660-93ec-abcd466473eb",
   "metadata": {
    "tags": []
   },
   "outputs": [
    {
     "name": "stdout",
     "output_type": "stream",
     "text": [
      "Analyzing...\n",
      "\n",
      "- Your file contains 10000 prompt-completion pairs\n",
      "- Based on your data it seems like you're trying to fine-tune a model for classification\n",
      "- For classification, we recommend you try one of the faster and cheaper models, such as `ada`\n",
      "- For classification, you can estimate the expected model performance by keeping a held out dataset, which is not used for training\n",
      "- There are 5 duplicated prompt-completion sets. These are rows: [2938, 6612, 8243, 9079, 9445]\n",
      "- Your data does not contain a common separator at the end of your prompts. Having a separator string appended to the end of the prompt makes it clearer to the fine-tuned model where the completion should begin. See https://platform.openai.com/docs/guides/fine-tuning/preparing-your-dataset for more detail and examples. If you intend to do open-ended generation, then you should leave the prompts empty\n",
      "- The completion should start with a whitespace character (` `). This tends to produce better results due to the tokenization we use. See https://platform.openai.com/docs/guides/fine-tuning/preparing-your-dataset for more details\n",
      "\n",
      "Based on the analysis we will perform the following actions:\n",
      "- [Recommended] Remove 5 duplicate rows [Y/n]: Y\n",
      "- [Recommended] Add a suffix separator `\\n\\n###\\n\\n` to all prompts [Y/n]: Y\n",
      "/Users/marshall.krassenstein/.pyenv/versions/3.10/envs/general_env/lib/python3.10/site-packages/openai/validators.py:226: SettingWithCopyWarning: \n",
      "A value is trying to be set on a copy of a slice from a DataFrame.\n",
      "Try using .loc[row_indexer,col_indexer] = value instead\n",
      "\n",
      "See the caveats in the documentation: https://pandas.pydata.org/pandas-docs/stable/user_guide/indexing.html#returning-a-view-versus-a-copy\n",
      "  x[\"prompt\"] += suffix\n",
      "- [Recommended] Add a whitespace character to the beginning of the completion [Y/n]: Y\n",
      "/Users/marshall.krassenstein/.pyenv/versions/3.10/envs/general_env/lib/python3.10/site-packages/openai/validators.py:425: SettingWithCopyWarning: \n",
      "A value is trying to be set on a copy of a slice from a DataFrame.\n",
      "Try using .loc[row_indexer,col_indexer] = value instead\n",
      "\n",
      "See the caveats in the documentation: https://pandas.pydata.org/pandas-docs/stable/user_guide/indexing.html#returning-a-view-versus-a-copy\n",
      "  x[\"completion\"] = x[\"completion\"].apply(\n",
      "- [Recommended] Would you like to split into training and validation set? [Y/n]: Y\n",
      "\n",
      "\n",
      "Your data will be written to a new JSONL file. Proceed [Y/n]: Y\n",
      "\n",
      "Wrote modified files to `data/x_train-finetune_prepared_train.jsonl` and `data/x_train-finetune_prepared_valid.jsonl`\n",
      "Feel free to take a look!\n",
      "\n",
      "Now use that file when fine-tuning:\n",
      "> openai api fine_tunes.create -t \"data/x_train-finetune_prepared_train.jsonl\" -v \"data/x_train-finetune_prepared_valid.jsonl\" --compute_classification_metrics --classification_n_classes 4\n",
      "\n",
      "After you’ve fine-tuned a model, remember that your prompt has to end with the indicator string `\\n\\n###\\n\\n` for the model to start generating completions, rather than continuing with the prompt.\n",
      "Once your model starts training, it'll approximately take 4.04 hours to train a `curie` model, and less for `ada` and `babbage`. Queue will approximately take half an hour per job ahead of you.\n"
     ]
    }
   ],
   "source": [
    "!openai tooles fine_tunes.prepare_data -f data/x_train-finetune.jsonl -q"
   ]
  },
  {
   "cell_type": "markdown",
   "id": "cb8a41b4-3fae-4277-aed2-cdcc21307d4b",
   "metadata": {},
   "source": [
    "Wow, Besides all of the setting with copy warnings this came out with, I'm pretty impressed with this prompting. It did all of the data prep for fine tuning for me. It even found a few duplicate records I didn't know about, recommended a model to save me time and money, gave me an estimate about the length of time my fine tuning process would take, and even told me exactly what I needed to type in order to actually do the fine tuning. Hurray! \n"
   ]
  },
  {
   "cell_type": "code",
   "execution_count": 69,
   "id": "14c2d201-4f0e-42cf-a9c5-af4e1420cf35",
   "metadata": {
    "tags": []
   },
   "outputs": [
    {
     "name": "stdout",
     "output_type": "stream",
     "text": [
      "Upload progress: 100%|████████████████████| 11.5M/11.5M [00:00<00:00, 5.03Git/s]\n",
      "Uploaded file from data/x_train-finetune_prepared_train.jsonl: file-vtQGGISgGM2i1CCT0CC6AIEQ\n",
      "Upload progress: 100%|█████████████████████| 1.26M/1.26M [00:00<00:00, 809Mit/s]\n",
      "Uploaded file from data/x_train-finetune_prepared_valid.jsonl: file-WRS4lwRhb90bSkjG75EDFl6P\n",
      "Created fine-tune: ft-ePW6uZVHcjwYg6Z6LLshxWni\n",
      "Streaming events until fine-tuning is complete...\n",
      "\n",
      "(Ctrl-C will interrupt the stream, but not cancel the fine-tune)\n",
      "[2023-05-03 17:34:56] Created fine-tune: ft-ePW6uZVHcjwYg6Z6LLshxWni\n",
      "[2023-05-03 17:35:44] Fine-tune costs $4.83\n",
      "[2023-05-03 17:35:44] Fine-tune enqueued. Queue number: 1\n",
      "\n"
     ]
    }
   ],
   "source": [
    "!openai api fine_tunes.create -t \"data/x_train-finetune_prepared_train.jsonl\" -v \"data/x_train-finetune_prepared_valid.jsonl\" --compute_classification_metrics --classification_n_classes 4 -m ada"
   ]
  },
  {
   "cell_type": "markdown",
   "id": "bd847c7a-ddec-420f-abbc-cd5a0449b208",
   "metadata": {},
   "source": [
    "Ah, here's a new issue. Finetuning on 10,000 records costs me almost $5. I'm tempted to stop the job but I also want to see if the resulting model generalizes well to unseen data."
   ]
  },
  {
   "cell_type": "code",
   "execution_count": 73,
   "id": "e756acb4-47c5-4a76-8b47-89826ede6d5d",
   "metadata": {
    "tags": []
   },
   "outputs": [],
   "source": [
    "!openai api fine_tunes.results -i ft-ePW6uZVHcjwYg6Z6LLshxWni > data/result.csv\n"
   ]
  },
  {
   "cell_type": "markdown",
   "id": "4588957c-8318-46d7-856b-715b4fe22407",
   "metadata": {},
   "source": [
    "A tear is shed for my poor credit card but at least we have a fine tuned model now.\n",
    "![Open_ai](images/openAI_usage.jpg)"
   ]
  },
  {
   "cell_type": "markdown",
   "id": "d727bd46-cbff-4abf-aa84-74f93d1533c9",
   "metadata": {},
   "source": [
    "### Evaluate"
   ]
  },
  {
   "cell_type": "markdown",
   "id": "8800e2dd-9100-4bfe-9e35-89728f84ca3c",
   "metadata": {},
   "source": [
    "Our model did pretty well though, and the results show an accuracy measure of ~89%, which is even better than our DataRobot model."
   ]
  },
  {
   "cell_type": "code",
   "execution_count": 75,
   "id": "8c197c45-506e-4829-a023-c072c00737fa",
   "metadata": {
    "tags": []
   },
   "outputs": [
    {
     "data": {
      "text/html": [
       "<div>\n",
       "<style scoped>\n",
       "    .dataframe tbody tr th:only-of-type {\n",
       "        vertical-align: middle;\n",
       "    }\n",
       "\n",
       "    .dataframe tbody tr th {\n",
       "        vertical-align: top;\n",
       "    }\n",
       "\n",
       "    .dataframe thead th {\n",
       "        text-align: right;\n",
       "    }\n",
       "</style>\n",
       "<table border=\"1\" class=\"dataframe\">\n",
       "  <thead>\n",
       "    <tr style=\"text-align: right;\">\n",
       "      <th></th>\n",
       "      <th>step</th>\n",
       "      <th>elapsed_tokens</th>\n",
       "      <th>elapsed_examples</th>\n",
       "      <th>training_loss</th>\n",
       "      <th>training_sequence_accuracy</th>\n",
       "      <th>training_token_accuracy</th>\n",
       "      <th>validation_loss</th>\n",
       "      <th>validation_sequence_accuracy</th>\n",
       "      <th>validation_token_accuracy</th>\n",
       "      <th>classification/accuracy</th>\n",
       "      <th>classification/weighted_f1_score</th>\n",
       "    </tr>\n",
       "  </thead>\n",
       "  <tbody>\n",
       "    <tr>\n",
       "      <th>2249</th>\n",
       "      <td>2250</td>\n",
       "      <td>36931872</td>\n",
       "      <td>36000</td>\n",
       "      <td>0.008919</td>\n",
       "      <td>0.9375</td>\n",
       "      <td>0.921053</td>\n",
       "      <td>NaN</td>\n",
       "      <td>NaN</td>\n",
       "      <td>NaN</td>\n",
       "      <td>0.889</td>\n",
       "      <td>0.888311</td>\n",
       "    </tr>\n",
       "  </tbody>\n",
       "</table>\n",
       "</div>"
      ],
      "text/plain": [
       "      step  elapsed_tokens  elapsed_examples  training_loss  \\\n",
       "2249  2250        36931872             36000       0.008919   \n",
       "\n",
       "      training_sequence_accuracy  training_token_accuracy  validation_loss  \\\n",
       "2249                      0.9375                 0.921053              NaN   \n",
       "\n",
       "      validation_sequence_accuracy  validation_token_accuracy  \\\n",
       "2249                           NaN                        NaN   \n",
       "\n",
       "      classification/accuracy  classification/weighted_f1_score  \n",
       "2249                    0.889                          0.888311  "
      ]
     },
     "execution_count": 75,
     "metadata": {},
     "output_type": "execute_result"
    }
   ],
   "source": [
    "results = pd.read_csv('data/result.csv')\n",
    "results[results['classification/accuracy'].notnull()].tail(1)"
   ]
  },
  {
   "cell_type": "markdown",
   "id": "8fde4512-5ffc-412d-9619-8a84e4704683",
   "metadata": {},
   "source": [
    "Additionally, while the accuracy has leveled off, the slope on the latest check did not entirely flatten. which suggests another percentage point or two could be gained with more data."
   ]
  },
  {
   "cell_type": "code",
   "execution_count": 113,
   "id": "3f886e38-b4ca-424c-add9-bccd8468999f",
   "metadata": {
    "tags": []
   },
   "outputs": [
    {
     "data": {
      "text/plain": [
       "Text(0.5, 1.0, 'Model accuracy')"
      ]
     },
     "execution_count": 113,
     "metadata": {},
     "output_type": "execute_result"
    },
    {
     "data": {
      "image/png": "[encoded data removed]",
      "text/plain": [
       "<Figure size 800x500 with 1 Axes>"
      ]
     },
     "metadata": {},
     "output_type": "display_data"
    }
   ],
   "source": [
    "result_validation_score = results[results['classification/accuracy'].notnull()]\n",
    "\n",
    "fig, ax = plt.subplots(figsize=(8,5))\n",
    "\n",
    "ax.plot(result_validation_score['classification/accuracy'], linewidth=3, label='Classficiation Accuracy', alpha=.75)\n",
    "ax.plot(result_validation_score['classification/weighted_f1_score'], linewidth=3, label='Weighted F1 Score', alpha=.75)\n",
    "\n",
    "ax.tick_params(axis=\"both\", which=\"both\", length=0, labelsize=16)\n",
    "ax.legend( prop={'size': 16})\n",
    "plt.title(\"Fine Tuned Model Accuracy\", size=20)\n"
   ]
  },
  {
   "cell_type": "markdown",
   "id": "9f227b6f-3e76-45b7-b231-9a0edce84f92",
   "metadata": {},
   "source": [
    "Let's see how the model does with my unseen dataset. For some reason, the CLI tool didn't tell me what my model was called so I'll need to make a few rest calls to figure it out"
   ]
  },
  {
   "cell_type": "code",
   "execution_count": 196,
   "id": "4509bbb0-1343-45ed-9adf-e95bdc4a8972",
   "metadata": {
    "tags": []
   },
   "outputs": [
    {
     "data": {
      "text/plain": [
       "{'object': 'fine-tune',\n",
       " 'id': 'ft-ePW6uZVHcjwYg6Z6LLshxWni',\n",
       " 'hyperparams': {'n_epochs': 4,\n",
       "  'batch_size': 16,\n",
       "  'prompt_loss_weight': 0.01,\n",
       "  'classification_n_classes': 4,\n",
       "  'learning_rate_multiplier': 0.1,\n",
       "  'compute_classification_metrics': True},\n",
       " 'organization_id': 'org-kubCEApMVHQWlIZ9rMLHiRB9',\n",
       " 'model': 'ada',\n",
       " 'training_files': [{'object': 'file',\n",
       "   'id': 'file-vtQGGISgGM2i1CCT0CC6AIEQ',\n",
       "   'purpose': 'fine-tune',\n",
       "   'filename': 'data/x_train-finetune_prepared_train.jsonl',\n",
       "   'bytes': 11538904,\n",
       "   'created_at': 1683149693,\n",
       "   'status': 'processed',\n",
       "   'status_details': None}],\n",
       " 'validation_files': [{'object': 'file',\n",
       "   'id': 'file-WRS4lwRhb90bSkjG75EDFl6P',\n",
       "   'purpose': 'fine-tune',\n",
       "   'filename': 'data/x_train-finetune_prepared_valid.jsonl',\n",
       "   'bytes': 1263233,\n",
       "   'created_at': 1683149695,\n",
       "   'status': 'processed',\n",
       "   'status_details': None}],\n",
       " 'result_files': [{'object': 'file',\n",
       "   'id': 'file-eD87qf5l6G3ldsIEQaaHnEIe',\n",
       "   'purpose': 'fine-tune-results',\n",
       "   'filename': 'compiled_results.csv',\n",
       "   'bytes': 154447,\n",
       "   'created_at': 1683152288,\n",
       "   'status': 'processed',\n",
       "   'status_details': None}],\n",
       " 'created_at': 1683149696,\n",
       " 'updated_at': 1683152288,\n",
       " 'status': 'succeeded',\n",
       " 'fine_tuned_model': 'ada:ft-personal-2023-05-03-22-18-07'}"
      ]
     },
     "execution_count": 196,
     "metadata": {},
     "output_type": "execute_result"
    }
   ],
   "source": [
    "url = \"https://api.openai.com/v1/fine-tunes\"\n",
    "headers = {\"Authorization\": f\"Bearer {os.environ['OPENAI_API_KEY']}\"}\n",
    "fine_tuned_models = [i for i in requests.get(url, headers=headers).json()['data'] if i['status'] == 'succeeded']\n",
    "fine_tuned_models[0]"
   ]
  },
  {
   "cell_type": "code",
   "execution_count": 178,
   "id": "b0819f03-1d0e-42e9-a4cc-3b666815f5a4",
   "metadata": {
    "tags": []
   },
   "outputs": [
    {
     "data": {
      "text/plain": [
       "<OpenAIObject at 0x1609abdd0> JSON: {\n",
       "  \"finish_reason\": \"length\",\n",
       "  \"index\": 0,\n",
       "  \"logprobs\": {\n",
       "    \"text_offset\": [\n",
       "      2377,\n",
       "      2384\n",
       "    ],\n",
       "    \"token_logprobs\": [\n",
       "      -0.0036992515,\n",
       "      -4.966285e-05\n",
       "    ],\n",
       "    \"tokens\": [\n",
       "      \" Credit\",\n",
       "      \" card\"\n",
       "    ],\n",
       "    \"top_logprobs\": [\n",
       "      {\n",
       "        \" Bank\": -5.8106503,\n",
       "        \" Consumer\": -7.8401055,\n",
       "        \" Credit\": -0.0036992515,\n",
       "        \" credit\": -9.531439,\n",
       "        \"Credit\": -8.579889\n",
       "      },\n",
       "      {\n",
       "        \" CARD\": -12.151109,\n",
       "        \" Card\": -13.031715,\n",
       "        \" card\": -4.966285e-05,\n",
       "        \" cards\": -10.998998,\n",
       "        \"card\": -11.721839\n",
       "      }\n",
       "    ]\n",
       "  },\n",
       "  \"text\": \" Credit card\"\n",
       "}"
      ]
     },
     "execution_count": 178,
     "metadata": {},
     "output_type": "execute_result"
    }
   ],
   "source": [
    "# Make sure the model works\n",
    "ft_model = fine_tuned_models[0]['fine_tuned_model']\n",
    "res = openai.Completion.create(model=ft_model, prompt=X_test['Consumer_complaint_summary'][0] + '\\n\\n###\\n\\n', max_tokens=2, temperature=0, logprobs=5)\n",
    "res['choices'][0]"
   ]
  },
  {
   "cell_type": "code",
   "execution_count": 173,
   "id": "c332f0da-433a-43a9-a1d2-3b5369dd06cf",
   "metadata": {
    "tags": []
   },
   "outputs": [
    {
     "data": {
      "text/plain": [
       "['Bank account or service', 'Credit card', 'Consumer Loan', 'Student loan']"
      ]
     },
     "execution_count": 173,
     "metadata": {},
     "output_type": "execute_result"
    }
   ],
   "source": [
    "candidate_labels"
   ]
  },
  {
   "cell_type": "markdown",
   "id": "39fb6095-dd00-49fa-b840-290e5507efa4",
   "metadata": {
    "tags": []
   },
   "source": [
    "I somehow have two answers that both say credit, which is a bit odd because only one of the candidate labels have the word 'Credit' in it. It looks like the model learned the labels well but didn't learn that it was entirely impossible for a label to be something other than one of the candidate labels. Interesting. Reading more deeply into the openAI docs, it looks like a better play would have been to map each of these responses to a number and have that in the validation data. Oh well, hard lessons, it still shouldn't be too hard to map the most likely response back to the expected completion so I'll just get my predictions."
   ]
  },
  {
   "cell_type": "code",
   "execution_count": 176,
   "id": "630df6d2-dbd2-47d5-90ea-770921e0a9e5",
   "metadata": {
    "tags": []
   },
   "outputs": [
    {
     "data": {
      "text/plain": [
       "['Bank account or service', 'Credit card', 'Consumer Loan', 'Student loan']"
      ]
     },
     "execution_count": 176,
     "metadata": {},
     "output_type": "execute_result"
    }
   ],
   "source": [
    "candidate_labels"
   ]
  },
  {
   "cell_type": "code",
   "execution_count": 195,
   "id": "cf8b9b7a-2251-4515-9775-ccc2d55edb0b",
   "metadata": {
    "tags": []
   },
   "outputs": [
    {
     "name": "stdout",
     "output_type": "stream",
     "text": [
      "Function get_prediction Took 0.1598 seconds\n",
      "Function get_prediction Took 0.1483 seconds\n",
      "Function get_prediction Took 0.1477 seconds\n",
      "Function get_prediction Took 0.1804 seconds\n",
      "Function get_prediction Took 0.1429 seconds\n"
     ]
    }
   ],
   "source": [
    "@timeit\n",
    "def get_prediction(x):\n",
    "    res = openai.Completion.create(model=ft_model, prompt=x + '\\n\\n###\\n\\n', max_tokens=1, temperature=0)\n",
    "    return res['choices'][0]['text']\n",
    "\n",
    "X_eval = X_test.copy()\n",
    "\n",
    "# Average time per prediciton is about ~.16 seconds like making 2000 predictions will take roughly five minutes\n",
    "X_eval.head(5).Consumer_complaint_summary.apply(get_prediction)\n",
    "\n",
    "get_prediction = get_prediction.__wrapped__\n",
    "X_eval['prediction'] = X_eval.Consumer_complaint_summary.apply(get_prediction)"
   ]
  },
  {
   "cell_type": "code",
   "execution_count": 230,
   "id": "e3149e82-1bcf-4fe0-b60b-6005a1ba230d",
   "metadata": {
    "tags": []
   },
   "outputs": [
    {
     "data": {
      "text/plain": [
       "['Credit card', 'Consumer Loan', 'Bank account or service', 'Student loan']"
      ]
     },
     "execution_count": 230,
     "metadata": {},
     "output_type": "execute_result"
    }
   ],
   "source": [
    "X_eval['prediction'].unique().tolist()"
   ]
  },
  {
   "cell_type": "code",
   "execution_count": 237,
   "id": "46daeed0-ff25-4459-81ed-f9ad3abfb35f",
   "metadata": {
    "tags": []
   },
   "outputs": [
    {
     "data": {
      "text/html": [
       "<div>\n",
       "<style scoped>\n",
       "    .dataframe tbody tr th:only-of-type {\n",
       "        vertical-align: middle;\n",
       "    }\n",
       "\n",
       "    .dataframe tbody tr th {\n",
       "        vertical-align: top;\n",
       "    }\n",
       "\n",
       "    .dataframe thead th {\n",
       "        text-align: right;\n",
       "    }\n",
       "</style>\n",
       "<table border=\"1\" class=\"dataframe\">\n",
       "  <thead>\n",
       "    <tr style=\"text-align: right;\">\n",
       "      <th></th>\n",
       "      <th>Transaction_Type</th>\n",
       "      <th>Consumer_complaint_summary</th>\n",
       "      <th>prediction</th>\n",
       "    </tr>\n",
       "  </thead>\n",
       "  <tbody>\n",
       "    <tr>\n",
       "      <th>0</th>\n",
       "      <td>Credit card</td>\n",
       "      <td>I have had this Bank of America credit card si...</td>\n",
       "      <td>Credit card</td>\n",
       "    </tr>\n",
       "    <tr>\n",
       "      <th>1</th>\n",
       "      <td>Consumer Loan</td>\n",
       "      <td>mi pago fue devuelto por la razón dada ... pag...</td>\n",
       "      <td>Consumer Loan</td>\n",
       "    </tr>\n",
       "    <tr>\n",
       "      <th>2</th>\n",
       "      <td>Bank account or service</td>\n",
       "      <td>I was trying to use my debit card XXXX / XXXX ...</td>\n",
       "      <td>Bank account or service</td>\n",
       "    </tr>\n",
       "    <tr>\n",
       "      <th>3</th>\n",
       "      <td>Bank account or service</td>\n",
       "      <td>Mes deux parents sont décédés, me laissant com...</td>\n",
       "      <td>Bank account or service</td>\n",
       "    </tr>\n",
       "    <tr>\n",
       "      <th>4</th>\n",
       "      <td>Consumer Loan</td>\n",
       "      <td>The ACE CASH services have threatened to take ...</td>\n",
       "      <td>Consumer Loan</td>\n",
       "    </tr>\n",
       "  </tbody>\n",
       "</table>\n",
       "</div>"
      ],
      "text/plain": [
       "          Transaction_Type                         Consumer_complaint_summary  \\\n",
       "0              Credit card  I have had this Bank of America credit card si...   \n",
       "1            Consumer Loan  mi pago fue devuelto por la razón dada ... pag...   \n",
       "2  Bank account or service  I was trying to use my debit card XXXX / XXXX ...   \n",
       "3  Bank account or service  Mes deux parents sont décédés, me laissant com...   \n",
       "4            Consumer Loan  The ACE CASH services have threatened to take ...   \n",
       "\n",
       "                prediction  \n",
       "0              Credit card  \n",
       "1            Consumer Loan  \n",
       "2  Bank account or service  \n",
       "3  Bank account or service  \n",
       "4            Consumer Loan  "
      ]
     },
     "execution_count": 237,
     "metadata": {},
     "output_type": "execute_result"
    }
   ],
   "source": [
    "label_mapping = X_eval.groupby('Transaction_Type')['prediction'].agg(pd.Series.mode).to_dict()\n",
    "label_mapping = {v: k for k, v in label_mapping.items()}\n",
    "predictions = X_eval['prediction'].copy()\n",
    "X_eval['prediction'] = predictions.map(label_mapping)"
   ]
  },
  {
   "cell_type": "code",
   "execution_count": 239,
   "id": "415388f3-0767-4219-aabc-ccf550fa7144",
   "metadata": {
    "tags": []
   },
   "outputs": [
    {
     "name": "stdout",
     "output_type": "stream",
     "text": [
      "Accuracy 89.78%\n"
     ]
    }
   ],
   "source": [
    "accuracy = (X_eval[target]==X_eval['prediction']).sum() / len(X_eval)\n",
    "print(\"Accuracy {:.2%}\".format(accuracy))"
   ]
  },
  {
   "cell_type": "markdown",
   "id": "53a438d9-5a6c-4afd-ba21-6d5443c01ede",
   "metadata": {},
   "source": [
    "So this method works pretty well! In a purely text space, the fine tuned model performed better on our unseen data than our ngrams $\\rightarrow$ stochastic gradient descent pipeline. "
   ]
  },
  {
   "cell_type": "markdown",
   "id": "e5194b0c-7049-411e-8247-74440e825b27",
   "metadata": {
    "tags": []
   },
   "source": [
    "### Perks and drawbacks of this approach\n",
    "\n",
    "Stengths:\n",
    "- The model is our most accurate so far\n",
    "- It uses [online Learning](https://en.wikipedia.org/wiki/Online_machine_learning) rather than training from scratch which I see as a huge benefit\n",
    "- You get to use LLMs\n",
    "\n",
    "Weaknesses:\n",
    "- You need to actually make a training dataset\n",
    "- It costs you money both at training time and prediction time\n",
    "- You can only use one feature which must be freeform text or an image\n"
   ]
  },
  {
   "cell_type": "markdown",
   "id": "cb52aa1d-4d04-4804-b859-6ac69bd76576",
   "metadata": {},
   "source": [
    "### Approach 4: Zeroshot Inference and Machine Learning\n",
    "\n",
    "This idea is basically why I decided to write this whole article. We saw earlier that approach two didn't work for our use case and that inference takes a prohibitively long time anyway which disqualifies it from being put in front of an end user. But if we could take only the highest quality guesses from the LLM, it might be possible to use those as training data for a downstream process. How do we decide if a prediction has high quality? One idea might simply be to take the N most confident predictions as training data. Then we, train our machine learning model as normal and infer the rest of the labels."
   ]
  },
  {
   "cell_type": "code",
   "execution_count": 89,
   "id": "fbc37e5d-0cec-404f-8945-edb3bcc97ee0",
   "metadata": {},
   "outputs": [
    {
     "data": {
      "text/html": [
       "<div>\n",
       "<style scoped>\n",
       "    .dataframe tbody tr th:only-of-type {\n",
       "        vertical-align: middle;\n",
       "    }\n",
       "\n",
       "    .dataframe tbody tr th {\n",
       "        vertical-align: top;\n",
       "    }\n",
       "\n",
       "    .dataframe thead th {\n",
       "        text-align: right;\n",
       "    }\n",
       "</style>\n",
       "<table border=\"1\" class=\"dataframe\">\n",
       "  <thead>\n",
       "    <tr style=\"text-align: right;\">\n",
       "      <th></th>\n",
       "      <th>Bank account or service</th>\n",
       "      <th>Consumer Loan</th>\n",
       "      <th>Credit card</th>\n",
       "      <th>Student loan</th>\n",
       "      <th>max_similarity</th>\n",
       "      <th>training_label</th>\n",
       "    </tr>\n",
       "  </thead>\n",
       "  <tbody>\n",
       "    <tr>\n",
       "      <th>534</th>\n",
       "      <td>0.002259</td>\n",
       "      <td>0.003103</td>\n",
       "      <td>0.993874</td>\n",
       "      <td>0.000765</td>\n",
       "      <td>0.993874</td>\n",
       "      <td>Credit card</td>\n",
       "    </tr>\n",
       "    <tr>\n",
       "      <th>8586</th>\n",
       "      <td>0.003623</td>\n",
       "      <td>0.002402</td>\n",
       "      <td>0.001331</td>\n",
       "      <td>0.992643</td>\n",
       "      <td>0.992643</td>\n",
       "      <td>Student loan</td>\n",
       "    </tr>\n",
       "    <tr>\n",
       "      <th>1640</th>\n",
       "      <td>0.002953</td>\n",
       "      <td>0.004880</td>\n",
       "      <td>0.000889</td>\n",
       "      <td>0.991278</td>\n",
       "      <td>0.991278</td>\n",
       "      <td>Student loan</td>\n",
       "    </tr>\n",
       "    <tr>\n",
       "      <th>9064</th>\n",
       "      <td>0.003029</td>\n",
       "      <td>0.004912</td>\n",
       "      <td>0.002794</td>\n",
       "      <td>0.989266</td>\n",
       "      <td>0.989266</td>\n",
       "      <td>Student loan</td>\n",
       "    </tr>\n",
       "    <tr>\n",
       "      <th>619</th>\n",
       "      <td>0.003428</td>\n",
       "      <td>0.005665</td>\n",
       "      <td>0.001917</td>\n",
       "      <td>0.988990</td>\n",
       "      <td>0.988990</td>\n",
       "      <td>Student loan</td>\n",
       "    </tr>\n",
       "  </tbody>\n",
       "</table>\n",
       "</div>"
      ],
      "text/plain": [
       "      Bank account or service  Consumer Loan  Credit card  Student loan  \\\n",
       "534                  0.002259       0.003103     0.993874      0.000765   \n",
       "8586                 0.003623       0.002402     0.001331      0.992643   \n",
       "1640                 0.002953       0.004880     0.000889      0.991278   \n",
       "9064                 0.003029       0.004912     0.002794      0.989266   \n",
       "619                  0.003428       0.005665     0.001917      0.988990   \n",
       "\n",
       "      max_similarity training_label  \n",
       "534         0.993874    Credit card  \n",
       "8586        0.992643   Student loan  \n",
       "1640        0.991278   Student loan  \n",
       "9064        0.989266   Student loan  \n",
       "619         0.988990   Student loan  "
      ]
     },
     "execution_count": 89,
     "metadata": {},
     "output_type": "execute_result"
    }
   ],
   "source": [
    "with open('data/zero_shot_predictions.json', 'r') as f:\n",
    "    preds = json.load(f)\n",
    "\n",
    "predictions = (pd.DataFrame([\n",
    "    {\n",
    "        i['labels'][0]: i['scores'][0],\n",
    "        i['labels'][1]: i['scores'][1],\n",
    "        i['labels'][2]: i['scores'][2],\n",
    "        i['labels'][3]: i['scores'][3],\n",
    "    }\n",
    "    for i in preds['data']\n",
    "])\n",
    "    .head(10000)\n",
    "    .assign(max_similarity = lambda x: x.max(axis=1))\n",
    "    .assign(training_label = lambda x: x.idxmax(axis=1))\n",
    "    .sort_values(by='max_similarity', ascending=False)\n",
    ")\n",
    "predictions.head(5)\n"
   ]
  },
  {
   "cell_type": "markdown",
   "id": "fe838f86",
   "metadata": {},
   "source": [
    "I set a similarity cutoff point to 0.75 to make our training dataset. Doing this gives us a set of ~2500 training records, ~85% of which match the training label.  Hopefully good enough to begin modeling! "
   ]
  },
  {
   "cell_type": "code",
   "execution_count": 114,
   "id": "e15f2d06",
   "metadata": {},
   "outputs": [
    {
     "name": "stdout",
     "output_type": "stream",
     "text": [
      "(6475, 8)\n",
      "70.01%\n"
     ]
    },
    {
     "data": {
      "text/plain": [
       "<Axes: title={'center': 'Distribution of our Inferred Training Labels'}>"
      ]
     },
     "execution_count": 114,
     "metadata": {},
     "output_type": "execute_result"
    },
    {
     "data": {
      "image/png": "[encoded data removed]",
      "text/plain": [
       "<Figure size 640x480 with 1 Axes>"
      ]
     },
     "metadata": {},
     "output_type": "display_data"
    }
   ],
   "source": [
    "pred_merge = predictions.merge(X_train, left_index=True, right_index=True).loc[lambda x: x.max_similarity > .5]\n",
    "\n",
    "print(pred_merge.shape)\n",
    "\n",
    "# Show % of correct records\n",
    "print(format(sum(pred_merge.training_label == pred_merge.Transaction_Type) / len(pred_merge), '.2%'))\n",
    "\n",
    "(pred_merge[target]\n",
    " .value_counts()\n",
    " .plot(kind='barh', title='Distribution of our Inferred Training Labels')\n",
    ")"
   ]
  },
  {
   "cell_type": "markdown",
   "id": "e7185259",
   "metadata": {},
   "source": [
    "Now we can kick off the exact same process we did in approach 1, where we let DataRobot take care of the modeling. Again, we could follow this same approach using scikit-learn or another package but this will be a lot easier."
   ]
  },
  {
   "cell_type": "code",
   "execution_count": 115,
   "id": "2726dad5",
   "metadata": {},
   "outputs": [
    {
     "data": {
      "application/vnd.jupyter.widget-view+json": {
       "model_id": "dc62e4a416674d9f9d7fd0976a6bb7da",
       "version_major": 2,
       "version_minor": 0
      },
      "text/plain": [
       "VBox()"
      ]
     },
     "metadata": {},
     "output_type": "display_data"
    }
   ],
   "source": [
    "X_zero_shot_train = (\n",
    "    pred_merge[['training_label', 'Consumer_complaint_summary']]\n",
    "    .rename(columns={'training_label': 'Transaction_Type'})\n",
    ")\n",
    "\n",
    "zero_shot_label_project = drx.AutoMLModel(name=\"Zero Shot Email Classifier\").fit(X_zero_shot_train, target=target)"
   ]
  },
  {
   "cell_type": "code",
   "execution_count": 116,
   "id": "222887bf",
   "metadata": {},
   "outputs": [
    {
     "data": {
      "application/vnd.jupyter.widget-view+json": {
       "model_id": "463793439eaa4adf8fbebb844f3bd6da",
       "version_major": 2,
       "version_minor": 0
      },
      "text/plain": [
       "VBox()"
      ]
     },
     "metadata": {},
     "output_type": "display_data"
    },
    {
     "data": {
      "application/vnd.jupyter.widget-view+json": {
       "model_id": "961fd00db0334618a8ce6a97ece79402",
       "version_major": 2,
       "version_minor": 0
      },
      "text/plain": [
       "VBox()"
      ]
     },
     "metadata": {},
     "output_type": "display_data"
    }
   ],
   "source": [
    "# Make some predictions\n",
    "pred_probas = zero_shot_label_project.predict_proba(X_test)\n",
    "preds = zero_shot_label_project.predict(X_test)"
   ]
  },
  {
   "cell_type": "code",
   "execution_count": 117,
   "id": "d5e58d0e",
   "metadata": {},
   "outputs": [
    {
     "data": {
      "text/html": [
       "<div>\n",
       "<style scoped>\n",
       "    .dataframe tbody tr th:only-of-type {\n",
       "        vertical-align: middle;\n",
       "    }\n",
       "\n",
       "    .dataframe tbody tr th {\n",
       "        vertical-align: top;\n",
       "    }\n",
       "\n",
       "    .dataframe thead th {\n",
       "        text-align: right;\n",
       "    }\n",
       "</style>\n",
       "<table border=\"1\" class=\"dataframe\">\n",
       "  <thead>\n",
       "    <tr style=\"text-align: right;\">\n",
       "      <th></th>\n",
       "      <th>Transaction_Type</th>\n",
       "      <th>Consumer_complaint_summary</th>\n",
       "      <th>prediction</th>\n",
       "      <th>class_Bank account or service</th>\n",
       "      <th>class_Consumer Loan</th>\n",
       "      <th>class_Credit card</th>\n",
       "      <th>class_Student loan</th>\n",
       "    </tr>\n",
       "  </thead>\n",
       "  <tbody>\n",
       "    <tr>\n",
       "      <th>0</th>\n",
       "      <td>Credit card</td>\n",
       "      <td>I have had this Bank of America credit card si...</td>\n",
       "      <td>Credit card</td>\n",
       "      <td>0.424384</td>\n",
       "      <td>0.001479</td>\n",
       "      <td>0.571608</td>\n",
       "      <td>0.002528</td>\n",
       "    </tr>\n",
       "    <tr>\n",
       "      <th>1</th>\n",
       "      <td>Consumer Loan</td>\n",
       "      <td>mi pago fue devuelto por la razón dada ... pag...</td>\n",
       "      <td>Bank account or service</td>\n",
       "      <td>0.948888</td>\n",
       "      <td>0.002129</td>\n",
       "      <td>0.037903</td>\n",
       "      <td>0.011080</td>\n",
       "    </tr>\n",
       "    <tr>\n",
       "      <th>2</th>\n",
       "      <td>Bank account or service</td>\n",
       "      <td>I was trying to use my debit card XXXX / XXXX ...</td>\n",
       "      <td>Bank account or service</td>\n",
       "      <td>0.992522</td>\n",
       "      <td>0.000334</td>\n",
       "      <td>0.006160</td>\n",
       "      <td>0.000984</td>\n",
       "    </tr>\n",
       "    <tr>\n",
       "      <th>3</th>\n",
       "      <td>Bank account or service</td>\n",
       "      <td>Mes deux parents sont décédés, me laissant com...</td>\n",
       "      <td>Bank account or service</td>\n",
       "      <td>0.922433</td>\n",
       "      <td>0.002214</td>\n",
       "      <td>0.066311</td>\n",
       "      <td>0.009041</td>\n",
       "    </tr>\n",
       "    <tr>\n",
       "      <th>4</th>\n",
       "      <td>Consumer Loan</td>\n",
       "      <td>The ACE CASH services have threatened to take ...</td>\n",
       "      <td>Bank account or service</td>\n",
       "      <td>0.768362</td>\n",
       "      <td>0.055789</td>\n",
       "      <td>0.026825</td>\n",
       "      <td>0.149025</td>\n",
       "    </tr>\n",
       "  </tbody>\n",
       "</table>\n",
       "</div>"
      ],
      "text/plain": [
       "          Transaction_Type                         Consumer_complaint_summary  \\\n",
       "0              Credit card  I have had this Bank of America credit card si...   \n",
       "1            Consumer Loan  mi pago fue devuelto por la razón dada ... pag...   \n",
       "2  Bank account or service  I was trying to use my debit card XXXX / XXXX ...   \n",
       "3  Bank account or service  Mes deux parents sont décédés, me laissant com...   \n",
       "4            Consumer Loan  The ACE CASH services have threatened to take ...   \n",
       "\n",
       "                prediction  class_Bank account or service  \\\n",
       "0              Credit card                       0.424384   \n",
       "1  Bank account or service                       0.948888   \n",
       "2  Bank account or service                       0.992522   \n",
       "3  Bank account or service                       0.922433   \n",
       "4  Bank account or service                       0.768362   \n",
       "\n",
       "   class_Consumer Loan  class_Credit card  class_Student loan  \n",
       "0             0.001479           0.571608            0.002528  \n",
       "1             0.002129           0.037903            0.011080  \n",
       "2             0.000334           0.006160            0.000984  \n",
       "3             0.002214           0.066311            0.009041  \n",
       "4             0.055789           0.026825            0.149025  "
      ]
     },
     "execution_count": 117,
     "metadata": {},
     "output_type": "execute_result"
    }
   ],
   "source": [
    "X_eval = pd.concat((X_test.reset_index(drop=True), preds, pred_probas),axis=1)\n",
    "X_eval.head()"
   ]
  },
  {
   "cell_type": "code",
   "execution_count": 118,
   "id": "2eef080b",
   "metadata": {},
   "outputs": [
    {
     "name": "stdout",
     "output_type": "stream",
     "text": [
      "Accuracy 50.35%\n",
      "LogLoss 1.7\n"
     ]
    }
   ],
   "source": [
    "accuracy = (X_eval[target]==X_eval['prediction']).sum() / len(X_test)\n",
    "prediction_probabilities = pred_probas.values\n",
    "logloss = log_loss(X_eval[target], prediction_probabilities, labels=[i.replace('class_', \"\") for i in pred_probas.columns.to_list()])\n",
    "\n",
    "print(\"Accuracy {:.2%}\".format(accuracy))\n",
    "print(\"LogLoss {:.2}\".format(logloss))"
   ]
  },
  {
   "cell_type": "markdown",
   "id": "beeadfb3",
   "metadata": {},
   "source": [
    "Our accuracy here is actually worse than zero shot labeling on the entire test set. I wish I could say that choosing a more strict cutoff point would improve the performance of the model but I tried and it didn't. \n",
    "\n",
    "Overall, this approach was pretty disappointing, which adds credence to the idea that ground truth training data is important. Not that anybody should have disagreed with that in the first place."
   ]
  },
  {
   "cell_type": "markdown",
   "id": "9008af92",
   "metadata": {},
   "source": [
    "### Perks and drawbacks of this approach\n",
    "\n",
    "Stengths:\n",
    "- You don't need to hand label anything\n",
    "- You get to use LLMs\n",
    "- Combining zero-shot inference with machine learning seems like a cool idea\n",
    "- You can still use other features at model training time\n",
    "\n",
    "Weaknesses:\n",
    "- Inference takes a very long time\n",
    "- The model was the least accurate so far\n",
    "- Writing poor candidate labels can destroy your predictions\n",
    "- Like with our second approach, we're still stuck with exclusively classification problems. Continuous outcomes cannot be predicted with this method\n"
   ]
  },
  {
   "cell_type": "markdown",
   "id": "6f889853",
   "metadata": {},
   "source": [
    "## Concluding thoughts\n",
    "\n",
    "In this post, I tried four different approaches for handling a multiclass classification problem. I found that both traditional machine learning and fine tuning could address this problem with a high degree of accuracy. The biggest takeaway (and maybe disappointment) was that zero-shot inference was neither a substitute for labeled training data nor a good way to generate training data for a downstream process. So it goes. In future work, it would be interesting to see if using a different LLM would improve the performance of my second or fourth approaches."
   ]
  },
  {
   "cell_type": "markdown",
   "id": "38ccb6bf",
   "metadata": {},
   "source": []
  }
 ],
 "metadata": {
  "kernelspec": {
   "display_name": "Python 3 (ipykernel)",
   "language": "python",
   "name": "python3"
  },
  "language_info": {
   "codemirror_mode": {
    "name": "ipython",
    "version": 3
   },
   "file_extension": ".py",
   "mimetype": "text/x-python",
   "name": "python",
   "nbconvert_exporter": "python",
   "pygments_lexer": "ipython3",
   "version": "3.10.2"
  }
 },
 "nbformat": 4,
 "nbformat_minor": 5
}
